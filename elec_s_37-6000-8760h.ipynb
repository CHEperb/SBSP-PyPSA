{
 "cells": [
  {
   "cell_type": "code",
   "execution_count": 1,
   "id": "9f8f5d09-7fbd-4a2e-9119-3fa0619b21d8",
   "metadata": {},
   "outputs": [
    {
     "name": "stderr",
     "output_type": "stream",
     "text": [
      "WARNING:pypsa.io:Importing network from PyPSA version v0.22.1 while current version is v0.27.1. Read the release notes at https://pypsa.readthedocs.io/en/latest/release_notes.html to prepare your network for import.\n",
      "INFO:pypsa.io:Imported network elec_s_37.nc has buses, carriers, generators, lines, links, loads, storage_units\n",
      "INFO:linopy.model: Solve problem using Gurobi solver\n",
      "INFO:linopy.io:Writing objective.\n",
      "Writing constraints.: 100%|\u001b[38;2;128;191;255m█████████████████████\u001b[0m| 20/20 [00:35<00:00,  1.75s/it]\u001b[0m\n",
      "Writing continuous variables.: 100%|\u001b[38;2;128;191;255m██████████████\u001b[0m| 9/9 [00:06<00:00,  1.40it/s]\u001b[0m\n",
      "INFO:linopy.io: Writing time: 44.16s\n"
     ]
    },
    {
     "name": "stdout",
     "output_type": "stream",
     "text": [
      "Read LP format model from file /private/var/folders/gy/z7x44kpn24d18spbg3w6_5fr0000gn/T/linopy-problem-ef1458q1.lp\n"
     ]
    },
    {
     "name": "stderr",
     "output_type": "stream",
     "text": [
      "INFO:gurobipy:Read LP format model from file /private/var/folders/gy/z7x44kpn24d18spbg3w6_5fr0000gn/T/linopy-problem-ef1458q1.lp\n"
     ]
    },
    {
     "name": "stdout",
     "output_type": "stream",
     "text": [
      "Reading time = 18.73 seconds\n"
     ]
    },
    {
     "name": "stderr",
     "output_type": "stream",
     "text": [
      "INFO:gurobipy:Reading time = 18.73 seconds\n"
     ]
    },
    {
     "name": "stdout",
     "output_type": "stream",
     "text": [
      "obj: 10258230 rows, 4888226 columns, 17815300 nonzeros\n"
     ]
    },
    {
     "name": "stderr",
     "output_type": "stream",
     "text": [
      "INFO:gurobipy:obj: 10258230 rows, 4888226 columns, 17815300 nonzeros\n"
     ]
    },
    {
     "name": "stdout",
     "output_type": "stream",
     "text": [
      "Gurobi Optimizer version 11.0.2 build v11.0.2rc0 (mac64[arm] - Darwin 22.6.0 22G74)\n"
     ]
    },
    {
     "name": "stderr",
     "output_type": "stream",
     "text": [
      "INFO:gurobipy:Gurobi Optimizer version 11.0.2 build v11.0.2rc0 (mac64[arm] - Darwin 22.6.0 22G74)\n"
     ]
    },
    {
     "name": "stdout",
     "output_type": "stream",
     "text": [
      "\n"
     ]
    },
    {
     "name": "stderr",
     "output_type": "stream",
     "text": [
      "INFO:gurobipy:\n"
     ]
    },
    {
     "name": "stdout",
     "output_type": "stream",
     "text": [
      "CPU model: Apple M1\n"
     ]
    },
    {
     "name": "stderr",
     "output_type": "stream",
     "text": [
      "INFO:gurobipy:CPU model: Apple M1\n"
     ]
    },
    {
     "name": "stdout",
     "output_type": "stream",
     "text": [
      "Thread count: 8 physical cores, 8 logical processors, using up to 8 threads\n"
     ]
    },
    {
     "name": "stderr",
     "output_type": "stream",
     "text": [
      "INFO:gurobipy:Thread count: 8 physical cores, 8 logical processors, using up to 8 threads\n"
     ]
    },
    {
     "name": "stdout",
     "output_type": "stream",
     "text": [
      "\n"
     ]
    },
    {
     "name": "stderr",
     "output_type": "stream",
     "text": [
      "INFO:gurobipy:\n"
     ]
    },
    {
     "name": "stdout",
     "output_type": "stream",
     "text": [
      "Optimize a model with 10258230 rows, 4888226 columns and 17815300 nonzeros\n"
     ]
    },
    {
     "name": "stderr",
     "output_type": "stream",
     "text": [
      "INFO:gurobipy:Optimize a model with 10258230 rows, 4888226 columns and 17815300 nonzeros\n"
     ]
    },
    {
     "name": "stdout",
     "output_type": "stream",
     "text": [
      "Model fingerprint: 0xb91eb7e6\n"
     ]
    },
    {
     "name": "stderr",
     "output_type": "stream",
     "text": [
      "INFO:gurobipy:Model fingerprint: 0xb91eb7e6\n"
     ]
    },
    {
     "name": "stdout",
     "output_type": "stream",
     "text": [
      "Coefficient statistics:\n"
     ]
    },
    {
     "name": "stderr",
     "output_type": "stream",
     "text": [
      "INFO:gurobipy:Coefficient statistics:\n"
     ]
    },
    {
     "name": "stdout",
     "output_type": "stream",
     "text": [
      "  Matrix range     [3e-08, 3e+02]\n"
     ]
    },
    {
     "name": "stderr",
     "output_type": "stream",
     "text": [
      "INFO:gurobipy:  Matrix range     [3e-08, 3e+02]\n"
     ]
    },
    {
     "name": "stdout",
     "output_type": "stream",
     "text": [
      "  Objective range  [1e-02, 2e+05]\n"
     ]
    },
    {
     "name": "stderr",
     "output_type": "stream",
     "text": [
      "INFO:gurobipy:  Objective range  [1e-02, 2e+05]\n"
     ]
    },
    {
     "name": "stdout",
     "output_type": "stream",
     "text": [
      "  Bounds range     [9e-02, 3e+10]\n"
     ]
    },
    {
     "name": "stderr",
     "output_type": "stream",
     "text": [
      "INFO:gurobipy:  Bounds range     [9e-02, 3e+10]\n"
     ]
    },
    {
     "name": "stdout",
     "output_type": "stream",
     "text": [
      "  RHS range        [9e-02, 8e+07]\n"
     ]
    },
    {
     "name": "stderr",
     "output_type": "stream",
     "text": [
      "INFO:gurobipy:  RHS range        [9e-02, 8e+07]\n"
     ]
    },
    {
     "name": "stdout",
     "output_type": "stream",
     "text": [
      "Warning: Model contains large bounds\n"
     ]
    },
    {
     "name": "stderr",
     "output_type": "stream",
     "text": [
      "INFO:gurobipy:Warning: Model contains large bounds\n"
     ]
    },
    {
     "name": "stdout",
     "output_type": "stream",
     "text": [
      "         Consider reformulating model or setting NumericFocus parameter\n"
     ]
    },
    {
     "name": "stderr",
     "output_type": "stream",
     "text": [
      "INFO:gurobipy:         Consider reformulating model or setting NumericFocus parameter\n"
     ]
    },
    {
     "name": "stdout",
     "output_type": "stream",
     "text": [
      "         to avoid numerical issues.\n"
     ]
    },
    {
     "name": "stderr",
     "output_type": "stream",
     "text": [
      "INFO:gurobipy:         to avoid numerical issues.\n"
     ]
    },
    {
     "name": "stdout",
     "output_type": "stream",
     "text": [
      "Presolve removed 8247192 rows and 722492 columns (presolve time = 5s) ...\n"
     ]
    },
    {
     "name": "stderr",
     "output_type": "stream",
     "text": [
      "INFO:gurobipy:Presolve removed 8247192 rows and 722492 columns (presolve time = 5s) ...\n"
     ]
    },
    {
     "name": "stdout",
     "output_type": "stream",
     "text": [
      "Presolve removed 8282973 rows and 758273 columns (presolve time = 10s) ...\n"
     ]
    },
    {
     "name": "stderr",
     "output_type": "stream",
     "text": [
      "INFO:gurobipy:Presolve removed 8282973 rows and 758273 columns (presolve time = 10s) ...\n"
     ]
    },
    {
     "name": "stdout",
     "output_type": "stream",
     "text": [
      "Presolve removed 8283131 rows and 810502 columns\n"
     ]
    },
    {
     "name": "stderr",
     "output_type": "stream",
     "text": [
      "INFO:gurobipy:Presolve removed 8283131 rows and 810502 columns\n"
     ]
    },
    {
     "name": "stdout",
     "output_type": "stream",
     "text": [
      "Presolve time: 13.67s\n"
     ]
    },
    {
     "name": "stderr",
     "output_type": "stream",
     "text": [
      "INFO:gurobipy:Presolve time: 13.67s\n"
     ]
    },
    {
     "name": "stdout",
     "output_type": "stream",
     "text": [
      "Presolved: 1975099 rows, 4077724 columns, 8422365 nonzeros\n"
     ]
    },
    {
     "name": "stderr",
     "output_type": "stream",
     "text": [
      "INFO:gurobipy:Presolved: 1975099 rows, 4077724 columns, 8422365 nonzeros\n"
     ]
    },
    {
     "name": "stdout",
     "output_type": "stream",
     "text": [
      "\n"
     ]
    },
    {
     "name": "stderr",
     "output_type": "stream",
     "text": [
      "INFO:gurobipy:\n"
     ]
    },
    {
     "name": "stdout",
     "output_type": "stream",
     "text": [
      "Concurrent LP optimizer: primal simplex, dual simplex, and barrier\n"
     ]
    },
    {
     "name": "stderr",
     "output_type": "stream",
     "text": [
      "INFO:gurobipy:Concurrent LP optimizer: primal simplex, dual simplex, and barrier\n"
     ]
    },
    {
     "name": "stdout",
     "output_type": "stream",
     "text": [
      "Showing barrier log only...\n"
     ]
    },
    {
     "name": "stderr",
     "output_type": "stream",
     "text": [
      "INFO:gurobipy:Showing barrier log only...\n"
     ]
    },
    {
     "name": "stdout",
     "output_type": "stream",
     "text": [
      "\n"
     ]
    },
    {
     "name": "stderr",
     "output_type": "stream",
     "text": [
      "INFO:gurobipy:\n"
     ]
    },
    {
     "name": "stdout",
     "output_type": "stream",
     "text": [
      "Elapsed ordering time = 18s\n"
     ]
    },
    {
     "name": "stderr",
     "output_type": "stream",
     "text": [
      "INFO:gurobipy:Elapsed ordering time = 18s\n"
     ]
    },
    {
     "name": "stdout",
     "output_type": "stream",
     "text": [
      "Elapsed ordering time = 20s\n"
     ]
    },
    {
     "name": "stderr",
     "output_type": "stream",
     "text": [
      "INFO:gurobipy:Elapsed ordering time = 20s\n"
     ]
    },
    {
     "name": "stdout",
     "output_type": "stream",
     "text": [
      "Ordering time: 25.22s\n"
     ]
    },
    {
     "name": "stderr",
     "output_type": "stream",
     "text": [
      "INFO:gurobipy:Ordering time: 25.22s\n"
     ]
    },
    {
     "name": "stdout",
     "output_type": "stream",
     "text": [
      "\n"
     ]
    },
    {
     "name": "stderr",
     "output_type": "stream",
     "text": [
      "INFO:gurobipy:\n"
     ]
    },
    {
     "name": "stdout",
     "output_type": "stream",
     "text": [
      "Barrier statistics:\n"
     ]
    },
    {
     "name": "stderr",
     "output_type": "stream",
     "text": [
      "INFO:gurobipy:Barrier statistics:\n"
     ]
    },
    {
     "name": "stdout",
     "output_type": "stream",
     "text": [
      " Dense cols : 145\n"
     ]
    },
    {
     "name": "stderr",
     "output_type": "stream",
     "text": [
      "INFO:gurobipy: Dense cols : 145\n"
     ]
    },
    {
     "name": "stdout",
     "output_type": "stream",
     "text": [
      " AA' NZ     : 4.493e+06\n"
     ]
    },
    {
     "name": "stderr",
     "output_type": "stream",
     "text": [
      "INFO:gurobipy: AA' NZ     : 4.493e+06\n"
     ]
    },
    {
     "name": "stdout",
     "output_type": "stream",
     "text": [
      " Factor NZ  : 6.464e+07 (roughly 3.0 GB of memory)\n"
     ]
    },
    {
     "name": "stderr",
     "output_type": "stream",
     "text": [
      "INFO:gurobipy: Factor NZ  : 6.464e+07 (roughly 3.0 GB of memory)\n"
     ]
    },
    {
     "name": "stdout",
     "output_type": "stream",
     "text": [
      " Factor Ops : 1.194e+10 (less than 1 second per iteration)\n"
     ]
    },
    {
     "name": "stderr",
     "output_type": "stream",
     "text": [
      "INFO:gurobipy: Factor Ops : 1.194e+10 (less than 1 second per iteration)\n"
     ]
    },
    {
     "name": "stdout",
     "output_type": "stream",
     "text": [
      " Threads    : 6\n"
     ]
    },
    {
     "name": "stderr",
     "output_type": "stream",
     "text": [
      "INFO:gurobipy: Threads    : 6\n"
     ]
    },
    {
     "name": "stdout",
     "output_type": "stream",
     "text": [
      "\n"
     ]
    },
    {
     "name": "stderr",
     "output_type": "stream",
     "text": [
      "INFO:gurobipy:\n"
     ]
    },
    {
     "name": "stdout",
     "output_type": "stream",
     "text": [
      "                  Objective                Residual\n"
     ]
    },
    {
     "name": "stderr",
     "output_type": "stream",
     "text": [
      "INFO:gurobipy:                  Objective                Residual\n"
     ]
    },
    {
     "name": "stdout",
     "output_type": "stream",
     "text": [
      "Iter       Primal          Dual         Primal    Dual     Compl     Time\n"
     ]
    },
    {
     "name": "stderr",
     "output_type": "stream",
     "text": [
      "INFO:gurobipy:Iter       Primal          Dual         Primal    Dual     Compl     Time\n"
     ]
    },
    {
     "name": "stdout",
     "output_type": "stream",
     "text": [
      "   0   1.01627704e+14 -9.83249055e+17  4.53e+06 4.95e+02  3.62e+11    48s\n"
     ]
    },
    {
     "name": "stderr",
     "output_type": "stream",
     "text": [
      "INFO:gurobipy:   0   1.01627704e+14 -9.83249055e+17  4.53e+06 4.95e+02  3.62e+11    48s\n"
     ]
    },
    {
     "name": "stdout",
     "output_type": "stream",
     "text": [
      "   1   1.06563996e+14 -5.47389488e+17  4.14e+06 2.74e+05  2.77e+11    55s\n"
     ]
    },
    {
     "name": "stderr",
     "output_type": "stream",
     "text": [
      "INFO:gurobipy:   1   1.06563996e+14 -5.47389488e+17  4.14e+06 2.74e+05  2.77e+11    55s\n"
     ]
    },
    {
     "name": "stdout",
     "output_type": "stream",
     "text": [
      "   2   1.07972314e+14 -2.61244462e+17  3.47e+06 1.20e+05  2.07e+11    66s\n"
     ]
    },
    {
     "name": "stderr",
     "output_type": "stream",
     "text": [
      "INFO:gurobipy:   2   1.07972314e+14 -2.61244462e+17  3.47e+06 1.20e+05  2.07e+11    66s\n"
     ]
    },
    {
     "name": "stdout",
     "output_type": "stream",
     "text": [
      "   3   4.24702121e+13 -5.23673924e+16  1.83e+06 1.30e+04  1.04e+11    78s\n"
     ]
    },
    {
     "name": "stderr",
     "output_type": "stream",
     "text": [
      "INFO:gurobipy:   3   4.24702121e+13 -5.23673924e+16  1.83e+06 1.30e+04  1.04e+11    78s\n"
     ]
    },
    {
     "name": "stdout",
     "output_type": "stream",
     "text": [
      "   4   4.93355443e+12 -1.30509815e+16  1.44e+05 3.53e+02  8.91e+09    89s\n"
     ]
    },
    {
     "name": "stderr",
     "output_type": "stream",
     "text": [
      "INFO:gurobipy:   4   4.93355443e+12 -1.30509815e+16  1.44e+05 3.53e+02  8.91e+09    89s\n"
     ]
    },
    {
     "name": "stdout",
     "output_type": "stream",
     "text": [
      "   5   3.08905104e+12 -7.75226185e+15  3.40e+04 9.86e+01  2.50e+09    98s\n"
     ]
    },
    {
     "name": "stderr",
     "output_type": "stream",
     "text": [
      "INFO:gurobipy:   5   3.08905104e+12 -7.75226185e+15  3.40e+04 9.86e+01  2.50e+09    98s\n"
     ]
    },
    {
     "name": "stdout",
     "output_type": "stream",
     "text": [
      "   6   2.90342901e+12 -3.29426427e+15  1.14e+04 1.36e+01  8.17e+08   113s\n"
     ]
    },
    {
     "name": "stderr",
     "output_type": "stream",
     "text": [
      "INFO:gurobipy:   6   2.90342901e+12 -3.29426427e+15  1.14e+04 1.36e+01  8.17e+08   113s\n"
     ]
    },
    {
     "name": "stdout",
     "output_type": "stream",
     "text": [
      "   7   2.65624103e+12 -1.00884616e+15  2.03e+03 6.46e-01  1.66e+08   127s\n"
     ]
    },
    {
     "name": "stderr",
     "output_type": "stream",
     "text": [
      "INFO:gurobipy:   7   2.65624103e+12 -1.00884616e+15  2.03e+03 6.46e-01  1.66e+08   127s\n"
     ]
    },
    {
     "name": "stdout",
     "output_type": "stream",
     "text": [
      "   8   1.68458656e+12 -2.82279310e+14  4.10e+02 5.47e-05  3.71e+07   136s\n"
     ]
    },
    {
     "name": "stderr",
     "output_type": "stream",
     "text": [
      "INFO:gurobipy:   8   1.68458656e+12 -2.82279310e+14  4.10e+02 5.47e-05  3.71e+07   136s\n"
     ]
    },
    {
     "name": "stdout",
     "output_type": "stream",
     "text": [
      "   9   9.65645545e+11 -6.92929737e+13  1.85e+01 2.12e-05  7.76e+06   149s\n"
     ]
    },
    {
     "name": "stderr",
     "output_type": "stream",
     "text": [
      "INFO:gurobipy:   9   9.65645545e+11 -6.92929737e+13  1.85e+01 2.12e-05  7.76e+06   149s\n"
     ]
    },
    {
     "name": "stdout",
     "output_type": "stream",
     "text": [
      "  10   6.80432719e+11 -5.80625487e+13  2.59e+00 1.78e-05  6.39e+06   161s\n"
     ]
    },
    {
     "name": "stderr",
     "output_type": "stream",
     "text": [
      "INFO:gurobipy:  10   6.80432719e+11 -5.80625487e+13  2.59e+00 1.78e-05  6.39e+06   161s\n"
     ]
    },
    {
     "name": "stdout",
     "output_type": "stream",
     "text": [
      "  11   6.39943617e+11 -4.45849459e+13  2.09e+00 1.31e-05  4.92e+06   172s\n"
     ]
    },
    {
     "name": "stderr",
     "output_type": "stream",
     "text": [
      "INFO:gurobipy:  11   6.39943617e+11 -4.45849459e+13  2.09e+00 1.31e-05  4.92e+06   172s\n"
     ]
    },
    {
     "name": "stdout",
     "output_type": "stream",
     "text": [
      "  12   5.32196891e+11 -1.79491015e+13  6.72e-01 5.73e-06  2.01e+06   181s\n"
     ]
    },
    {
     "name": "stderr",
     "output_type": "stream",
     "text": [
      "INFO:gurobipy:  12   5.32196891e+11 -1.79491015e+13  6.72e-01 5.73e-06  2.01e+06   181s\n"
     ]
    },
    {
     "name": "stdout",
     "output_type": "stream",
     "text": [
      "  13   4.37885865e+11 -8.52509012e+12  3.17e-01 3.00e-06  9.73e+05   189s\n"
     ]
    },
    {
     "name": "stderr",
     "output_type": "stream",
     "text": [
      "INFO:gurobipy:  13   4.37885865e+11 -8.52509012e+12  3.17e-01 3.00e-06  9.73e+05   189s\n"
     ]
    },
    {
     "name": "stdout",
     "output_type": "stream",
     "text": [
      "  14   2.98707262e+11 -5.12086235e+12  8.59e-02 1.78e-06  5.88e+05   201s\n"
     ]
    },
    {
     "name": "stderr",
     "output_type": "stream",
     "text": [
      "INFO:gurobipy:  14   2.98707262e+11 -5.12086235e+12  8.59e-02 1.78e-06  5.88e+05   201s\n"
     ]
    },
    {
     "name": "stdout",
     "output_type": "stream",
     "text": [
      "  15   2.78612626e+11 -2.39496238e+12  7.30e-02 7.31e-07  2.90e+05   210s\n"
     ]
    },
    {
     "name": "stderr",
     "output_type": "stream",
     "text": [
      "INFO:gurobipy:  15   2.78612626e+11 -2.39496238e+12  7.30e-02 7.31e-07  2.90e+05   210s\n"
     ]
    },
    {
     "name": "stdout",
     "output_type": "stream",
     "text": [
      "  16   2.28619776e+11 -8.89108286e+11  4.95e-02 2.43e-07  1.21e+05   220s\n"
     ]
    },
    {
     "name": "stderr",
     "output_type": "stream",
     "text": [
      "INFO:gurobipy:  16   2.28619776e+11 -8.89108286e+11  4.95e-02 2.43e-07  1.21e+05   220s\n"
     ]
    },
    {
     "name": "stdout",
     "output_type": "stream",
     "text": [
      "  17   1.92554219e+11 -4.51336376e+11  3.68e-02 1.31e-07  6.99e+04   234s\n"
     ]
    },
    {
     "name": "stderr",
     "output_type": "stream",
     "text": [
      "INFO:gurobipy:  17   1.92554219e+11 -4.51336376e+11  3.68e-02 1.31e-07  6.99e+04   234s\n"
     ]
    },
    {
     "name": "stdout",
     "output_type": "stream",
     "text": [
      "  18   1.65074226e+11 -3.37286152e+11  2.89e-02 9.99e-08  5.45e+04   245s\n"
     ]
    },
    {
     "name": "stderr",
     "output_type": "stream",
     "text": [
      "INFO:gurobipy:  18   1.65074226e+11 -3.37286152e+11  2.89e-02 9.99e-08  5.45e+04   245s\n"
     ]
    },
    {
     "name": "stdout",
     "output_type": "stream",
     "text": [
      "  19   1.60816316e+11 -3.10088547e+11  2.77e-02 9.09e-08  5.11e+04   252s\n"
     ]
    },
    {
     "name": "stderr",
     "output_type": "stream",
     "text": [
      "INFO:gurobipy:  19   1.60816316e+11 -3.10088547e+11  2.77e-02 9.09e-08  5.11e+04   252s\n"
     ]
    },
    {
     "name": "stdout",
     "output_type": "stream",
     "text": [
      "  20   1.44893867e+11 -2.17056596e+11  2.36e-02 6.97e-08  3.93e+04   261s\n"
     ]
    },
    {
     "name": "stderr",
     "output_type": "stream",
     "text": [
      "INFO:gurobipy:  20   1.44893867e+11 -2.17056596e+11  2.36e-02 6.97e-08  3.93e+04   261s\n"
     ]
    },
    {
     "name": "stdout",
     "output_type": "stream",
     "text": [
      "  21   1.32560311e+11 -1.34926893e+11  2.08e-02 3.86e-08  2.90e+04   272s\n"
     ]
    },
    {
     "name": "stderr",
     "output_type": "stream",
     "text": [
      "INFO:gurobipy:  21   1.32560311e+11 -1.34926893e+11  2.08e-02 3.86e-08  2.90e+04   272s\n"
     ]
    },
    {
     "name": "stdout",
     "output_type": "stream",
     "text": [
      "  22   1.10007124e+11 -6.28397518e+10  1.60e-02 2.24e-08  1.88e+04   285s\n"
     ]
    },
    {
     "name": "stderr",
     "output_type": "stream",
     "text": [
      "INFO:gurobipy:  22   1.10007124e+11 -6.28397518e+10  1.60e-02 2.24e-08  1.88e+04   285s\n"
     ]
    },
    {
     "name": "stdout",
     "output_type": "stream",
     "text": [
      "  23   8.96980098e+10 -1.24168713e+10  1.22e-02 1.40e-08  1.11e+04   301s\n"
     ]
    },
    {
     "name": "stderr",
     "output_type": "stream",
     "text": [
      "INFO:gurobipy:  23   8.96980098e+10 -1.24168713e+10  1.22e-02 1.40e-08  1.11e+04   301s\n"
     ]
    },
    {
     "name": "stdout",
     "output_type": "stream",
     "text": [
      "  24   8.23708210e+10 -8.08889113e+08  1.03e-02 7.78e-08  9.03e+03   313s\n"
     ]
    },
    {
     "name": "stderr",
     "output_type": "stream",
     "text": [
      "INFO:gurobipy:  24   8.23708210e+10 -8.08889113e+08  1.03e-02 7.78e-08  9.03e+03   313s\n"
     ]
    },
    {
     "name": "stdout",
     "output_type": "stream",
     "text": [
      "  25   7.29729533e+10  2.47457070e+10  8.48e-03 1.23e-06  5.24e+03   328s\n"
     ]
    },
    {
     "name": "stderr",
     "output_type": "stream",
     "text": [
      "INFO:gurobipy:  25   7.29729533e+10  2.47457070e+10  8.48e-03 1.23e-06  5.24e+03   328s\n"
     ]
    },
    {
     "name": "stdout",
     "output_type": "stream",
     "text": [
      "  26   6.44988892e+10  3.13522811e+10  6.61e-03 4.35e-06  3.60e+03   343s\n"
     ]
    },
    {
     "name": "stderr",
     "output_type": "stream",
     "text": [
      "INFO:gurobipy:  26   6.44988892e+10  3.13522811e+10  6.61e-03 4.35e-06  3.60e+03   343s\n"
     ]
    },
    {
     "name": "stdout",
     "output_type": "stream",
     "text": [
      "  27   5.54385977e+10  3.32736741e+10  4.38e-03 5.25e-06  2.41e+03   357s\n"
     ]
    },
    {
     "name": "stderr",
     "output_type": "stream",
     "text": [
      "INFO:gurobipy:  27   5.54385977e+10  3.32736741e+10  4.38e-03 5.25e-06  2.41e+03   357s\n"
     ]
    },
    {
     "name": "stdout",
     "output_type": "stream",
     "text": [
      "  28   5.14024839e+10  3.47919588e+10  3.52e-03 5.33e-06  1.80e+03   371s\n"
     ]
    },
    {
     "name": "stderr",
     "output_type": "stream",
     "text": [
      "INFO:gurobipy:  28   5.14024839e+10  3.47919588e+10  3.52e-03 5.33e-06  1.80e+03   371s\n"
     ]
    },
    {
     "name": "stdout",
     "output_type": "stream",
     "text": [
      "  29   4.97198808e+10  3.57189850e+10  3.16e-03 5.15e-06  1.52e+03   384s\n"
     ]
    },
    {
     "name": "stderr",
     "output_type": "stream",
     "text": [
      "INFO:gurobipy:  29   4.97198808e+10  3.57189850e+10  3.16e-03 5.15e-06  1.52e+03   384s\n"
     ]
    },
    {
     "name": "stdout",
     "output_type": "stream",
     "text": [
      "  30   4.78963796e+10  3.62771353e+10  2.71e-03 5.35e-06  1.26e+03   393s\n"
     ]
    },
    {
     "name": "stderr",
     "output_type": "stream",
     "text": [
      "INFO:gurobipy:  30   4.78963796e+10  3.62771353e+10  2.71e-03 5.35e-06  1.26e+03   393s\n"
     ]
    },
    {
     "name": "stdout",
     "output_type": "stream",
     "text": [
      "  31   4.54312364e+10  3.71971102e+10  2.08e-03 5.47e-06  8.94e+02   407s\n"
     ]
    },
    {
     "name": "stderr",
     "output_type": "stream",
     "text": [
      "INFO:gurobipy:  31   4.54312364e+10  3.71971102e+10  2.08e-03 5.47e-06  8.94e+02   407s\n"
     ]
    },
    {
     "name": "stdout",
     "output_type": "stream",
     "text": [
      "  32   4.37735063e+10  3.77103001e+10  1.64e-03 5.09e-06  6.58e+02   425s\n"
     ]
    },
    {
     "name": "stderr",
     "output_type": "stream",
     "text": [
      "INFO:gurobipy:  32   4.37735063e+10  3.77103001e+10  1.64e-03 5.09e-06  6.58e+02   425s\n"
     ]
    },
    {
     "name": "stdout",
     "output_type": "stream",
     "text": [
      "  33   4.28299496e+10  3.78778660e+10  1.36e-03 4.76e-06  5.38e+02   436s\n"
     ]
    },
    {
     "name": "stderr",
     "output_type": "stream",
     "text": [
      "INFO:gurobipy:  33   4.28299496e+10  3.78778660e+10  1.36e-03 4.76e-06  5.38e+02   436s\n"
     ]
    },
    {
     "name": "stdout",
     "output_type": "stream",
     "text": [
      "  34   4.18321011e+10  3.81162342e+10  1.07e-03 3.82e-06  4.03e+02   452s\n"
     ]
    },
    {
     "name": "stderr",
     "output_type": "stream",
     "text": [
      "INFO:gurobipy:  34   4.18321011e+10  3.81162342e+10  1.07e-03 3.82e-06  4.03e+02   452s\n"
     ]
    },
    {
     "name": "stdout",
     "output_type": "stream",
     "text": [
      "  35   4.10509482e+10  3.82814718e+10  8.45e-04 3.18e-06  3.01e+02   466s\n"
     ]
    },
    {
     "name": "stderr",
     "output_type": "stream",
     "text": [
      "INFO:gurobipy:  35   4.10509482e+10  3.82814718e+10  8.45e-04 3.18e-06  3.01e+02   466s\n"
     ]
    },
    {
     "name": "stdout",
     "output_type": "stream",
     "text": [
      "  36   4.04352617e+10  3.83850110e+10  6.51e-04 2.64e-06  2.23e+02   479s\n"
     ]
    },
    {
     "name": "stderr",
     "output_type": "stream",
     "text": [
      "INFO:gurobipy:  36   4.04352617e+10  3.83850110e+10  6.51e-04 2.64e-06  2.23e+02   479s\n"
     ]
    },
    {
     "name": "stdout",
     "output_type": "stream",
     "text": [
      "  37   4.01768769e+10  3.84278499e+10  5.66e-04 2.29e-06  1.90e+02   495s\n"
     ]
    },
    {
     "name": "stderr",
     "output_type": "stream",
     "text": [
      "INFO:gurobipy:  37   4.01768769e+10  3.84278499e+10  5.66e-04 2.29e-06  1.90e+02   495s\n"
     ]
    },
    {
     "name": "stdout",
     "output_type": "stream",
     "text": [
      "  38   3.99527279e+10  3.84619253e+10  4.87e-04 1.99e-06  1.62e+02   510s\n"
     ]
    },
    {
     "name": "stderr",
     "output_type": "stream",
     "text": [
      "INFO:gurobipy:  38   3.99527279e+10  3.84619253e+10  4.87e-04 1.99e-06  1.62e+02   510s\n"
     ]
    },
    {
     "name": "stdout",
     "output_type": "stream",
     "text": [
      "  39   3.96749206e+10  3.84881626e+10  3.92e-04 1.77e-06  1.29e+02   523s\n"
     ]
    },
    {
     "name": "stderr",
     "output_type": "stream",
     "text": [
      "INFO:gurobipy:  39   3.96749206e+10  3.84881626e+10  3.92e-04 1.77e-06  1.29e+02   523s\n"
     ]
    },
    {
     "name": "stdout",
     "output_type": "stream",
     "text": [
      "  40   3.94587596e+10  3.85113461e+10  3.18e-04 1.54e-06  1.03e+02   538s\n"
     ]
    },
    {
     "name": "stderr",
     "output_type": "stream",
     "text": [
      "INFO:gurobipy:  40   3.94587596e+10  3.85113461e+10  3.18e-04 1.54e-06  1.03e+02   538s\n"
     ]
    },
    {
     "name": "stdout",
     "output_type": "stream",
     "text": [
      "  41   3.93216080e+10  3.85381415e+10  3.04e-04 1.31e-06  8.51e+01   551s\n"
     ]
    },
    {
     "name": "stderr",
     "output_type": "stream",
     "text": [
      "INFO:gurobipy:  41   3.93216080e+10  3.85381415e+10  3.04e-04 1.31e-06  8.51e+01   551s\n"
     ]
    },
    {
     "name": "stdout",
     "output_type": "stream",
     "text": [
      "  42   3.92174301e+10  3.85618953e+10  2.77e-04 1.07e-06  7.12e+01   564s\n"
     ]
    },
    {
     "name": "stderr",
     "output_type": "stream",
     "text": [
      "INFO:gurobipy:  42   3.92174301e+10  3.85618953e+10  2.77e-04 1.07e-06  7.12e+01   564s\n"
     ]
    },
    {
     "name": "stdout",
     "output_type": "stream",
     "text": [
      "  43   3.91395950e+10  3.85812359e+10  2.64e-04 9.31e-07  6.06e+01   577s\n"
     ]
    },
    {
     "name": "stderr",
     "output_type": "stream",
     "text": [
      "INFO:gurobipy:  43   3.91395950e+10  3.85812359e+10  2.64e-04 9.31e-07  6.06e+01   577s\n"
     ]
    },
    {
     "name": "stdout",
     "output_type": "stream",
     "text": [
      "  44   3.90793663e+10  3.85954053e+10  2.58e-04 8.60e-07  5.25e+01   594s\n"
     ]
    },
    {
     "name": "stderr",
     "output_type": "stream",
     "text": [
      "INFO:gurobipy:  44   3.90793663e+10  3.85954053e+10  2.58e-04 8.60e-07  5.25e+01   594s\n"
     ]
    },
    {
     "name": "stdout",
     "output_type": "stream",
     "text": [
      "  45   3.89967856e+10  3.86066362e+10  2.34e-04 7.74e-07  4.24e+01   609s\n"
     ]
    },
    {
     "name": "stderr",
     "output_type": "stream",
     "text": [
      "INFO:gurobipy:  45   3.89967856e+10  3.86066362e+10  2.34e-04 7.74e-07  4.24e+01   609s\n"
     ]
    },
    {
     "name": "stdout",
     "output_type": "stream",
     "text": [
      "  46   3.89602361e+10  3.86146798e+10  2.11e-04 6.68e-07  3.75e+01   621s\n"
     ]
    },
    {
     "name": "stderr",
     "output_type": "stream",
     "text": [
      "INFO:gurobipy:  46   3.89602361e+10  3.86146798e+10  2.11e-04 6.68e-07  3.75e+01   621s\n"
     ]
    },
    {
     "name": "stdout",
     "output_type": "stream",
     "text": [
      "  47   3.89381302e+10  3.86205473e+10  1.96e-04 5.94e-07  3.45e+01   633s\n"
     ]
    },
    {
     "name": "stderr",
     "output_type": "stream",
     "text": [
      "INFO:gurobipy:  47   3.89381302e+10  3.86205473e+10  1.96e-04 5.94e-07  3.45e+01   633s\n"
     ]
    },
    {
     "name": "stdout",
     "output_type": "stream",
     "text": [
      "  48   3.88832189e+10  3.86263782e+10  1.62e-04 5.03e-07  2.79e+01   649s\n"
     ]
    },
    {
     "name": "stderr",
     "output_type": "stream",
     "text": [
      "INFO:gurobipy:  48   3.88832189e+10  3.86263782e+10  1.62e-04 5.03e-07  2.79e+01   649s\n"
     ]
    },
    {
     "name": "stdout",
     "output_type": "stream",
     "text": [
      "  49   3.88390965e+10  3.86312633e+10  1.34e-04 4.30e-07  2.26e+01   663s\n"
     ]
    },
    {
     "name": "stderr",
     "output_type": "stream",
     "text": [
      "INFO:gurobipy:  49   3.88390965e+10  3.86312633e+10  1.34e-04 4.30e-07  2.26e+01   663s\n"
     ]
    },
    {
     "name": "stdout",
     "output_type": "stream",
     "text": [
      "  50   3.88071129e+10  3.86356430e+10  1.13e-04 3.67e-07  1.86e+01   677s\n"
     ]
    },
    {
     "name": "stderr",
     "output_type": "stream",
     "text": [
      "INFO:gurobipy:  50   3.88071129e+10  3.86356430e+10  1.13e-04 3.67e-07  1.86e+01   677s\n"
     ]
    },
    {
     "name": "stdout",
     "output_type": "stream",
     "text": [
      "  51   3.87838002e+10  3.86385979e+10  9.85e-05 3.30e-07  1.58e+01   689s\n"
     ]
    },
    {
     "name": "stderr",
     "output_type": "stream",
     "text": [
      "INFO:gurobipy:  51   3.87838002e+10  3.86385979e+10  9.85e-05 3.30e-07  1.58e+01   689s\n"
     ]
    },
    {
     "name": "stdout",
     "output_type": "stream",
     "text": [
      "  52   3.87617099e+10  3.86422065e+10  8.33e-05 2.64e-07  1.30e+01   704s\n"
     ]
    },
    {
     "name": "stderr",
     "output_type": "stream",
     "text": [
      "INFO:gurobipy:  52   3.87617099e+10  3.86422065e+10  8.33e-05 2.64e-07  1.30e+01   704s\n"
     ]
    },
    {
     "name": "stdout",
     "output_type": "stream",
     "text": [
      "  53   3.87577289e+10  3.86437214e+10  7.99e-05 2.35e-07  1.24e+01   720s\n"
     ]
    },
    {
     "name": "stderr",
     "output_type": "stream",
     "text": [
      "INFO:gurobipy:  53   3.87577289e+10  3.86437214e+10  7.99e-05 2.35e-07  1.24e+01   720s\n"
     ]
    },
    {
     "name": "stdout",
     "output_type": "stream",
     "text": [
      "  54   3.87369581e+10  3.86456053e+10  6.46e-05 2.14e-07  9.92e+00   737s\n"
     ]
    },
    {
     "name": "stderr",
     "output_type": "stream",
     "text": [
      "INFO:gurobipy:  54   3.87369581e+10  3.86456053e+10  6.46e-05 2.14e-07  9.92e+00   737s\n"
     ]
    },
    {
     "name": "stdout",
     "output_type": "stream",
     "text": [
      "  55   3.87309830e+10  3.86484992e+10  5.99e-05 1.80e-07  8.96e+00   753s\n"
     ]
    },
    {
     "name": "stderr",
     "output_type": "stream",
     "text": [
      "INFO:gurobipy:  55   3.87309830e+10  3.86484992e+10  5.99e-05 1.80e-07  8.96e+00   753s\n"
     ]
    },
    {
     "name": "stdout",
     "output_type": "stream",
     "text": [
      "  56   3.87285715e+10  3.86494567e+10  5.78e-05 1.67e-07  8.59e+00   770s\n"
     ]
    },
    {
     "name": "stderr",
     "output_type": "stream",
     "text": [
      "INFO:gurobipy:  56   3.87285715e+10  3.86494567e+10  5.78e-05 1.67e-07  8.59e+00   770s\n"
     ]
    },
    {
     "name": "stdout",
     "output_type": "stream",
     "text": [
      "  57   3.87190799e+10  3.86510042e+10  5.13e-05 1.55e-07  7.39e+00   786s\n"
     ]
    },
    {
     "name": "stderr",
     "output_type": "stream",
     "text": [
      "INFO:gurobipy:  57   3.87190799e+10  3.86510042e+10  5.13e-05 1.55e-07  7.39e+00   786s\n"
     ]
    },
    {
     "name": "stdout",
     "output_type": "stream",
     "text": [
      "  58   3.87113385e+10  3.86524868e+10  4.58e-05 1.29e-07  6.39e+00   802s\n"
     ]
    },
    {
     "name": "stderr",
     "output_type": "stream",
     "text": [
      "INFO:gurobipy:  58   3.87113385e+10  3.86524868e+10  4.58e-05 1.29e-07  6.39e+00   802s\n"
     ]
    },
    {
     "name": "stdout",
     "output_type": "stream",
     "text": [
      "  59   3.87089444e+10  3.86532375e+10  4.35e-05 1.18e-07  6.05e+00   817s\n"
     ]
    },
    {
     "name": "stderr",
     "output_type": "stream",
     "text": [
      "INFO:gurobipy:  59   3.87089444e+10  3.86532375e+10  4.35e-05 1.18e-07  6.05e+00   817s\n"
     ]
    },
    {
     "name": "stdout",
     "output_type": "stream",
     "text": [
      "  60   3.86990050e+10  3.86546274e+10  3.48e-05 9.55e-08  4.82e+00   833s\n"
     ]
    },
    {
     "name": "stderr",
     "output_type": "stream",
     "text": [
      "INFO:gurobipy:  60   3.86990050e+10  3.86546274e+10  3.48e-05 9.55e-08  4.82e+00   833s\n"
     ]
    },
    {
     "name": "stdout",
     "output_type": "stream",
     "text": [
      "  61   3.86941740e+10  3.86553473e+10  3.10e-05 8.56e-08  4.22e+00   853s\n"
     ]
    },
    {
     "name": "stderr",
     "output_type": "stream",
     "text": [
      "INFO:gurobipy:  61   3.86941740e+10  3.86553473e+10  3.10e-05 8.56e-08  4.22e+00   853s\n"
     ]
    },
    {
     "name": "stdout",
     "output_type": "stream",
     "text": [
      "  62   3.86903252e+10  3.86560165e+10  2.84e-05 8.05e-08  3.72e+00   870s\n"
     ]
    },
    {
     "name": "stderr",
     "output_type": "stream",
     "text": [
      "INFO:gurobipy:  62   3.86903252e+10  3.86560165e+10  2.84e-05 8.05e-08  3.72e+00   870s\n"
     ]
    },
    {
     "name": "stdout",
     "output_type": "stream",
     "text": [
      "  63   3.86854899e+10  3.86566846e+10  2.38e-05 7.51e-08  3.13e+00   892s\n"
     ]
    },
    {
     "name": "stderr",
     "output_type": "stream",
     "text": [
      "INFO:gurobipy:  63   3.86854899e+10  3.86566846e+10  2.38e-05 7.51e-08  3.13e+00   892s\n"
     ]
    },
    {
     "name": "stdout",
     "output_type": "stream",
     "text": [
      "  64   3.86845021e+10  3.86570162e+10  2.28e-05 7.24e-08  2.98e+00   911s\n"
     ]
    },
    {
     "name": "stderr",
     "output_type": "stream",
     "text": [
      "INFO:gurobipy:  64   3.86845021e+10  3.86570162e+10  2.28e-05 7.24e-08  2.98e+00   911s\n"
     ]
    },
    {
     "name": "stdout",
     "output_type": "stream",
     "text": [
      "  65   3.86830878e+10  3.86575631e+10  2.14e-05 6.80e-08  2.77e+00   928s\n"
     ]
    },
    {
     "name": "stderr",
     "output_type": "stream",
     "text": [
      "INFO:gurobipy:  65   3.86830878e+10  3.86575631e+10  2.14e-05 6.80e-08  2.77e+00   928s\n"
     ]
    },
    {
     "name": "stdout",
     "output_type": "stream",
     "text": [
      "  66   3.86789364e+10  3.86580470e+10  1.74e-05 6.42e-08  2.27e+00   949s\n"
     ]
    },
    {
     "name": "stderr",
     "output_type": "stream",
     "text": [
      "INFO:gurobipy:  66   3.86789364e+10  3.86580470e+10  1.74e-05 6.42e-08  2.27e+00   949s\n"
     ]
    },
    {
     "name": "stdout",
     "output_type": "stream",
     "text": [
      "  67   3.86772942e+10  3.86586189e+10  1.58e-05 5.97e-08  2.03e+00   970s\n"
     ]
    },
    {
     "name": "stderr",
     "output_type": "stream",
     "text": [
      "INFO:gurobipy:  67   3.86772942e+10  3.86586189e+10  1.58e-05 5.97e-08  2.03e+00   970s\n"
     ]
    },
    {
     "name": "stdout",
     "output_type": "stream",
     "text": [
      "  68   3.86752881e+10  3.86590402e+10  1.37e-05 5.56e-08  1.76e+00   990s\n"
     ]
    },
    {
     "name": "stderr",
     "output_type": "stream",
     "text": [
      "INFO:gurobipy:  68   3.86752881e+10  3.86590402e+10  1.37e-05 5.56e-08  1.76e+00   990s\n"
     ]
    },
    {
     "name": "stdout",
     "output_type": "stream",
     "text": [
      "  69   3.86741540e+10  3.86593828e+10  1.26e-05 5.23e-08  1.60e+00  1011s\n"
     ]
    },
    {
     "name": "stderr",
     "output_type": "stream",
     "text": [
      "INFO:gurobipy:  69   3.86741540e+10  3.86593828e+10  1.26e-05 5.23e-08  1.60e+00  1011s\n"
     ]
    },
    {
     "name": "stdout",
     "output_type": "stream",
     "text": [
      "  70   3.86737923e+10  3.86595723e+10  1.23e-05 5.03e-08  1.54e+00  1023s\n"
     ]
    },
    {
     "name": "stderr",
     "output_type": "stream",
     "text": [
      "INFO:gurobipy:  70   3.86737923e+10  3.86595723e+10  1.23e-05 5.03e-08  1.54e+00  1023s\n"
     ]
    },
    {
     "name": "stdout",
     "output_type": "stream",
     "text": [
      "  71   3.86723101e+10  3.86598879e+10  1.08e-05 4.82e-08  1.35e+00  1038s\n"
     ]
    },
    {
     "name": "stderr",
     "output_type": "stream",
     "text": [
      "INFO:gurobipy:  71   3.86723101e+10  3.86598879e+10  1.08e-05 4.82e-08  1.35e+00  1038s\n"
     ]
    },
    {
     "name": "stdout",
     "output_type": "stream",
     "text": [
      "  72   3.86712493e+10  3.86601819e+10  9.72e-06 4.45e-08  1.20e+00  1052s\n"
     ]
    },
    {
     "name": "stderr",
     "output_type": "stream",
     "text": [
      "INFO:gurobipy:  72   3.86712493e+10  3.86601819e+10  9.72e-06 4.45e-08  1.20e+00  1052s\n"
     ]
    },
    {
     "name": "stdout",
     "output_type": "stream",
     "text": [
      "  73   3.86702978e+10  3.86603959e+10  8.76e-06 4.14e-08  1.08e+00  1073s\n"
     ]
    },
    {
     "name": "stderr",
     "output_type": "stream",
     "text": [
      "INFO:gurobipy:  73   3.86702978e+10  3.86603959e+10  8.76e-06 4.14e-08  1.08e+00  1073s\n"
     ]
    },
    {
     "name": "stdout",
     "output_type": "stream",
     "text": [
      "  74   3.86699880e+10  3.86604932e+10  8.41e-06 4.00e-08  1.03e+00  1085s\n"
     ]
    },
    {
     "name": "stderr",
     "output_type": "stream",
     "text": [
      "INFO:gurobipy:  74   3.86699880e+10  3.86604932e+10  8.41e-06 4.00e-08  1.03e+00  1085s\n"
     ]
    },
    {
     "name": "stdout",
     "output_type": "stream",
     "text": [
      "  75   3.86691645e+10  3.86606690e+10  7.53e-06 3.75e-08  9.22e-01  1106s\n"
     ]
    },
    {
     "name": "stderr",
     "output_type": "stream",
     "text": [
      "INFO:gurobipy:  75   3.86691645e+10  3.86606690e+10  7.53e-06 3.75e-08  9.22e-01  1106s\n"
     ]
    },
    {
     "name": "stdout",
     "output_type": "stream",
     "text": [
      "  76   3.86682716e+10  3.86608251e+10  6.58e-06 3.51e-08  8.08e-01  1124s\n"
     ]
    },
    {
     "name": "stderr",
     "output_type": "stream",
     "text": [
      "INFO:gurobipy:  76   3.86682716e+10  3.86608251e+10  6.58e-06 3.51e-08  8.08e-01  1124s\n"
     ]
    },
    {
     "name": "stdout",
     "output_type": "stream",
     "text": [
      "  77   3.86673178e+10  3.86609897e+10  5.59e-06 3.23e-08  6.87e-01  1145s\n"
     ]
    },
    {
     "name": "stderr",
     "output_type": "stream",
     "text": [
      "INFO:gurobipy:  77   3.86673178e+10  3.86609897e+10  5.59e-06 3.23e-08  6.87e-01  1145s\n"
     ]
    },
    {
     "name": "stdout",
     "output_type": "stream",
     "text": [
      "  78   3.86669977e+10  3.86612116e+10  5.23e-06 3.35e-08  6.28e-01  1161s\n"
     ]
    },
    {
     "name": "stderr",
     "output_type": "stream",
     "text": [
      "INFO:gurobipy:  78   3.86669977e+10  3.86612116e+10  5.23e-06 3.35e-08  6.28e-01  1161s\n"
     ]
    },
    {
     "name": "stdout",
     "output_type": "stream",
     "text": [
      "  79   3.86665768e+10  3.86613000e+10  4.77e-06 2.72e-08  5.73e-01  1181s\n"
     ]
    },
    {
     "name": "stderr",
     "output_type": "stream",
     "text": [
      "INFO:gurobipy:  79   3.86665768e+10  3.86613000e+10  4.77e-06 2.72e-08  5.73e-01  1181s\n"
     ]
    },
    {
     "name": "stdout",
     "output_type": "stream",
     "text": [
      "  80   3.86659592e+10  3.86614504e+10  4.11e-06 2.42e-08  4.90e-01  1199s\n"
     ]
    },
    {
     "name": "stderr",
     "output_type": "stream",
     "text": [
      "INFO:gurobipy:  80   3.86659592e+10  3.86614504e+10  4.11e-06 2.42e-08  4.90e-01  1199s\n"
     ]
    },
    {
     "name": "stdout",
     "output_type": "stream",
     "text": [
      "  81   3.86656825e+10  3.86615116e+10  3.80e-06 2.33e-08  4.53e-01  1220s\n"
     ]
    },
    {
     "name": "stderr",
     "output_type": "stream",
     "text": [
      "INFO:gurobipy:  81   3.86656825e+10  3.86615116e+10  3.80e-06 2.33e-08  4.53e-01  1220s\n"
     ]
    },
    {
     "name": "stdout",
     "output_type": "stream",
     "text": [
      "  82   3.86654633e+10  3.86616205e+10  3.56e-06 2.16e-08  4.17e-01  1245s\n"
     ]
    },
    {
     "name": "stderr",
     "output_type": "stream",
     "text": [
      "INFO:gurobipy:  82   3.86654633e+10  3.86616205e+10  3.56e-06 2.16e-08  4.17e-01  1245s\n"
     ]
    },
    {
     "name": "stdout",
     "output_type": "stream",
     "text": [
      "  83   3.86651437e+10  3.86616666e+10  3.21e-06 2.51e-08  3.77e-01  1266s\n"
     ]
    },
    {
     "name": "stderr",
     "output_type": "stream",
     "text": [
      "INFO:gurobipy:  83   3.86651437e+10  3.86616666e+10  3.21e-06 2.51e-08  3.77e-01  1266s\n"
     ]
    },
    {
     "name": "stdout",
     "output_type": "stream",
     "text": [
      "  84   3.86650506e+10  3.86616931e+10  3.11e-06 2.14e-08  3.65e-01  1283s\n"
     ]
    },
    {
     "name": "stderr",
     "output_type": "stream",
     "text": [
      "INFO:gurobipy:  84   3.86650506e+10  3.86616931e+10  3.11e-06 2.14e-08  3.65e-01  1283s\n"
     ]
    },
    {
     "name": "stdout",
     "output_type": "stream",
     "text": [
      "  85   3.86647425e+10  3.86617821e+10  2.81e-06 1.75e-08  3.21e-01  1303s\n"
     ]
    },
    {
     "name": "stderr",
     "output_type": "stream",
     "text": [
      "INFO:gurobipy:  85   3.86647425e+10  3.86617821e+10  2.81e-06 1.75e-08  3.21e-01  1303s\n"
     ]
    },
    {
     "name": "stdout",
     "output_type": "stream",
     "text": [
      "  86   3.86644185e+10  3.86618440e+10  2.45e-06 3.73e-08  2.80e-01  1323s\n"
     ]
    },
    {
     "name": "stderr",
     "output_type": "stream",
     "text": [
      "INFO:gurobipy:  86   3.86644185e+10  3.86618440e+10  2.45e-06 3.73e-08  2.80e-01  1323s\n"
     ]
    },
    {
     "name": "stdout",
     "output_type": "stream",
     "text": [
      "  87   3.86640913e+10  3.86619176e+10  2.12e-06 2.24e-08  2.36e-01  1342s\n"
     ]
    },
    {
     "name": "stderr",
     "output_type": "stream",
     "text": [
      "INFO:gurobipy:  87   3.86640913e+10  3.86619176e+10  2.12e-06 2.24e-08  2.36e-01  1342s\n"
     ]
    },
    {
     "name": "stdout",
     "output_type": "stream",
     "text": [
      "  88   3.86638421e+10  3.86619951e+10  1.82e-06 2.05e-08  2.01e-01  1366s\n"
     ]
    },
    {
     "name": "stderr",
     "output_type": "stream",
     "text": [
      "INFO:gurobipy:  88   3.86638421e+10  3.86619951e+10  1.82e-06 2.05e-08  2.01e-01  1366s\n"
     ]
    },
    {
     "name": "stdout",
     "output_type": "stream",
     "text": [
      "  89   3.86637954e+10  3.86620133e+10  1.77e-06 1.17e-08  1.93e-01  1388s\n"
     ]
    },
    {
     "name": "stderr",
     "output_type": "stream",
     "text": [
      "INFO:gurobipy:  89   3.86637954e+10  3.86620133e+10  1.77e-06 1.17e-08  1.93e-01  1388s\n"
     ]
    },
    {
     "name": "stdout",
     "output_type": "stream",
     "text": [
      "  90   3.86636009e+10  3.86620570e+10  1.54e-06 1.06e-08  1.68e-01  1411s\n"
     ]
    },
    {
     "name": "stderr",
     "output_type": "stream",
     "text": [
      "INFO:gurobipy:  90   3.86636009e+10  3.86620570e+10  1.54e-06 1.06e-08  1.68e-01  1411s\n"
     ]
    },
    {
     "name": "stdout",
     "output_type": "stream",
     "text": [
      "  91   3.86633977e+10  3.86621065e+10  1.31e-06 2.42e-08  1.40e-01  1435s\n"
     ]
    },
    {
     "name": "stderr",
     "output_type": "stream",
     "text": [
      "INFO:gurobipy:  91   3.86633977e+10  3.86621065e+10  1.31e-06 2.42e-08  1.40e-01  1435s\n"
     ]
    },
    {
     "name": "stdout",
     "output_type": "stream",
     "text": [
      "  92   3.86633556e+10  3.86621235e+10  1.25e-06 1.12e-08  1.34e-01  1459s\n"
     ]
    },
    {
     "name": "stderr",
     "output_type": "stream",
     "text": [
      "INFO:gurobipy:  92   3.86633556e+10  3.86621235e+10  1.25e-06 1.12e-08  1.34e-01  1459s\n"
     ]
    },
    {
     "name": "stdout",
     "output_type": "stream",
     "text": [
      "  93   3.86632415e+10  3.86621515e+10  1.11e-06 1.26e-08  1.18e-01  1490s\n"
     ]
    },
    {
     "name": "stderr",
     "output_type": "stream",
     "text": [
      "INFO:gurobipy:  93   3.86632415e+10  3.86621515e+10  1.11e-06 1.26e-08  1.18e-01  1490s\n"
     ]
    },
    {
     "name": "stdout",
     "output_type": "stream",
     "text": [
      "  94   3.86632152e+10  3.86621584e+10  1.07e-06 9.44e-09  1.15e-01  1502s\n"
     ]
    },
    {
     "name": "stderr",
     "output_type": "stream",
     "text": [
      "INFO:gurobipy:  94   3.86632152e+10  3.86621584e+10  1.07e-06 9.44e-09  1.15e-01  1502s\n"
     ]
    },
    {
     "name": "stdout",
     "output_type": "stream",
     "text": [
      "  95   3.86631435e+10  3.86621698e+10  9.84e-07 2.79e-08  1.06e-01  1519s\n"
     ]
    },
    {
     "name": "stderr",
     "output_type": "stream",
     "text": [
      "INFO:gurobipy:  95   3.86631435e+10  3.86621698e+10  9.84e-07 2.79e-08  1.06e-01  1519s\n"
     ]
    },
    {
     "name": "stdout",
     "output_type": "stream",
     "text": [
      "  96   3.86630850e+10  3.86621964e+10  9.12e-07 1.12e-08  9.65e-02  1533s\n"
     ]
    },
    {
     "name": "stderr",
     "output_type": "stream",
     "text": [
      "INFO:gurobipy:  96   3.86630850e+10  3.86621964e+10  9.12e-07 1.12e-08  9.65e-02  1533s\n"
     ]
    },
    {
     "name": "stdout",
     "output_type": "stream",
     "text": [
      "  97   3.86630017e+10  3.86622216e+10  8.15e-07 1.21e-08  8.47e-02  1548s\n"
     ]
    },
    {
     "name": "stderr",
     "output_type": "stream",
     "text": [
      "INFO:gurobipy:  97   3.86630017e+10  3.86622216e+10  8.15e-07 1.21e-08  8.47e-02  1548s\n"
     ]
    },
    {
     "name": "stdout",
     "output_type": "stream",
     "text": [
      "  98   3.86629768e+10  3.86622263e+10  7.84e-07 1.96e-08  8.15e-02  1563s\n"
     ]
    },
    {
     "name": "stderr",
     "output_type": "stream",
     "text": [
      "INFO:gurobipy:  98   3.86629768e+10  3.86622263e+10  7.84e-07 1.96e-08  8.15e-02  1563s\n"
     ]
    },
    {
     "name": "stdout",
     "output_type": "stream",
     "text": [
      "  99   3.86628719e+10  3.86622434e+10  6.54e-07 8.71e-09  6.82e-02  1579s\n"
     ]
    },
    {
     "name": "stderr",
     "output_type": "stream",
     "text": [
      "INFO:gurobipy:  99   3.86628719e+10  3.86622434e+10  6.54e-07 8.71e-09  6.82e-02  1579s\n"
     ]
    },
    {
     "name": "stdout",
     "output_type": "stream",
     "text": [
      " 100   3.86628322e+10  3.86622497e+10  6.03e-07 1.21e-08  6.32e-02  1593s\n"
     ]
    },
    {
     "name": "stderr",
     "output_type": "stream",
     "text": [
      "INFO:gurobipy: 100   3.86628322e+10  3.86622497e+10  6.03e-07 1.21e-08  6.32e-02  1593s\n"
     ]
    },
    {
     "name": "stdout",
     "output_type": "stream",
     "text": [
      " 101   3.86628063e+10  3.86622617e+10  5.71e-07 4.19e-08  5.91e-02  1608s\n"
     ]
    },
    {
     "name": "stderr",
     "output_type": "stream",
     "text": [
      "INFO:gurobipy: 101   3.86628063e+10  3.86622617e+10  5.71e-07 4.19e-08  5.91e-02  1608s\n"
     ]
    },
    {
     "name": "stdout",
     "output_type": "stream",
     "text": [
      " 102   3.86627524e+10  3.86622859e+10  5.00e-07 8.38e-09  5.06e-02  1623s\n"
     ]
    },
    {
     "name": "stderr",
     "output_type": "stream",
     "text": [
      "INFO:gurobipy: 102   3.86627524e+10  3.86622859e+10  5.00e-07 8.38e-09  5.06e-02  1623s\n"
     ]
    },
    {
     "name": "stdout",
     "output_type": "stream",
     "text": [
      " 103   3.86627027e+10  3.86622955e+10  4.34e-07 2.05e-08  4.42e-02  1634s\n"
     ]
    },
    {
     "name": "stderr",
     "output_type": "stream",
     "text": [
      "INFO:gurobipy: 103   3.86627027e+10  3.86622955e+10  4.34e-07 2.05e-08  4.42e-02  1634s\n"
     ]
    },
    {
     "name": "stdout",
     "output_type": "stream",
     "text": [
      " 104   3.86626808e+10  3.86623041e+10  4.02e-07 1.40e-08  4.09e-02  1649s\n"
     ]
    },
    {
     "name": "stderr",
     "output_type": "stream",
     "text": [
      "INFO:gurobipy: 104   3.86626808e+10  3.86623041e+10  4.02e-07 1.40e-08  4.09e-02  1649s\n"
     ]
    },
    {
     "name": "stdout",
     "output_type": "stream",
     "text": [
      " 105   3.86626525e+10  3.86623182e+10  3.66e-07 3.73e-08  3.63e-02  1664s\n"
     ]
    },
    {
     "name": "stderr",
     "output_type": "stream",
     "text": [
      "INFO:gurobipy: 105   3.86626525e+10  3.86623182e+10  3.66e-07 3.73e-08  3.63e-02  1664s\n"
     ]
    },
    {
     "name": "stdout",
     "output_type": "stream",
     "text": [
      " 106   3.86625975e+10  3.86623237e+10  2.99e-07 1.58e-08  2.97e-02  1678s\n"
     ]
    },
    {
     "name": "stderr",
     "output_type": "stream",
     "text": [
      "INFO:gurobipy: 106   3.86625975e+10  3.86623237e+10  2.99e-07 1.58e-08  2.97e-02  1678s\n"
     ]
    },
    {
     "name": "stdout",
     "output_type": "stream",
     "text": [
      " 107   3.86625813e+10  3.86623394e+10  2.82e-07 1.51e-08  2.63e-02  1693s\n"
     ]
    },
    {
     "name": "stderr",
     "output_type": "stream",
     "text": [
      "INFO:gurobipy: 107   3.86625813e+10  3.86623394e+10  2.82e-07 1.51e-08  2.63e-02  1693s\n"
     ]
    },
    {
     "name": "stdout",
     "output_type": "stream",
     "text": [
      " 108   3.86625537e+10  3.86623461e+10  2.39e-07 1.68e-08  2.25e-02  1704s\n"
     ]
    },
    {
     "name": "stderr",
     "output_type": "stream",
     "text": [
      "INFO:gurobipy: 108   3.86625537e+10  3.86623461e+10  2.39e-07 1.68e-08  2.25e-02  1704s\n"
     ]
    },
    {
     "name": "stdout",
     "output_type": "stream",
     "text": [
      " 109   3.86625117e+10  3.86623624e+10  1.88e-07 2.89e-08  1.62e-02  1719s\n"
     ]
    },
    {
     "name": "stderr",
     "output_type": "stream",
     "text": [
      "INFO:gurobipy: 109   3.86625117e+10  3.86623624e+10  1.88e-07 2.89e-08  1.62e-02  1719s\n"
     ]
    },
    {
     "name": "stdout",
     "output_type": "stream",
     "text": [
      " 110   3.86624737e+10  3.86623645e+10  1.37e-07 2.33e-08  1.19e-02  1732s\n"
     ]
    },
    {
     "name": "stderr",
     "output_type": "stream",
     "text": [
      "INFO:gurobipy: 110   3.86624737e+10  3.86623645e+10  1.37e-07 2.33e-08  1.19e-02  1732s\n"
     ]
    },
    {
     "name": "stdout",
     "output_type": "stream",
     "text": [
      " 111   3.86624613e+10  3.86623688e+10  1.25e-07 8.85e-09  1.00e-02  1744s\n"
     ]
    },
    {
     "name": "stderr",
     "output_type": "stream",
     "text": [
      "INFO:gurobipy: 111   3.86624613e+10  3.86623688e+10  1.25e-07 8.85e-09  1.00e-02  1744s\n"
     ]
    },
    {
     "name": "stdout",
     "output_type": "stream",
     "text": [
      " 112   3.86624520e+10  3.86623731e+10  1.10e-07 2.42e-08  8.56e-03  1754s\n"
     ]
    },
    {
     "name": "stderr",
     "output_type": "stream",
     "text": [
      "INFO:gurobipy: 112   3.86624520e+10  3.86623731e+10  1.10e-07 2.42e-08  8.56e-03  1754s\n"
     ]
    },
    {
     "name": "stdout",
     "output_type": "stream",
     "text": [
      " 113   3.86624438e+10  3.86623742e+10  9.66e-08 2.24e-08  7.56e-03  1766s\n"
     ]
    },
    {
     "name": "stderr",
     "output_type": "stream",
     "text": [
      "INFO:gurobipy: 113   3.86624438e+10  3.86623742e+10  9.66e-08 2.24e-08  7.56e-03  1766s\n"
     ]
    },
    {
     "name": "stdout",
     "output_type": "stream",
     "text": [
      " 114   3.86624390e+10  3.86623751e+10  9.38e-08 3.17e-08  6.94e-03  1777s\n"
     ]
    },
    {
     "name": "stderr",
     "output_type": "stream",
     "text": [
      "INFO:gurobipy: 114   3.86624390e+10  3.86623751e+10  9.38e-08 3.17e-08  6.94e-03  1777s\n"
     ]
    },
    {
     "name": "stdout",
     "output_type": "stream",
     "text": [
      " 115   3.86624157e+10  3.86623760e+10  5.29e-08 5.36e-09  4.31e-03  1793s\n"
     ]
    },
    {
     "name": "stderr",
     "output_type": "stream",
     "text": [
      "INFO:gurobipy: 115   3.86624157e+10  3.86623760e+10  5.29e-08 5.36e-09  4.31e-03  1793s\n"
     ]
    },
    {
     "name": "stdout",
     "output_type": "stream",
     "text": [
      " 116   3.86624120e+10  3.86623774e+10  4.72e-08 5.59e-09  3.75e-03  1802s\n"
     ]
    },
    {
     "name": "stderr",
     "output_type": "stream",
     "text": [
      "INFO:gurobipy: 116   3.86624120e+10  3.86623774e+10  4.72e-08 5.59e-09  3.75e-03  1802s\n"
     ]
    },
    {
     "name": "stdout",
     "output_type": "stream",
     "text": [
      " 117   3.86624108e+10  3.86623777e+10  4.68e-08 3.26e-08  3.59e-03  1811s\n"
     ]
    },
    {
     "name": "stderr",
     "output_type": "stream",
     "text": [
      "INFO:gurobipy: 117   3.86624108e+10  3.86623777e+10  4.68e-08 3.26e-08  3.59e-03  1811s\n"
     ]
    },
    {
     "name": "stdout",
     "output_type": "stream",
     "text": [
      " 118   3.86624089e+10  3.86623779e+10  4.21e-08 2.24e-08  3.37e-03  1824s\n"
     ]
    },
    {
     "name": "stderr",
     "output_type": "stream",
     "text": [
      "INFO:gurobipy: 118   3.86624089e+10  3.86623779e+10  4.21e-08 2.24e-08  3.37e-03  1824s\n"
     ]
    },
    {
     "name": "stdout",
     "output_type": "stream",
     "text": [
      " 119   3.86624021e+10  3.86623786e+10  3.10e-08 9.31e-09  2.55e-03  1836s\n"
     ]
    },
    {
     "name": "stderr",
     "output_type": "stream",
     "text": [
      "INFO:gurobipy: 119   3.86624021e+10  3.86623786e+10  3.10e-08 9.31e-09  2.55e-03  1836s\n"
     ]
    },
    {
     "name": "stdout",
     "output_type": "stream",
     "text": [
      " 120   3.86623951e+10  3.86623798e+10  2.91e-08 2.05e-08  1.67e-03  1848s\n"
     ]
    },
    {
     "name": "stderr",
     "output_type": "stream",
     "text": [
      "INFO:gurobipy: 120   3.86623951e+10  3.86623798e+10  2.91e-08 2.05e-08  1.67e-03  1848s\n"
     ]
    },
    {
     "name": "stdout",
     "output_type": "stream",
     "text": [
      " 121   3.86623905e+10  3.86623801e+10  2.36e-08 1.41e-08  1.13e-03  1863s\n"
     ]
    },
    {
     "name": "stderr",
     "output_type": "stream",
     "text": [
      "INFO:gurobipy: 121   3.86623905e+10  3.86623801e+10  2.36e-08 1.41e-08  1.13e-03  1863s\n"
     ]
    },
    {
     "name": "stdout",
     "output_type": "stream",
     "text": [
      " 122   3.86623869e+10  3.86623806e+10  1.62e-08 1.63e-08  6.82e-04  1875s\n"
     ]
    },
    {
     "name": "stderr",
     "output_type": "stream",
     "text": [
      "INFO:gurobipy: 122   3.86623869e+10  3.86623806e+10  1.62e-08 1.63e-08  6.82e-04  1875s\n"
     ]
    },
    {
     "name": "stdout",
     "output_type": "stream",
     "text": [
      " 123   3.86623828e+10  3.86623807e+10  1.95e-08 5.96e-08  2.37e-04  1886s\n"
     ]
    },
    {
     "name": "stderr",
     "output_type": "stream",
     "text": [
      "INFO:gurobipy: 123   3.86623828e+10  3.86623807e+10  1.95e-08 5.96e-08  2.37e-04  1886s\n"
     ]
    },
    {
     "name": "stdout",
     "output_type": "stream",
     "text": [
      " 124   3.86623821e+10  3.86623807e+10  1.38e-08 2.42e-08  1.56e-04  1894s\n"
     ]
    },
    {
     "name": "stderr",
     "output_type": "stream",
     "text": [
      "INFO:gurobipy: 124   3.86623821e+10  3.86623807e+10  1.38e-08 2.42e-08  1.56e-04  1894s\n"
     ]
    },
    {
     "name": "stdout",
     "output_type": "stream",
     "text": [
      " 125   3.86623813e+10  3.86623808e+10  1.89e-08 1.02e-08  5.63e-05  1900s\n"
     ]
    },
    {
     "name": "stderr",
     "output_type": "stream",
     "text": [
      "INFO:gurobipy: 125   3.86623813e+10  3.86623808e+10  1.89e-08 1.02e-08  5.63e-05  1900s\n"
     ]
    },
    {
     "name": "stdout",
     "output_type": "stream",
     "text": [
      " 126   3.86623809e+10  3.86623808e+10  1.21e-08 2.98e-08  6.08e-06  1907s\n"
     ]
    },
    {
     "name": "stderr",
     "output_type": "stream",
     "text": [
      "INFO:gurobipy: 126   3.86623809e+10  3.86623808e+10  1.21e-08 2.98e-08  6.08e-06  1907s\n"
     ]
    },
    {
     "name": "stdout",
     "output_type": "stream",
     "text": [
      " 127   3.86623809e+10  3.86623808e+10  3.32e-08 8.38e-09  3.69e-07  1915s\n"
     ]
    },
    {
     "name": "stderr",
     "output_type": "stream",
     "text": [
      "INFO:gurobipy: 127   3.86623809e+10  3.86623808e+10  3.32e-08 8.38e-09  3.69e-07  1915s\n"
     ]
    },
    {
     "name": "stdout",
     "output_type": "stream",
     "text": [
      " 128   3.86623809e+10  3.86623809e+10  4.51e-08 4.10e-08  1.73e-08  1925s\n"
     ]
    },
    {
     "name": "stderr",
     "output_type": "stream",
     "text": [
      "INFO:gurobipy: 128   3.86623809e+10  3.86623809e+10  4.51e-08 4.10e-08  1.73e-08  1925s\n"
     ]
    },
    {
     "name": "stdout",
     "output_type": "stream",
     "text": [
      " 129   3.86623809e+10  3.86623809e+10  1.98e-07 1.00e-08  4.88e-11  1932s\n"
     ]
    },
    {
     "name": "stderr",
     "output_type": "stream",
     "text": [
      "INFO:gurobipy: 129   3.86623809e+10  3.86623809e+10  1.98e-07 1.00e-08  4.88e-11  1932s\n"
     ]
    },
    {
     "name": "stdout",
     "output_type": "stream",
     "text": [
      "\n"
     ]
    },
    {
     "name": "stderr",
     "output_type": "stream",
     "text": [
      "INFO:gurobipy:\n"
     ]
    },
    {
     "name": "stdout",
     "output_type": "stream",
     "text": [
      "Barrier solved model in 129 iterations and 1932.61 seconds (374.44 work units)\n"
     ]
    },
    {
     "name": "stderr",
     "output_type": "stream",
     "text": [
      "INFO:gurobipy:Barrier solved model in 129 iterations and 1932.61 seconds (374.44 work units)\n"
     ]
    },
    {
     "name": "stdout",
     "output_type": "stream",
     "text": [
      "Optimal objective 3.86623809e+10\n"
     ]
    },
    {
     "name": "stderr",
     "output_type": "stream",
     "text": [
      "INFO:gurobipy:Optimal objective 3.86623809e+10\n"
     ]
    },
    {
     "name": "stdout",
     "output_type": "stream",
     "text": [
      "\n"
     ]
    },
    {
     "name": "stderr",
     "output_type": "stream",
     "text": [
      "INFO:gurobipy:\n"
     ]
    },
    {
     "name": "stdout",
     "output_type": "stream",
     "text": [
      "Crossover log...\n"
     ]
    },
    {
     "name": "stderr",
     "output_type": "stream",
     "text": [
      "INFO:gurobipy:Crossover log...\n"
     ]
    },
    {
     "name": "stdout",
     "output_type": "stream",
     "text": [
      "\n"
     ]
    },
    {
     "name": "stderr",
     "output_type": "stream",
     "text": [
      "INFO:gurobipy:\n"
     ]
    },
    {
     "name": "stdout",
     "output_type": "stream",
     "text": [
      " 1539435 variables added to crossover basis                     1935s\n"
     ]
    },
    {
     "name": "stderr",
     "output_type": "stream",
     "text": [
      "INFO:gurobipy: 1539435 variables added to crossover basis                     1935s\n"
     ]
    },
    {
     "name": "stdout",
     "output_type": "stream",
     "text": [
      "\n"
     ]
    },
    {
     "name": "stderr",
     "output_type": "stream",
     "text": [
      "INFO:gurobipy:\n"
     ]
    },
    {
     "name": "stdout",
     "output_type": "stream",
     "text": [
      "   24339 DPushes remaining with DInf 0.0000000e+00              1937s\n"
     ]
    },
    {
     "name": "stderr",
     "output_type": "stream",
     "text": [
      "INFO:gurobipy:   24339 DPushes remaining with DInf 0.0000000e+00              1937s\n"
     ]
    },
    {
     "name": "stdout",
     "output_type": "stream",
     "text": [
      "    6516 DPushes remaining with DInf 0.0000000e+00              1942s\n"
     ]
    },
    {
     "name": "stderr",
     "output_type": "stream",
     "text": [
      "INFO:gurobipy:    6516 DPushes remaining with DInf 0.0000000e+00              1942s\n"
     ]
    },
    {
     "name": "stdout",
     "output_type": "stream",
     "text": [
      "    5228 DPushes remaining with DInf 0.0000000e+00              1951s\n"
     ]
    },
    {
     "name": "stderr",
     "output_type": "stream",
     "text": [
      "INFO:gurobipy:    5228 DPushes remaining with DInf 0.0000000e+00              1951s\n"
     ]
    },
    {
     "name": "stdout",
     "output_type": "stream",
     "text": [
      "    4547 DPushes remaining with DInf 0.0000000e+00              1959s\n"
     ]
    },
    {
     "name": "stderr",
     "output_type": "stream",
     "text": [
      "INFO:gurobipy:    4547 DPushes remaining with DInf 0.0000000e+00              1959s\n"
     ]
    },
    {
     "name": "stdout",
     "output_type": "stream",
     "text": [
      "    3866 DPushes remaining with DInf 0.0000000e+00              1968s\n"
     ]
    },
    {
     "name": "stderr",
     "output_type": "stream",
     "text": [
      "INFO:gurobipy:    3866 DPushes remaining with DInf 0.0000000e+00              1968s\n"
     ]
    },
    {
     "name": "stdout",
     "output_type": "stream",
     "text": [
      "    3185 DPushes remaining with DInf 0.0000000e+00              1977s\n"
     ]
    },
    {
     "name": "stderr",
     "output_type": "stream",
     "text": [
      "INFO:gurobipy:    3185 DPushes remaining with DInf 0.0000000e+00              1977s\n"
     ]
    },
    {
     "name": "stdout",
     "output_type": "stream",
     "text": [
      "    2504 DPushes remaining with DInf 0.0000000e+00              1984s\n"
     ]
    },
    {
     "name": "stderr",
     "output_type": "stream",
     "text": [
      "INFO:gurobipy:    2504 DPushes remaining with DInf 0.0000000e+00              1984s\n"
     ]
    },
    {
     "name": "stdout",
     "output_type": "stream",
     "text": [
      "    1823 DPushes remaining with DInf 0.0000000e+00              1991s\n"
     ]
    },
    {
     "name": "stderr",
     "output_type": "stream",
     "text": [
      "INFO:gurobipy:    1823 DPushes remaining with DInf 0.0000000e+00              1991s\n"
     ]
    },
    {
     "name": "stdout",
     "output_type": "stream",
     "text": [
      "    1142 DPushes remaining with DInf 0.0000000e+00              1997s\n"
     ]
    },
    {
     "name": "stderr",
     "output_type": "stream",
     "text": [
      "INFO:gurobipy:    1142 DPushes remaining with DInf 0.0000000e+00              1997s\n"
     ]
    },
    {
     "name": "stdout",
     "output_type": "stream",
     "text": [
      "     461 DPushes remaining with DInf 0.0000000e+00              2002s\n"
     ]
    },
    {
     "name": "stderr",
     "output_type": "stream",
     "text": [
      "INFO:gurobipy:     461 DPushes remaining with DInf 0.0000000e+00              2002s\n"
     ]
    },
    {
     "name": "stdout",
     "output_type": "stream",
     "text": [
      "     101 DPushes remaining with DInf 0.0000000e+00              2020s\n"
     ]
    },
    {
     "name": "stderr",
     "output_type": "stream",
     "text": [
      "INFO:gurobipy:     101 DPushes remaining with DInf 0.0000000e+00              2020s\n"
     ]
    },
    {
     "name": "stdout",
     "output_type": "stream",
     "text": [
      "       0 DPushes remaining with DInf 0.0000000e+00              2032s\n"
     ]
    },
    {
     "name": "stderr",
     "output_type": "stream",
     "text": [
      "INFO:gurobipy:       0 DPushes remaining with DInf 0.0000000e+00              2032s\n"
     ]
    },
    {
     "name": "stdout",
     "output_type": "stream",
     "text": [
      "Warning: Markowitz tolerance tightened to 0.5\n"
     ]
    },
    {
     "name": "stderr",
     "output_type": "stream",
     "text": [
      "INFO:gurobipy:Warning: Markowitz tolerance tightened to 0.5\n"
     ]
    },
    {
     "name": "stdout",
     "output_type": "stream",
     "text": [
      "\n"
     ]
    },
    {
     "name": "stderr",
     "output_type": "stream",
     "text": [
      "INFO:gurobipy:\n"
     ]
    },
    {
     "name": "stdout",
     "output_type": "stream",
     "text": [
      "  135399 PPushes remaining with PInf 0.0000000e+00              2032s\n"
     ]
    },
    {
     "name": "stderr",
     "output_type": "stream",
     "text": [
      "INFO:gurobipy:  135399 PPushes remaining with PInf 0.0000000e+00              2032s\n"
     ]
    },
    {
     "name": "stdout",
     "output_type": "stream",
     "text": [
      "   87606 PPushes remaining with PInf 3.6979036e-05              2120s\n"
     ]
    },
    {
     "name": "stderr",
     "output_type": "stream",
     "text": [
      "INFO:gurobipy:   87606 PPushes remaining with PInf 3.6979036e-05              2120s\n"
     ]
    },
    {
     "name": "stdout",
     "output_type": "stream",
     "text": [
      "   68392 PPushes remaining with PInf 3.6978571e-05              2180s\n"
     ]
    },
    {
     "name": "stderr",
     "output_type": "stream",
     "text": [
      "INFO:gurobipy:   68392 PPushes remaining with PInf 3.6978571e-05              2180s\n"
     ]
    },
    {
     "name": "stdout",
     "output_type": "stream",
     "text": [
      "   60543 PPushes remaining with PInf 3.6978570e-05              2215s\n"
     ]
    },
    {
     "name": "stderr",
     "output_type": "stream",
     "text": [
      "INFO:gurobipy:   60543 PPushes remaining with PInf 3.6978570e-05              2215s\n"
     ]
    },
    {
     "name": "stdout",
     "output_type": "stream",
     "text": [
      "   56551 PPushes remaining with PInf 3.6978543e-05              2240s\n"
     ]
    },
    {
     "name": "stderr",
     "output_type": "stream",
     "text": [
      "INFO:gurobipy:   56551 PPushes remaining with PInf 3.6978543e-05              2240s\n"
     ]
    },
    {
     "name": "stdout",
     "output_type": "stream",
     "text": [
      "   53379 PPushes remaining with PInf 0.0000000e+00              2260s\n"
     ]
    },
    {
     "name": "stderr",
     "output_type": "stream",
     "text": [
      "INFO:gurobipy:   53379 PPushes remaining with PInf 0.0000000e+00              2260s\n"
     ]
    },
    {
     "name": "stdout",
     "output_type": "stream",
     "text": [
      "   51383 PPushes remaining with PInf 0.0000000e+00              2276s\n"
     ]
    },
    {
     "name": "stderr",
     "output_type": "stream",
     "text": [
      "INFO:gurobipy:   51383 PPushes remaining with PInf 0.0000000e+00              2276s\n"
     ]
    },
    {
     "name": "stdout",
     "output_type": "stream",
     "text": [
      "   49739 PPushes remaining with PInf 0.0000000e+00              2290s\n"
     ]
    },
    {
     "name": "stderr",
     "output_type": "stream",
     "text": [
      "INFO:gurobipy:   49739 PPushes remaining with PInf 0.0000000e+00              2290s\n"
     ]
    },
    {
     "name": "stdout",
     "output_type": "stream",
     "text": [
      "   48523 PPushes remaining with PInf 0.0000000e+00              2301s\n"
     ]
    },
    {
     "name": "stderr",
     "output_type": "stream",
     "text": [
      "INFO:gurobipy:   48523 PPushes remaining with PInf 0.0000000e+00              2301s\n"
     ]
    },
    {
     "name": "stdout",
     "output_type": "stream",
     "text": [
      "   42198 PPushes remaining with PInf 0.0000000e+00              2306s\n"
     ]
    },
    {
     "name": "stderr",
     "output_type": "stream",
     "text": [
      "INFO:gurobipy:   42198 PPushes remaining with PInf 0.0000000e+00              2306s\n"
     ]
    },
    {
     "name": "stdout",
     "output_type": "stream",
     "text": [
      "   38998 PPushes remaining with PInf 0.0000000e+00              2311s\n"
     ]
    },
    {
     "name": "stderr",
     "output_type": "stream",
     "text": [
      "INFO:gurobipy:   38998 PPushes remaining with PInf 0.0000000e+00              2311s\n"
     ]
    },
    {
     "name": "stdout",
     "output_type": "stream",
     "text": [
      "   35617 PPushes remaining with PInf 0.0000000e+00              2316s\n"
     ]
    },
    {
     "name": "stderr",
     "output_type": "stream",
     "text": [
      "INFO:gurobipy:   35617 PPushes remaining with PInf 0.0000000e+00              2316s\n"
     ]
    },
    {
     "name": "stdout",
     "output_type": "stream",
     "text": [
      "   31722 PPushes remaining with PInf 0.0000000e+00              2321s\n"
     ]
    },
    {
     "name": "stderr",
     "output_type": "stream",
     "text": [
      "INFO:gurobipy:   31722 PPushes remaining with PInf 0.0000000e+00              2321s\n"
     ]
    },
    {
     "name": "stdout",
     "output_type": "stream",
     "text": [
      "   26263 PPushes remaining with PInf 0.0000000e+00              2326s\n"
     ]
    },
    {
     "name": "stderr",
     "output_type": "stream",
     "text": [
      "INFO:gurobipy:   26263 PPushes remaining with PInf 0.0000000e+00              2326s\n"
     ]
    },
    {
     "name": "stdout",
     "output_type": "stream",
     "text": [
      "   21787 PPushes remaining with PInf 0.0000000e+00              2330s\n"
     ]
    },
    {
     "name": "stderr",
     "output_type": "stream",
     "text": [
      "INFO:gurobipy:   21787 PPushes remaining with PInf 0.0000000e+00              2330s\n"
     ]
    },
    {
     "name": "stdout",
     "output_type": "stream",
     "text": [
      "   10633 PPushes remaining with PInf 0.0000000e+00              2338s\n"
     ]
    },
    {
     "name": "stderr",
     "output_type": "stream",
     "text": [
      "INFO:gurobipy:   10633 PPushes remaining with PInf 0.0000000e+00              2338s\n"
     ]
    },
    {
     "name": "stdout",
     "output_type": "stream",
     "text": [
      "    3930 PPushes remaining with PInf 0.0000000e+00              2343s\n"
     ]
    },
    {
     "name": "stderr",
     "output_type": "stream",
     "text": [
      "INFO:gurobipy:    3930 PPushes remaining with PInf 0.0000000e+00              2343s\n"
     ]
    },
    {
     "name": "stdout",
     "output_type": "stream",
     "text": [
      "    2488 PPushes remaining with PInf 0.0000000e+00              2345s\n"
     ]
    },
    {
     "name": "stderr",
     "output_type": "stream",
     "text": [
      "INFO:gurobipy:    2488 PPushes remaining with PInf 0.0000000e+00              2345s\n"
     ]
    },
    {
     "name": "stdout",
     "output_type": "stream",
     "text": [
      "       0 PPushes remaining with PInf 0.0000000e+00              2351s\n"
     ]
    },
    {
     "name": "stderr",
     "output_type": "stream",
     "text": [
      "INFO:gurobipy:       0 PPushes remaining with PInf 0.0000000e+00              2351s\n"
     ]
    },
    {
     "name": "stdout",
     "output_type": "stream",
     "text": [
      "\n"
     ]
    },
    {
     "name": "stderr",
     "output_type": "stream",
     "text": [
      "INFO:gurobipy:\n"
     ]
    },
    {
     "name": "stdout",
     "output_type": "stream",
     "text": [
      "  Push phase complete: Pinf 0.0000000e+00, Dinf 9.8566524e-09   2352s\n"
     ]
    },
    {
     "name": "stderr",
     "output_type": "stream",
     "text": [
      "INFO:gurobipy:  Push phase complete: Pinf 0.0000000e+00, Dinf 9.8566524e-09   2352s\n"
     ]
    },
    {
     "name": "stdout",
     "output_type": "stream",
     "text": [
      "\n"
     ]
    },
    {
     "name": "stderr",
     "output_type": "stream",
     "text": [
      "INFO:gurobipy:\n"
     ]
    },
    {
     "name": "stdout",
     "output_type": "stream",
     "text": [
      "\n"
     ]
    },
    {
     "name": "stderr",
     "output_type": "stream",
     "text": [
      "INFO:gurobipy:\n"
     ]
    },
    {
     "name": "stdout",
     "output_type": "stream",
     "text": [
      "Solved with barrier\n"
     ]
    },
    {
     "name": "stderr",
     "output_type": "stream",
     "text": [
      "INFO:gurobipy:Solved with barrier\n"
     ]
    },
    {
     "name": "stdout",
     "output_type": "stream",
     "text": [
      "Iteration    Objective       Primal Inf.    Dual Inf.      Time\n"
     ]
    },
    {
     "name": "stderr",
     "output_type": "stream",
     "text": [
      "INFO:gurobipy:Iteration    Objective       Primal Inf.    Dual Inf.      Time\n"
     ]
    },
    {
     "name": "stdout",
     "output_type": "stream",
     "text": [
      "  159639    3.8662381e+10   0.000000e+00   0.000000e+00   2363s\n"
     ]
    },
    {
     "name": "stderr",
     "output_type": "stream",
     "text": [
      "INFO:gurobipy:  159639    3.8662381e+10   0.000000e+00   0.000000e+00   2363s\n"
     ]
    },
    {
     "name": "stdout",
     "output_type": "stream",
     "text": [
      "\n"
     ]
    },
    {
     "name": "stderr",
     "output_type": "stream",
     "text": [
      "INFO:gurobipy:\n"
     ]
    },
    {
     "name": "stdout",
     "output_type": "stream",
     "text": [
      "Solved in 159639 iterations and 2362.65 seconds (532.98 work units)\n"
     ]
    },
    {
     "name": "stderr",
     "output_type": "stream",
     "text": [
      "INFO:gurobipy:Solved in 159639 iterations and 2362.65 seconds (532.98 work units)\n"
     ]
    },
    {
     "name": "stdout",
     "output_type": "stream",
     "text": [
      "Optimal objective  3.866238085e+10\n"
     ]
    },
    {
     "name": "stderr",
     "output_type": "stream",
     "text": [
      "INFO:gurobipy:Optimal objective  3.866238085e+10\n",
      "INFO:linopy.constants: Optimization successful: \n",
      "Status: ok\n",
      "Termination condition: optimal\n",
      "Solution: 4888226 primals, 10258230 duals\n",
      "Objective: 3.87e+10\n",
      "Solver model: available\n",
      "Solver message: 2\n",
      "\n",
      "/opt/anaconda3/lib/python3.11/site-packages/pypsa/optimization/optimize.py:357: FutureWarning:\n",
      "\n",
      "A value is trying to be set on a copy of a DataFrame or Series through chained assignment using an inplace method.\n",
      "The behavior will change in pandas 3.0. This inplace method will never work because the intermediate object on which we are setting values always behaves as a copy.\n",
      "\n",
      "For example, when doing 'df[col].method(value, inplace=True)', try using 'df.method({col: value}, inplace=True)' or df[col] = df[col].method(value) instead, to perform the operation inplace on the original object.\n",
      "\n",
      "\n",
      "\n",
      "INFO:pypsa.optimization.optimize:The shadow-prices of the constraints Generator-fix-p-lower, Generator-fix-p-upper, Generator-ext-p-lower, Generator-ext-p-upper, Line-fix-s-lower, Line-fix-s-upper, Link-fix-p-lower, Link-fix-p-upper, StorageUnit-fix-p_dispatch-lower, StorageUnit-fix-p_dispatch-upper, StorageUnit-fix-p_store-lower, StorageUnit-fix-p_store-upper, StorageUnit-fix-state_of_charge-lower, StorageUnit-fix-state_of_charge-upper, Kirchhoff-Voltage-Law, StorageUnit-energy_balance were not assigned to the network.\n"
     ]
    },
    {
     "data": {
      "text/plain": [
       "('ok', 'optimal')"
      ]
     },
     "execution_count": 1,
     "metadata": {},
     "output_type": "execute_result"
    }
   ],
   "source": [
    "import pypsa\n",
    "\n",
    "n = pypsa.Network(\"pypsa-eur/networks/networks/elec_s_37.nc\")\n",
    "\n",
    "n.optimize(solver_name='gurobi')"
   ]
  },
  {
   "cell_type": "code",
   "execution_count": 2,
   "id": "07a4dee4-7c33-4d76-904a-684f05d12c0c",
   "metadata": {},
   "outputs": [
    {
     "name": "stdout",
     "output_type": "stream",
     "text": [
      "offwind-ac    3.472715e+07\n",
      "oil           0.000000e+00\n",
      "onwind        4.132077e+08\n",
      "ror           1.691531e+08\n",
      "solar         3.507215e+08\n",
      "CCGT          1.288636e+08\n",
      "OCGT          5.831005e+02\n",
      "coal          4.280069e+08\n",
      "biomass       1.795842e+08\n",
      "nuclear       7.223798e+08\n",
      "offwind-dc    6.646614e+07\n",
      "lignite       3.964514e+08\n",
      "dtype: float64\n"
     ]
    },
    {
     "name": "stderr",
     "output_type": "stream",
     "text": [
      "/var/folders/gy/z7x44kpn24d18spbg3w6_5fr0000gn/T/ipykernel_2299/1948439273.py:11: FutureWarning:\n",
      "\n",
      "Setting an item of incompatible dtype is deprecated and will raise an error in a future version of pandas. Value '177249.7157592466' has dtype incompatible with int64, please explicitly cast to a compatible dtype first.\n",
      "\n"
     ]
    }
   ],
   "source": [
    "import pandas as pd\n",
    "import matplotlib.pyplot as plt\n",
    "\n",
    "generation_data = n.generators_t.p\n",
    "\n",
    "carrier_generation = pd.Series(0, index=n.generators.carrier.unique())\n",
    "\n",
    "for gen_id, generator in n.generators.iterrows():\n",
    "    carrier = generator['carrier']\n",
    "    \n",
    "    carrier_generation[carrier] += generation_data[gen_id].sum()\n",
    "\n",
    "print(carrier_generation)"
   ]
  },
  {
   "cell_type": "code",
   "execution_count": 3,
   "id": "805e95a7-3b71-454d-9689-124a05de45a9",
   "metadata": {},
   "outputs": [
    {
     "data": {
      "image/png": "[encoded data removed]",
      "text/plain": [
       "<Figure size 1000x600 with 1 Axes>"
      ]
     },
     "metadata": {},
     "output_type": "display_data"
    }
   ],
   "source": [
    "carrier_generation.plot(kind='bar', color='skyblue', figsize=(10, 6))\n",
    "plt.title('Total Generation by Carrier')\n",
    "plt.xlabel('Carrier')\n",
    "plt.ylabel('Total Generation (MWh)')\n",
    "plt.xticks(rotation=45)  \n",
    "plt.tight_layout()\n",
    "plt.show()"
   ]
  },
  {
   "cell_type": "code",
   "execution_count": 4,
   "id": "3343ee15-beae-4b1c-a35f-a0afa63b3566",
   "metadata": {},
   "outputs": [
    {
     "name": "stderr",
     "output_type": "stream",
     "text": [
      "WARNING:pypsa.components:Carrier has no attribute description, ignoring this passed value.\n",
      "INFO:linopy.model: Solve problem using Gurobi solver\n",
      "INFO:linopy.io:Writing objective.\n",
      "Writing constraints.: 100%|\u001b[38;2;128;191;255m█████████████████████\u001b[0m| 20/20 [00:37<00:00,  1.87s/it]\u001b[0m\n",
      "Writing continuous variables.: 100%|\u001b[38;2;128;191;255m██████████████\u001b[0m| 9/9 [00:06<00:00,  1.32it/s]\u001b[0m\n",
      "INFO:linopy.io: Writing time: 46.91s\n"
     ]
    },
    {
     "name": "stdout",
     "output_type": "stream",
     "text": [
      "Read LP format model from file /private/var/folders/gy/z7x44kpn24d18spbg3w6_5fr0000gn/T/linopy-problem-zmwxsuz6.lp\n"
     ]
    },
    {
     "name": "stderr",
     "output_type": "stream",
     "text": [
      "INFO:gurobipy:Read LP format model from file /private/var/folders/gy/z7x44kpn24d18spbg3w6_5fr0000gn/T/linopy-problem-zmwxsuz6.lp\n"
     ]
    },
    {
     "name": "stdout",
     "output_type": "stream",
     "text": [
      "Reading time = 20.01 seconds\n"
     ]
    },
    {
     "name": "stderr",
     "output_type": "stream",
     "text": [
      "INFO:gurobipy:Reading time = 20.01 seconds\n"
     ]
    },
    {
     "name": "stdout",
     "output_type": "stream",
     "text": [
      "obj: 10906507 rows, 5212383 columns, 19111817 nonzeros\n"
     ]
    },
    {
     "name": "stderr",
     "output_type": "stream",
     "text": [
      "INFO:gurobipy:obj: 10906507 rows, 5212383 columns, 19111817 nonzeros\n"
     ]
    },
    {
     "name": "stdout",
     "output_type": "stream",
     "text": [
      "Gurobi Optimizer version 11.0.2 build v11.0.2rc0 (mac64[arm] - Darwin 22.6.0 22G74)\n"
     ]
    },
    {
     "name": "stderr",
     "output_type": "stream",
     "text": [
      "INFO:gurobipy:Gurobi Optimizer version 11.0.2 build v11.0.2rc0 (mac64[arm] - Darwin 22.6.0 22G74)\n"
     ]
    },
    {
     "name": "stdout",
     "output_type": "stream",
     "text": [
      "\n"
     ]
    },
    {
     "name": "stderr",
     "output_type": "stream",
     "text": [
      "INFO:gurobipy:\n"
     ]
    },
    {
     "name": "stdout",
     "output_type": "stream",
     "text": [
      "CPU model: Apple M1\n"
     ]
    },
    {
     "name": "stderr",
     "output_type": "stream",
     "text": [
      "INFO:gurobipy:CPU model: Apple M1\n"
     ]
    },
    {
     "name": "stdout",
     "output_type": "stream",
     "text": [
      "Thread count: 8 physical cores, 8 logical processors, using up to 8 threads\n"
     ]
    },
    {
     "name": "stderr",
     "output_type": "stream",
     "text": [
      "INFO:gurobipy:Thread count: 8 physical cores, 8 logical processors, using up to 8 threads\n"
     ]
    },
    {
     "name": "stdout",
     "output_type": "stream",
     "text": [
      "\n"
     ]
    },
    {
     "name": "stderr",
     "output_type": "stream",
     "text": [
      "INFO:gurobipy:\n"
     ]
    },
    {
     "name": "stdout",
     "output_type": "stream",
     "text": [
      "Optimize a model with 10906507 rows, 5212383 columns and 19111817 nonzeros\n"
     ]
    },
    {
     "name": "stderr",
     "output_type": "stream",
     "text": [
      "INFO:gurobipy:Optimize a model with 10906507 rows, 5212383 columns and 19111817 nonzeros\n"
     ]
    },
    {
     "name": "stdout",
     "output_type": "stream",
     "text": [
      "Model fingerprint: 0xe1b160ee\n"
     ]
    },
    {
     "name": "stderr",
     "output_type": "stream",
     "text": [
      "INFO:gurobipy:Model fingerprint: 0xe1b160ee\n"
     ]
    },
    {
     "name": "stdout",
     "output_type": "stream",
     "text": [
      "Coefficient statistics:\n"
     ]
    },
    {
     "name": "stderr",
     "output_type": "stream",
     "text": [
      "INFO:gurobipy:Coefficient statistics:\n"
     ]
    },
    {
     "name": "stdout",
     "output_type": "stream",
     "text": [
      "  Matrix range     [3e-08, 3e+02]\n"
     ]
    },
    {
     "name": "stderr",
     "output_type": "stream",
     "text": [
      "INFO:gurobipy:  Matrix range     [3e-08, 3e+02]\n"
     ]
    },
    {
     "name": "stdout",
     "output_type": "stream",
     "text": [
      "  Objective range  [1e-02, 2e+05]\n"
     ]
    },
    {
     "name": "stderr",
     "output_type": "stream",
     "text": [
      "INFO:gurobipy:  Objective range  [1e-02, 2e+05]\n"
     ]
    },
    {
     "name": "stdout",
     "output_type": "stream",
     "text": [
      "  Bounds range     [9e-02, 3e+10]\n"
     ]
    },
    {
     "name": "stderr",
     "output_type": "stream",
     "text": [
      "INFO:gurobipy:  Bounds range     [9e-02, 3e+10]\n"
     ]
    },
    {
     "name": "stdout",
     "output_type": "stream",
     "text": [
      "  RHS range        [9e-02, 8e+07]\n"
     ]
    },
    {
     "name": "stderr",
     "output_type": "stream",
     "text": [
      "INFO:gurobipy:  RHS range        [9e-02, 8e+07]\n"
     ]
    },
    {
     "name": "stdout",
     "output_type": "stream",
     "text": [
      "Warning: Model contains large bounds\n"
     ]
    },
    {
     "name": "stderr",
     "output_type": "stream",
     "text": [
      "INFO:gurobipy:Warning: Model contains large bounds\n"
     ]
    },
    {
     "name": "stdout",
     "output_type": "stream",
     "text": [
      "         Consider reformulating model or setting NumericFocus parameter\n"
     ]
    },
    {
     "name": "stderr",
     "output_type": "stream",
     "text": [
      "INFO:gurobipy:         Consider reformulating model or setting NumericFocus parameter\n"
     ]
    },
    {
     "name": "stdout",
     "output_type": "stream",
     "text": [
      "         to avoid numerical issues.\n"
     ]
    },
    {
     "name": "stderr",
     "output_type": "stream",
     "text": [
      "INFO:gurobipy:         to avoid numerical issues.\n"
     ]
    },
    {
     "name": "stdout",
     "output_type": "stream",
     "text": [
      "Presolve removed 8571349 rows and 722487 columns (presolve time = 5s) ...\n"
     ]
    },
    {
     "name": "stderr",
     "output_type": "stream",
     "text": [
      "INFO:gurobipy:Presolve removed 8571349 rows and 722487 columns (presolve time = 5s) ...\n"
     ]
    },
    {
     "name": "stdout",
     "output_type": "stream",
     "text": [
      "Presolve removed 8606389 rows and 757527 columns (presolve time = 10s) ...\n"
     ]
    },
    {
     "name": "stderr",
     "output_type": "stream",
     "text": [
      "INFO:gurobipy:Presolve removed 8606389 rows and 757527 columns (presolve time = 10s) ...\n"
     ]
    },
    {
     "name": "stdout",
     "output_type": "stream",
     "text": [
      "Presolve removed 8606520 rows and 808395 columns\n"
     ]
    },
    {
     "name": "stderr",
     "output_type": "stream",
     "text": [
      "INFO:gurobipy:Presolve removed 8606520 rows and 808395 columns\n"
     ]
    },
    {
     "name": "stdout",
     "output_type": "stream",
     "text": [
      "Presolve time: 15.01s\n"
     ]
    },
    {
     "name": "stderr",
     "output_type": "stream",
     "text": [
      "INFO:gurobipy:Presolve time: 15.01s\n"
     ]
    },
    {
     "name": "stdout",
     "output_type": "stream",
     "text": [
      "Presolved: 2299987 rows, 4403988 columns, 9397980 nonzeros\n"
     ]
    },
    {
     "name": "stderr",
     "output_type": "stream",
     "text": [
      "INFO:gurobipy:Presolved: 2299987 rows, 4403988 columns, 9397980 nonzeros\n"
     ]
    },
    {
     "name": "stdout",
     "output_type": "stream",
     "text": [
      "\n"
     ]
    },
    {
     "name": "stderr",
     "output_type": "stream",
     "text": [
      "INFO:gurobipy:\n"
     ]
    },
    {
     "name": "stdout",
     "output_type": "stream",
     "text": [
      "Concurrent LP optimizer: primal simplex, dual simplex, and barrier\n"
     ]
    },
    {
     "name": "stderr",
     "output_type": "stream",
     "text": [
      "INFO:gurobipy:Concurrent LP optimizer: primal simplex, dual simplex, and barrier\n"
     ]
    },
    {
     "name": "stdout",
     "output_type": "stream",
     "text": [
      "Showing barrier log only...\n"
     ]
    },
    {
     "name": "stderr",
     "output_type": "stream",
     "text": [
      "INFO:gurobipy:Showing barrier log only...\n"
     ]
    },
    {
     "name": "stdout",
     "output_type": "stream",
     "text": [
      "\n"
     ]
    },
    {
     "name": "stderr",
     "output_type": "stream",
     "text": [
      "INFO:gurobipy:\n"
     ]
    },
    {
     "name": "stdout",
     "output_type": "stream",
     "text": [
      "Elapsed ordering time = 17s\n"
     ]
    },
    {
     "name": "stderr",
     "output_type": "stream",
     "text": [
      "INFO:gurobipy:Elapsed ordering time = 17s\n"
     ]
    },
    {
     "name": "stdout",
     "output_type": "stream",
     "text": [
      "Elapsed ordering time = 20s\n"
     ]
    },
    {
     "name": "stderr",
     "output_type": "stream",
     "text": [
      "INFO:gurobipy:Elapsed ordering time = 20s\n"
     ]
    },
    {
     "name": "stdout",
     "output_type": "stream",
     "text": [
      "Ordering time: 25.81s\n"
     ]
    },
    {
     "name": "stderr",
     "output_type": "stream",
     "text": [
      "INFO:gurobipy:Ordering time: 25.81s\n"
     ]
    },
    {
     "name": "stdout",
     "output_type": "stream",
     "text": [
      "\n"
     ]
    },
    {
     "name": "stderr",
     "output_type": "stream",
     "text": [
      "INFO:gurobipy:\n"
     ]
    },
    {
     "name": "stdout",
     "output_type": "stream",
     "text": [
      "Barrier statistics:\n"
     ]
    },
    {
     "name": "stderr",
     "output_type": "stream",
     "text": [
      "INFO:gurobipy:Barrier statistics:\n"
     ]
    },
    {
     "name": "stdout",
     "output_type": "stream",
     "text": [
      " Dense cols : 182\n"
     ]
    },
    {
     "name": "stderr",
     "output_type": "stream",
     "text": [
      "INFO:gurobipy: Dense cols : 182\n"
     ]
    },
    {
     "name": "stdout",
     "output_type": "stream",
     "text": [
      " AA' NZ     : 5.143e+06\n"
     ]
    },
    {
     "name": "stderr",
     "output_type": "stream",
     "text": [
      "INFO:gurobipy: AA' NZ     : 5.143e+06\n"
     ]
    },
    {
     "name": "stdout",
     "output_type": "stream",
     "text": [
      " Factor NZ  : 7.259e+07 (roughly 3.0 GB of memory)\n"
     ]
    },
    {
     "name": "stderr",
     "output_type": "stream",
     "text": [
      "INFO:gurobipy: Factor NZ  : 7.259e+07 (roughly 3.0 GB of memory)\n"
     ]
    },
    {
     "name": "stdout",
     "output_type": "stream",
     "text": [
      " Factor Ops : 1.451e+10 (roughly 1 second per iteration)\n"
     ]
    },
    {
     "name": "stderr",
     "output_type": "stream",
     "text": [
      "INFO:gurobipy: Factor Ops : 1.451e+10 (roughly 1 second per iteration)\n"
     ]
    },
    {
     "name": "stdout",
     "output_type": "stream",
     "text": [
      " Threads    : 6\n"
     ]
    },
    {
     "name": "stderr",
     "output_type": "stream",
     "text": [
      "INFO:gurobipy: Threads    : 6\n"
     ]
    },
    {
     "name": "stdout",
     "output_type": "stream",
     "text": [
      "\n"
     ]
    },
    {
     "name": "stderr",
     "output_type": "stream",
     "text": [
      "INFO:gurobipy:\n"
     ]
    },
    {
     "name": "stdout",
     "output_type": "stream",
     "text": [
      "                  Objective                Residual\n"
     ]
    },
    {
     "name": "stderr",
     "output_type": "stream",
     "text": [
      "INFO:gurobipy:                  Objective                Residual\n"
     ]
    },
    {
     "name": "stdout",
     "output_type": "stream",
     "text": [
      "Iter       Primal          Dual         Primal    Dual     Compl     Time\n"
     ]
    },
    {
     "name": "stderr",
     "output_type": "stream",
     "text": [
      "INFO:gurobipy:Iter       Primal          Dual         Primal    Dual     Compl     Time\n"
     ]
    },
    {
     "name": "stdout",
     "output_type": "stream",
     "text": [
      "   0   1.09041079e+14 -9.98181528e+17  5.08e+06 4.90e+02  3.71e+11    50s\n"
     ]
    },
    {
     "name": "stderr",
     "output_type": "stream",
     "text": [
      "INFO:gurobipy:   0   1.09041079e+14 -9.98181528e+17  5.08e+06 4.90e+02  3.71e+11    50s\n"
     ]
    },
    {
     "name": "stdout",
     "output_type": "stream",
     "text": [
      "   1   1.13913675e+14 -5.70881725e+17  4.64e+06 2.82e+05  2.85e+11    56s\n"
     ]
    },
    {
     "name": "stderr",
     "output_type": "stream",
     "text": [
      "INFO:gurobipy:   1   1.13913675e+14 -5.70881725e+17  4.64e+06 2.82e+05  2.85e+11    56s\n"
     ]
    },
    {
     "name": "stdout",
     "output_type": "stream",
     "text": [
      "   2   1.17045814e+14 -2.78248427e+17  3.88e+06 1.26e+05  2.12e+11    63s\n"
     ]
    },
    {
     "name": "stderr",
     "output_type": "stream",
     "text": [
      "INFO:gurobipy:   2   1.17045814e+14 -2.78248427e+17  3.88e+06 1.26e+05  2.12e+11    63s\n"
     ]
    },
    {
     "name": "stdout",
     "output_type": "stream",
     "text": [
      "   3   5.75704885e+13 -7.01912988e+16  2.55e+06 2.03e+04  1.31e+11    74s\n"
     ]
    },
    {
     "name": "stderr",
     "output_type": "stream",
     "text": [
      "INFO:gurobipy:   3   5.75704885e+13 -7.01912988e+16  2.55e+06 2.03e+04  1.31e+11    74s\n"
     ]
    },
    {
     "name": "stdout",
     "output_type": "stream",
     "text": [
      "   4   5.74112369e+12 -1.62799524e+16  1.74e+05 1.03e+03  9.89e+09    87s\n"
     ]
    },
    {
     "name": "stderr",
     "output_type": "stream",
     "text": [
      "INFO:gurobipy:   4   5.74112369e+12 -1.62799524e+16  1.74e+05 1.03e+03  9.89e+09    87s\n"
     ]
    },
    {
     "name": "stdout",
     "output_type": "stream",
     "text": [
      "   5   3.01090871e+12 -7.77356752e+15  3.94e+04 1.68e+02  2.50e+09    96s\n"
     ]
    },
    {
     "name": "stderr",
     "output_type": "stream",
     "text": [
      "INFO:gurobipy:   5   3.01090871e+12 -7.77356752e+15  3.94e+04 1.68e+02  2.50e+09    96s\n"
     ]
    },
    {
     "name": "stdout",
     "output_type": "stream",
     "text": [
      "   6   2.63113858e+12 -3.56136416e+15  1.06e+04 2.91e+01  7.40e+08   106s\n"
     ]
    },
    {
     "name": "stderr",
     "output_type": "stream",
     "text": [
      "INFO:gurobipy:   6   2.63113858e+12 -3.56136416e+15  1.06e+04 2.91e+01  7.40e+08   106s\n"
     ]
    },
    {
     "name": "stdout",
     "output_type": "stream",
     "text": [
      "   7   2.55938758e+12 -1.16349557e+15  2.41e+03 3.03e+00  1.76e+08   119s\n"
     ]
    },
    {
     "name": "stderr",
     "output_type": "stream",
     "text": [
      "INFO:gurobipy:   7   2.55938758e+12 -1.16349557e+15  2.41e+03 3.03e+00  1.76e+08   119s\n"
     ]
    },
    {
     "name": "stdout",
     "output_type": "stream",
     "text": [
      "   8   2.03584699e+12 -2.43929202e+14  4.40e+02 8.70e-02  3.01e+07   133s\n"
     ]
    },
    {
     "name": "stderr",
     "output_type": "stream",
     "text": [
      "INFO:gurobipy:   8   2.03584699e+12 -2.43929202e+14  4.40e+02 8.70e-02  3.01e+07   133s\n"
     ]
    },
    {
     "name": "stdout",
     "output_type": "stream",
     "text": [
      "   9   1.18503858e+12 -8.37726431e+13  4.88e+01 4.99e-06  8.70e+06   143s\n"
     ]
    },
    {
     "name": "stderr",
     "output_type": "stream",
     "text": [
      "INFO:gurobipy:   9   1.18503858e+12 -8.37726431e+13  4.88e+01 4.99e-06  8.70e+06   143s\n"
     ]
    },
    {
     "name": "stdout",
     "output_type": "stream",
     "text": [
      "  10   7.36182682e+11 -3.70146980e+13  1.29e+01 2.67e-06  3.76e+06   151s\n"
     ]
    },
    {
     "name": "stderr",
     "output_type": "stream",
     "text": [
      "INFO:gurobipy:  10   7.36182682e+11 -3.70146980e+13  1.29e+01 2.67e-06  3.76e+06   151s\n"
     ]
    },
    {
     "name": "stdout",
     "output_type": "stream",
     "text": [
      "  11   5.33536559e+11 -1.37422273e+13  3.60e+00 3.04e-04  1.41e+06   161s\n"
     ]
    },
    {
     "name": "stderr",
     "output_type": "stream",
     "text": [
      "INFO:gurobipy:  11   5.33536559e+11 -1.37422273e+13  3.60e+00 3.04e-04  1.41e+06   161s\n"
     ]
    },
    {
     "name": "stdout",
     "output_type": "stream",
     "text": [
      "  12   3.63263524e+11 -5.67006611e+12  1.03e+00 2.10e-07  5.93e+05   169s\n"
     ]
    },
    {
     "name": "stderr",
     "output_type": "stream",
     "text": [
      "INFO:gurobipy:  12   3.63263524e+11 -5.67006611e+12  1.03e+00 2.10e-07  5.93e+05   169s\n"
     ]
    },
    {
     "name": "stdout",
     "output_type": "stream",
     "text": [
      "  13   3.11184499e+11 -2.25687907e+12  7.39e-01 1.77e-07  2.53e+05   180s\n"
     ]
    },
    {
     "name": "stderr",
     "output_type": "stream",
     "text": [
      "INFO:gurobipy:  13   3.11184499e+11 -2.25687907e+12  7.39e-01 1.77e-07  2.53e+05   180s\n"
     ]
    },
    {
     "name": "stdout",
     "output_type": "stream",
     "text": [
      "  14   2.66537115e+11 -8.01761011e+11  5.87e-01 5.43e-07  1.05e+05   193s\n"
     ]
    },
    {
     "name": "stderr",
     "output_type": "stream",
     "text": [
      "INFO:gurobipy:  14   2.66537115e+11 -8.01761011e+11  5.87e-01 5.43e-07  1.05e+05   193s\n"
     ]
    },
    {
     "name": "stdout",
     "output_type": "stream",
     "text": [
      "  15   1.68094666e+11 -3.88708123e+11  3.26e-01 2.50e-07  5.47e+04   205s\n"
     ]
    },
    {
     "name": "stderr",
     "output_type": "stream",
     "text": [
      "INFO:gurobipy:  15   1.68094666e+11 -3.88708123e+11  3.26e-01 2.50e-07  5.47e+04   205s\n"
     ]
    },
    {
     "name": "stdout",
     "output_type": "stream",
     "text": [
      "  16   1.58915614e+11 -3.63664066e+11  2.99e-01 2.35e-07  5.14e+04   220s\n"
     ]
    },
    {
     "name": "stderr",
     "output_type": "stream",
     "text": [
      "INFO:gurobipy:  16   1.58915614e+11 -3.63664066e+11  2.99e-01 2.35e-07  5.14e+04   220s\n"
     ]
    },
    {
     "name": "stdout",
     "output_type": "stream",
     "text": [
      "  17   1.40701863e+11 -2.97860003e+11  2.60e-01 1.86e-07  4.31e+04  2371s\n"
     ]
    },
    {
     "name": "stderr",
     "output_type": "stream",
     "text": [
      "INFO:gurobipy:  17   1.40701863e+11 -2.97860003e+11  2.60e-01 1.86e-07  4.31e+04  2371s\n"
     ]
    },
    {
     "name": "stdout",
     "output_type": "stream",
     "text": [
      "  18   1.26752213e+11 -1.58122900e+11  2.35e-01 7.51e-08  2.80e+04  2386s\n"
     ]
    },
    {
     "name": "stderr",
     "output_type": "stream",
     "text": [
      "INFO:gurobipy:  18   1.26752213e+11 -1.58122900e+11  2.35e-01 7.51e-08  2.80e+04  2386s\n"
     ]
    },
    {
     "name": "stdout",
     "output_type": "stream",
     "text": [
      "  19   8.80369836e+10 -9.06500245e+10  1.63e-01 4.81e-08  1.76e+04  2395s\n"
     ]
    },
    {
     "name": "stderr",
     "output_type": "stream",
     "text": [
      "INFO:gurobipy:  19   8.80369836e+10 -9.06500245e+10  1.63e-01 4.81e-08  1.76e+04  2395s\n"
     ]
    },
    {
     "name": "stdout",
     "output_type": "stream",
     "text": [
      "  20   6.30419953e+10 -4.53183133e+10  1.22e-01 7.45e-08  1.06e+04  2407s\n"
     ]
    },
    {
     "name": "stderr",
     "output_type": "stream",
     "text": [
      "INFO:gurobipy:  20   6.30419953e+10 -4.53183133e+10  1.22e-01 7.45e-08  1.06e+04  2407s\n"
     ]
    },
    {
     "name": "stdout",
     "output_type": "stream",
     "text": [
      "  21   4.51388225e+10 -1.53914517e+10  9.16e-02 7.40e-06  5.95e+03  2422s\n"
     ]
    },
    {
     "name": "stderr",
     "output_type": "stream",
     "text": [
      "INFO:gurobipy:  21   4.51388225e+10 -1.53914517e+10  9.16e-02 7.40e-06  5.95e+03  2422s\n"
     ]
    },
    {
     "name": "stdout",
     "output_type": "stream",
     "text": [
      "  22   3.30778711e+10 -7.48011482e+09  7.07e-02 2.55e-05  3.98e+03  2435s\n"
     ]
    },
    {
     "name": "stderr",
     "output_type": "stream",
     "text": [
      "INFO:gurobipy:  22   3.30778711e+10 -7.48011482e+09  7.07e-02 2.55e-05  3.98e+03  2435s\n"
     ]
    },
    {
     "name": "stdout",
     "output_type": "stream",
     "text": [
      "  23   2.70829961e+10 -3.71923550e+09  5.81e-02 1.17e-04  3.02e+03  2444s\n"
     ]
    },
    {
     "name": "stderr",
     "output_type": "stream",
     "text": [
      "INFO:gurobipy:  23   2.70829961e+10 -3.71923550e+09  5.81e-02 1.17e-04  3.02e+03  2444s\n"
     ]
    },
    {
     "name": "stdout",
     "output_type": "stream",
     "text": [
      "  24   2.02343502e+10 -2.59070831e+09  4.36e-02 1.13e-04  2.24e+03  2452s\n"
     ]
    },
    {
     "name": "stderr",
     "output_type": "stream",
     "text": [
      "INFO:gurobipy:  24   2.02343502e+10 -2.59070831e+09  4.36e-02 1.13e-04  2.24e+03  2452s\n"
     ]
    },
    {
     "name": "stdout",
     "output_type": "stream",
     "text": [
      "  25   1.64210597e+10 -1.73115047e+09  3.53e-02 7.47e-05  1.78e+03  2459s\n"
     ]
    },
    {
     "name": "stderr",
     "output_type": "stream",
     "text": [
      "INFO:gurobipy:  25   1.64210597e+10 -1.73115047e+09  3.53e-02 7.47e-05  1.78e+03  2459s\n"
     ]
    },
    {
     "name": "stdout",
     "output_type": "stream",
     "text": [
      "  26   1.36396345e+10 -1.30853490e+09  2.90e-02 6.13e-05  1.47e+03  2466s\n"
     ]
    },
    {
     "name": "stderr",
     "output_type": "stream",
     "text": [
      "INFO:gurobipy:  26   1.36396345e+10 -1.30853490e+09  2.90e-02 6.13e-05  1.47e+03  2466s\n"
     ]
    },
    {
     "name": "stdout",
     "output_type": "stream",
     "text": [
      "  27   1.23663098e+10 -8.35377545e+08  2.60e-02 4.60e-05  1.30e+03  2473s\n"
     ]
    },
    {
     "name": "stderr",
     "output_type": "stream",
     "text": [
      "INFO:gurobipy:  27   1.23663098e+10 -8.35377545e+08  2.60e-02 4.60e-05  1.30e+03  2473s\n"
     ]
    },
    {
     "name": "stdout",
     "output_type": "stream",
     "text": [
      "  28   1.01557717e+10 -3.89758798e+08  2.12e-02 3.07e-05  1.04e+03  2481s\n"
     ]
    },
    {
     "name": "stderr",
     "output_type": "stream",
     "text": [
      "INFO:gurobipy:  28   1.01557717e+10 -3.89758798e+08  2.12e-02 3.07e-05  1.04e+03  2481s\n"
     ]
    },
    {
     "name": "stdout",
     "output_type": "stream",
     "text": [
      "  29   8.39178873e+09  1.03504001e+07  1.75e-02 2.22e-05  8.23e+02  2494s\n"
     ]
    },
    {
     "name": "stderr",
     "output_type": "stream",
     "text": [
      "INFO:gurobipy:  29   8.39178873e+09  1.03504001e+07  1.75e-02 2.22e-05  8.23e+02  2494s\n"
     ]
    },
    {
     "name": "stdout",
     "output_type": "stream",
     "text": [
      "  30   6.75565625e+09  2.97985820e+08  1.42e-02 1.77e-05  6.34e+02  2506s\n"
     ]
    },
    {
     "name": "stderr",
     "output_type": "stream",
     "text": [
      "INFO:gurobipy:  30   6.75565625e+09  2.97985820e+08  1.42e-02 1.77e-05  6.34e+02  2506s\n"
     ]
    },
    {
     "name": "stdout",
     "output_type": "stream",
     "text": [
      "  31   5.79340760e+09  5.09341799e+08  1.20e-02 1.64e-05  5.19e+02  2517s\n"
     ]
    },
    {
     "name": "stderr",
     "output_type": "stream",
     "text": [
      "INFO:gurobipy:  31   5.79340760e+09  5.09341799e+08  1.20e-02 1.64e-05  5.19e+02  2517s\n"
     ]
    },
    {
     "name": "stdout",
     "output_type": "stream",
     "text": [
      "  32   5.09322406e+09  7.32655339e+08  1.03e-02 1.49e-05  4.28e+02  2527s\n"
     ]
    },
    {
     "name": "stderr",
     "output_type": "stream",
     "text": [
      "INFO:gurobipy:  32   5.09322406e+09  7.32655339e+08  1.03e-02 1.49e-05  4.28e+02  2527s\n"
     ]
    },
    {
     "name": "stdout",
     "output_type": "stream",
     "text": [
      "  33   4.28245928e+09  8.48513846e+08  8.22e-03 1.42e-05  3.37e+02  2535s\n"
     ]
    },
    {
     "name": "stderr",
     "output_type": "stream",
     "text": [
      "INFO:gurobipy:  33   4.28245928e+09  8.48513846e+08  8.22e-03 1.42e-05  3.37e+02  2535s\n"
     ]
    },
    {
     "name": "stdout",
     "output_type": "stream",
     "text": [
      "  34   3.94516546e+09  9.51318665e+08  7.45e-03 1.31e-05  2.94e+02  2545s\n"
     ]
    },
    {
     "name": "stderr",
     "output_type": "stream",
     "text": [
      "INFO:gurobipy:  34   3.94516546e+09  9.51318665e+08  7.45e-03 1.31e-05  2.94e+02  2545s\n"
     ]
    },
    {
     "name": "stdout",
     "output_type": "stream",
     "text": [
      "  35   3.42566658e+09  1.03796969e+09  6.03e-03 1.22e-05  2.34e+02  2554s\n"
     ]
    },
    {
     "name": "stderr",
     "output_type": "stream",
     "text": [
      "INFO:gurobipy:  35   3.42566658e+09  1.03796969e+09  6.03e-03 1.22e-05  2.34e+02  2554s\n"
     ]
    },
    {
     "name": "stdout",
     "output_type": "stream",
     "text": [
      "  36   3.33878853e+09  1.07738473e+09  5.78e-03 1.17e-05  2.22e+02  2564s\n"
     ]
    },
    {
     "name": "stderr",
     "output_type": "stream",
     "text": [
      "INFO:gurobipy:  36   3.33878853e+09  1.07738473e+09  5.78e-03 1.17e-05  2.22e+02  2564s\n"
     ]
    },
    {
     "name": "stdout",
     "output_type": "stream",
     "text": [
      "  37   3.05615643e+09  1.13723727e+09  4.89e-03 1.10e-05  1.88e+02  2573s\n"
     ]
    },
    {
     "name": "stderr",
     "output_type": "stream",
     "text": [
      "INFO:gurobipy:  37   3.05615643e+09  1.13723727e+09  4.89e-03 1.10e-05  1.88e+02  2573s\n"
     ]
    },
    {
     "name": "stdout",
     "output_type": "stream",
     "text": [
      "  38   2.90063640e+09  1.19384356e+09  4.45e-03 1.01e-05  1.68e+02  2584s\n"
     ]
    },
    {
     "name": "stderr",
     "output_type": "stream",
     "text": [
      "INFO:gurobipy:  38   2.90063640e+09  1.19384356e+09  4.45e-03 1.01e-05  1.68e+02  2584s\n"
     ]
    },
    {
     "name": "stdout",
     "output_type": "stream",
     "text": [
      "  39   2.75511659e+09  1.23109306e+09  4.02e-03 9.46e-06  1.50e+02  2593s\n"
     ]
    },
    {
     "name": "stderr",
     "output_type": "stream",
     "text": [
      "INFO:gurobipy:  39   2.75511659e+09  1.23109306e+09  4.02e-03 9.46e-06  1.50e+02  2593s\n"
     ]
    },
    {
     "name": "stdout",
     "output_type": "stream",
     "text": [
      "  40   2.64069288e+09  1.27069496e+09  3.63e-03 8.76e-06  1.35e+02  2603s\n"
     ]
    },
    {
     "name": "stderr",
     "output_type": "stream",
     "text": [
      "INFO:gurobipy:  40   2.64069288e+09  1.27069496e+09  3.63e-03 8.76e-06  1.35e+02  2603s\n"
     ]
    },
    {
     "name": "stdout",
     "output_type": "stream",
     "text": [
      "  41   2.51265304e+09  1.29547006e+09  3.20e-03 8.27e-06  1.20e+02  2613s\n"
     ]
    },
    {
     "name": "stderr",
     "output_type": "stream",
     "text": [
      "INFO:gurobipy:  41   2.51265304e+09  1.29547006e+09  3.20e-03 8.27e-06  1.20e+02  2613s\n"
     ]
    },
    {
     "name": "stdout",
     "output_type": "stream",
     "text": [
      "  42   2.43146483e+09  1.31952544e+09  2.95e-03 7.79e-06  1.09e+02  2623s\n"
     ]
    },
    {
     "name": "stderr",
     "output_type": "stream",
     "text": [
      "INFO:gurobipy:  42   2.43146483e+09  1.31952544e+09  2.95e-03 7.79e-06  1.09e+02  2623s\n"
     ]
    },
    {
     "name": "stdout",
     "output_type": "stream",
     "text": [
      "  43   2.40154105e+09  1.33989389e+09  2.83e-03 7.35e-06  1.04e+02  2633s\n"
     ]
    },
    {
     "name": "stderr",
     "output_type": "stream",
     "text": [
      "INFO:gurobipy:  43   2.40154105e+09  1.33989389e+09  2.83e-03 7.35e-06  1.04e+02  2633s\n"
     ]
    },
    {
     "name": "stdout",
     "output_type": "stream",
     "text": [
      "  44   2.33713270e+09  1.35878051e+09  2.60e-03 6.94e-06  9.61e+01  2645s\n"
     ]
    },
    {
     "name": "stderr",
     "output_type": "stream",
     "text": [
      "INFO:gurobipy:  44   2.33713270e+09  1.35878051e+09  2.60e-03 6.94e-06  9.61e+01  2645s\n"
     ]
    },
    {
     "name": "stdout",
     "output_type": "stream",
     "text": [
      "  45   2.27878834e+09  1.39494486e+09  2.40e-03 6.24e-06  8.68e+01  2655s\n"
     ]
    },
    {
     "name": "stderr",
     "output_type": "stream",
     "text": [
      "INFO:gurobipy:  45   2.27878834e+09  1.39494486e+09  2.40e-03 6.24e-06  8.68e+01  2655s\n"
     ]
    },
    {
     "name": "stdout",
     "output_type": "stream",
     "text": [
      "  46   2.20564275e+09  1.41262659e+09  2.14e-03 5.93e-06  7.79e+01  2665s\n"
     ]
    },
    {
     "name": "stderr",
     "output_type": "stream",
     "text": [
      "INFO:gurobipy:  46   2.20564275e+09  1.41262659e+09  2.14e-03 5.93e-06  7.79e+01  2665s\n"
     ]
    },
    {
     "name": "stdout",
     "output_type": "stream",
     "text": [
      "  47   2.17385003e+09  1.43350801e+09  2.04e-03 5.66e-06  7.27e+01  2674s\n"
     ]
    },
    {
     "name": "stderr",
     "output_type": "stream",
     "text": [
      "INFO:gurobipy:  47   2.17385003e+09  1.43350801e+09  2.04e-03 5.66e-06  7.27e+01  2674s\n"
     ]
    },
    {
     "name": "stdout",
     "output_type": "stream",
     "text": [
      "  48   2.10992749e+09  1.45192182e+09  1.80e-03 5.41e-06  6.46e+01  2684s\n"
     ]
    },
    {
     "name": "stderr",
     "output_type": "stream",
     "text": [
      "INFO:gurobipy:  48   2.10992749e+09  1.45192182e+09  1.80e-03 5.41e-06  6.46e+01  2684s\n"
     ]
    },
    {
     "name": "stdout",
     "output_type": "stream",
     "text": [
      "  49   2.08395853e+09  1.46850185e+09  1.71e-03 5.16e-06  6.04e+01  2703s\n"
     ]
    },
    {
     "name": "stderr",
     "output_type": "stream",
     "text": [
      "INFO:gurobipy:  49   2.08395853e+09  1.46850185e+09  1.71e-03 5.16e-06  6.04e+01  2703s\n"
     ]
    },
    {
     "name": "stdout",
     "output_type": "stream",
     "text": [
      "  50   2.05840593e+09  1.48896658e+09  1.61e-03 4.89e-06  5.59e+01  2720s\n"
     ]
    },
    {
     "name": "stderr",
     "output_type": "stream",
     "text": [
      "INFO:gurobipy:  50   2.05840593e+09  1.48896658e+09  1.61e-03 4.89e-06  5.59e+01  2720s\n"
     ]
    },
    {
     "name": "stdout",
     "output_type": "stream",
     "text": [
      "  51   2.03224157e+09  1.50411700e+09  1.51e-03 4.66e-06  5.19e+01  2733s\n"
     ]
    },
    {
     "name": "stderr",
     "output_type": "stream",
     "text": [
      "INFO:gurobipy:  51   2.03224157e+09  1.50411700e+09  1.51e-03 4.66e-06  5.19e+01  2733s\n"
     ]
    },
    {
     "name": "stdout",
     "output_type": "stream",
     "text": [
      "  52   2.01280074e+09  1.51620535e+09  1.42e-03 4.61e-06  4.88e+01  2743s\n"
     ]
    },
    {
     "name": "stderr",
     "output_type": "stream",
     "text": [
      "INFO:gurobipy:  52   2.01280074e+09  1.51620535e+09  1.42e-03 4.61e-06  4.88e+01  2743s\n"
     ]
    },
    {
     "name": "stdout",
     "output_type": "stream",
     "text": [
      "  53   1.99906058e+09  1.52694443e+09  1.36e-03 4.61e-06  4.64e+01  2756s\n"
     ]
    },
    {
     "name": "stderr",
     "output_type": "stream",
     "text": [
      "INFO:gurobipy:  53   1.99906058e+09  1.52694443e+09  1.36e-03 4.61e-06  4.64e+01  2756s\n"
     ]
    },
    {
     "name": "stdout",
     "output_type": "stream",
     "text": [
      "  54   1.98039709e+09  1.53608099e+09  1.28e-03 4.58e-06  4.36e+01  2767s\n"
     ]
    },
    {
     "name": "stderr",
     "output_type": "stream",
     "text": [
      "INFO:gurobipy:  54   1.98039709e+09  1.53608099e+09  1.28e-03 4.58e-06  4.36e+01  2767s\n"
     ]
    },
    {
     "name": "stdout",
     "output_type": "stream",
     "text": [
      "  55   1.97087285e+09  1.54938135e+09  1.24e-03 4.57e-06  4.14e+01  2779s\n"
     ]
    },
    {
     "name": "stderr",
     "output_type": "stream",
     "text": [
      "INFO:gurobipy:  55   1.97087285e+09  1.54938135e+09  1.24e-03 4.57e-06  4.14e+01  2779s\n"
     ]
    },
    {
     "name": "stdout",
     "output_type": "stream",
     "text": [
      "  56   1.95262230e+09  1.55653564e+09  1.16e-03 4.58e-06  3.89e+01  2791s\n"
     ]
    },
    {
     "name": "stderr",
     "output_type": "stream",
     "text": [
      "INFO:gurobipy:  56   1.95262230e+09  1.55653564e+09  1.16e-03 4.58e-06  3.89e+01  2791s\n"
     ]
    },
    {
     "name": "stdout",
     "output_type": "stream",
     "text": [
      "  57   1.93667340e+09  1.56060812e+09  1.09e-03 4.56e-06  3.69e+01  2802s\n"
     ]
    },
    {
     "name": "stderr",
     "output_type": "stream",
     "text": [
      "INFO:gurobipy:  57   1.93667340e+09  1.56060812e+09  1.09e-03 4.56e-06  3.69e+01  2802s\n"
     ]
    },
    {
     "name": "stdout",
     "output_type": "stream",
     "text": [
      "  58   1.91331556e+09  1.57068300e+09  9.96e-04 4.47e-06  3.36e+01  2813s\n"
     ]
    },
    {
     "name": "stderr",
     "output_type": "stream",
     "text": [
      "INFO:gurobipy:  58   1.91331556e+09  1.57068300e+09  9.96e-04 4.47e-06  3.36e+01  2813s\n"
     ]
    },
    {
     "name": "stdout",
     "output_type": "stream",
     "text": [
      "  59   1.89994146e+09  1.58144508e+09  9.37e-04 4.36e-06  3.13e+01  2825s\n"
     ]
    },
    {
     "name": "stderr",
     "output_type": "stream",
     "text": [
      "INFO:gurobipy:  59   1.89994146e+09  1.58144508e+09  9.37e-04 4.36e-06  3.13e+01  2825s\n"
     ]
    },
    {
     "name": "stdout",
     "output_type": "stream",
     "text": [
      "  60   1.89115936e+09  1.59004175e+09  8.97e-04 4.25e-06  2.96e+01  2837s\n"
     ]
    },
    {
     "name": "stderr",
     "output_type": "stream",
     "text": [
      "INFO:gurobipy:  60   1.89115936e+09  1.59004175e+09  8.97e-04 4.25e-06  2.96e+01  2837s\n"
     ]
    },
    {
     "name": "stdout",
     "output_type": "stream",
     "text": [
      "  61   1.87262786e+09  1.59597153e+09  8.13e-04 4.15e-06  2.72e+01  2849s\n"
     ]
    },
    {
     "name": "stderr",
     "output_type": "stream",
     "text": [
      "INFO:gurobipy:  61   1.87262786e+09  1.59597153e+09  8.13e-04 4.15e-06  2.72e+01  2849s\n"
     ]
    },
    {
     "name": "stdout",
     "output_type": "stream",
     "text": [
      "  62   1.86438188e+09  1.60878137e+09  7.74e-04 3.94e-06  2.51e+01  2861s\n"
     ]
    },
    {
     "name": "stderr",
     "output_type": "stream",
     "text": [
      "INFO:gurobipy:  62   1.86438188e+09  1.60878137e+09  7.74e-04 3.94e-06  2.51e+01  2861s\n"
     ]
    },
    {
     "name": "stdout",
     "output_type": "stream",
     "text": [
      "  63   1.85006103e+09  1.61475127e+09  7.07e-04 3.82e-06  2.31e+01  2871s\n"
     ]
    },
    {
     "name": "stderr",
     "output_type": "stream",
     "text": [
      "INFO:gurobipy:  63   1.85006103e+09  1.61475127e+09  7.07e-04 3.82e-06  2.31e+01  2871s\n"
     ]
    },
    {
     "name": "stdout",
     "output_type": "stream",
     "text": [
      "  64   1.83903443e+09  1.62174956e+09  6.55e-04 3.68e-06  2.13e+01  2881s\n"
     ]
    },
    {
     "name": "stderr",
     "output_type": "stream",
     "text": [
      "INFO:gurobipy:  64   1.83903443e+09  1.62174956e+09  6.55e-04 3.68e-06  2.13e+01  2881s\n"
     ]
    },
    {
     "name": "stdout",
     "output_type": "stream",
     "text": [
      "  65   1.83167256e+09  1.62611656e+09  6.18e-04 3.58e-06  2.02e+01  2891s\n"
     ]
    },
    {
     "name": "stderr",
     "output_type": "stream",
     "text": [
      "INFO:gurobipy:  65   1.83167256e+09  1.62611656e+09  6.18e-04 3.58e-06  2.02e+01  2891s\n"
     ]
    },
    {
     "name": "stdout",
     "output_type": "stream",
     "text": [
      "  66   1.81967261e+09  1.62936360e+09  5.62e-04 3.52e-06  1.87e+01  2901s\n"
     ]
    },
    {
     "name": "stderr",
     "output_type": "stream",
     "text": [
      "INFO:gurobipy:  66   1.81967261e+09  1.62936360e+09  5.62e-04 3.52e-06  1.87e+01  2901s\n"
     ]
    },
    {
     "name": "stdout",
     "output_type": "stream",
     "text": [
      "  67   1.80932999e+09  1.63463638e+09  5.13e-04 3.40e-06  1.71e+01  2911s\n"
     ]
    },
    {
     "name": "stderr",
     "output_type": "stream",
     "text": [
      "INFO:gurobipy:  67   1.80932999e+09  1.63463638e+09  5.13e-04 3.40e-06  1.71e+01  2911s\n"
     ]
    },
    {
     "name": "stdout",
     "output_type": "stream",
     "text": [
      "  68   1.80288144e+09  1.64032673e+09  4.82e-04 3.25e-06  1.60e+01  2919s\n"
     ]
    },
    {
     "name": "stderr",
     "output_type": "stream",
     "text": [
      "INFO:gurobipy:  68   1.80288144e+09  1.64032673e+09  4.82e-04 3.25e-06  1.60e+01  2919s\n"
     ]
    },
    {
     "name": "stdout",
     "output_type": "stream",
     "text": [
      "  69   1.79817229e+09  1.64347314e+09  4.60e-04 3.16e-06  1.52e+01  2930s\n"
     ]
    },
    {
     "name": "stderr",
     "output_type": "stream",
     "text": [
      "INFO:gurobipy:  69   1.79817229e+09  1.64347314e+09  4.60e-04 3.16e-06  1.52e+01  2930s\n"
     ]
    },
    {
     "name": "stdout",
     "output_type": "stream",
     "text": [
      "  70   1.79403453e+09  1.65029074e+09  4.40e-04 2.97e-06  1.41e+01  2940s\n"
     ]
    },
    {
     "name": "stderr",
     "output_type": "stream",
     "text": [
      "INFO:gurobipy:  70   1.79403453e+09  1.65029074e+09  4.40e-04 2.97e-06  1.41e+01  2940s\n"
     ]
    },
    {
     "name": "stdout",
     "output_type": "stream",
     "text": [
      "  71   1.79026093e+09  1.65408881e+09  4.21e-04 2.84e-06  1.34e+01  2950s\n"
     ]
    },
    {
     "name": "stderr",
     "output_type": "stream",
     "text": [
      "INFO:gurobipy:  71   1.79026093e+09  1.65408881e+09  4.21e-04 2.84e-06  1.34e+01  2950s\n"
     ]
    },
    {
     "name": "stdout",
     "output_type": "stream",
     "text": [
      "  72   1.78719960e+09  1.65607481e+09  4.04e-04 2.78e-06  1.29e+01  2958s\n"
     ]
    },
    {
     "name": "stderr",
     "output_type": "stream",
     "text": [
      "INFO:gurobipy:  72   1.78719960e+09  1.65607481e+09  4.04e-04 2.78e-06  1.29e+01  2958s\n"
     ]
    },
    {
     "name": "stdout",
     "output_type": "stream",
     "text": [
      "  73   1.78524659e+09  1.65859435e+09  3.95e-04 2.71e-06  1.24e+01  2968s\n"
     ]
    },
    {
     "name": "stderr",
     "output_type": "stream",
     "text": [
      "INFO:gurobipy:  73   1.78524659e+09  1.65859435e+09  3.95e-04 2.71e-06  1.24e+01  2968s\n"
     ]
    },
    {
     "name": "stdout",
     "output_type": "stream",
     "text": [
      "  74   1.78231827e+09  1.66044388e+09  3.81e-04 2.65e-06  1.20e+01  2977s\n"
     ]
    },
    {
     "name": "stderr",
     "output_type": "stream",
     "text": [
      "INFO:gurobipy:  74   1.78231827e+09  1.66044388e+09  3.81e-04 2.65e-06  1.20e+01  2977s\n"
     ]
    },
    {
     "name": "stdout",
     "output_type": "stream",
     "text": [
      "  75   1.77968529e+09  1.66315594e+09  3.67e-04 2.58e-06  1.14e+01  2986s\n"
     ]
    },
    {
     "name": "stderr",
     "output_type": "stream",
     "text": [
      "INFO:gurobipy:  75   1.77968529e+09  1.66315594e+09  3.67e-04 2.58e-06  1.14e+01  2986s\n"
     ]
    },
    {
     "name": "stdout",
     "output_type": "stream",
     "text": [
      "  76   1.77605517e+09  1.66790081e+09  3.49e-04 2.44e-06  1.06e+01  2995s\n"
     ]
    },
    {
     "name": "stderr",
     "output_type": "stream",
     "text": [
      "INFO:gurobipy:  76   1.77605517e+09  1.66790081e+09  3.49e-04 2.44e-06  1.06e+01  2995s\n"
     ]
    },
    {
     "name": "stdout",
     "output_type": "stream",
     "text": [
      "  77   1.77061961e+09  1.67031005e+09  3.22e-04 2.37e-06  9.84e+00  3005s\n"
     ]
    },
    {
     "name": "stderr",
     "output_type": "stream",
     "text": [
      "INFO:gurobipy:  77   1.77061961e+09  1.67031005e+09  3.22e-04 2.37e-06  9.84e+00  3005s\n"
     ]
    },
    {
     "name": "stdout",
     "output_type": "stream",
     "text": [
      "  78   1.76837454e+09  1.67152071e+09  3.11e-04 2.32e-06  9.51e+00  3014s\n"
     ]
    },
    {
     "name": "stderr",
     "output_type": "stream",
     "text": [
      "INFO:gurobipy:  78   1.76837454e+09  1.67152071e+09  3.11e-04 2.32e-06  9.51e+00  3014s\n"
     ]
    },
    {
     "name": "stdout",
     "output_type": "stream",
     "text": [
      "  79   1.76413981e+09  1.67377073e+09  2.90e-04 2.24e-06  8.87e+00  3024s\n"
     ]
    },
    {
     "name": "stderr",
     "output_type": "stream",
     "text": [
      "INFO:gurobipy:  79   1.76413981e+09  1.67377073e+09  2.90e-04 2.24e-06  8.87e+00  3024s\n"
     ]
    },
    {
     "name": "stdout",
     "output_type": "stream",
     "text": [
      "  80   1.76250724e+09  1.67584949e+09  2.81e-04 2.17e-06  8.50e+00  3033s\n"
     ]
    },
    {
     "name": "stderr",
     "output_type": "stream",
     "text": [
      "INFO:gurobipy:  80   1.76250724e+09  1.67584949e+09  2.81e-04 2.17e-06  8.50e+00  3033s\n"
     ]
    },
    {
     "name": "stdout",
     "output_type": "stream",
     "text": [
      "  81   1.75911311e+09  1.67915942e+09  2.64e-04 2.06e-06  7.85e+00  3043s\n"
     ]
    },
    {
     "name": "stderr",
     "output_type": "stream",
     "text": [
      "INFO:gurobipy:  81   1.75911311e+09  1.67915942e+09  2.64e-04 2.06e-06  7.85e+00  3043s\n"
     ]
    },
    {
     "name": "stdout",
     "output_type": "stream",
     "text": [
      "  82   1.75376170e+09  1.68023500e+09  2.37e-04 2.01e-06  7.21e+00  3053s\n"
     ]
    },
    {
     "name": "stderr",
     "output_type": "stream",
     "text": [
      "INFO:gurobipy:  82   1.75376170e+09  1.68023500e+09  2.37e-04 2.01e-06  7.21e+00  3053s\n"
     ]
    },
    {
     "name": "stdout",
     "output_type": "stream",
     "text": [
      "  83   1.75216805e+09  1.68193582e+09  2.29e-04 1.93e-06  6.89e+00  3061s\n"
     ]
    },
    {
     "name": "stderr",
     "output_type": "stream",
     "text": [
      "INFO:gurobipy:  83   1.75216805e+09  1.68193582e+09  2.29e-04 1.93e-06  6.89e+00  3061s\n"
     ]
    },
    {
     "name": "stdout",
     "output_type": "stream",
     "text": [
      "  84   1.74906810e+09  1.68366783e+09  2.13e-04 1.83e-06  6.42e+00  3070s\n"
     ]
    },
    {
     "name": "stderr",
     "output_type": "stream",
     "text": [
      "INFO:gurobipy:  84   1.74906810e+09  1.68366783e+09  2.13e-04 1.83e-06  6.42e+00  3070s\n"
     ]
    },
    {
     "name": "stdout",
     "output_type": "stream",
     "text": [
      "  85   1.74603173e+09  1.68520267e+09  1.97e-04 1.74e-06  5.97e+00  3080s\n"
     ]
    },
    {
     "name": "stderr",
     "output_type": "stream",
     "text": [
      "INFO:gurobipy:  85   1.74603173e+09  1.68520267e+09  1.97e-04 1.74e-06  5.97e+00  3080s\n"
     ]
    },
    {
     "name": "stdout",
     "output_type": "stream",
     "text": [
      "  86   1.74501463e+09  1.68584401e+09  1.92e-04 1.69e-06  5.81e+00  3088s\n"
     ]
    },
    {
     "name": "stderr",
     "output_type": "stream",
     "text": [
      "INFO:gurobipy:  86   1.74501463e+09  1.68584401e+09  1.92e-04 1.69e-06  5.81e+00  3088s\n"
     ]
    },
    {
     "name": "stdout",
     "output_type": "stream",
     "text": [
      "  87   1.74333822e+09  1.68792234e+09  1.83e-04 1.53e-06  5.44e+00  3098s\n"
     ]
    },
    {
     "name": "stderr",
     "output_type": "stream",
     "text": [
      "INFO:gurobipy:  87   1.74333822e+09  1.68792234e+09  1.83e-04 1.53e-06  5.44e+00  3098s\n"
     ]
    },
    {
     "name": "stdout",
     "output_type": "stream",
     "text": [
      "  88   1.74125035e+09  1.68913114e+09  1.72e-04 1.45e-06  5.11e+00  3108s\n"
     ]
    },
    {
     "name": "stderr",
     "output_type": "stream",
     "text": [
      "INFO:gurobipy:  88   1.74125035e+09  1.68913114e+09  1.72e-04 1.45e-06  5.11e+00  3108s\n"
     ]
    },
    {
     "name": "stdout",
     "output_type": "stream",
     "text": [
      "  89   1.74018612e+09  1.69005933e+09  1.67e-04 1.39e-06  4.92e+00  3118s\n"
     ]
    },
    {
     "name": "stderr",
     "output_type": "stream",
     "text": [
      "INFO:gurobipy:  89   1.74018612e+09  1.69005933e+09  1.67e-04 1.39e-06  4.92e+00  3118s\n"
     ]
    },
    {
     "name": "stdout",
     "output_type": "stream",
     "text": [
      "  90   1.73904401e+09  1.69064625e+09  1.61e-04 1.35e-06  4.75e+00  3129s\n"
     ]
    },
    {
     "name": "stderr",
     "output_type": "stream",
     "text": [
      "INFO:gurobipy:  90   1.73904401e+09  1.69064625e+09  1.61e-04 1.35e-06  4.75e+00  3129s\n"
     ]
    },
    {
     "name": "stdout",
     "output_type": "stream",
     "text": [
      "  91   1.73803255e+09  1.69143359e+09  1.56e-04 1.30e-06  4.57e+00  3137s\n"
     ]
    },
    {
     "name": "stderr",
     "output_type": "stream",
     "text": [
      "INFO:gurobipy:  91   1.73803255e+09  1.69143359e+09  1.56e-04 1.30e-06  4.57e+00  3137s\n"
     ]
    },
    {
     "name": "stdout",
     "output_type": "stream",
     "text": [
      "  92   1.73750936e+09  1.69201214e+09  1.53e-04 1.27e-06  4.46e+00  3146s\n"
     ]
    },
    {
     "name": "stderr",
     "output_type": "stream",
     "text": [
      "INFO:gurobipy:  92   1.73750936e+09  1.69201214e+09  1.53e-04 1.27e-06  4.46e+00  3146s\n"
     ]
    },
    {
     "name": "stdout",
     "output_type": "stream",
     "text": [
      "  93   1.73664974e+09  1.69325832e+09  1.48e-04 1.20e-06  4.26e+00  3155s\n"
     ]
    },
    {
     "name": "stderr",
     "output_type": "stream",
     "text": [
      "INFO:gurobipy:  93   1.73664974e+09  1.69325832e+09  1.48e-04 1.20e-06  4.26e+00  3155s\n"
     ]
    },
    {
     "name": "stdout",
     "output_type": "stream",
     "text": [
      "  94   1.73498820e+09  1.69435757e+09  1.39e-04 1.21e-06  3.99e+00  3165s\n"
     ]
    },
    {
     "name": "stderr",
     "output_type": "stream",
     "text": [
      "INFO:gurobipy:  94   1.73498820e+09  1.69435757e+09  1.39e-04 1.21e-06  3.99e+00  3165s\n"
     ]
    },
    {
     "name": "stdout",
     "output_type": "stream",
     "text": [
      "  95   1.73451833e+09  1.69483946e+09  1.37e-04 1.22e-06  3.89e+00  3176s\n"
     ]
    },
    {
     "name": "stderr",
     "output_type": "stream",
     "text": [
      "INFO:gurobipy:  95   1.73451833e+09  1.69483946e+09  1.37e-04 1.22e-06  3.89e+00  3176s\n"
     ]
    },
    {
     "name": "stdout",
     "output_type": "stream",
     "text": [
      "  96   1.73308335e+09  1.69581646e+09  1.30e-04 1.25e-06  3.66e+00  3188s\n"
     ]
    },
    {
     "name": "stderr",
     "output_type": "stream",
     "text": [
      "INFO:gurobipy:  96   1.73308335e+09  1.69581646e+09  1.30e-04 1.25e-06  3.66e+00  3188s\n"
     ]
    },
    {
     "name": "stdout",
     "output_type": "stream",
     "text": [
      "  97   1.73121984e+09  1.69647284e+09  1.20e-04 1.26e-06  3.41e+00  3199s\n"
     ]
    },
    {
     "name": "stderr",
     "output_type": "stream",
     "text": [
      "INFO:gurobipy:  97   1.73121984e+09  1.69647284e+09  1.20e-04 1.26e-06  3.41e+00  3199s\n"
     ]
    },
    {
     "name": "stdout",
     "output_type": "stream",
     "text": [
      "  98   1.72957507e+09  1.69745508e+09  1.12e-04 1.24e-06  3.15e+00  3209s\n"
     ]
    },
    {
     "name": "stderr",
     "output_type": "stream",
     "text": [
      "INFO:gurobipy:  98   1.72957507e+09  1.69745508e+09  1.12e-04 1.24e-06  3.15e+00  3209s\n"
     ]
    },
    {
     "name": "stdout",
     "output_type": "stream",
     "text": [
      "  99   1.72873548e+09  1.69784543e+09  1.08e-04 1.23e-06  3.03e+00  3217s\n"
     ]
    },
    {
     "name": "stderr",
     "output_type": "stream",
     "text": [
      "INFO:gurobipy:  99   1.72873548e+09  1.69784543e+09  1.08e-04 1.23e-06  3.03e+00  3217s\n"
     ]
    },
    {
     "name": "stdout",
     "output_type": "stream",
     "text": [
      " 100   1.72772199e+09  1.69820318e+09  1.02e-04 1.23e-06  2.89e+00  3228s\n"
     ]
    },
    {
     "name": "stderr",
     "output_type": "stream",
     "text": [
      "INFO:gurobipy: 100   1.72772199e+09  1.69820318e+09  1.02e-04 1.23e-06  2.89e+00  3228s\n"
     ]
    },
    {
     "name": "stdout",
     "output_type": "stream",
     "text": [
      " 101   1.72693557e+09  1.69904757e+09  9.76e-05 1.24e-06  2.73e+00  3239s\n"
     ]
    },
    {
     "name": "stderr",
     "output_type": "stream",
     "text": [
      "INFO:gurobipy: 101   1.72693557e+09  1.69904757e+09  9.76e-05 1.24e-06  2.73e+00  3239s\n"
     ]
    },
    {
     "name": "stdout",
     "output_type": "stream",
     "text": [
      " 102   1.72561480e+09  1.69966709e+09  9.05e-05 1.21e-06  2.54e+00  3249s\n"
     ]
    },
    {
     "name": "stderr",
     "output_type": "stream",
     "text": [
      "INFO:gurobipy: 102   1.72561480e+09  1.69966709e+09  9.05e-05 1.21e-06  2.54e+00  3249s\n"
     ]
    },
    {
     "name": "stdout",
     "output_type": "stream",
     "text": [
      " 103   1.72410542e+09  1.69998012e+09  8.19e-05 1.20e-06  2.37e+00  3257s\n"
     ]
    },
    {
     "name": "stderr",
     "output_type": "stream",
     "text": [
      "INFO:gurobipy: 103   1.72410542e+09  1.69998012e+09  8.19e-05 1.20e-06  2.37e+00  3257s\n"
     ]
    },
    {
     "name": "stdout",
     "output_type": "stream",
     "text": [
      " 104   1.72343687e+09  1.70060976e+09  7.80e-05 1.12e-06  2.24e+00  3267s\n"
     ]
    },
    {
     "name": "stderr",
     "output_type": "stream",
     "text": [
      "INFO:gurobipy: 104   1.72343687e+09  1.70060976e+09  7.80e-05 1.12e-06  2.24e+00  3267s\n"
     ]
    },
    {
     "name": "stdout",
     "output_type": "stream",
     "text": [
      " 105   1.72211097e+09  1.70125212e+09  7.10e-05 1.04e-06  2.05e+00  3278s\n"
     ]
    },
    {
     "name": "stderr",
     "output_type": "stream",
     "text": [
      "INFO:gurobipy: 105   1.72211097e+09  1.70125212e+09  7.10e-05 1.04e-06  2.05e+00  3278s\n"
     ]
    },
    {
     "name": "stdout",
     "output_type": "stream",
     "text": [
      " 106   1.72156476e+09  1.70174733e+09  6.80e-05 9.99e-07  1.94e+00  3288s\n"
     ]
    },
    {
     "name": "stderr",
     "output_type": "stream",
     "text": [
      "INFO:gurobipy: 106   1.72156476e+09  1.70174733e+09  6.80e-05 9.99e-07  1.94e+00  3288s\n"
     ]
    },
    {
     "name": "stdout",
     "output_type": "stream",
     "text": [
      " 107   1.72111099e+09  1.70244162e+09  6.56e-05 9.30e-07  1.83e+00  3299s\n"
     ]
    },
    {
     "name": "stderr",
     "output_type": "stream",
     "text": [
      "INFO:gurobipy: 107   1.72111099e+09  1.70244162e+09  6.56e-05 9.30e-07  1.83e+00  3299s\n"
     ]
    },
    {
     "name": "stdout",
     "output_type": "stream",
     "text": [
      " 108   1.72059084e+09  1.70277705e+09  6.28e-05 9.03e-07  1.75e+00  3311s\n"
     ]
    },
    {
     "name": "stderr",
     "output_type": "stream",
     "text": [
      "INFO:gurobipy: 108   1.72059084e+09  1.70277705e+09  6.28e-05 9.03e-07  1.75e+00  3311s\n"
     ]
    },
    {
     "name": "stdout",
     "output_type": "stream",
     "text": [
      " 109   1.72015461e+09  1.70307996e+09  6.02e-05 8.81e-07  1.67e+00  3319s\n"
     ]
    },
    {
     "name": "stderr",
     "output_type": "stream",
     "text": [
      "INFO:gurobipy: 109   1.72015461e+09  1.70307996e+09  6.02e-05 8.81e-07  1.67e+00  3319s\n"
     ]
    },
    {
     "name": "stdout",
     "output_type": "stream",
     "text": [
      " 110   1.71987744e+09  1.70339740e+09  5.87e-05 8.85e-07  1.62e+00  3331s\n"
     ]
    },
    {
     "name": "stderr",
     "output_type": "stream",
     "text": [
      "INFO:gurobipy: 110   1.71987744e+09  1.70339740e+09  5.87e-05 8.85e-07  1.62e+00  3331s\n"
     ]
    },
    {
     "name": "stdout",
     "output_type": "stream",
     "text": [
      " 111   1.71898803e+09  1.70379561e+09  5.36e-05 9.05e-07  1.49e+00  3343s\n"
     ]
    },
    {
     "name": "stderr",
     "output_type": "stream",
     "text": [
      "INFO:gurobipy: 111   1.71898803e+09  1.70379561e+09  5.36e-05 9.05e-07  1.49e+00  3343s\n"
     ]
    },
    {
     "name": "stdout",
     "output_type": "stream",
     "text": [
      " 112   1.71842798e+09  1.70428622e+09  5.04e-05 9.19e-07  1.39e+00  3353s\n"
     ]
    },
    {
     "name": "stderr",
     "output_type": "stream",
     "text": [
      "INFO:gurobipy: 112   1.71842798e+09  1.70428622e+09  5.04e-05 9.19e-07  1.39e+00  3353s\n"
     ]
    },
    {
     "name": "stdout",
     "output_type": "stream",
     "text": [
      " 113   1.71798248e+09  1.70443525e+09  4.79e-05 9.18e-07  1.33e+00  3364s\n"
     ]
    },
    {
     "name": "stderr",
     "output_type": "stream",
     "text": [
      "INFO:gurobipy: 113   1.71798248e+09  1.70443525e+09  4.79e-05 9.18e-07  1.33e+00  3364s\n"
     ]
    },
    {
     "name": "stdout",
     "output_type": "stream",
     "text": [
      " 114   1.71727850e+09  1.70490290e+09  4.38e-05 9.23e-07  1.21e+00  3374s\n"
     ]
    },
    {
     "name": "stderr",
     "output_type": "stream",
     "text": [
      "INFO:gurobipy: 114   1.71727850e+09  1.70490290e+09  4.38e-05 9.23e-07  1.21e+00  3374s\n"
     ]
    },
    {
     "name": "stdout",
     "output_type": "stream",
     "text": [
      " 115   1.71696207e+09  1.70506735e+09  4.19e-05 9.04e-07  1.17e+00  3384s\n"
     ]
    },
    {
     "name": "stderr",
     "output_type": "stream",
     "text": [
      "INFO:gurobipy: 115   1.71696207e+09  1.70506735e+09  4.19e-05 9.04e-07  1.17e+00  3384s\n"
     ]
    },
    {
     "name": "stdout",
     "output_type": "stream",
     "text": [
      " 116   1.71678091e+09  1.70509063e+09  4.08e-05 9.03e-07  1.15e+00  3391s\n"
     ]
    },
    {
     "name": "stderr",
     "output_type": "stream",
     "text": [
      "INFO:gurobipy: 116   1.71678091e+09  1.70509063e+09  4.08e-05 9.03e-07  1.15e+00  3391s\n"
     ]
    },
    {
     "name": "stdout",
     "output_type": "stream",
     "text": [
      " 117   1.71615323e+09  1.70566457e+09  3.72e-05 8.81e-07  1.03e+00  3400s\n"
     ]
    },
    {
     "name": "stderr",
     "output_type": "stream",
     "text": [
      "INFO:gurobipy: 117   1.71615323e+09  1.70566457e+09  3.72e-05 8.81e-07  1.03e+00  3400s\n"
     ]
    },
    {
     "name": "stdout",
     "output_type": "stream",
     "text": [
      " 118   1.71599227e+09  1.70602499e+09  3.64e-05 8.63e-07  9.76e-01  3411s\n"
     ]
    },
    {
     "name": "stderr",
     "output_type": "stream",
     "text": [
      "INFO:gurobipy: 118   1.71599227e+09  1.70602499e+09  3.64e-05 8.63e-07  9.76e-01  3411s\n"
     ]
    },
    {
     "name": "stdout",
     "output_type": "stream",
     "text": [
      " 119   1.71566504e+09  1.70639493e+09  3.44e-05 8.36e-07  9.08e-01  3421s\n"
     ]
    },
    {
     "name": "stderr",
     "output_type": "stream",
     "text": [
      "INFO:gurobipy: 119   1.71566504e+09  1.70639493e+09  3.44e-05 8.36e-07  9.08e-01  3421s\n"
     ]
    },
    {
     "name": "stdout",
     "output_type": "stream",
     "text": [
      " 120   1.71527258e+09  1.70679877e+09  3.22e-05 8.18e-07  8.30e-01  3432s\n"
     ]
    },
    {
     "name": "stderr",
     "output_type": "stream",
     "text": [
      "INFO:gurobipy: 120   1.71527258e+09  1.70679877e+09  3.22e-05 8.18e-07  8.30e-01  3432s\n"
     ]
    },
    {
     "name": "stdout",
     "output_type": "stream",
     "text": [
      " 121   1.71510347e+09  1.70685584e+09  3.11e-05 8.10e-07  8.08e-01  3443s\n"
     ]
    },
    {
     "name": "stderr",
     "output_type": "stream",
     "text": [
      "INFO:gurobipy: 121   1.71510347e+09  1.70685584e+09  3.11e-05 8.10e-07  8.08e-01  3443s\n"
     ]
    },
    {
     "name": "stdout",
     "output_type": "stream",
     "text": [
      " 122   1.71486814e+09  1.70693918e+09  2.97e-05 8.00e-07  7.76e-01  3455s\n"
     ]
    },
    {
     "name": "stderr",
     "output_type": "stream",
     "text": [
      "INFO:gurobipy: 122   1.71486814e+09  1.70693918e+09  2.97e-05 8.00e-07  7.76e-01  3455s\n"
     ]
    },
    {
     "name": "stdout",
     "output_type": "stream",
     "text": [
      " 123   1.71461721e+09  1.70719610e+09  2.81e-05 7.92e-07  7.27e-01  3467s\n"
     ]
    },
    {
     "name": "stderr",
     "output_type": "stream",
     "text": [
      "INFO:gurobipy: 123   1.71461721e+09  1.70719610e+09  2.81e-05 7.92e-07  7.27e-01  3467s\n"
     ]
    },
    {
     "name": "stdout",
     "output_type": "stream",
     "text": [
      " 124   1.71423642e+09  1.70736892e+09  2.75e-05 7.84e-07  6.72e-01  3478s\n"
     ]
    },
    {
     "name": "stderr",
     "output_type": "stream",
     "text": [
      "INFO:gurobipy: 124   1.71423642e+09  1.70736892e+09  2.75e-05 7.84e-07  6.72e-01  3478s\n"
     ]
    },
    {
     "name": "stdout",
     "output_type": "stream",
     "text": [
      " 125   1.71394374e+09  1.70755872e+09  2.57e-05 7.54e-07  6.25e-01  3492s\n"
     ]
    },
    {
     "name": "stderr",
     "output_type": "stream",
     "text": [
      "INFO:gurobipy: 125   1.71394374e+09  1.70755872e+09  2.57e-05 7.54e-07  6.25e-01  3492s\n"
     ]
    },
    {
     "name": "stdout",
     "output_type": "stream",
     "text": [
      " 126   1.71364646e+09  1.70777831e+09  2.45e-05 7.51e-07  5.74e-01  3504s\n"
     ]
    },
    {
     "name": "stderr",
     "output_type": "stream",
     "text": [
      "INFO:gurobipy: 126   1.71364646e+09  1.70777831e+09  2.45e-05 7.51e-07  5.74e-01  3504s\n"
     ]
    },
    {
     "name": "stdout",
     "output_type": "stream",
     "text": [
      " 127   1.71341926e+09  1.70798603e+09  2.52e-05 7.28e-07  5.32e-01  3516s\n"
     ]
    },
    {
     "name": "stderr",
     "output_type": "stream",
     "text": [
      "INFO:gurobipy: 127   1.71341926e+09  1.70798603e+09  2.52e-05 7.28e-07  5.32e-01  3516s\n"
     ]
    },
    {
     "name": "stdout",
     "output_type": "stream",
     "text": [
      " 128   1.71312564e+09  1.70812913e+09  2.34e-05 6.89e-07  4.89e-01  3529s\n"
     ]
    },
    {
     "name": "stderr",
     "output_type": "stream",
     "text": [
      "INFO:gurobipy: 128   1.71312564e+09  1.70812913e+09  2.34e-05 6.89e-07  4.89e-01  3529s\n"
     ]
    },
    {
     "name": "stdout",
     "output_type": "stream",
     "text": [
      " 129   1.71290825e+09  1.70831918e+09  2.25e-05 6.73e-07  4.49e-01  3541s\n"
     ]
    },
    {
     "name": "stderr",
     "output_type": "stream",
     "text": [
      "INFO:gurobipy: 129   1.71290825e+09  1.70831918e+09  2.25e-05 6.73e-07  4.49e-01  3541s\n"
     ]
    },
    {
     "name": "stdout",
     "output_type": "stream",
     "text": [
      " 130   1.71282611e+09  1.70839582e+09  2.20e-05 6.59e-07  4.33e-01  3549s\n"
     ]
    },
    {
     "name": "stderr",
     "output_type": "stream",
     "text": [
      "INFO:gurobipy: 130   1.71282611e+09  1.70839582e+09  2.20e-05 6.59e-07  4.33e-01  3549s\n"
     ]
    },
    {
     "name": "stdout",
     "output_type": "stream",
     "text": [
      " 131   1.71265917e+09  1.70855362e+09  2.08e-05 6.06e-07  4.02e-01  3563s\n"
     ]
    },
    {
     "name": "stderr",
     "output_type": "stream",
     "text": [
      "INFO:gurobipy: 131   1.71265917e+09  1.70855362e+09  2.08e-05 6.06e-07  4.02e-01  3563s\n"
     ]
    },
    {
     "name": "stdout",
     "output_type": "stream",
     "text": [
      " 132   1.71246832e+09  1.70865843e+09  1.95e-05 5.69e-07  3.73e-01  3576s\n"
     ]
    },
    {
     "name": "stderr",
     "output_type": "stream",
     "text": [
      "INFO:gurobipy: 132   1.71246832e+09  1.70865843e+09  1.95e-05 5.69e-07  3.73e-01  3576s\n"
     ]
    },
    {
     "name": "stdout",
     "output_type": "stream",
     "text": [
      " 133   1.71214795e+09  1.70881454e+09  1.78e-05 5.37e-07  3.26e-01  3588s\n"
     ]
    },
    {
     "name": "stderr",
     "output_type": "stream",
     "text": [
      "INFO:gurobipy: 133   1.71214795e+09  1.70881454e+09  1.78e-05 5.37e-07  3.26e-01  3588s\n"
     ]
    },
    {
     "name": "stdout",
     "output_type": "stream",
     "text": [
      " 134   1.71210774e+09  1.70884775e+09  1.74e-05 5.25e-07  3.19e-01  3601s\n"
     ]
    },
    {
     "name": "stderr",
     "output_type": "stream",
     "text": [
      "INFO:gurobipy: 134   1.71210774e+09  1.70884775e+09  1.74e-05 5.25e-07  3.19e-01  3601s\n"
     ]
    },
    {
     "name": "stdout",
     "output_type": "stream",
     "text": [
      " 135   1.71200538e+09  1.70890133e+09  1.65e-05 5.07e-07  3.03e-01  3614s\n"
     ]
    },
    {
     "name": "stderr",
     "output_type": "stream",
     "text": [
      "INFO:gurobipy: 135   1.71200538e+09  1.70890133e+09  1.65e-05 5.07e-07  3.03e-01  3614s\n"
     ]
    },
    {
     "name": "stdout",
     "output_type": "stream",
     "text": [
      " 136   1.71193580e+09  1.70897384e+09  1.59e-05 4.83e-07  2.90e-01  3624s\n"
     ]
    },
    {
     "name": "stderr",
     "output_type": "stream",
     "text": [
      "INFO:gurobipy: 136   1.71193580e+09  1.70897384e+09  1.59e-05 4.83e-07  2.90e-01  3624s\n"
     ]
    },
    {
     "name": "stdout",
     "output_type": "stream",
     "text": [
      " 137   1.71176075e+09  1.70904796e+09  1.42e-05 4.66e-07  2.65e-01  3636s\n"
     ]
    },
    {
     "name": "stderr",
     "output_type": "stream",
     "text": [
      "INFO:gurobipy: 137   1.71176075e+09  1.70904796e+09  1.42e-05 4.66e-07  2.65e-01  3636s\n"
     ]
    },
    {
     "name": "stdout",
     "output_type": "stream",
     "text": [
      " 138   1.71172181e+09  1.70907745e+09  1.38e-05 4.54e-07  2.59e-01  3646s\n"
     ]
    },
    {
     "name": "stderr",
     "output_type": "stream",
     "text": [
      "INFO:gurobipy: 138   1.71172181e+09  1.70907745e+09  1.38e-05 4.54e-07  2.59e-01  3646s\n"
     ]
    },
    {
     "name": "stdout",
     "output_type": "stream",
     "text": [
      " 139   1.71160860e+09  1.70909884e+09  1.29e-05 4.45e-07  2.45e-01  3656s\n"
     ]
    },
    {
     "name": "stderr",
     "output_type": "stream",
     "text": [
      "INFO:gurobipy: 139   1.71160860e+09  1.70909884e+09  1.29e-05 4.45e-07  2.45e-01  3656s\n"
     ]
    },
    {
     "name": "stdout",
     "output_type": "stream",
     "text": [
      " 140   1.71153024e+09  1.70921200e+09  1.22e-05 3.93e-07  2.27e-01  3669s\n"
     ]
    },
    {
     "name": "stderr",
     "output_type": "stream",
     "text": [
      "INFO:gurobipy: 140   1.71153024e+09  1.70921200e+09  1.22e-05 3.93e-07  2.27e-01  3669s\n"
     ]
    },
    {
     "name": "stdout",
     "output_type": "stream",
     "text": [
      " 141   1.71145461e+09  1.70926779e+09  1.18e-05 3.67e-07  2.14e-01  3681s\n"
     ]
    },
    {
     "name": "stderr",
     "output_type": "stream",
     "text": [
      "INFO:gurobipy: 141   1.71145461e+09  1.70926779e+09  1.18e-05 3.67e-07  2.14e-01  3681s\n"
     ]
    },
    {
     "name": "stdout",
     "output_type": "stream",
     "text": [
      " 142   1.71139953e+09  1.70930022e+09  1.13e-05 3.52e-07  2.05e-01  3694s\n"
     ]
    },
    {
     "name": "stderr",
     "output_type": "stream",
     "text": [
      "INFO:gurobipy: 142   1.71139953e+09  1.70930022e+09  1.13e-05 3.52e-07  2.05e-01  3694s\n"
     ]
    },
    {
     "name": "stdout",
     "output_type": "stream",
     "text": [
      " 143   1.71133740e+09  1.70937925e+09  1.08e-05 3.24e-07  1.91e-01  3707s\n"
     ]
    },
    {
     "name": "stderr",
     "output_type": "stream",
     "text": [
      "INFO:gurobipy: 143   1.71133740e+09  1.70937925e+09  1.08e-05 3.24e-07  1.91e-01  3707s\n"
     ]
    },
    {
     "name": "stdout",
     "output_type": "stream",
     "text": [
      " 144   1.71126692e+09  1.70942963e+09  1.02e-05 3.16e-07  1.80e-01  3721s\n"
     ]
    },
    {
     "name": "stderr",
     "output_type": "stream",
     "text": [
      "INFO:gurobipy: 144   1.71126692e+09  1.70942963e+09  1.02e-05 3.16e-07  1.80e-01  3721s\n"
     ]
    },
    {
     "name": "stdout",
     "output_type": "stream",
     "text": [
      " 145   1.71116792e+09  1.70946738e+09  9.30e-06 3.02e-07  1.66e-01  3733s\n"
     ]
    },
    {
     "name": "stderr",
     "output_type": "stream",
     "text": [
      "INFO:gurobipy: 145   1.71116792e+09  1.70946738e+09  9.30e-06 3.02e-07  1.66e-01  3733s\n"
     ]
    },
    {
     "name": "stdout",
     "output_type": "stream",
     "text": [
      " 146   1.71108599e+09  1.70956303e+09  8.62e-06 2.65e-07  1.49e-01  3746s\n"
     ]
    },
    {
     "name": "stderr",
     "output_type": "stream",
     "text": [
      "INFO:gurobipy: 146   1.71108599e+09  1.70956303e+09  8.62e-06 2.65e-07  1.49e-01  3746s\n"
     ]
    },
    {
     "name": "stdout",
     "output_type": "stream",
     "text": [
      " 147   1.71099039e+09  1.70960624e+09  7.89e-06 2.49e-07  1.35e-01  3759s\n"
     ]
    },
    {
     "name": "stderr",
     "output_type": "stream",
     "text": [
      "INFO:gurobipy: 147   1.71099039e+09  1.70960624e+09  7.89e-06 2.49e-07  1.35e-01  3759s\n"
     ]
    },
    {
     "name": "stdout",
     "output_type": "stream",
     "text": [
      " 148   1.71095404e+09  1.70963611e+09  7.58e-06 2.35e-07  1.29e-01  3774s\n"
     ]
    },
    {
     "name": "stderr",
     "output_type": "stream",
     "text": [
      "INFO:gurobipy: 148   1.71095404e+09  1.70963611e+09  7.58e-06 2.35e-07  1.29e-01  3774s\n"
     ]
    },
    {
     "name": "stdout",
     "output_type": "stream",
     "text": [
      " 149   1.71091988e+09  1.70964540e+09  7.30e-06 2.31e-07  1.25e-01  3790s\n"
     ]
    },
    {
     "name": "stderr",
     "output_type": "stream",
     "text": [
      "INFO:gurobipy: 149   1.71091988e+09  1.70964540e+09  7.30e-06 2.31e-07  1.25e-01  3790s\n"
     ]
    },
    {
     "name": "stdout",
     "output_type": "stream",
     "text": [
      " 150   1.71088400e+09  1.70966862e+09  6.97e-06 2.22e-07  1.19e-01  3808s\n"
     ]
    },
    {
     "name": "stderr",
     "output_type": "stream",
     "text": [
      "INFO:gurobipy: 150   1.71088400e+09  1.70966862e+09  6.97e-06 2.22e-07  1.19e-01  3808s\n"
     ]
    },
    {
     "name": "stdout",
     "output_type": "stream",
     "text": [
      " 151   1.71082859e+09  1.70970162e+09  6.49e-06 2.08e-07  1.10e-01  3821s\n"
     ]
    },
    {
     "name": "stderr",
     "output_type": "stream",
     "text": [
      "INFO:gurobipy: 151   1.71082859e+09  1.70970162e+09  6.49e-06 2.08e-07  1.10e-01  3821s\n"
     ]
    },
    {
     "name": "stdout",
     "output_type": "stream",
     "text": [
      " 152   1.71074567e+09  1.70971252e+09  6.14e-06 2.02e-07  1.01e-01  3833s\n"
     ]
    },
    {
     "name": "stderr",
     "output_type": "stream",
     "text": [
      "INFO:gurobipy: 152   1.71074567e+09  1.70971252e+09  6.14e-06 2.02e-07  1.01e-01  3833s\n"
     ]
    },
    {
     "name": "stdout",
     "output_type": "stream",
     "text": [
      " 153   1.71066926e+09  1.70974780e+09  5.22e-06 1.85e-07  9.00e-02  3846s\n"
     ]
    },
    {
     "name": "stderr",
     "output_type": "stream",
     "text": [
      "INFO:gurobipy: 153   1.71066926e+09  1.70974780e+09  5.22e-06 1.85e-07  9.00e-02  3846s\n"
     ]
    },
    {
     "name": "stdout",
     "output_type": "stream",
     "text": [
      " 154   1.71061780e+09  1.70978687e+09  4.78e-06 1.67e-07  8.12e-02  3858s\n"
     ]
    },
    {
     "name": "stderr",
     "output_type": "stream",
     "text": [
      "INFO:gurobipy: 154   1.71061780e+09  1.70978687e+09  4.78e-06 1.67e-07  8.12e-02  3858s\n"
     ]
    },
    {
     "name": "stdout",
     "output_type": "stream",
     "text": [
      " 155   1.71059489e+09  1.70980415e+09  4.58e-06 1.62e-07  7.73e-02  3873s\n"
     ]
    },
    {
     "name": "stderr",
     "output_type": "stream",
     "text": [
      "INFO:gurobipy: 155   1.71059489e+09  1.70980415e+09  4.58e-06 1.62e-07  7.73e-02  3873s\n"
     ]
    },
    {
     "name": "stdout",
     "output_type": "stream",
     "text": [
      " 156   1.71057762e+09  1.70981118e+09  4.42e-06 1.59e-07  7.49e-02  3886s\n"
     ]
    },
    {
     "name": "stderr",
     "output_type": "stream",
     "text": [
      "INFO:gurobipy: 156   1.71057762e+09  1.70981118e+09  4.42e-06 1.59e-07  7.49e-02  3886s\n"
     ]
    },
    {
     "name": "stdout",
     "output_type": "stream",
     "text": [
      " 157   1.71054752e+09  1.70983316e+09  4.16e-06 1.55e-07  6.98e-02  3901s\n"
     ]
    },
    {
     "name": "stderr",
     "output_type": "stream",
     "text": [
      "INFO:gurobipy: 157   1.71054752e+09  1.70983316e+09  4.16e-06 1.55e-07  6.98e-02  3901s\n"
     ]
    },
    {
     "name": "stdout",
     "output_type": "stream",
     "text": [
      " 158   1.71051123e+09  1.70984948e+09  3.86e-06 1.51e-07  6.47e-02  3914s\n"
     ]
    },
    {
     "name": "stderr",
     "output_type": "stream",
     "text": [
      "INFO:gurobipy: 158   1.71051123e+09  1.70984948e+09  3.86e-06 1.51e-07  6.47e-02  3914s\n"
     ]
    },
    {
     "name": "stdout",
     "output_type": "stream",
     "text": [
      " 159   1.71048824e+09  1.70986318e+09  3.67e-06 1.55e-07  6.11e-02  3927s\n"
     ]
    },
    {
     "name": "stderr",
     "output_type": "stream",
     "text": [
      "INFO:gurobipy: 159   1.71048824e+09  1.70986318e+09  3.67e-06 1.55e-07  6.11e-02  3927s\n"
     ]
    },
    {
     "name": "stdout",
     "output_type": "stream",
     "text": [
      " 160   1.71044749e+09  1.70987130e+09  3.32e-06 1.48e-07  5.63e-02  3942s\n"
     ]
    },
    {
     "name": "stderr",
     "output_type": "stream",
     "text": [
      "INFO:gurobipy: 160   1.71044749e+09  1.70987130e+09  3.32e-06 1.48e-07  5.63e-02  3942s\n"
     ]
    },
    {
     "name": "stdout",
     "output_type": "stream",
     "text": [
      " 161   1.71042720e+09  1.70989111e+09  3.15e-06 1.50e-07  5.24e-02  3954s\n"
     ]
    },
    {
     "name": "stderr",
     "output_type": "stream",
     "text": [
      "INFO:gurobipy: 161   1.71042720e+09  1.70989111e+09  3.15e-06 1.50e-07  5.24e-02  3954s\n"
     ]
    },
    {
     "name": "stdout",
     "output_type": "stream",
     "text": [
      " 162   1.71040978e+09  1.70990466e+09  2.99e-06 1.85e-07  4.94e-02  3966s\n"
     ]
    },
    {
     "name": "stderr",
     "output_type": "stream",
     "text": [
      "INFO:gurobipy: 162   1.71040978e+09  1.70990466e+09  2.99e-06 1.85e-07  4.94e-02  3966s\n"
     ]
    },
    {
     "name": "stdout",
     "output_type": "stream",
     "text": [
      " 163   1.71036443e+09  1.70991492e+09  2.60e-06 1.64e-07  4.39e-02  3980s\n"
     ]
    },
    {
     "name": "stderr",
     "output_type": "stream",
     "text": [
      "INFO:gurobipy: 163   1.71036443e+09  1.70991492e+09  2.60e-06 1.64e-07  4.39e-02  3980s\n"
     ]
    },
    {
     "name": "stdout",
     "output_type": "stream",
     "text": [
      " 164   1.71036025e+09  1.70992468e+09  2.56e-06 1.54e-07  4.26e-02  3990s\n"
     ]
    },
    {
     "name": "stderr",
     "output_type": "stream",
     "text": [
      "INFO:gurobipy: 164   1.71036025e+09  1.70992468e+09  2.56e-06 1.54e-07  4.26e-02  3990s\n"
     ]
    },
    {
     "name": "stdout",
     "output_type": "stream",
     "text": [
      " 165   1.71035298e+09  1.70993076e+09  2.49e-06 1.48e-07  4.13e-02  4005s\n"
     ]
    },
    {
     "name": "stderr",
     "output_type": "stream",
     "text": [
      "INFO:gurobipy: 165   1.71035298e+09  1.70993076e+09  2.49e-06 1.48e-07  4.13e-02  4005s\n"
     ]
    },
    {
     "name": "stdout",
     "output_type": "stream",
     "text": [
      " 166   1.71033637e+09  1.70994049e+09  2.35e-06 1.39e-07  3.87e-02  4018s\n"
     ]
    },
    {
     "name": "stderr",
     "output_type": "stream",
     "text": [
      "INFO:gurobipy: 166   1.71033637e+09  1.70994049e+09  2.35e-06 1.39e-07  3.87e-02  4018s\n"
     ]
    },
    {
     "name": "stdout",
     "output_type": "stream",
     "text": [
      " 167   1.71032011e+09  1.70994813e+09  2.20e-06 1.32e-07  3.63e-02  4030s\n"
     ]
    },
    {
     "name": "stderr",
     "output_type": "stream",
     "text": [
      "INFO:gurobipy: 167   1.71032011e+09  1.70994813e+09  2.20e-06 1.32e-07  3.63e-02  4030s\n"
     ]
    },
    {
     "name": "stdout",
     "output_type": "stream",
     "text": [
      " 168   1.71030928e+09  1.70995231e+09  2.10e-06 1.28e-07  3.49e-02  4044s\n"
     ]
    },
    {
     "name": "stderr",
     "output_type": "stream",
     "text": [
      "INFO:gurobipy: 168   1.71030928e+09  1.70995231e+09  2.10e-06 1.28e-07  3.49e-02  4044s\n"
     ]
    },
    {
     "name": "stdout",
     "output_type": "stream",
     "text": [
      " 169   1.71029968e+09  1.70995859e+09  2.02e-06 1.22e-07  3.33e-02  4054s\n"
     ]
    },
    {
     "name": "stderr",
     "output_type": "stream",
     "text": [
      "INFO:gurobipy: 169   1.71029968e+09  1.70995859e+09  2.02e-06 1.22e-07  3.33e-02  4054s\n"
     ]
    },
    {
     "name": "stdout",
     "output_type": "stream",
     "text": [
      " 170   1.71028666e+09  1.70996678e+09  1.91e-06 1.13e-07  3.13e-02  4067s\n"
     ]
    },
    {
     "name": "stderr",
     "output_type": "stream",
     "text": [
      "INFO:gurobipy: 170   1.71028666e+09  1.70996678e+09  1.91e-06 1.13e-07  3.13e-02  4067s\n"
     ]
    },
    {
     "name": "stdout",
     "output_type": "stream",
     "text": [
      " 171   1.71027897e+09  1.70997156e+09  1.84e-06 1.07e-07  3.00e-02  4076s\n"
     ]
    },
    {
     "name": "stderr",
     "output_type": "stream",
     "text": [
      "INFO:gurobipy: 171   1.71027897e+09  1.70997156e+09  1.84e-06 1.07e-07  3.00e-02  4076s\n"
     ]
    },
    {
     "name": "stdout",
     "output_type": "stream",
     "text": [
      " 172   1.71025840e+09  1.70998114e+09  1.66e-06 9.43e-08  2.71e-02  4087s\n"
     ]
    },
    {
     "name": "stderr",
     "output_type": "stream",
     "text": [
      "INFO:gurobipy: 172   1.71025840e+09  1.70998114e+09  1.66e-06 9.43e-08  2.71e-02  4087s\n"
     ]
    },
    {
     "name": "stdout",
     "output_type": "stream",
     "text": [
      " 173   1.71024680e+09  1.70998821e+09  1.57e-06 8.53e-08  2.53e-02  4100s\n"
     ]
    },
    {
     "name": "stderr",
     "output_type": "stream",
     "text": [
      "INFO:gurobipy: 173   1.71024680e+09  1.70998821e+09  1.57e-06 8.53e-08  2.53e-02  4100s\n"
     ]
    },
    {
     "name": "stdout",
     "output_type": "stream",
     "text": [
      " 174   1.71023168e+09  1.70999570e+09  1.44e-06 7.75e-08  2.31e-02  4111s\n"
     ]
    },
    {
     "name": "stderr",
     "output_type": "stream",
     "text": [
      "INFO:gurobipy: 174   1.71023168e+09  1.70999570e+09  1.44e-06 7.75e-08  2.31e-02  4111s\n"
     ]
    },
    {
     "name": "stdout",
     "output_type": "stream",
     "text": [
      " 175   1.71022022e+09  1.71000454e+09  1.34e-06 6.72e-08  2.11e-02  4123s\n"
     ]
    },
    {
     "name": "stderr",
     "output_type": "stream",
     "text": [
      "INFO:gurobipy: 175   1.71022022e+09  1.71000454e+09  1.34e-06 6.72e-08  2.11e-02  4123s\n"
     ]
    },
    {
     "name": "stdout",
     "output_type": "stream",
     "text": [
      " 176   1.71021259e+09  1.71000823e+09  1.27e-06 6.32e-08  2.00e-02  4133s\n"
     ]
    },
    {
     "name": "stderr",
     "output_type": "stream",
     "text": [
      "INFO:gurobipy: 176   1.71021259e+09  1.71000823e+09  1.27e-06 6.32e-08  2.00e-02  4133s\n"
     ]
    },
    {
     "name": "stdout",
     "output_type": "stream",
     "text": [
      " 177   1.71019346e+09  1.71001691e+09  1.24e-06 5.32e-08  1.73e-02  4145s\n"
     ]
    },
    {
     "name": "stderr",
     "output_type": "stream",
     "text": [
      "INFO:gurobipy: 177   1.71019346e+09  1.71001691e+09  1.24e-06 5.32e-08  1.73e-02  4145s\n"
     ]
    },
    {
     "name": "stdout",
     "output_type": "stream",
     "text": [
      " 178   1.71018980e+09  1.71001942e+09  1.20e-06 5.00e-08  1.66e-02  4152s\n"
     ]
    },
    {
     "name": "stderr",
     "output_type": "stream",
     "text": [
      "INFO:gurobipy: 178   1.71018980e+09  1.71001942e+09  1.20e-06 5.00e-08  1.66e-02  4152s\n"
     ]
    },
    {
     "name": "stdout",
     "output_type": "stream",
     "text": [
      " 179   1.71017571e+09  1.71002414e+09  1.09e-06 4.55e-08  1.48e-02  4163s\n"
     ]
    },
    {
     "name": "stderr",
     "output_type": "stream",
     "text": [
      "INFO:gurobipy: 179   1.71017571e+09  1.71002414e+09  1.09e-06 4.55e-08  1.48e-02  4163s\n"
     ]
    },
    {
     "name": "stdout",
     "output_type": "stream",
     "text": [
      " 180   1.71016913e+09  1.71002759e+09  1.07e-06 4.14e-08  1.38e-02  4171s\n"
     ]
    },
    {
     "name": "stderr",
     "output_type": "stream",
     "text": [
      "INFO:gurobipy: 180   1.71016913e+09  1.71002759e+09  1.07e-06 4.14e-08  1.38e-02  4171s\n"
     ]
    },
    {
     "name": "stdout",
     "output_type": "stream",
     "text": [
      " 181   1.71016025e+09  1.71003062e+09  9.79e-07 3.84e-08  1.27e-02  4184s\n"
     ]
    },
    {
     "name": "stderr",
     "output_type": "stream",
     "text": [
      "INFO:gurobipy: 181   1.71016025e+09  1.71003062e+09  9.79e-07 3.84e-08  1.27e-02  4184s\n"
     ]
    },
    {
     "name": "stdout",
     "output_type": "stream",
     "text": [
      " 182   1.71015060e+09  1.71003418e+09  8.70e-07 3.52e-08  1.14e-02  4197s\n"
     ]
    },
    {
     "name": "stderr",
     "output_type": "stream",
     "text": [
      "INFO:gurobipy: 182   1.71015060e+09  1.71003418e+09  8.70e-07 3.52e-08  1.14e-02  4197s\n"
     ]
    },
    {
     "name": "stdout",
     "output_type": "stream",
     "text": [
      " 183   1.71014566e+09  1.71003519e+09  8.49e-07 3.82e-08  1.08e-02  4209s\n"
     ]
    },
    {
     "name": "stderr",
     "output_type": "stream",
     "text": [
      "INFO:gurobipy: 183   1.71014566e+09  1.71003519e+09  8.49e-07 3.82e-08  1.08e-02  4209s\n"
     ]
    },
    {
     "name": "stdout",
     "output_type": "stream",
     "text": [
      " 184   1.71014026e+09  1.71003865e+09  7.91e-07 4.19e-08  9.93e-03  4223s\n"
     ]
    },
    {
     "name": "stderr",
     "output_type": "stream",
     "text": [
      "INFO:gurobipy: 184   1.71014026e+09  1.71003865e+09  7.91e-07 4.19e-08  9.93e-03  4223s\n"
     ]
    },
    {
     "name": "stdout",
     "output_type": "stream",
     "text": [
      " 185   1.71013699e+09  1.71003985e+09  7.55e-07 2.79e-08  9.49e-03  4237s\n"
     ]
    },
    {
     "name": "stderr",
     "output_type": "stream",
     "text": [
      "INFO:gurobipy: 185   1.71013699e+09  1.71003985e+09  7.55e-07 2.79e-08  9.49e-03  4237s\n"
     ]
    },
    {
     "name": "stdout",
     "output_type": "stream",
     "text": [
      " 186   1.71013093e+09  1.71004133e+09  6.90e-07 2.69e-08  8.75e-03  4249s\n"
     ]
    },
    {
     "name": "stderr",
     "output_type": "stream",
     "text": [
      "INFO:gurobipy: 186   1.71013093e+09  1.71004133e+09  6.90e-07 2.69e-08  8.75e-03  4249s\n"
     ]
    },
    {
     "name": "stdout",
     "output_type": "stream",
     "text": [
      " 187   1.71012598e+09  1.71004354e+09  6.37e-07 2.55e-08  8.05e-03  4263s\n"
     ]
    },
    {
     "name": "stderr",
     "output_type": "stream",
     "text": [
      "INFO:gurobipy: 187   1.71012598e+09  1.71004354e+09  6.37e-07 2.55e-08  8.05e-03  4263s\n"
     ]
    },
    {
     "name": "stdout",
     "output_type": "stream",
     "text": [
      " 188   1.71012190e+09  1.71004615e+09  5.91e-07 2.39e-08  7.40e-03  4275s\n"
     ]
    },
    {
     "name": "stderr",
     "output_type": "stream",
     "text": [
      "INFO:gurobipy: 188   1.71012190e+09  1.71004615e+09  5.91e-07 2.39e-08  7.40e-03  4275s\n"
     ]
    },
    {
     "name": "stdout",
     "output_type": "stream",
     "text": [
      " 189   1.71011941e+09  1.71004731e+09  5.63e-07 2.51e-08  7.04e-03  4287s\n"
     ]
    },
    {
     "name": "stderr",
     "output_type": "stream",
     "text": [
      "INFO:gurobipy: 189   1.71011941e+09  1.71004731e+09  5.63e-07 2.51e-08  7.04e-03  4287s\n"
     ]
    },
    {
     "name": "stdout",
     "output_type": "stream",
     "text": [
      " 190   1.71011862e+09  1.71004835e+09  5.54e-07 2.23e-08  6.87e-03  4299s\n"
     ]
    },
    {
     "name": "stderr",
     "output_type": "stream",
     "text": [
      "INFO:gurobipy: 190   1.71011862e+09  1.71004835e+09  5.54e-07 2.23e-08  6.87e-03  4299s\n"
     ]
    },
    {
     "name": "stdout",
     "output_type": "stream",
     "text": [
      " 191   1.71011696e+09  1.71004918e+09  5.36e-07 2.33e-08  6.62e-03  4313s\n"
     ]
    },
    {
     "name": "stderr",
     "output_type": "stream",
     "text": [
      "INFO:gurobipy: 191   1.71011696e+09  1.71004918e+09  5.36e-07 2.33e-08  6.62e-03  4313s\n"
     ]
    },
    {
     "name": "stdout",
     "output_type": "stream",
     "text": [
      " 192   1.71011316e+09  1.71005069e+09  4.93e-07 2.04e-08  6.10e-03  4322s\n"
     ]
    },
    {
     "name": "stderr",
     "output_type": "stream",
     "text": [
      "INFO:gurobipy: 192   1.71011316e+09  1.71005069e+09  4.93e-07 2.04e-08  6.10e-03  4322s\n"
     ]
    },
    {
     "name": "stdout",
     "output_type": "stream",
     "text": [
      " 193   1.71010932e+09  1.71005151e+09  4.50e-07 1.97e-08  5.65e-03  4337s\n"
     ]
    },
    {
     "name": "stderr",
     "output_type": "stream",
     "text": [
      "INFO:gurobipy: 193   1.71010932e+09  1.71005151e+09  4.50e-07 1.97e-08  5.65e-03  4337s\n"
     ]
    },
    {
     "name": "stdout",
     "output_type": "stream",
     "text": [
      " 194   1.71010705e+09  1.71005290e+09  4.24e-07 1.85e-08  5.29e-03  4350s\n"
     ]
    },
    {
     "name": "stderr",
     "output_type": "stream",
     "text": [
      "INFO:gurobipy: 194   1.71010705e+09  1.71005290e+09  4.24e-07 1.85e-08  5.29e-03  4350s\n"
     ]
    },
    {
     "name": "stdout",
     "output_type": "stream",
     "text": [
      " 195   1.71010393e+09  1.71005495e+09  3.89e-07 1.85e-08  4.78e-03  4363s\n"
     ]
    },
    {
     "name": "stderr",
     "output_type": "stream",
     "text": [
      "INFO:gurobipy: 195   1.71010393e+09  1.71005495e+09  3.89e-07 1.85e-08  4.78e-03  4363s\n"
     ]
    },
    {
     "name": "stdout",
     "output_type": "stream",
     "text": [
      " 196   1.71010308e+09  1.71005529e+09  3.79e-07 1.86e-08  4.67e-03  4373s\n"
     ]
    },
    {
     "name": "stderr",
     "output_type": "stream",
     "text": [
      "INFO:gurobipy: 196   1.71010308e+09  1.71005529e+09  3.79e-07 1.86e-08  4.67e-03  4373s\n"
     ]
    },
    {
     "name": "stdout",
     "output_type": "stream",
     "text": [
      " 197   1.71009721e+09  1.71005656e+09  3.13e-07 2.42e-08  3.97e-03  4387s\n"
     ]
    },
    {
     "name": "stderr",
     "output_type": "stream",
     "text": [
      "INFO:gurobipy: 197   1.71009721e+09  1.71005656e+09  3.13e-07 2.42e-08  3.97e-03  4387s\n"
     ]
    },
    {
     "name": "stdout",
     "output_type": "stream",
     "text": [
      " 198   1.71009528e+09  1.71005791e+09  2.91e-07 1.94e-08  3.65e-03  4399s\n"
     ]
    },
    {
     "name": "stderr",
     "output_type": "stream",
     "text": [
      "INFO:gurobipy: 198   1.71009528e+09  1.71005791e+09  2.91e-07 1.94e-08  3.65e-03  4399s\n"
     ]
    },
    {
     "name": "stdout",
     "output_type": "stream",
     "text": [
      " 199   1.71009359e+09  1.71005892e+09  2.71e-07 1.94e-08  3.39e-03  4414s\n"
     ]
    },
    {
     "name": "stderr",
     "output_type": "stream",
     "text": [
      "INFO:gurobipy: 199   1.71009359e+09  1.71005892e+09  2.71e-07 1.94e-08  3.39e-03  4414s\n"
     ]
    },
    {
     "name": "stdout",
     "output_type": "stream",
     "text": [
      " 200   1.71009179e+09  1.71005968e+09  2.51e-07 1.89e-08  3.14e-03  4426s\n"
     ]
    },
    {
     "name": "stderr",
     "output_type": "stream",
     "text": [
      "INFO:gurobipy: 200   1.71009179e+09  1.71005968e+09  2.51e-07 1.89e-08  3.14e-03  4426s\n"
     ]
    },
    {
     "name": "stdout",
     "output_type": "stream",
     "text": [
      " 201   1.71008958e+09  1.71006019e+09  2.25e-07 4.28e-08  2.87e-03  4438s\n"
     ]
    },
    {
     "name": "stderr",
     "output_type": "stream",
     "text": [
      "INFO:gurobipy: 201   1.71008958e+09  1.71006019e+09  2.25e-07 4.28e-08  2.87e-03  4438s\n"
     ]
    },
    {
     "name": "stdout",
     "output_type": "stream",
     "text": [
      " 202   1.71008825e+09  1.71006132e+09  2.10e-07 1.94e-08  2.63e-03  4453s\n"
     ]
    },
    {
     "name": "stderr",
     "output_type": "stream",
     "text": [
      "INFO:gurobipy: 202   1.71008825e+09  1.71006132e+09  2.10e-07 1.94e-08  2.63e-03  4453s\n"
     ]
    },
    {
     "name": "stdout",
     "output_type": "stream",
     "text": [
      " 203   1.71008690e+09  1.71006235e+09  1.95e-07 1.97e-08  2.40e-03  4465s\n"
     ]
    },
    {
     "name": "stderr",
     "output_type": "stream",
     "text": [
      "INFO:gurobipy: 203   1.71008690e+09  1.71006235e+09  1.95e-07 1.97e-08  2.40e-03  4465s\n"
     ]
    },
    {
     "name": "stdout",
     "output_type": "stream",
     "text": [
      " 204   1.71008573e+09  1.71006285e+09  1.82e-07 2.02e-08  2.24e-03  4479s\n"
     ]
    },
    {
     "name": "stderr",
     "output_type": "stream",
     "text": [
      "INFO:gurobipy: 204   1.71008573e+09  1.71006285e+09  1.82e-07 2.02e-08  2.24e-03  4479s\n"
     ]
    },
    {
     "name": "stdout",
     "output_type": "stream",
     "text": [
      " 205   1.71008480e+09  1.71006374e+09  1.71e-07 2.11e-08  2.06e-03  4492s\n"
     ]
    },
    {
     "name": "stderr",
     "output_type": "stream",
     "text": [
      "INFO:gurobipy: 205   1.71008480e+09  1.71006374e+09  1.71e-07 2.11e-08  2.06e-03  4492s\n"
     ]
    },
    {
     "name": "stdout",
     "output_type": "stream",
     "text": [
      " 206   1.71008437e+09  1.71006391e+09  1.66e-07 2.13e-08  2.00e-03  4501s\n"
     ]
    },
    {
     "name": "stderr",
     "output_type": "stream",
     "text": [
      "INFO:gurobipy: 206   1.71008437e+09  1.71006391e+09  1.66e-07 2.13e-08  2.00e-03  4501s\n"
     ]
    },
    {
     "name": "stdout",
     "output_type": "stream",
     "text": [
      " 207   1.71008301e+09  1.71006451e+09  1.51e-07 4.84e-08  1.81e-03  4511s\n"
     ]
    },
    {
     "name": "stderr",
     "output_type": "stream",
     "text": [
      "INFO:gurobipy: 207   1.71008301e+09  1.71006451e+09  1.51e-07 4.84e-08  1.81e-03  4511s\n"
     ]
    },
    {
     "name": "stdout",
     "output_type": "stream",
     "text": [
      " 208   1.71008267e+09  1.71006471e+09  1.47e-07 2.18e-08  1.76e-03  4526s\n"
     ]
    },
    {
     "name": "stderr",
     "output_type": "stream",
     "text": [
      "INFO:gurobipy: 208   1.71008267e+09  1.71006471e+09  1.47e-07 2.18e-08  1.76e-03  4526s\n"
     ]
    },
    {
     "name": "stdout",
     "output_type": "stream",
     "text": [
      " 209   1.71008189e+09  1.71006513e+09  1.45e-07 2.18e-08  1.64e-03  4538s\n"
     ]
    },
    {
     "name": "stderr",
     "output_type": "stream",
     "text": [
      "INFO:gurobipy: 209   1.71008189e+09  1.71006513e+09  1.45e-07 2.18e-08  1.64e-03  4538s\n"
     ]
    },
    {
     "name": "stdout",
     "output_type": "stream",
     "text": [
      " 210   1.71008146e+09  1.71006531e+09  1.50e-07 2.79e-08  1.58e-03  4549s\n"
     ]
    },
    {
     "name": "stderr",
     "output_type": "stream",
     "text": [
      "INFO:gurobipy: 210   1.71008146e+09  1.71006531e+09  1.50e-07 2.79e-08  1.58e-03  4549s\n"
     ]
    },
    {
     "name": "stdout",
     "output_type": "stream",
     "text": [
      " 211   1.71008084e+09  1.71006544e+09  1.44e-07 2.15e-08  1.51e-03  4557s\n"
     ]
    },
    {
     "name": "stderr",
     "output_type": "stream",
     "text": [
      "INFO:gurobipy: 211   1.71008084e+09  1.71006544e+09  1.44e-07 2.15e-08  1.51e-03  4557s\n"
     ]
    },
    {
     "name": "stdout",
     "output_type": "stream",
     "text": [
      " 212   1.71007999e+09  1.71006579e+09  1.45e-07 2.15e-08  1.39e-03  4568s\n"
     ]
    },
    {
     "name": "stderr",
     "output_type": "stream",
     "text": [
      "INFO:gurobipy: 212   1.71007999e+09  1.71006579e+09  1.45e-07 2.15e-08  1.39e-03  4568s\n"
     ]
    },
    {
     "name": "stdout",
     "output_type": "stream",
     "text": [
      " 213   1.71007957e+09  1.71006620e+09  1.46e-07 2.12e-08  1.31e-03  4580s\n"
     ]
    },
    {
     "name": "stderr",
     "output_type": "stream",
     "text": [
      "INFO:gurobipy: 213   1.71007957e+09  1.71006620e+09  1.46e-07 2.12e-08  1.31e-03  4580s\n"
     ]
    },
    {
     "name": "stdout",
     "output_type": "stream",
     "text": [
      " 214   1.71007850e+09  1.71006650e+09  1.34e-07 3.91e-08  1.17e-03  4592s\n"
     ]
    },
    {
     "name": "stderr",
     "output_type": "stream",
     "text": [
      "INFO:gurobipy: 214   1.71007850e+09  1.71006650e+09  1.34e-07 3.91e-08  1.17e-03  4592s\n"
     ]
    },
    {
     "name": "stdout",
     "output_type": "stream",
     "text": [
      " 215   1.71007822e+09  1.71006676e+09  1.29e-07 2.09e-08  1.12e-03  4603s\n"
     ]
    },
    {
     "name": "stderr",
     "output_type": "stream",
     "text": [
      "INFO:gurobipy: 215   1.71007822e+09  1.71006676e+09  1.29e-07 2.09e-08  1.12e-03  4603s\n"
     ]
    },
    {
     "name": "stdout",
     "output_type": "stream",
     "text": [
      " 216   1.71007744e+09  1.71006711e+09  1.22e-07 2.05e-08  1.01e-03  4622s\n"
     ]
    },
    {
     "name": "stderr",
     "output_type": "stream",
     "text": [
      "INFO:gurobipy: 216   1.71007744e+09  1.71006711e+09  1.22e-07 2.05e-08  1.01e-03  4622s\n"
     ]
    },
    {
     "name": "stdout",
     "output_type": "stream",
     "text": [
      " 217   1.71007708e+09  1.71006721e+09  1.17e-07 2.04e-08  9.65e-04  4637s\n"
     ]
    },
    {
     "name": "stderr",
     "output_type": "stream",
     "text": [
      "INFO:gurobipy: 217   1.71007708e+09  1.71006721e+09  1.17e-07 2.04e-08  9.65e-04  4637s\n"
     ]
    },
    {
     "name": "stdout",
     "output_type": "stream",
     "text": [
      " 218   1.71007630e+09  1.71006733e+09  1.01e-07 2.03e-08  8.77e-04  4651s\n"
     ]
    },
    {
     "name": "stderr",
     "output_type": "stream",
     "text": [
      "INFO:gurobipy: 218   1.71007630e+09  1.71006733e+09  1.01e-07 2.03e-08  8.77e-04  4651s\n"
     ]
    },
    {
     "name": "stdout",
     "output_type": "stream",
     "text": [
      " 219   1.71007575e+09  1.71006773e+09  8.32e-08 2.04e-08  7.83e-04  4666s\n"
     ]
    },
    {
     "name": "stderr",
     "output_type": "stream",
     "text": [
      "INFO:gurobipy: 219   1.71007575e+09  1.71006773e+09  8.32e-08 2.04e-08  7.83e-04  4666s\n"
     ]
    },
    {
     "name": "stdout",
     "output_type": "stream",
     "text": [
      " 220   1.71007549e+09  1.71006793e+09  7.75e-08 1.98e-08  7.39e-04  4676s\n"
     ]
    },
    {
     "name": "stderr",
     "output_type": "stream",
     "text": [
      "INFO:gurobipy: 220   1.71007549e+09  1.71006793e+09  7.75e-08 1.98e-08  7.39e-04  4676s\n"
     ]
    },
    {
     "name": "stdout",
     "output_type": "stream",
     "text": [
      " 221   1.71007485e+09  1.71006809e+09  5.71e-08 2.10e-08  6.59e-04  4687s\n"
     ]
    },
    {
     "name": "stderr",
     "output_type": "stream",
     "text": [
      "INFO:gurobipy: 221   1.71007485e+09  1.71006809e+09  5.71e-08 2.10e-08  6.59e-04  4687s\n"
     ]
    },
    {
     "name": "stdout",
     "output_type": "stream",
     "text": [
      " 222   1.71007451e+09  1.71006829e+09  5.32e-08 1.88e-08  6.07e-04  4700s\n"
     ]
    },
    {
     "name": "stderr",
     "output_type": "stream",
     "text": [
      "INFO:gurobipy: 222   1.71007451e+09  1.71006829e+09  5.32e-08 1.88e-08  6.07e-04  4700s\n"
     ]
    },
    {
     "name": "stdout",
     "output_type": "stream",
     "text": [
      " 223   1.71007412e+09  1.71006842e+09  4.85e-08 1.82e-08  5.56e-04  4710s\n"
     ]
    },
    {
     "name": "stderr",
     "output_type": "stream",
     "text": [
      "INFO:gurobipy: 223   1.71007412e+09  1.71006842e+09  4.85e-08 1.82e-08  5.56e-04  4710s\n"
     ]
    },
    {
     "name": "stdout",
     "output_type": "stream",
     "text": [
      " 224   1.71007378e+09  1.71006860e+09  4.46e-08 3.82e-08  5.05e-04  4723s\n"
     ]
    },
    {
     "name": "stderr",
     "output_type": "stream",
     "text": [
      "INFO:gurobipy: 224   1.71007378e+09  1.71006860e+09  4.46e-08 3.82e-08  5.05e-04  4723s\n"
     ]
    },
    {
     "name": "stdout",
     "output_type": "stream",
     "text": [
      " 225   1.71007327e+09  1.71006871e+09  6.60e-08 3.45e-08  4.45e-04  4738s\n"
     ]
    },
    {
     "name": "stderr",
     "output_type": "stream",
     "text": [
      "INFO:gurobipy: 225   1.71007327e+09  1.71006871e+09  6.60e-08 3.45e-08  4.45e-04  4738s\n"
     ]
    },
    {
     "name": "stdout",
     "output_type": "stream",
     "text": [
      " 226   1.71007288e+09  1.71006878e+09  5.84e-08 1.69e-08  3.98e-04  4750s\n"
     ]
    },
    {
     "name": "stderr",
     "output_type": "stream",
     "text": [
      "INFO:gurobipy: 226   1.71007288e+09  1.71006878e+09  5.84e-08 1.69e-08  3.98e-04  4750s\n"
     ]
    },
    {
     "name": "stdout",
     "output_type": "stream",
     "text": [
      " 227   1.71007281e+09  1.71006884e+09  5.73e-08 1.66e-08  3.86e-04  4758s\n"
     ]
    },
    {
     "name": "stderr",
     "output_type": "stream",
     "text": [
      "INFO:gurobipy: 227   1.71007281e+09  1.71006884e+09  5.73e-08 1.66e-08  3.86e-04  4758s\n"
     ]
    },
    {
     "name": "stdout",
     "output_type": "stream",
     "text": [
      " 228   1.71007249e+09  1.71006896e+09  5.93e-08 1.63e-08  3.43e-04  4771s\n"
     ]
    },
    {
     "name": "stderr",
     "output_type": "stream",
     "text": [
      "INFO:gurobipy: 228   1.71007249e+09  1.71006896e+09  5.93e-08 1.63e-08  3.43e-04  4771s\n"
     ]
    },
    {
     "name": "stdout",
     "output_type": "stream",
     "text": [
      " 229   1.71007222e+09  1.71006907e+09  2.66e-08 2.33e-08  3.06e-04  4788s\n"
     ]
    },
    {
     "name": "stderr",
     "output_type": "stream",
     "text": [
      "INFO:gurobipy: 229   1.71007222e+09  1.71006907e+09  2.66e-08 2.33e-08  3.06e-04  4788s\n"
     ]
    },
    {
     "name": "stdout",
     "output_type": "stream",
     "text": [
      " 230   1.71007213e+09  1.71006913e+09  2.88e-08 2.00e-08  2.91e-04  4799s\n"
     ]
    },
    {
     "name": "stderr",
     "output_type": "stream",
     "text": [
      "INFO:gurobipy: 230   1.71007213e+09  1.71006913e+09  2.88e-08 2.00e-08  2.91e-04  4799s\n"
     ]
    },
    {
     "name": "stdout",
     "output_type": "stream",
     "text": [
      " 231   1.71007205e+09  1.71006915e+09  3.59e-08 1.43e-08  2.82e-04  4810s\n"
     ]
    },
    {
     "name": "stderr",
     "output_type": "stream",
     "text": [
      "INFO:gurobipy: 231   1.71007205e+09  1.71006915e+09  3.59e-08 1.43e-08  2.82e-04  4810s\n"
     ]
    },
    {
     "name": "stdout",
     "output_type": "stream",
     "text": [
      "\n"
     ]
    },
    {
     "name": "stderr",
     "output_type": "stream",
     "text": [
      "INFO:gurobipy:\n"
     ]
    },
    {
     "name": "stdout",
     "output_type": "stream",
     "text": [
      "Barrier solved model in 231 iterations and 4810.57 seconds (754.49 work units)\n"
     ]
    },
    {
     "name": "stderr",
     "output_type": "stream",
     "text": [
      "INFO:gurobipy:Barrier solved model in 231 iterations and 4810.57 seconds (754.49 work units)\n"
     ]
    },
    {
     "name": "stdout",
     "output_type": "stream",
     "text": [
      "Optimal objective 1.71007205e+09\n"
     ]
    },
    {
     "name": "stderr",
     "output_type": "stream",
     "text": [
      "INFO:gurobipy:Optimal objective 1.71007205e+09\n"
     ]
    },
    {
     "name": "stdout",
     "output_type": "stream",
     "text": [
      "\n"
     ]
    },
    {
     "name": "stderr",
     "output_type": "stream",
     "text": [
      "INFO:gurobipy:\n"
     ]
    },
    {
     "name": "stdout",
     "output_type": "stream",
     "text": [
      "Crossover log...\n"
     ]
    },
    {
     "name": "stderr",
     "output_type": "stream",
     "text": [
      "INFO:gurobipy:Crossover log...\n"
     ]
    },
    {
     "name": "stdout",
     "output_type": "stream",
     "text": [
      "\n"
     ]
    },
    {
     "name": "stderr",
     "output_type": "stream",
     "text": [
      "INFO:gurobipy:\n"
     ]
    },
    {
     "name": "stdout",
     "output_type": "stream",
     "text": [
      "   26041 DPushes remaining with DInf 1.1888377e-03              4816s\n"
     ]
    },
    {
     "name": "stderr",
     "output_type": "stream",
     "text": [
      "INFO:gurobipy:   26041 DPushes remaining with DInf 1.1888377e-03              4816s\n"
     ]
    },
    {
     "name": "stdout",
     "output_type": "stream",
     "text": [
      "   12329 DPushes remaining with DInf 1.2857787e-03              4824s\n"
     ]
    },
    {
     "name": "stderr",
     "output_type": "stream",
     "text": [
      "INFO:gurobipy:   12329 DPushes remaining with DInf 1.2857787e-03              4824s\n"
     ]
    },
    {
     "name": "stdout",
     "output_type": "stream",
     "text": [
      "   11571 DPushes remaining with DInf 1.4517175e-03              4827s\n"
     ]
    },
    {
     "name": "stderr",
     "output_type": "stream",
     "text": [
      "INFO:gurobipy:   11571 DPushes remaining with DInf 1.4517175e-03              4827s\n"
     ]
    },
    {
     "name": "stdout",
     "output_type": "stream",
     "text": [
      "   10100 DPushes remaining with DInf 1.6042764e-03              4833s\n"
     ]
    },
    {
     "name": "stderr",
     "output_type": "stream",
     "text": [
      "INFO:gurobipy:   10100 DPushes remaining with DInf 1.6042764e-03              4833s\n"
     ]
    },
    {
     "name": "stdout",
     "output_type": "stream",
     "text": [
      "    9368 DPushes remaining with DInf 1.6018841e-03              4836s\n"
     ]
    },
    {
     "name": "stderr",
     "output_type": "stream",
     "text": [
      "INFO:gurobipy:    9368 DPushes remaining with DInf 1.6018841e-03              4836s\n"
     ]
    },
    {
     "name": "stdout",
     "output_type": "stream",
     "text": [
      "    7907 DPushes remaining with DInf 1.6643259e-03              4843s\n"
     ]
    },
    {
     "name": "stderr",
     "output_type": "stream",
     "text": [
      "INFO:gurobipy:    7907 DPushes remaining with DInf 1.6643259e-03              4843s\n"
     ]
    },
    {
     "name": "stdout",
     "output_type": "stream",
     "text": [
      "    7177 DPushes remaining with DInf 1.6483143e-03              4846s\n"
     ]
    },
    {
     "name": "stderr",
     "output_type": "stream",
     "text": [
      "INFO:gurobipy:    7177 DPushes remaining with DInf 1.6483143e-03              4846s\n"
     ]
    },
    {
     "name": "stdout",
     "output_type": "stream",
     "text": [
      "    6446 DPushes remaining with DInf 1.6310504e-03              4852s\n"
     ]
    },
    {
     "name": "stderr",
     "output_type": "stream",
     "text": [
      "INFO:gurobipy:    6446 DPushes remaining with DInf 1.6310504e-03              4852s\n"
     ]
    },
    {
     "name": "stdout",
     "output_type": "stream",
     "text": [
      "    5716 DPushes remaining with DInf 1.5149231e-03              4860s\n"
     ]
    },
    {
     "name": "stderr",
     "output_type": "stream",
     "text": [
      "INFO:gurobipy:    5716 DPushes remaining with DInf 1.5149231e-03              4860s\n"
     ]
    },
    {
     "name": "stdout",
     "output_type": "stream",
     "text": [
      "    4986 DPushes remaining with DInf 1.4391745e-03              4869s\n"
     ]
    },
    {
     "name": "stderr",
     "output_type": "stream",
     "text": [
      "INFO:gurobipy:    4986 DPushes remaining with DInf 1.4391745e-03              4869s\n"
     ]
    },
    {
     "name": "stdout",
     "output_type": "stream",
     "text": [
      "    4266 DPushes remaining with DInf 1.3368335e-03              4880s\n"
     ]
    },
    {
     "name": "stderr",
     "output_type": "stream",
     "text": [
      "INFO:gurobipy:    4266 DPushes remaining with DInf 1.3368335e-03              4880s\n"
     ]
    },
    {
     "name": "stdout",
     "output_type": "stream",
     "text": [
      "    3535 DPushes remaining with DInf 2.0831652e-03              4886s\n"
     ]
    },
    {
     "name": "stderr",
     "output_type": "stream",
     "text": [
      "INFO:gurobipy:    3535 DPushes remaining with DInf 2.0831652e-03              4886s\n"
     ]
    },
    {
     "name": "stdout",
     "output_type": "stream",
     "text": [
      "    2805 DPushes remaining with DInf 2.0831652e-03              4894s\n"
     ]
    },
    {
     "name": "stderr",
     "output_type": "stream",
     "text": [
      "INFO:gurobipy:    2805 DPushes remaining with DInf 2.0831652e-03              4894s\n"
     ]
    },
    {
     "name": "stdout",
     "output_type": "stream",
     "text": [
      "    2074 DPushes remaining with DInf 2.0831652e-03              4900s\n"
     ]
    },
    {
     "name": "stderr",
     "output_type": "stream",
     "text": [
      "INFO:gurobipy:    2074 DPushes remaining with DInf 2.0831652e-03              4900s\n"
     ]
    },
    {
     "name": "stdout",
     "output_type": "stream",
     "text": [
      "    1343 DPushes remaining with DInf 2.0831652e-03              4909s\n"
     ]
    },
    {
     "name": "stderr",
     "output_type": "stream",
     "text": [
      "INFO:gurobipy:    1343 DPushes remaining with DInf 2.0831652e-03              4909s\n"
     ]
    },
    {
     "name": "stdout",
     "output_type": "stream",
     "text": [
      "     883 DPushes remaining with DInf 2.0831652e-03              4925s\n"
     ]
    },
    {
     "name": "stderr",
     "output_type": "stream",
     "text": [
      "INFO:gurobipy:     883 DPushes remaining with DInf 2.0831652e-03              4925s\n"
     ]
    },
    {
     "name": "stdout",
     "output_type": "stream",
     "text": [
      "     483 DPushes remaining with DInf 2.0831652e-03              4941s\n"
     ]
    },
    {
     "name": "stderr",
     "output_type": "stream",
     "text": [
      "INFO:gurobipy:     483 DPushes remaining with DInf 2.0831652e-03              4941s\n"
     ]
    },
    {
     "name": "stdout",
     "output_type": "stream",
     "text": [
      "      83 DPushes remaining with DInf 2.0831652e-03              4960s\n"
     ]
    },
    {
     "name": "stderr",
     "output_type": "stream",
     "text": [
      "INFO:gurobipy:      83 DPushes remaining with DInf 2.0831652e-03              4960s\n"
     ]
    },
    {
     "name": "stdout",
     "output_type": "stream",
     "text": [
      "       0 DPushes remaining with DInf 2.0831652e-03              4965s\n"
     ]
    },
    {
     "name": "stderr",
     "output_type": "stream",
     "text": [
      "INFO:gurobipy:       0 DPushes remaining with DInf 2.0831652e-03              4965s\n"
     ]
    },
    {
     "name": "stdout",
     "output_type": "stream",
     "text": [
      "Warning: Markowitz tolerance tightened to 0.5\n"
     ]
    },
    {
     "name": "stderr",
     "output_type": "stream",
     "text": [
      "INFO:gurobipy:Warning: Markowitz tolerance tightened to 0.5\n"
     ]
    },
    {
     "name": "stdout",
     "output_type": "stream",
     "text": [
      "\n"
     ]
    },
    {
     "name": "stderr",
     "output_type": "stream",
     "text": [
      "INFO:gurobipy:\n"
     ]
    },
    {
     "name": "stdout",
     "output_type": "stream",
     "text": [
      " 3404825 PPushes remaining with PInf 2.5190784e+01              4966s\n"
     ]
    },
    {
     "name": "stderr",
     "output_type": "stream",
     "text": [
      "INFO:gurobipy: 3404825 PPushes remaining with PInf 2.5190784e+01              4966s\n"
     ]
    },
    {
     "name": "stdout",
     "output_type": "stream",
     "text": [
      " 2251294 PPushes remaining with PInf 2.3030793e+02              5767s\n"
     ]
    },
    {
     "name": "stderr",
     "output_type": "stream",
     "text": [
      "INFO:gurobipy: 2251294 PPushes remaining with PInf 2.3030793e+02              5767s\n"
     ]
    },
    {
     "name": "stdout",
     "output_type": "stream",
     "text": [
      " 2164011 PPushes remaining with PInf 2.2183144e+02              5884s\n"
     ]
    },
    {
     "name": "stderr",
     "output_type": "stream",
     "text": [
      "INFO:gurobipy: 2164011 PPushes remaining with PInf 2.2183144e+02              5884s\n"
     ]
    },
    {
     "name": "stdout",
     "output_type": "stream",
     "text": [
      " 2117538 PPushes remaining with PInf 2.2817107e+02              5980s\n"
     ]
    },
    {
     "name": "stderr",
     "output_type": "stream",
     "text": [
      "INFO:gurobipy: 2117538 PPushes remaining with PInf 2.2817107e+02              5980s\n"
     ]
    },
    {
     "name": "stdout",
     "output_type": "stream",
     "text": [
      " 2083619 PPushes remaining with PInf 2.3697860e+02              6276s\n"
     ]
    },
    {
     "name": "stderr",
     "output_type": "stream",
     "text": [
      "INFO:gurobipy: 2083619 PPushes remaining with PInf 2.3697860e+02              6276s\n"
     ]
    },
    {
     "name": "stdout",
     "output_type": "stream",
     "text": [
      " 2059093 PPushes remaining with PInf 2.3671195e+02              6486s\n"
     ]
    },
    {
     "name": "stderr",
     "output_type": "stream",
     "text": [
      "INFO:gurobipy: 2059093 PPushes remaining with PInf 2.3671195e+02              6486s\n"
     ]
    },
    {
     "name": "stdout",
     "output_type": "stream",
     "text": [
      " 2039016 PPushes remaining with PInf 2.3756159e+02              6644s\n"
     ]
    },
    {
     "name": "stderr",
     "output_type": "stream",
     "text": [
      "INFO:gurobipy: 2039016 PPushes remaining with PInf 2.3756159e+02              6644s\n"
     ]
    },
    {
     "name": "stdout",
     "output_type": "stream",
     "text": [
      " 2019529 PPushes remaining with PInf 2.3734871e+02              6769s\n"
     ]
    },
    {
     "name": "stderr",
     "output_type": "stream",
     "text": [
      "INFO:gurobipy: 2019529 PPushes remaining with PInf 2.3734871e+02              6769s\n"
     ]
    },
    {
     "name": "stdout",
     "output_type": "stream",
     "text": [
      " 2004682 PPushes remaining with PInf 2.3708074e+02              6866s\n"
     ]
    },
    {
     "name": "stderr",
     "output_type": "stream",
     "text": [
      "INFO:gurobipy: 2004682 PPushes remaining with PInf 2.3708074e+02              6866s\n"
     ]
    },
    {
     "name": "stdout",
     "output_type": "stream",
     "text": [
      " 1993927 PPushes remaining with PInf 2.3975089e+02              6953s\n"
     ]
    },
    {
     "name": "stderr",
     "output_type": "stream",
     "text": [
      "INFO:gurobipy: 1993927 PPushes remaining with PInf 2.3975089e+02              6953s\n"
     ]
    },
    {
     "name": "stdout",
     "output_type": "stream",
     "text": [
      " 1984281 PPushes remaining with PInf 2.3546598e+02              7022s\n"
     ]
    },
    {
     "name": "stderr",
     "output_type": "stream",
     "text": [
      "INFO:gurobipy: 1984281 PPushes remaining with PInf 2.3546598e+02              7022s\n"
     ]
    },
    {
     "name": "stdout",
     "output_type": "stream",
     "text": [
      " 1973936 PPushes remaining with PInf 2.2995911e+02              7094s\n"
     ]
    },
    {
     "name": "stderr",
     "output_type": "stream",
     "text": [
      "INFO:gurobipy: 1973936 PPushes remaining with PInf 2.2995911e+02              7094s\n"
     ]
    },
    {
     "name": "stdout",
     "output_type": "stream",
     "text": [
      " 1959224 PPushes remaining with PInf 2.2845763e+02              7153s\n"
     ]
    },
    {
     "name": "stderr",
     "output_type": "stream",
     "text": [
      "INFO:gurobipy: 1959224 PPushes remaining with PInf 2.2845763e+02              7153s\n"
     ]
    },
    {
     "name": "stdout",
     "output_type": "stream",
     "text": [
      " 1951956 PPushes remaining with PInf 2.2514821e+02              7216s\n"
     ]
    },
    {
     "name": "stderr",
     "output_type": "stream",
     "text": [
      "INFO:gurobipy: 1951956 PPushes remaining with PInf 2.2514821e+02              7216s\n"
     ]
    },
    {
     "name": "stdout",
     "output_type": "stream",
     "text": [
      " 1939751 PPushes remaining with PInf 2.2420123e+02              7426s\n"
     ]
    },
    {
     "name": "stderr",
     "output_type": "stream",
     "text": [
      "INFO:gurobipy: 1939751 PPushes remaining with PInf 2.2420123e+02              7426s\n"
     ]
    },
    {
     "name": "stdout",
     "output_type": "stream",
     "text": [
      " 1931155 PPushes remaining with PInf 2.2402488e+02              7473s\n"
     ]
    },
    {
     "name": "stderr",
     "output_type": "stream",
     "text": [
      "INFO:gurobipy: 1931155 PPushes remaining with PInf 2.2402488e+02              7473s\n"
     ]
    },
    {
     "name": "stdout",
     "output_type": "stream",
     "text": [
      " 1927406 PPushes remaining with PInf 2.1886474e+02              7509s\n"
     ]
    },
    {
     "name": "stderr",
     "output_type": "stream",
     "text": [
      "INFO:gurobipy: 1927406 PPushes remaining with PInf 2.1886474e+02              7509s\n"
     ]
    },
    {
     "name": "stdout",
     "output_type": "stream",
     "text": [
      " 1920245 PPushes remaining with PInf 1.9587969e+02              7632s\n"
     ]
    },
    {
     "name": "stderr",
     "output_type": "stream",
     "text": [
      "INFO:gurobipy: 1920245 PPushes remaining with PInf 1.9587969e+02              7632s\n"
     ]
    },
    {
     "name": "stdout",
     "output_type": "stream",
     "text": [
      " 1913985 PPushes remaining with PInf 2.0582977e+02              7677s\n"
     ]
    },
    {
     "name": "stderr",
     "output_type": "stream",
     "text": [
      "INFO:gurobipy: 1913985 PPushes remaining with PInf 2.0582977e+02              7677s\n"
     ]
    },
    {
     "name": "stdout",
     "output_type": "stream",
     "text": [
      " 1901491 PPushes remaining with PInf 2.0281404e+02              7712s\n"
     ]
    },
    {
     "name": "stderr",
     "output_type": "stream",
     "text": [
      "INFO:gurobipy: 1901491 PPushes remaining with PInf 2.0281404e+02              7712s\n"
     ]
    },
    {
     "name": "stdout",
     "output_type": "stream",
     "text": [
      " 1884954 PPushes remaining with PInf 2.1633747e+02              7996s\n"
     ]
    },
    {
     "name": "stderr",
     "output_type": "stream",
     "text": [
      "INFO:gurobipy: 1884954 PPushes remaining with PInf 2.1633747e+02              7996s\n"
     ]
    },
    {
     "name": "stdout",
     "output_type": "stream",
     "text": [
      " 1872072 PPushes remaining with PInf 2.1750301e+02              8257s\n"
     ]
    },
    {
     "name": "stderr",
     "output_type": "stream",
     "text": [
      "INFO:gurobipy: 1872072 PPushes remaining with PInf 2.1750301e+02              8257s\n"
     ]
    },
    {
     "name": "stdout",
     "output_type": "stream",
     "text": [
      " 1869108 PPushes remaining with PInf 2.0852376e+02              8277s\n"
     ]
    },
    {
     "name": "stderr",
     "output_type": "stream",
     "text": [
      "INFO:gurobipy: 1869108 PPushes remaining with PInf 2.0852376e+02              8277s\n"
     ]
    },
    {
     "name": "stdout",
     "output_type": "stream",
     "text": [
      " 1864698 PPushes remaining with PInf 1.7906367e+02              8312s\n"
     ]
    },
    {
     "name": "stderr",
     "output_type": "stream",
     "text": [
      "INFO:gurobipy: 1864698 PPushes remaining with PInf 1.7906367e+02              8312s\n"
     ]
    },
    {
     "name": "stdout",
     "output_type": "stream",
     "text": [
      " 1862933 PPushes remaining with PInf 1.6204681e+02              8348s\n"
     ]
    },
    {
     "name": "stderr",
     "output_type": "stream",
     "text": [
      "INFO:gurobipy: 1862933 PPushes remaining with PInf 1.6204681e+02              8348s\n"
     ]
    },
    {
     "name": "stdout",
     "output_type": "stream",
     "text": [
      " 1860779 PPushes remaining with PInf 1.6209263e+02              8368s\n"
     ]
    },
    {
     "name": "stderr",
     "output_type": "stream",
     "text": [
      "INFO:gurobipy: 1860779 PPushes remaining with PInf 1.6209263e+02              8368s\n"
     ]
    },
    {
     "name": "stdout",
     "output_type": "stream",
     "text": [
      " 1845502 PPushes remaining with PInf 2.6226592e+01              8785s\n"
     ]
    },
    {
     "name": "stderr",
     "output_type": "stream",
     "text": [
      "INFO:gurobipy: 1845502 PPushes remaining with PInf 2.6226592e+01              8785s\n"
     ]
    },
    {
     "name": "stdout",
     "output_type": "stream",
     "text": [
      " 1843900 PPushes remaining with PInf 1.6533224e+01              8816s\n"
     ]
    },
    {
     "name": "stderr",
     "output_type": "stream",
     "text": [
      "INFO:gurobipy: 1843900 PPushes remaining with PInf 1.6533224e+01              8816s\n"
     ]
    },
    {
     "name": "stdout",
     "output_type": "stream",
     "text": [
      " 1841063 PPushes remaining with PInf 1.6525532e+01              8861s\n"
     ]
    },
    {
     "name": "stderr",
     "output_type": "stream",
     "text": [
      "INFO:gurobipy: 1841063 PPushes remaining with PInf 1.6525532e+01              8861s\n"
     ]
    },
    {
     "name": "stdout",
     "output_type": "stream",
     "text": [
      " 1839119 PPushes remaining with PInf 1.6481668e+01              8890s\n"
     ]
    },
    {
     "name": "stderr",
     "output_type": "stream",
     "text": [
      "INFO:gurobipy: 1839119 PPushes remaining with PInf 1.6481668e+01              8890s\n"
     ]
    },
    {
     "name": "stdout",
     "output_type": "stream",
     "text": [
      " 1837181 PPushes remaining with PInf 1.6373773e+01              8916s\n"
     ]
    },
    {
     "name": "stderr",
     "output_type": "stream",
     "text": [
      "INFO:gurobipy: 1837181 PPushes remaining with PInf 1.6373773e+01              8916s\n"
     ]
    },
    {
     "name": "stdout",
     "output_type": "stream",
     "text": [
      " 1829201 PPushes remaining with PInf 1.5647683e+01              9067s\n"
     ]
    },
    {
     "name": "stderr",
     "output_type": "stream",
     "text": [
      "INFO:gurobipy: 1829201 PPushes remaining with PInf 1.5647683e+01              9067s\n"
     ]
    },
    {
     "name": "stdout",
     "output_type": "stream",
     "text": [
      " 1821720 PPushes remaining with PInf 1.5905724e+01              9196s\n"
     ]
    },
    {
     "name": "stderr",
     "output_type": "stream",
     "text": [
      "INFO:gurobipy: 1821720 PPushes remaining with PInf 1.5905724e+01              9196s\n"
     ]
    },
    {
     "name": "stdout",
     "output_type": "stream",
     "text": [
      " 1819494 PPushes remaining with PInf 1.2771761e+01              9224s\n"
     ]
    },
    {
     "name": "stderr",
     "output_type": "stream",
     "text": [
      "INFO:gurobipy: 1819494 PPushes remaining with PInf 1.2771761e+01              9224s\n"
     ]
    },
    {
     "name": "stdout",
     "output_type": "stream",
     "text": [
      " 1816600 PPushes remaining with PInf 1.2735309e+01              9252s\n"
     ]
    },
    {
     "name": "stderr",
     "output_type": "stream",
     "text": [
      "INFO:gurobipy: 1816600 PPushes remaining with PInf 1.2735309e+01              9252s\n"
     ]
    },
    {
     "name": "stdout",
     "output_type": "stream",
     "text": [
      " 1815790 PPushes remaining with PInf 1.2713856e+01              9268s\n"
     ]
    },
    {
     "name": "stderr",
     "output_type": "stream",
     "text": [
      "INFO:gurobipy: 1815790 PPushes remaining with PInf 1.2713856e+01              9268s\n"
     ]
    },
    {
     "name": "stdout",
     "output_type": "stream",
     "text": [
      " 1553249 PPushes remaining with PInf 4.8429163e+00             12083s\n"
     ]
    },
    {
     "name": "stderr",
     "output_type": "stream",
     "text": [
      "INFO:gurobipy: 1553249 PPushes remaining with PInf 4.8429163e+00             12083s\n"
     ]
    },
    {
     "name": "stdout",
     "output_type": "stream",
     "text": [
      " 1477424 PPushes remaining with PInf 3.9383460e+00             12349s\n"
     ]
    },
    {
     "name": "stderr",
     "output_type": "stream",
     "text": [
      "INFO:gurobipy: 1477424 PPushes remaining with PInf 3.9383460e+00             12349s\n"
     ]
    },
    {
     "name": "stdout",
     "output_type": "stream",
     "text": [
      " 1392222 PPushes remaining with PInf 3.8369764e+00             12435s\n"
     ]
    },
    {
     "name": "stderr",
     "output_type": "stream",
     "text": [
      "INFO:gurobipy: 1392222 PPushes remaining with PInf 3.8369764e+00             12435s\n"
     ]
    },
    {
     "name": "stdout",
     "output_type": "stream",
     "text": [
      " 1332178 PPushes remaining with PInf 1.3853340e+00             12601s\n"
     ]
    },
    {
     "name": "stderr",
     "output_type": "stream",
     "text": [
      "INFO:gurobipy: 1332178 PPushes remaining with PInf 1.3853340e+00             12601s\n"
     ]
    },
    {
     "name": "stdout",
     "output_type": "stream",
     "text": [
      " 1268520 PPushes remaining with PInf 1.4978994e-01             12676s\n"
     ]
    },
    {
     "name": "stderr",
     "output_type": "stream",
     "text": [
      "INFO:gurobipy: 1268520 PPushes remaining with PInf 1.4978994e-01             12676s\n"
     ]
    },
    {
     "name": "stdout",
     "output_type": "stream",
     "text": [
      " 1225125 PPushes remaining with PInf 1.4948170e-01             12741s\n"
     ]
    },
    {
     "name": "stderr",
     "output_type": "stream",
     "text": [
      "INFO:gurobipy: 1225125 PPushes remaining with PInf 1.4948170e-01             12741s\n"
     ]
    },
    {
     "name": "stdout",
     "output_type": "stream",
     "text": [
      " 1126589 PPushes remaining with PInf 1.4918307e-01             12870s\n"
     ]
    },
    {
     "name": "stderr",
     "output_type": "stream",
     "text": [
      "INFO:gurobipy: 1126589 PPushes remaining with PInf 1.4918307e-01             12870s\n"
     ]
    },
    {
     "name": "stdout",
     "output_type": "stream",
     "text": [
      " 1064578 PPushes remaining with PInf 1.4918307e-01             12925s\n"
     ]
    },
    {
     "name": "stderr",
     "output_type": "stream",
     "text": [
      "INFO:gurobipy: 1064578 PPushes remaining with PInf 1.4918307e-01             12925s\n"
     ]
    },
    {
     "name": "stdout",
     "output_type": "stream",
     "text": [
      "  977186 PPushes remaining with PInf 1.4918307e-01             12976s\n"
     ]
    },
    {
     "name": "stderr",
     "output_type": "stream",
     "text": [
      "INFO:gurobipy:  977186 PPushes remaining with PInf 1.4918307e-01             12976s\n"
     ]
    },
    {
     "name": "stdout",
     "output_type": "stream",
     "text": [
      "  946266 PPushes remaining with PInf 1.4918307e-01             13000s\n"
     ]
    },
    {
     "name": "stderr",
     "output_type": "stream",
     "text": [
      "INFO:gurobipy:  946266 PPushes remaining with PInf 1.4918307e-01             13000s\n"
     ]
    },
    {
     "name": "stdout",
     "output_type": "stream",
     "text": [
      "  903828 PPushes remaining with PInf 1.4918307e-01             13043s\n"
     ]
    },
    {
     "name": "stderr",
     "output_type": "stream",
     "text": [
      "INFO:gurobipy:  903828 PPushes remaining with PInf 1.4918307e-01             13043s\n"
     ]
    },
    {
     "name": "stdout",
     "output_type": "stream",
     "text": [
      "  879257 PPushes remaining with PInf 1.4918307e-01             13070s\n"
     ]
    },
    {
     "name": "stderr",
     "output_type": "stream",
     "text": [
      "INFO:gurobipy:  879257 PPushes remaining with PInf 1.4918307e-01             13070s\n"
     ]
    },
    {
     "name": "stdout",
     "output_type": "stream",
     "text": [
      "  856039 PPushes remaining with PInf 1.4918307e-01             13105s\n"
     ]
    },
    {
     "name": "stderr",
     "output_type": "stream",
     "text": [
      "INFO:gurobipy:  856039 PPushes remaining with PInf 1.4918307e-01             13105s\n"
     ]
    },
    {
     "name": "stdout",
     "output_type": "stream",
     "text": [
      "  832539 PPushes remaining with PInf 1.4918307e-01             13140s\n"
     ]
    },
    {
     "name": "stderr",
     "output_type": "stream",
     "text": [
      "INFO:gurobipy:  832539 PPushes remaining with PInf 1.4918307e-01             13140s\n"
     ]
    },
    {
     "name": "stdout",
     "output_type": "stream",
     "text": [
      "  809456 PPushes remaining with PInf 1.4918307e-01             13167s\n"
     ]
    },
    {
     "name": "stderr",
     "output_type": "stream",
     "text": [
      "INFO:gurobipy:  809456 PPushes remaining with PInf 1.4918307e-01             13167s\n"
     ]
    },
    {
     "name": "stdout",
     "output_type": "stream",
     "text": [
      "  797479 PPushes remaining with PInf 1.4918307e-01             13184s\n"
     ]
    },
    {
     "name": "stderr",
     "output_type": "stream",
     "text": [
      "INFO:gurobipy:  797479 PPushes remaining with PInf 1.4918307e-01             13184s\n"
     ]
    },
    {
     "name": "stdout",
     "output_type": "stream",
     "text": [
      "  789724 PPushes remaining with PInf 1.4918307e-01             13200s\n"
     ]
    },
    {
     "name": "stderr",
     "output_type": "stream",
     "text": [
      "INFO:gurobipy:  789724 PPushes remaining with PInf 1.4918307e-01             13200s\n"
     ]
    },
    {
     "name": "stdout",
     "output_type": "stream",
     "text": [
      "  784124 PPushes remaining with PInf 1.4918307e-01             13208s\n"
     ]
    },
    {
     "name": "stderr",
     "output_type": "stream",
     "text": [
      "INFO:gurobipy:  784124 PPushes remaining with PInf 1.4918307e-01             13208s\n"
     ]
    },
    {
     "name": "stdout",
     "output_type": "stream",
     "text": [
      "  779502 PPushes remaining with PInf 1.4918307e-01             13213s\n"
     ]
    },
    {
     "name": "stderr",
     "output_type": "stream",
     "text": [
      "INFO:gurobipy:  779502 PPushes remaining with PInf 1.4918307e-01             13213s\n"
     ]
    },
    {
     "name": "stdout",
     "output_type": "stream",
     "text": [
      "  775568 PPushes remaining with PInf 1.4918307e-01             13218s\n"
     ]
    },
    {
     "name": "stderr",
     "output_type": "stream",
     "text": [
      "INFO:gurobipy:  775568 PPushes remaining with PInf 1.4918307e-01             13218s\n"
     ]
    },
    {
     "name": "stdout",
     "output_type": "stream",
     "text": [
      "  771769 PPushes remaining with PInf 1.4918307e-01             13224s\n"
     ]
    },
    {
     "name": "stderr",
     "output_type": "stream",
     "text": [
      "INFO:gurobipy:  771769 PPushes remaining with PInf 1.4918307e-01             13224s\n"
     ]
    },
    {
     "name": "stdout",
     "output_type": "stream",
     "text": [
      "  763416 PPushes remaining with PInf 1.4918307e-01             13230s\n"
     ]
    },
    {
     "name": "stderr",
     "output_type": "stream",
     "text": [
      "INFO:gurobipy:  763416 PPushes remaining with PInf 1.4918307e-01             13230s\n"
     ]
    },
    {
     "name": "stdout",
     "output_type": "stream",
     "text": [
      "  736877 PPushes remaining with PInf 1.4918585e-01             13247s\n"
     ]
    },
    {
     "name": "stderr",
     "output_type": "stream",
     "text": [
      "INFO:gurobipy:  736877 PPushes remaining with PInf 1.4918585e-01             13247s\n"
     ]
    },
    {
     "name": "stdout",
     "output_type": "stream",
     "text": [
      "  561863 PPushes remaining with PInf 1.4946234e-01             13783s\n"
     ]
    },
    {
     "name": "stderr",
     "output_type": "stream",
     "text": [
      "INFO:gurobipy:  561863 PPushes remaining with PInf 1.4946234e-01             13783s\n"
     ]
    },
    {
     "name": "stdout",
     "output_type": "stream",
     "text": [
      "  506773 PPushes remaining with PInf 1.3206939e-01             13865s\n"
     ]
    },
    {
     "name": "stderr",
     "output_type": "stream",
     "text": [
      "INFO:gurobipy:  506773 PPushes remaining with PInf 1.3206939e-01             13865s\n"
     ]
    },
    {
     "name": "stdout",
     "output_type": "stream",
     "text": [
      "  479657 PPushes remaining with PInf 1.3108880e-01             13919s\n"
     ]
    },
    {
     "name": "stderr",
     "output_type": "stream",
     "text": [
      "INFO:gurobipy:  479657 PPushes remaining with PInf 1.3108880e-01             13919s\n"
     ]
    },
    {
     "name": "stdout",
     "output_type": "stream",
     "text": [
      "  457093 PPushes remaining with PInf 1.3108880e-01             13951s\n"
     ]
    },
    {
     "name": "stderr",
     "output_type": "stream",
     "text": [
      "INFO:gurobipy:  457093 PPushes remaining with PInf 1.3108880e-01             13951s\n"
     ]
    },
    {
     "name": "stdout",
     "output_type": "stream",
     "text": [
      "  427833 PPushes remaining with PInf 1.3091948e-01             13996s\n"
     ]
    },
    {
     "name": "stderr",
     "output_type": "stream",
     "text": [
      "INFO:gurobipy:  427833 PPushes remaining with PInf 1.3091948e-01             13996s\n"
     ]
    },
    {
     "name": "stdout",
     "output_type": "stream",
     "text": [
      "  407805 PPushes remaining with PInf 1.3091948e-01             14026s\n"
     ]
    },
    {
     "name": "stderr",
     "output_type": "stream",
     "text": [
      "INFO:gurobipy:  407805 PPushes remaining with PInf 1.3091948e-01             14026s\n"
     ]
    },
    {
     "name": "stdout",
     "output_type": "stream",
     "text": [
      "  390572 PPushes remaining with PInf 1.0804515e-01             14068s\n"
     ]
    },
    {
     "name": "stderr",
     "output_type": "stream",
     "text": [
      "INFO:gurobipy:  390572 PPushes remaining with PInf 1.0804515e-01             14068s\n"
     ]
    },
    {
     "name": "stdout",
     "output_type": "stream",
     "text": [
      "  373784 PPushes remaining with PInf 4.3745293e-02             14100s\n"
     ]
    },
    {
     "name": "stderr",
     "output_type": "stream",
     "text": [
      "INFO:gurobipy:  373784 PPushes remaining with PInf 4.3745293e-02             14100s\n"
     ]
    },
    {
     "name": "stdout",
     "output_type": "stream",
     "text": [
      "  357571 PPushes remaining with PInf 4.3745293e-02             14134s\n"
     ]
    },
    {
     "name": "stderr",
     "output_type": "stream",
     "text": [
      "INFO:gurobipy:  357571 PPushes remaining with PInf 4.3745293e-02             14134s\n"
     ]
    },
    {
     "name": "stdout",
     "output_type": "stream",
     "text": [
      "  335707 PPushes remaining with PInf 4.3745293e-02             14176s\n"
     ]
    },
    {
     "name": "stderr",
     "output_type": "stream",
     "text": [
      "INFO:gurobipy:  335707 PPushes remaining with PInf 4.3745293e-02             14176s\n"
     ]
    },
    {
     "name": "stdout",
     "output_type": "stream",
     "text": [
      "  317333 PPushes remaining with PInf 4.3745293e-02             14213s\n"
     ]
    },
    {
     "name": "stderr",
     "output_type": "stream",
     "text": [
      "INFO:gurobipy:  317333 PPushes remaining with PInf 4.3745293e-02             14213s\n"
     ]
    },
    {
     "name": "stdout",
     "output_type": "stream",
     "text": [
      "  302557 PPushes remaining with PInf 4.3745293e-02             14250s\n"
     ]
    },
    {
     "name": "stderr",
     "output_type": "stream",
     "text": [
      "INFO:gurobipy:  302557 PPushes remaining with PInf 4.3745293e-02             14250s\n"
     ]
    },
    {
     "name": "stdout",
     "output_type": "stream",
     "text": [
      "  290771 PPushes remaining with PInf 4.3745293e-02             14277s\n"
     ]
    },
    {
     "name": "stderr",
     "output_type": "stream",
     "text": [
      "INFO:gurobipy:  290771 PPushes remaining with PInf 4.3745293e-02             14277s\n"
     ]
    },
    {
     "name": "stdout",
     "output_type": "stream",
     "text": [
      "  276526 PPushes remaining with PInf 4.3745293e-02             14300s\n"
     ]
    },
    {
     "name": "stderr",
     "output_type": "stream",
     "text": [
      "INFO:gurobipy:  276526 PPushes remaining with PInf 4.3745293e-02             14300s\n"
     ]
    },
    {
     "name": "stdout",
     "output_type": "stream",
     "text": [
      "  262136 PPushes remaining with PInf 4.3745293e-02             14320s\n"
     ]
    },
    {
     "name": "stderr",
     "output_type": "stream",
     "text": [
      "INFO:gurobipy:  262136 PPushes remaining with PInf 4.3745293e-02             14320s\n"
     ]
    },
    {
     "name": "stdout",
     "output_type": "stream",
     "text": [
      "  246719 PPushes remaining with PInf 4.3745293e-02             14346s\n"
     ]
    },
    {
     "name": "stderr",
     "output_type": "stream",
     "text": [
      "INFO:gurobipy:  246719 PPushes remaining with PInf 4.3745293e-02             14346s\n"
     ]
    },
    {
     "name": "stdout",
     "output_type": "stream",
     "text": [
      "  233746 PPushes remaining with PInf 4.3714101e-02             14365s\n"
     ]
    },
    {
     "name": "stderr",
     "output_type": "stream",
     "text": [
      "INFO:gurobipy:  233746 PPushes remaining with PInf 4.3714101e-02             14365s\n"
     ]
    },
    {
     "name": "stdout",
     "output_type": "stream",
     "text": [
      "  222919 PPushes remaining with PInf 4.3714101e-02             14382s\n"
     ]
    },
    {
     "name": "stderr",
     "output_type": "stream",
     "text": [
      "INFO:gurobipy:  222919 PPushes remaining with PInf 4.3714101e-02             14382s\n"
     ]
    },
    {
     "name": "stdout",
     "output_type": "stream",
     "text": [
      "  215698 PPushes remaining with PInf 4.3714101e-02             14397s\n"
     ]
    },
    {
     "name": "stderr",
     "output_type": "stream",
     "text": [
      "INFO:gurobipy:  215698 PPushes remaining with PInf 4.3714101e-02             14397s\n"
     ]
    },
    {
     "name": "stdout",
     "output_type": "stream",
     "text": [
      "  209053 PPushes remaining with PInf 4.3714101e-02             14411s\n"
     ]
    },
    {
     "name": "stderr",
     "output_type": "stream",
     "text": [
      "INFO:gurobipy:  209053 PPushes remaining with PInf 4.3714101e-02             14411s\n"
     ]
    },
    {
     "name": "stdout",
     "output_type": "stream",
     "text": [
      "  206412 PPushes remaining with PInf 4.3714101e-02             14418s\n"
     ]
    },
    {
     "name": "stderr",
     "output_type": "stream",
     "text": [
      "INFO:gurobipy:  206412 PPushes remaining with PInf 4.3714101e-02             14418s\n"
     ]
    },
    {
     "name": "stdout",
     "output_type": "stream",
     "text": [
      "  202181 PPushes remaining with PInf 4.3714101e-02             14428s\n"
     ]
    },
    {
     "name": "stderr",
     "output_type": "stream",
     "text": [
      "INFO:gurobipy:  202181 PPushes remaining with PInf 4.3714101e-02             14428s\n"
     ]
    },
    {
     "name": "stdout",
     "output_type": "stream",
     "text": [
      "  196843 PPushes remaining with PInf 4.3714101e-02             14437s\n"
     ]
    },
    {
     "name": "stderr",
     "output_type": "stream",
     "text": [
      "INFO:gurobipy:  196843 PPushes remaining with PInf 4.3714101e-02             14437s\n"
     ]
    },
    {
     "name": "stdout",
     "output_type": "stream",
     "text": [
      "  192547 PPushes remaining with PInf 4.3714101e-02             14447s\n"
     ]
    },
    {
     "name": "stderr",
     "output_type": "stream",
     "text": [
      "INFO:gurobipy:  192547 PPushes remaining with PInf 4.3714101e-02             14447s\n"
     ]
    },
    {
     "name": "stdout",
     "output_type": "stream",
     "text": [
      "  188978 PPushes remaining with PInf 4.3714101e-02             14455s\n"
     ]
    },
    {
     "name": "stderr",
     "output_type": "stream",
     "text": [
      "INFO:gurobipy:  188978 PPushes remaining with PInf 4.3714101e-02             14455s\n"
     ]
    },
    {
     "name": "stdout",
     "output_type": "stream",
     "text": [
      "  184771 PPushes remaining with PInf 4.3714101e-02             14465s\n"
     ]
    },
    {
     "name": "stderr",
     "output_type": "stream",
     "text": [
      "INFO:gurobipy:  184771 PPushes remaining with PInf 4.3714101e-02             14465s\n"
     ]
    },
    {
     "name": "stdout",
     "output_type": "stream",
     "text": [
      "  181047 PPushes remaining with PInf 4.3714101e-02             14475s\n"
     ]
    },
    {
     "name": "stderr",
     "output_type": "stream",
     "text": [
      "INFO:gurobipy:  181047 PPushes remaining with PInf 4.3714101e-02             14475s\n"
     ]
    },
    {
     "name": "stdout",
     "output_type": "stream",
     "text": [
      "  178091 PPushes remaining with PInf 4.3714101e-02             14483s\n"
     ]
    },
    {
     "name": "stderr",
     "output_type": "stream",
     "text": [
      "INFO:gurobipy:  178091 PPushes remaining with PInf 4.3714101e-02             14483s\n"
     ]
    },
    {
     "name": "stdout",
     "output_type": "stream",
     "text": [
      "  172496 PPushes remaining with PInf 4.3714101e-02             14494s\n"
     ]
    },
    {
     "name": "stderr",
     "output_type": "stream",
     "text": [
      "INFO:gurobipy:  172496 PPushes remaining with PInf 4.3714101e-02             14494s\n"
     ]
    },
    {
     "name": "stdout",
     "output_type": "stream",
     "text": [
      "  169152 PPushes remaining with PInf 4.3714101e-02             14499s\n"
     ]
    },
    {
     "name": "stderr",
     "output_type": "stream",
     "text": [
      "INFO:gurobipy:  169152 PPushes remaining with PInf 4.3714101e-02             14499s\n"
     ]
    },
    {
     "name": "stdout",
     "output_type": "stream",
     "text": [
      "  166485 PPushes remaining with PInf 4.3714101e-02             14503s\n"
     ]
    },
    {
     "name": "stderr",
     "output_type": "stream",
     "text": [
      "INFO:gurobipy:  166485 PPushes remaining with PInf 4.3714101e-02             14503s\n"
     ]
    },
    {
     "name": "stdout",
     "output_type": "stream",
     "text": [
      "  163963 PPushes remaining with PInf 4.3714101e-02             14506s\n"
     ]
    },
    {
     "name": "stderr",
     "output_type": "stream",
     "text": [
      "INFO:gurobipy:  163963 PPushes remaining with PInf 4.3714101e-02             14506s\n"
     ]
    },
    {
     "name": "stdout",
     "output_type": "stream",
     "text": [
      "  161376 PPushes remaining with PInf 4.3714101e-02             14510s\n"
     ]
    },
    {
     "name": "stderr",
     "output_type": "stream",
     "text": [
      "INFO:gurobipy:  161376 PPushes remaining with PInf 4.3714101e-02             14510s\n"
     ]
    },
    {
     "name": "stdout",
     "output_type": "stream",
     "text": [
      "  156507 PPushes remaining with PInf 4.3714101e-02             14518s\n"
     ]
    },
    {
     "name": "stderr",
     "output_type": "stream",
     "text": [
      "INFO:gurobipy:  156507 PPushes remaining with PInf 4.3714101e-02             14518s\n"
     ]
    },
    {
     "name": "stdout",
     "output_type": "stream",
     "text": [
      "  154009 PPushes remaining with PInf 4.3714101e-02             14522s\n"
     ]
    },
    {
     "name": "stderr",
     "output_type": "stream",
     "text": [
      "INFO:gurobipy:  154009 PPushes remaining with PInf 4.3714101e-02             14522s\n"
     ]
    },
    {
     "name": "stdout",
     "output_type": "stream",
     "text": [
      "  151240 PPushes remaining with PInf 4.3714101e-02             14527s\n"
     ]
    },
    {
     "name": "stderr",
     "output_type": "stream",
     "text": [
      "INFO:gurobipy:  151240 PPushes remaining with PInf 4.3714101e-02             14527s\n"
     ]
    },
    {
     "name": "stdout",
     "output_type": "stream",
     "text": [
      "  149285 PPushes remaining with PInf 4.3714101e-02             14531s\n"
     ]
    },
    {
     "name": "stderr",
     "output_type": "stream",
     "text": [
      "INFO:gurobipy:  149285 PPushes remaining with PInf 4.3714101e-02             14531s\n"
     ]
    },
    {
     "name": "stdout",
     "output_type": "stream",
     "text": [
      "  146747 PPushes remaining with PInf 4.3714101e-02             14536s\n"
     ]
    },
    {
     "name": "stderr",
     "output_type": "stream",
     "text": [
      "INFO:gurobipy:  146747 PPushes remaining with PInf 4.3714101e-02             14536s\n"
     ]
    },
    {
     "name": "stdout",
     "output_type": "stream",
     "text": [
      "  143979 PPushes remaining with PInf 4.3714101e-02             14540s\n"
     ]
    },
    {
     "name": "stderr",
     "output_type": "stream",
     "text": [
      "INFO:gurobipy:  143979 PPushes remaining with PInf 4.3714101e-02             14540s\n"
     ]
    },
    {
     "name": "stdout",
     "output_type": "stream",
     "text": [
      "  138791 PPushes remaining with PInf 4.3559746e-02             14548s\n"
     ]
    },
    {
     "name": "stderr",
     "output_type": "stream",
     "text": [
      "INFO:gurobipy:  138791 PPushes remaining with PInf 4.3559746e-02             14548s\n"
     ]
    },
    {
     "name": "stdout",
     "output_type": "stream",
     "text": [
      "  135712 PPushes remaining with PInf 4.3460801e-02             14553s\n"
     ]
    },
    {
     "name": "stderr",
     "output_type": "stream",
     "text": [
      "INFO:gurobipy:  135712 PPushes remaining with PInf 4.3460801e-02             14553s\n"
     ]
    },
    {
     "name": "stdout",
     "output_type": "stream",
     "text": [
      "  131653 PPushes remaining with PInf 4.3460801e-02             14557s\n"
     ]
    },
    {
     "name": "stderr",
     "output_type": "stream",
     "text": [
      "INFO:gurobipy:  131653 PPushes remaining with PInf 4.3460801e-02             14557s\n"
     ]
    },
    {
     "name": "stdout",
     "output_type": "stream",
     "text": [
      "  128091 PPushes remaining with PInf 4.3460801e-02             14561s\n"
     ]
    },
    {
     "name": "stderr",
     "output_type": "stream",
     "text": [
      "INFO:gurobipy:  128091 PPushes remaining with PInf 4.3460801e-02             14561s\n"
     ]
    },
    {
     "name": "stdout",
     "output_type": "stream",
     "text": [
      "  123247 PPushes remaining with PInf 4.3451162e-02             14568s\n"
     ]
    },
    {
     "name": "stderr",
     "output_type": "stream",
     "text": [
      "INFO:gurobipy:  123247 PPushes remaining with PInf 4.3451162e-02             14568s\n"
     ]
    },
    {
     "name": "stdout",
     "output_type": "stream",
     "text": [
      "  122041 PPushes remaining with PInf 4.3451162e-02             14572s\n"
     ]
    },
    {
     "name": "stderr",
     "output_type": "stream",
     "text": [
      "INFO:gurobipy:  122041 PPushes remaining with PInf 4.3451162e-02             14572s\n"
     ]
    },
    {
     "name": "stdout",
     "output_type": "stream",
     "text": [
      "  118797 PPushes remaining with PInf 4.3451162e-02             14576s\n"
     ]
    },
    {
     "name": "stderr",
     "output_type": "stream",
     "text": [
      "INFO:gurobipy:  118797 PPushes remaining with PInf 4.3451162e-02             14576s\n"
     ]
    },
    {
     "name": "stdout",
     "output_type": "stream",
     "text": [
      "  114030 PPushes remaining with PInf 4.3451162e-02             14584s\n"
     ]
    },
    {
     "name": "stderr",
     "output_type": "stream",
     "text": [
      "INFO:gurobipy:  114030 PPushes remaining with PInf 4.3451162e-02             14584s\n"
     ]
    },
    {
     "name": "stdout",
     "output_type": "stream",
     "text": [
      "  111042 PPushes remaining with PInf 4.3451162e-02             14589s\n"
     ]
    },
    {
     "name": "stderr",
     "output_type": "stream",
     "text": [
      "INFO:gurobipy:  111042 PPushes remaining with PInf 4.3451162e-02             14589s\n"
     ]
    },
    {
     "name": "stdout",
     "output_type": "stream",
     "text": [
      "  107344 PPushes remaining with PInf 4.3451162e-02             14593s\n"
     ]
    },
    {
     "name": "stderr",
     "output_type": "stream",
     "text": [
      "INFO:gurobipy:  107344 PPushes remaining with PInf 4.3451162e-02             14593s\n"
     ]
    },
    {
     "name": "stdout",
     "output_type": "stream",
     "text": [
      "  104293 PPushes remaining with PInf 4.3451162e-02             14597s\n"
     ]
    },
    {
     "name": "stderr",
     "output_type": "stream",
     "text": [
      "INFO:gurobipy:  104293 PPushes remaining with PInf 4.3451162e-02             14597s\n"
     ]
    },
    {
     "name": "stdout",
     "output_type": "stream",
     "text": [
      "   99971 PPushes remaining with PInf 4.3451162e-02             14602s\n"
     ]
    },
    {
     "name": "stderr",
     "output_type": "stream",
     "text": [
      "INFO:gurobipy:   99971 PPushes remaining with PInf 4.3451162e-02             14602s\n"
     ]
    },
    {
     "name": "stdout",
     "output_type": "stream",
     "text": [
      "   97403 PPushes remaining with PInf 4.3451162e-02             14606s\n"
     ]
    },
    {
     "name": "stderr",
     "output_type": "stream",
     "text": [
      "INFO:gurobipy:   97403 PPushes remaining with PInf 4.3451162e-02             14606s\n"
     ]
    },
    {
     "name": "stdout",
     "output_type": "stream",
     "text": [
      "   94351 PPushes remaining with PInf 4.3451162e-02             14610s\n"
     ]
    },
    {
     "name": "stderr",
     "output_type": "stream",
     "text": [
      "INFO:gurobipy:   94351 PPushes remaining with PInf 4.3451162e-02             14610s\n"
     ]
    },
    {
     "name": "stdout",
     "output_type": "stream",
     "text": [
      "   90864 PPushes remaining with PInf 4.3451162e-02             14615s\n"
     ]
    },
    {
     "name": "stderr",
     "output_type": "stream",
     "text": [
      "INFO:gurobipy:   90864 PPushes remaining with PInf 4.3451162e-02             14615s\n"
     ]
    },
    {
     "name": "stdout",
     "output_type": "stream",
     "text": [
      "   85315 PPushes remaining with PInf 4.3451162e-02             14623s\n"
     ]
    },
    {
     "name": "stderr",
     "output_type": "stream",
     "text": [
      "INFO:gurobipy:   85315 PPushes remaining with PInf 4.3451162e-02             14623s\n"
     ]
    },
    {
     "name": "stdout",
     "output_type": "stream",
     "text": [
      "   81671 PPushes remaining with PInf 4.3451162e-02             14628s\n"
     ]
    },
    {
     "name": "stderr",
     "output_type": "stream",
     "text": [
      "INFO:gurobipy:   81671 PPushes remaining with PInf 4.3451162e-02             14628s\n"
     ]
    },
    {
     "name": "stdout",
     "output_type": "stream",
     "text": [
      "   78742 PPushes remaining with PInf 4.3451162e-02             14633s\n"
     ]
    },
    {
     "name": "stderr",
     "output_type": "stream",
     "text": [
      "INFO:gurobipy:   78742 PPushes remaining with PInf 4.3451162e-02             14633s\n"
     ]
    },
    {
     "name": "stdout",
     "output_type": "stream",
     "text": [
      "   76372 PPushes remaining with PInf 4.3451162e-02             14638s\n"
     ]
    },
    {
     "name": "stderr",
     "output_type": "stream",
     "text": [
      "INFO:gurobipy:   76372 PPushes remaining with PInf 4.3451162e-02             14638s\n"
     ]
    },
    {
     "name": "stdout",
     "output_type": "stream",
     "text": [
      "   74174 PPushes remaining with PInf 4.3451162e-02             14642s\n"
     ]
    },
    {
     "name": "stderr",
     "output_type": "stream",
     "text": [
      "INFO:gurobipy:   74174 PPushes remaining with PInf 4.3451162e-02             14642s\n"
     ]
    },
    {
     "name": "stdout",
     "output_type": "stream",
     "text": [
      "   72200 PPushes remaining with PInf 4.3451162e-02             14647s\n"
     ]
    },
    {
     "name": "stderr",
     "output_type": "stream",
     "text": [
      "INFO:gurobipy:   72200 PPushes remaining with PInf 4.3451162e-02             14647s\n"
     ]
    },
    {
     "name": "stdout",
     "output_type": "stream",
     "text": [
      "   70438 PPushes remaining with PInf 4.3451162e-02             14651s\n"
     ]
    },
    {
     "name": "stderr",
     "output_type": "stream",
     "text": [
      "INFO:gurobipy:   70438 PPushes remaining with PInf 4.3451162e-02             14651s\n"
     ]
    },
    {
     "name": "stdout",
     "output_type": "stream",
     "text": [
      "   66589 PPushes remaining with PInf 4.3451162e-02             14659s\n"
     ]
    },
    {
     "name": "stderr",
     "output_type": "stream",
     "text": [
      "INFO:gurobipy:   66589 PPushes remaining with PInf 4.3451162e-02             14659s\n"
     ]
    },
    {
     "name": "stdout",
     "output_type": "stream",
     "text": [
      "   64708 PPushes remaining with PInf 4.3451162e-02             14663s\n"
     ]
    },
    {
     "name": "stderr",
     "output_type": "stream",
     "text": [
      "INFO:gurobipy:   64708 PPushes remaining with PInf 4.3451162e-02             14663s\n"
     ]
    },
    {
     "name": "stdout",
     "output_type": "stream",
     "text": [
      "   62711 PPushes remaining with PInf 4.3451162e-02             14667s\n"
     ]
    },
    {
     "name": "stderr",
     "output_type": "stream",
     "text": [
      "INFO:gurobipy:   62711 PPushes remaining with PInf 4.3451162e-02             14667s\n"
     ]
    },
    {
     "name": "stdout",
     "output_type": "stream",
     "text": [
      "   60727 PPushes remaining with PInf 4.3451162e-02             14672s\n"
     ]
    },
    {
     "name": "stderr",
     "output_type": "stream",
     "text": [
      "INFO:gurobipy:   60727 PPushes remaining with PInf 4.3451162e-02             14672s\n"
     ]
    },
    {
     "name": "stdout",
     "output_type": "stream",
     "text": [
      "   58566 PPushes remaining with PInf 4.3451162e-02             14676s\n"
     ]
    },
    {
     "name": "stderr",
     "output_type": "stream",
     "text": [
      "INFO:gurobipy:   58566 PPushes remaining with PInf 4.3451162e-02             14676s\n"
     ]
    },
    {
     "name": "stdout",
     "output_type": "stream",
     "text": [
      "   56612 PPushes remaining with PInf 4.3451162e-02             14681s\n"
     ]
    },
    {
     "name": "stderr",
     "output_type": "stream",
     "text": [
      "INFO:gurobipy:   56612 PPushes remaining with PInf 4.3451162e-02             14681s\n"
     ]
    },
    {
     "name": "stdout",
     "output_type": "stream",
     "text": [
      "   51667 PPushes remaining with PInf 4.3451162e-02             14689s\n"
     ]
    },
    {
     "name": "stderr",
     "output_type": "stream",
     "text": [
      "INFO:gurobipy:   51667 PPushes remaining with PInf 4.3451162e-02             14689s\n"
     ]
    },
    {
     "name": "stdout",
     "output_type": "stream",
     "text": [
      "   49521 PPushes remaining with PInf 4.3451162e-02             14694s\n"
     ]
    },
    {
     "name": "stderr",
     "output_type": "stream",
     "text": [
      "INFO:gurobipy:   49521 PPushes remaining with PInf 4.3451162e-02             14694s\n"
     ]
    },
    {
     "name": "stdout",
     "output_type": "stream",
     "text": [
      "   47814 PPushes remaining with PInf 4.3451162e-02             14698s\n"
     ]
    },
    {
     "name": "stderr",
     "output_type": "stream",
     "text": [
      "INFO:gurobipy:   47814 PPushes remaining with PInf 4.3451162e-02             14698s\n"
     ]
    },
    {
     "name": "stdout",
     "output_type": "stream",
     "text": [
      "   45930 PPushes remaining with PInf 4.3451162e-02             14703s\n"
     ]
    },
    {
     "name": "stderr",
     "output_type": "stream",
     "text": [
      "INFO:gurobipy:   45930 PPushes remaining with PInf 4.3451162e-02             14703s\n"
     ]
    },
    {
     "name": "stdout",
     "output_type": "stream",
     "text": [
      "   44384 PPushes remaining with PInf 4.3451162e-02             14712s\n"
     ]
    },
    {
     "name": "stderr",
     "output_type": "stream",
     "text": [
      "INFO:gurobipy:   44384 PPushes remaining with PInf 4.3451162e-02             14712s\n"
     ]
    },
    {
     "name": "stdout",
     "output_type": "stream",
     "text": [
      "   42887 PPushes remaining with PInf 4.3451162e-02             14717s\n"
     ]
    },
    {
     "name": "stderr",
     "output_type": "stream",
     "text": [
      "INFO:gurobipy:   42887 PPushes remaining with PInf 4.3451162e-02             14717s\n"
     ]
    },
    {
     "name": "stdout",
     "output_type": "stream",
     "text": [
      "   41514 PPushes remaining with PInf 4.3451162e-02             14722s\n"
     ]
    },
    {
     "name": "stderr",
     "output_type": "stream",
     "text": [
      "INFO:gurobipy:   41514 PPushes remaining with PInf 4.3451162e-02             14722s\n"
     ]
    },
    {
     "name": "stdout",
     "output_type": "stream",
     "text": [
      "   40132 PPushes remaining with PInf 4.3451162e-02             14726s\n"
     ]
    },
    {
     "name": "stderr",
     "output_type": "stream",
     "text": [
      "INFO:gurobipy:   40132 PPushes remaining with PInf 4.3451162e-02             14726s\n"
     ]
    },
    {
     "name": "stdout",
     "output_type": "stream",
     "text": [
      "   36304 PPushes remaining with PInf 4.3451162e-02             14750s\n"
     ]
    },
    {
     "name": "stderr",
     "output_type": "stream",
     "text": [
      "INFO:gurobipy:   36304 PPushes remaining with PInf 4.3451162e-02             14750s\n"
     ]
    },
    {
     "name": "stdout",
     "output_type": "stream",
     "text": [
      "   34818 PPushes remaining with PInf 4.3416681e-02             14758s\n"
     ]
    },
    {
     "name": "stderr",
     "output_type": "stream",
     "text": [
      "INFO:gurobipy:   34818 PPushes remaining with PInf 4.3416681e-02             14758s\n"
     ]
    },
    {
     "name": "stdout",
     "output_type": "stream",
     "text": [
      "   34073 PPushes remaining with PInf 4.3416681e-02             14763s\n"
     ]
    },
    {
     "name": "stderr",
     "output_type": "stream",
     "text": [
      "INFO:gurobipy:   34073 PPushes remaining with PInf 4.3416681e-02             14763s\n"
     ]
    },
    {
     "name": "stdout",
     "output_type": "stream",
     "text": [
      "   33304 PPushes remaining with PInf 4.3416681e-02             14767s\n"
     ]
    },
    {
     "name": "stderr",
     "output_type": "stream",
     "text": [
      "INFO:gurobipy:   33304 PPushes remaining with PInf 4.3416681e-02             14767s\n"
     ]
    },
    {
     "name": "stdout",
     "output_type": "stream",
     "text": [
      "   32513 PPushes remaining with PInf 4.3416681e-02             14774s\n"
     ]
    },
    {
     "name": "stderr",
     "output_type": "stream",
     "text": [
      "INFO:gurobipy:   32513 PPushes remaining with PInf 4.3416681e-02             14774s\n"
     ]
    },
    {
     "name": "stdout",
     "output_type": "stream",
     "text": [
      "   31629 PPushes remaining with PInf 4.3416681e-02             14781s\n"
     ]
    },
    {
     "name": "stderr",
     "output_type": "stream",
     "text": [
      "INFO:gurobipy:   31629 PPushes remaining with PInf 4.3416681e-02             14781s\n"
     ]
    },
    {
     "name": "stdout",
     "output_type": "stream",
     "text": [
      "   30778 PPushes remaining with PInf 4.3416681e-02             14790s\n"
     ]
    },
    {
     "name": "stderr",
     "output_type": "stream",
     "text": [
      "INFO:gurobipy:   30778 PPushes remaining with PInf 4.3416681e-02             14790s\n"
     ]
    },
    {
     "name": "stdout",
     "output_type": "stream",
     "text": [
      "   26943 PPushes remaining with PInf 4.3416681e-02             14854s\n"
     ]
    },
    {
     "name": "stderr",
     "output_type": "stream",
     "text": [
      "INFO:gurobipy:   26943 PPushes remaining with PInf 4.3416681e-02             14854s\n"
     ]
    },
    {
     "name": "stdout",
     "output_type": "stream",
     "text": [
      "   26135 PPushes remaining with PInf 4.3416681e-02             14861s\n"
     ]
    },
    {
     "name": "stderr",
     "output_type": "stream",
     "text": [
      "INFO:gurobipy:   26135 PPushes remaining with PInf 4.3416681e-02             14861s\n"
     ]
    },
    {
     "name": "stdout",
     "output_type": "stream",
     "text": [
      "   24657 PPushes remaining with PInf 4.3416681e-02             15729s\n"
     ]
    },
    {
     "name": "stderr",
     "output_type": "stream",
     "text": [
      "INFO:gurobipy:   24657 PPushes remaining with PInf 4.3416681e-02             15729s\n"
     ]
    },
    {
     "name": "stdout",
     "output_type": "stream",
     "text": [
      "   23920 PPushes remaining with PInf 4.3416681e-02             15736s\n"
     ]
    },
    {
     "name": "stderr",
     "output_type": "stream",
     "text": [
      "INFO:gurobipy:   23920 PPushes remaining with PInf 4.3416681e-02             15736s\n"
     ]
    },
    {
     "name": "stdout",
     "output_type": "stream",
     "text": [
      "   22867 PPushes remaining with PInf 4.3416681e-02             15742s\n"
     ]
    },
    {
     "name": "stderr",
     "output_type": "stream",
     "text": [
      "INFO:gurobipy:   22867 PPushes remaining with PInf 4.3416681e-02             15742s\n"
     ]
    },
    {
     "name": "stdout",
     "output_type": "stream",
     "text": [
      "   21768 PPushes remaining with PInf 4.3416681e-02             15875s\n"
     ]
    },
    {
     "name": "stderr",
     "output_type": "stream",
     "text": [
      "INFO:gurobipy:   21768 PPushes remaining with PInf 4.3416681e-02             15875s\n"
     ]
    },
    {
     "name": "stdout",
     "output_type": "stream",
     "text": [
      "   21008 PPushes remaining with PInf 4.3416681e-02             15881s\n"
     ]
    },
    {
     "name": "stderr",
     "output_type": "stream",
     "text": [
      "INFO:gurobipy:   21008 PPushes remaining with PInf 4.3416681e-02             15881s\n"
     ]
    },
    {
     "name": "stdout",
     "output_type": "stream",
     "text": [
      "   20263 PPushes remaining with PInf 4.3416681e-02             15886s\n"
     ]
    },
    {
     "name": "stderr",
     "output_type": "stream",
     "text": [
      "INFO:gurobipy:   20263 PPushes remaining with PInf 4.3416681e-02             15886s\n"
     ]
    },
    {
     "name": "stdout",
     "output_type": "stream",
     "text": [
      "   19527 PPushes remaining with PInf 4.3416681e-02             15891s\n"
     ]
    },
    {
     "name": "stderr",
     "output_type": "stream",
     "text": [
      "INFO:gurobipy:   19527 PPushes remaining with PInf 4.3416681e-02             15891s\n"
     ]
    },
    {
     "name": "stdout",
     "output_type": "stream",
     "text": [
      "   18792 PPushes remaining with PInf 4.3416681e-02             15896s\n"
     ]
    },
    {
     "name": "stderr",
     "output_type": "stream",
     "text": [
      "INFO:gurobipy:   18792 PPushes remaining with PInf 4.3416681e-02             15896s\n"
     ]
    },
    {
     "name": "stdout",
     "output_type": "stream",
     "text": [
      "   17924 PPushes remaining with PInf 4.3416681e-02             15901s\n"
     ]
    },
    {
     "name": "stderr",
     "output_type": "stream",
     "text": [
      "INFO:gurobipy:   17924 PPushes remaining with PInf 4.3416681e-02             15901s\n"
     ]
    },
    {
     "name": "stdout",
     "output_type": "stream",
     "text": [
      "   17189 PPushes remaining with PInf 4.3416681e-02             15906s\n"
     ]
    },
    {
     "name": "stderr",
     "output_type": "stream",
     "text": [
      "INFO:gurobipy:   17189 PPushes remaining with PInf 4.3416681e-02             15906s\n"
     ]
    },
    {
     "name": "stdout",
     "output_type": "stream",
     "text": [
      "   16062 PPushes remaining with PInf 4.3416681e-02             15912s\n"
     ]
    },
    {
     "name": "stderr",
     "output_type": "stream",
     "text": [
      "INFO:gurobipy:   16062 PPushes remaining with PInf 4.3416681e-02             15912s\n"
     ]
    },
    {
     "name": "stdout",
     "output_type": "stream",
     "text": [
      "   15118 PPushes remaining with PInf 4.3416681e-02             15917s\n"
     ]
    },
    {
     "name": "stderr",
     "output_type": "stream",
     "text": [
      "INFO:gurobipy:   15118 PPushes remaining with PInf 4.3416681e-02             15917s\n"
     ]
    },
    {
     "name": "stdout",
     "output_type": "stream",
     "text": [
      "   14244 PPushes remaining with PInf 4.3416681e-02             15922s\n"
     ]
    },
    {
     "name": "stderr",
     "output_type": "stream",
     "text": [
      "INFO:gurobipy:   14244 PPushes remaining with PInf 4.3416681e-02             15922s\n"
     ]
    },
    {
     "name": "stdout",
     "output_type": "stream",
     "text": [
      "   13489 PPushes remaining with PInf 4.3416681e-02             15931s\n"
     ]
    },
    {
     "name": "stderr",
     "output_type": "stream",
     "text": [
      "INFO:gurobipy:   13489 PPushes remaining with PInf 4.3416681e-02             15931s\n"
     ]
    },
    {
     "name": "stdout",
     "output_type": "stream",
     "text": [
      "   12714 PPushes remaining with PInf 4.3416681e-02             15938s\n"
     ]
    },
    {
     "name": "stderr",
     "output_type": "stream",
     "text": [
      "INFO:gurobipy:   12714 PPushes remaining with PInf 4.3416681e-02             15938s\n"
     ]
    },
    {
     "name": "stdout",
     "output_type": "stream",
     "text": [
      "   11931 PPushes remaining with PInf 4.3416681e-02             15946s\n"
     ]
    },
    {
     "name": "stderr",
     "output_type": "stream",
     "text": [
      "INFO:gurobipy:   11931 PPushes remaining with PInf 4.3416681e-02             15946s\n"
     ]
    },
    {
     "name": "stdout",
     "output_type": "stream",
     "text": [
      "   10944 PPushes remaining with PInf 4.3416681e-02             15951s\n"
     ]
    },
    {
     "name": "stderr",
     "output_type": "stream",
     "text": [
      "INFO:gurobipy:   10944 PPushes remaining with PInf 4.3416681e-02             15951s\n"
     ]
    },
    {
     "name": "stdout",
     "output_type": "stream",
     "text": [
      "   10116 PPushes remaining with PInf 4.3416681e-02             15958s\n"
     ]
    },
    {
     "name": "stderr",
     "output_type": "stream",
     "text": [
      "INFO:gurobipy:   10116 PPushes remaining with PInf 4.3416681e-02             15958s\n"
     ]
    },
    {
     "name": "stdout",
     "output_type": "stream",
     "text": [
      "    9301 PPushes remaining with PInf 4.3416681e-02             15968s\n"
     ]
    },
    {
     "name": "stderr",
     "output_type": "stream",
     "text": [
      "INFO:gurobipy:    9301 PPushes remaining with PInf 4.3416681e-02             15968s\n"
     ]
    },
    {
     "name": "stdout",
     "output_type": "stream",
     "text": [
      "    8485 PPushes remaining with PInf 4.3416681e-02             15973s\n"
     ]
    },
    {
     "name": "stderr",
     "output_type": "stream",
     "text": [
      "INFO:gurobipy:    8485 PPushes remaining with PInf 4.3416681e-02             15973s\n"
     ]
    },
    {
     "name": "stdout",
     "output_type": "stream",
     "text": [
      "    7077 PPushes remaining with PInf 4.3416681e-02             15979s\n"
     ]
    },
    {
     "name": "stderr",
     "output_type": "stream",
     "text": [
      "INFO:gurobipy:    7077 PPushes remaining with PInf 4.3416681e-02             15979s\n"
     ]
    },
    {
     "name": "stdout",
     "output_type": "stream",
     "text": [
      "    6192 PPushes remaining with PInf 4.3416681e-02             15984s\n"
     ]
    },
    {
     "name": "stderr",
     "output_type": "stream",
     "text": [
      "INFO:gurobipy:    6192 PPushes remaining with PInf 4.3416681e-02             15984s\n"
     ]
    },
    {
     "name": "stdout",
     "output_type": "stream",
     "text": [
      "    5167 PPushes remaining with PInf 4.3416681e-02             15989s\n"
     ]
    },
    {
     "name": "stderr",
     "output_type": "stream",
     "text": [
      "INFO:gurobipy:    5167 PPushes remaining with PInf 4.3416681e-02             15989s\n"
     ]
    },
    {
     "name": "stdout",
     "output_type": "stream",
     "text": [
      "    3632 PPushes remaining with PInf 4.3416681e-02             15993s\n"
     ]
    },
    {
     "name": "stderr",
     "output_type": "stream",
     "text": [
      "INFO:gurobipy:    3632 PPushes remaining with PInf 4.3416681e-02             15993s\n"
     ]
    },
    {
     "name": "stdout",
     "output_type": "stream",
     "text": [
      "    2823 PPushes remaining with PInf 4.3416681e-02             15998s\n"
     ]
    },
    {
     "name": "stderr",
     "output_type": "stream",
     "text": [
      "INFO:gurobipy:    2823 PPushes remaining with PInf 4.3416681e-02             15998s\n"
     ]
    },
    {
     "name": "stdout",
     "output_type": "stream",
     "text": [
      "    1882 PPushes remaining with PInf 4.3416681e-02             16002s\n"
     ]
    },
    {
     "name": "stderr",
     "output_type": "stream",
     "text": [
      "INFO:gurobipy:    1882 PPushes remaining with PInf 4.3416681e-02             16002s\n"
     ]
    },
    {
     "name": "stdout",
     "output_type": "stream",
     "text": [
      "     873 PPushes remaining with PInf 4.3416681e-02             16006s\n"
     ]
    },
    {
     "name": "stderr",
     "output_type": "stream",
     "text": [
      "INFO:gurobipy:     873 PPushes remaining with PInf 4.3416681e-02             16006s\n"
     ]
    },
    {
     "name": "stdout",
     "output_type": "stream",
     "text": [
      "     131 PPushes remaining with PInf 4.3416681e-02             16010s\n"
     ]
    },
    {
     "name": "stderr",
     "output_type": "stream",
     "text": [
      "INFO:gurobipy:     131 PPushes remaining with PInf 4.3416681e-02             16010s\n"
     ]
    },
    {
     "name": "stdout",
     "output_type": "stream",
     "text": [
      "       0 PPushes remaining with PInf 4.3418237e-02             16017s\n"
     ]
    },
    {
     "name": "stderr",
     "output_type": "stream",
     "text": [
      "INFO:gurobipy:       0 PPushes remaining with PInf 4.3418237e-02             16017s\n"
     ]
    },
    {
     "name": "stdout",
     "output_type": "stream",
     "text": [
      "\n"
     ]
    },
    {
     "name": "stderr",
     "output_type": "stream",
     "text": [
      "INFO:gurobipy:\n"
     ]
    },
    {
     "name": "stdout",
     "output_type": "stream",
     "text": [
      "  Push phase complete: Pinf 4.3418237e-02, Dinf 1.4555322e+03  16018s\n"
     ]
    },
    {
     "name": "stderr",
     "output_type": "stream",
     "text": [
      "INFO:gurobipy:  Push phase complete: Pinf 4.3418237e-02, Dinf 1.4555322e+03  16018s\n"
     ]
    },
    {
     "name": "stdout",
     "output_type": "stream",
     "text": [
      "\n"
     ]
    },
    {
     "name": "stderr",
     "output_type": "stream",
     "text": [
      "INFO:gurobipy:\n"
     ]
    },
    {
     "name": "stdout",
     "output_type": "stream",
     "text": [
      "Iteration    Objective       Primal Inf.    Dual Inf.      Time\n"
     ]
    },
    {
     "name": "stderr",
     "output_type": "stream",
     "text": [
      "INFO:gurobipy:Iteration    Objective       Primal Inf.    Dual Inf.      Time\n"
     ]
    },
    {
     "name": "stdout",
     "output_type": "stream",
     "text": [
      " 3429951    1.7100757e+09   0.000000e+00   1.455532e+03  16022s\n"
     ]
    },
    {
     "name": "stderr",
     "output_type": "stream",
     "text": [
      "INFO:gurobipy: 3429951    1.7100757e+09   0.000000e+00   1.455532e+03  16022s\n"
     ]
    },
    {
     "name": "stdout",
     "output_type": "stream",
     "text": [
      " 3430360    1.7100702e+09   0.000000e+00   2.715080e+02  16045s\n"
     ]
    },
    {
     "name": "stderr",
     "output_type": "stream",
     "text": [
      "INFO:gurobipy: 3430360    1.7100702e+09   0.000000e+00   2.715080e+02  16045s\n"
     ]
    },
    {
     "name": "stdout",
     "output_type": "stream",
     "text": [
      " 3431261    1.7100701e+09   0.000000e+00   2.532599e+05  16061s\n"
     ]
    },
    {
     "name": "stderr",
     "output_type": "stream",
     "text": [
      "INFO:gurobipy: 3431261    1.7100701e+09   0.000000e+00   2.532599e+05  16061s\n"
     ]
    },
    {
     "name": "stdout",
     "output_type": "stream",
     "text": [
      " 3431673    1.7100701e+09   0.000000e+00   1.291041e+04  16087s\n"
     ]
    },
    {
     "name": "stderr",
     "output_type": "stream",
     "text": [
      "INFO:gurobipy: 3431673    1.7100701e+09   0.000000e+00   1.291041e+04  16087s\n"
     ]
    },
    {
     "name": "stdout",
     "output_type": "stream",
     "text": [
      " 3431953    1.7100701e+09   0.000000e+00   5.879954e+05  16114s\n"
     ]
    },
    {
     "name": "stderr",
     "output_type": "stream",
     "text": [
      "INFO:gurobipy: 3431953    1.7100701e+09   0.000000e+00   5.879954e+05  16114s\n"
     ]
    },
    {
     "name": "stdout",
     "output_type": "stream",
     "text": [
      " 3432263    1.7100701e+09   0.000000e+00   7.053079e+05  16141s\n"
     ]
    },
    {
     "name": "stderr",
     "output_type": "stream",
     "text": [
      "INFO:gurobipy: 3432263    1.7100701e+09   0.000000e+00   7.053079e+05  16141s\n"
     ]
    },
    {
     "name": "stdout",
     "output_type": "stream",
     "text": [
      " 3432483    1.7100701e+09   0.000000e+00   2.164103e+01  16172s\n"
     ]
    },
    {
     "name": "stderr",
     "output_type": "stream",
     "text": [
      "INFO:gurobipy: 3432483    1.7100701e+09   0.000000e+00   2.164103e+01  16172s\n"
     ]
    },
    {
     "name": "stdout",
     "output_type": "stream",
     "text": [
      " 3432684    1.7100701e+09   0.000000e+00   4.628952e+03  16201s\n"
     ]
    },
    {
     "name": "stderr",
     "output_type": "stream",
     "text": [
      "INFO:gurobipy: 3432684    1.7100701e+09   0.000000e+00   4.628952e+03  16201s\n"
     ]
    },
    {
     "name": "stdout",
     "output_type": "stream",
     "text": [
      " 3432916    1.7100701e+09   0.000000e+00   5.591753e+01  16232s\n"
     ]
    },
    {
     "name": "stderr",
     "output_type": "stream",
     "text": [
      "INFO:gurobipy: 3432916    1.7100701e+09   0.000000e+00   5.591753e+01  16232s\n"
     ]
    },
    {
     "name": "stdout",
     "output_type": "stream",
     "text": [
      " 3433227    1.7100701e+09   0.000000e+00   6.150969e+04  16383s\n"
     ]
    },
    {
     "name": "stderr",
     "output_type": "stream",
     "text": [
      "INFO:gurobipy: 3433227    1.7100701e+09   0.000000e+00   6.150969e+04  16383s\n"
     ]
    },
    {
     "name": "stdout",
     "output_type": "stream",
     "text": [
      " 3433437    1.7100701e+09   0.000000e+00   1.713608e+01  17712s\n"
     ]
    },
    {
     "name": "stderr",
     "output_type": "stream",
     "text": [
      "INFO:gurobipy: 3433437    1.7100701e+09   0.000000e+00   1.713608e+01  17712s\n"
     ]
    },
    {
     "name": "stdout",
     "output_type": "stream",
     "text": [
      " 3433647    1.7100701e+09   0.000000e+00   3.832365e+01  17739s\n"
     ]
    },
    {
     "name": "stderr",
     "output_type": "stream",
     "text": [
      "INFO:gurobipy: 3433647    1.7100701e+09   0.000000e+00   3.832365e+01  17739s\n"
     ]
    },
    {
     "name": "stdout",
     "output_type": "stream",
     "text": [
      " 3433867    1.7100701e+09   0.000000e+00   9.749560e+01  17769s\n"
     ]
    },
    {
     "name": "stderr",
     "output_type": "stream",
     "text": [
      "INFO:gurobipy: 3433867    1.7100701e+09   0.000000e+00   9.749560e+01  17769s\n"
     ]
    },
    {
     "name": "stdout",
     "output_type": "stream",
     "text": [
      " 3434069    1.7100701e+09   0.000000e+00   3.628830e+01  17801s\n"
     ]
    },
    {
     "name": "stderr",
     "output_type": "stream",
     "text": [
      "INFO:gurobipy: 3434069    1.7100701e+09   0.000000e+00   3.628830e+01  17801s\n"
     ]
    },
    {
     "name": "stdout",
     "output_type": "stream",
     "text": [
      " 3434229    1.7100701e+09   0.000000e+00   1.596056e+02  17833s\n"
     ]
    },
    {
     "name": "stderr",
     "output_type": "stream",
     "text": [
      "INFO:gurobipy: 3434229    1.7100701e+09   0.000000e+00   1.596056e+02  17833s\n"
     ]
    },
    {
     "name": "stdout",
     "output_type": "stream",
     "text": [
      " 3434420    1.7100701e+09   0.000000e+00   2.082609e+02  17868s\n"
     ]
    },
    {
     "name": "stderr",
     "output_type": "stream",
     "text": [
      "INFO:gurobipy: 3434420    1.7100701e+09   0.000000e+00   2.082609e+02  17868s\n"
     ]
    },
    {
     "name": "stdout",
     "output_type": "stream",
     "text": [
      " 3434621    1.7100701e+09   0.000000e+00   3.704877e+00  17899s\n"
     ]
    },
    {
     "name": "stderr",
     "output_type": "stream",
     "text": [
      "INFO:gurobipy: 3434621    1.7100701e+09   0.000000e+00   3.704877e+00  17899s\n"
     ]
    },
    {
     "name": "stdout",
     "output_type": "stream",
     "text": [
      " 3434822    1.7100701e+09   0.000000e+00   9.125387e+00  17932s\n"
     ]
    },
    {
     "name": "stderr",
     "output_type": "stream",
     "text": [
      "INFO:gurobipy: 3434822    1.7100701e+09   0.000000e+00   9.125387e+00  17932s\n"
     ]
    },
    {
     "name": "stdout",
     "output_type": "stream",
     "text": [
      " 3435032    1.7100701e+09   0.000000e+00   3.942808e+04  17964s\n"
     ]
    },
    {
     "name": "stderr",
     "output_type": "stream",
     "text": [
      "INFO:gurobipy: 3435032    1.7100701e+09   0.000000e+00   3.942808e+04  17964s\n"
     ]
    },
    {
     "name": "stdout",
     "output_type": "stream",
     "text": [
      " 3435193    1.7100701e+09   0.000000e+00   2.306598e+00  17997s\n"
     ]
    },
    {
     "name": "stderr",
     "output_type": "stream",
     "text": [
      "INFO:gurobipy: 3435193    1.7100701e+09   0.000000e+00   2.306598e+00  17997s\n"
     ]
    },
    {
     "name": "stdout",
     "output_type": "stream",
     "text": [
      " 3435383    1.7100701e+09   0.000000e+00   1.987265e+03  18175s\n"
     ]
    },
    {
     "name": "stderr",
     "output_type": "stream",
     "text": [
      "INFO:gurobipy: 3435383    1.7100701e+09   0.000000e+00   1.987265e+03  18175s\n"
     ]
    },
    {
     "name": "stdout",
     "output_type": "stream",
     "text": [
      " 3435543    1.7100701e+09   0.000000e+00   2.539833e+01  18209s\n"
     ]
    },
    {
     "name": "stderr",
     "output_type": "stream",
     "text": [
      "INFO:gurobipy: 3435543    1.7100701e+09   0.000000e+00   2.539833e+01  18209s\n"
     ]
    },
    {
     "name": "stdout",
     "output_type": "stream",
     "text": [
      " 3435733    1.7100701e+09   0.000000e+00   5.798648e+01  18241s\n"
     ]
    },
    {
     "name": "stderr",
     "output_type": "stream",
     "text": [
      "INFO:gurobipy: 3435733    1.7100701e+09   0.000000e+00   5.798648e+01  18241s\n"
     ]
    },
    {
     "name": "stdout",
     "output_type": "stream",
     "text": [
      " 3436125    1.7100701e+09   0.000000e+00   5.642930e+01  18273s\n"
     ]
    },
    {
     "name": "stderr",
     "output_type": "stream",
     "text": [
      "INFO:gurobipy: 3436125    1.7100701e+09   0.000000e+00   5.642930e+01  18273s\n"
     ]
    },
    {
     "name": "stdout",
     "output_type": "stream",
     "text": [
      " 3436415    1.7100701e+09   0.000000e+00   3.335757e+00  18304s\n"
     ]
    },
    {
     "name": "stderr",
     "output_type": "stream",
     "text": [
      "INFO:gurobipy: 3436415    1.7100701e+09   0.000000e+00   3.335757e+00  18304s\n"
     ]
    },
    {
     "name": "stdout",
     "output_type": "stream",
     "text": [
      " 3436675    1.7100701e+09   0.000000e+00   4.287711e-01  18335s\n"
     ]
    },
    {
     "name": "stderr",
     "output_type": "stream",
     "text": [
      "INFO:gurobipy: 3436675    1.7100701e+09   0.000000e+00   4.287711e-01  18335s\n"
     ]
    },
    {
     "name": "stdout",
     "output_type": "stream",
     "text": [
      " 3436887    1.7100701e+09   0.000000e+00   4.747775e+00  18366s\n"
     ]
    },
    {
     "name": "stderr",
     "output_type": "stream",
     "text": [
      "INFO:gurobipy: 3436887    1.7100701e+09   0.000000e+00   4.747775e+00  18366s\n"
     ]
    },
    {
     "name": "stdout",
     "output_type": "stream",
     "text": [
      " 3437197    1.7100701e+09   0.000000e+00   4.822266e+02  18402s\n"
     ]
    },
    {
     "name": "stderr",
     "output_type": "stream",
     "text": [
      "INFO:gurobipy: 3437197    1.7100701e+09   0.000000e+00   4.822266e+02  18402s\n"
     ]
    },
    {
     "name": "stdout",
     "output_type": "stream",
     "text": [
      " 3437397    1.7100701e+09   0.000000e+00   8.141565e-01  18436s\n"
     ]
    },
    {
     "name": "stderr",
     "output_type": "stream",
     "text": [
      "INFO:gurobipy: 3437397    1.7100701e+09   0.000000e+00   8.141565e-01  18436s\n"
     ]
    },
    {
     "name": "stdout",
     "output_type": "stream",
     "text": [
      " 3437659    1.7100701e+09   0.000000e+00   2.677030e+00  18469s\n"
     ]
    },
    {
     "name": "stderr",
     "output_type": "stream",
     "text": [
      "INFO:gurobipy: 3437659    1.7100701e+09   0.000000e+00   2.677030e+00  18469s\n"
     ]
    },
    {
     "name": "stdout",
     "output_type": "stream",
     "text": [
      " 3437960    1.7100701e+09   0.000000e+00   1.089436e+00  18533s\n"
     ]
    },
    {
     "name": "stderr",
     "output_type": "stream",
     "text": [
      "INFO:gurobipy: 3437960    1.7100701e+09   0.000000e+00   1.089436e+00  18533s\n"
     ]
    },
    {
     "name": "stdout",
     "output_type": "stream",
     "text": [
      " 3438240    1.7100701e+09   0.000000e+00   1.607849e+02  19517s\n"
     ]
    },
    {
     "name": "stderr",
     "output_type": "stream",
     "text": [
      "INFO:gurobipy: 3438240    1.7100701e+09   0.000000e+00   1.607849e+02  19517s\n"
     ]
    },
    {
     "name": "stdout",
     "output_type": "stream",
     "text": [
      " 3438470    1.7100701e+09   0.000000e+00   1.403044e+00  19549s\n"
     ]
    },
    {
     "name": "stderr",
     "output_type": "stream",
     "text": [
      "INFO:gurobipy: 3438470    1.7100701e+09   0.000000e+00   1.403044e+00  19549s\n"
     ]
    },
    {
     "name": "stdout",
     "output_type": "stream",
     "text": [
      " 3438630    1.7100701e+09   0.000000e+00   5.443072e-01  19580s\n"
     ]
    },
    {
     "name": "stderr",
     "output_type": "stream",
     "text": [
      "INFO:gurobipy: 3438630    1.7100701e+09   0.000000e+00   5.443072e-01  19580s\n"
     ]
    },
    {
     "name": "stdout",
     "output_type": "stream",
     "text": [
      " 3438810    1.7100701e+09   0.000000e+00   1.626077e-01  19613s\n"
     ]
    },
    {
     "name": "stderr",
     "output_type": "stream",
     "text": [
      "INFO:gurobipy: 3438810    1.7100701e+09   0.000000e+00   1.626077e-01  19613s\n"
     ]
    },
    {
     "name": "stdout",
     "output_type": "stream",
     "text": [
      " 3439100    1.7100701e+09   0.000000e+00   3.946454e-01  19644s\n"
     ]
    },
    {
     "name": "stderr",
     "output_type": "stream",
     "text": [
      "INFO:gurobipy: 3439100    1.7100701e+09   0.000000e+00   3.946454e-01  19644s\n"
     ]
    },
    {
     "name": "stdout",
     "output_type": "stream",
     "text": [
      " 3439260    1.7100701e+09   0.000000e+00   2.384859e-01  19673s\n"
     ]
    },
    {
     "name": "stderr",
     "output_type": "stream",
     "text": [
      "INFO:gurobipy: 3439260    1.7100701e+09   0.000000e+00   2.384859e-01  19673s\n"
     ]
    },
    {
     "name": "stdout",
     "output_type": "stream",
     "text": [
      " 3439490    1.7100701e+09   0.000000e+00   9.314035e+02  19704s\n"
     ]
    },
    {
     "name": "stderr",
     "output_type": "stream",
     "text": [
      "INFO:gurobipy: 3439490    1.7100701e+09   0.000000e+00   9.314035e+02  19704s\n"
     ]
    },
    {
     "name": "stdout",
     "output_type": "stream",
     "text": [
      " 3439660    1.7100701e+09   0.000000e+00   1.918933e+01  19733s\n"
     ]
    },
    {
     "name": "stderr",
     "output_type": "stream",
     "text": [
      "INFO:gurobipy: 3439660    1.7100701e+09   0.000000e+00   1.918933e+01  19733s\n"
     ]
    },
    {
     "name": "stdout",
     "output_type": "stream",
     "text": [
      " 3439800    1.7100701e+09   0.000000e+00   4.568677e+00  19763s\n"
     ]
    },
    {
     "name": "stderr",
     "output_type": "stream",
     "text": [
      "INFO:gurobipy: 3439800    1.7100701e+09   0.000000e+00   4.568677e+00  19763s\n"
     ]
    },
    {
     "name": "stdout",
     "output_type": "stream",
     "text": [
      " 3439950    1.7100701e+09   0.000000e+00   2.543829e+00  19795s\n"
     ]
    },
    {
     "name": "stderr",
     "output_type": "stream",
     "text": [
      "INFO:gurobipy: 3439950    1.7100701e+09   0.000000e+00   2.543829e+00  19795s\n"
     ]
    },
    {
     "name": "stdout",
     "output_type": "stream",
     "text": [
      " 3440120    1.7100701e+09   0.000000e+00   2.356358e+01  20302s\n"
     ]
    },
    {
     "name": "stderr",
     "output_type": "stream",
     "text": [
      "INFO:gurobipy: 3440120    1.7100701e+09   0.000000e+00   2.356358e+01  20302s\n"
     ]
    },
    {
     "name": "stdout",
     "output_type": "stream",
     "text": [
      " 3440310    1.7100701e+09   0.000000e+00   1.043274e+01  20339s\n"
     ]
    },
    {
     "name": "stderr",
     "output_type": "stream",
     "text": [
      "INFO:gurobipy: 3440310    1.7100701e+09   0.000000e+00   1.043274e+01  20339s\n"
     ]
    },
    {
     "name": "stdout",
     "output_type": "stream",
     "text": [
      " 3440480    1.7100701e+09   0.000000e+00   2.503400e+00  20372s\n"
     ]
    },
    {
     "name": "stderr",
     "output_type": "stream",
     "text": [
      "INFO:gurobipy: 3440480    1.7100701e+09   0.000000e+00   2.503400e+00  20372s\n"
     ]
    },
    {
     "name": "stdout",
     "output_type": "stream",
     "text": [
      " 3440690    1.7100701e+09   0.000000e+00   1.298339e-01  20403s\n"
     ]
    },
    {
     "name": "stderr",
     "output_type": "stream",
     "text": [
      "INFO:gurobipy: 3440690    1.7100701e+09   0.000000e+00   1.298339e-01  20403s\n"
     ]
    },
    {
     "name": "stdout",
     "output_type": "stream",
     "text": [
      " 3440890    1.7100701e+09   0.000000e+00   2.525060e+00  20436s\n"
     ]
    },
    {
     "name": "stderr",
     "output_type": "stream",
     "text": [
      "INFO:gurobipy: 3440890    1.7100701e+09   0.000000e+00   2.525060e+00  20436s\n"
     ]
    },
    {
     "name": "stdout",
     "output_type": "stream",
     "text": [
      " 3441100    1.7100701e+09   0.000000e+00   2.387410e+00  20470s\n"
     ]
    },
    {
     "name": "stderr",
     "output_type": "stream",
     "text": [
      "INFO:gurobipy: 3441100    1.7100701e+09   0.000000e+00   2.387410e+00  20470s\n"
     ]
    },
    {
     "name": "stdout",
     "output_type": "stream",
     "text": [
      " 3441320    1.7100701e+09   0.000000e+00   3.221969e-01  20503s\n"
     ]
    },
    {
     "name": "stderr",
     "output_type": "stream",
     "text": [
      "INFO:gurobipy: 3441320    1.7100701e+09   0.000000e+00   3.221969e-01  20503s\n"
     ]
    },
    {
     "name": "stdout",
     "output_type": "stream",
     "text": [
      " 3441551    1.7100701e+09   0.000000e+00   5.686635e+01  20535s\n"
     ]
    },
    {
     "name": "stderr",
     "output_type": "stream",
     "text": [
      "INFO:gurobipy: 3441551    1.7100701e+09   0.000000e+00   5.686635e+01  20535s\n"
     ]
    },
    {
     "name": "stdout",
     "output_type": "stream",
     "text": [
      " 3441751    1.7100701e+09   0.000000e+00   3.647843e-02  20568s\n"
     ]
    },
    {
     "name": "stderr",
     "output_type": "stream",
     "text": [
      "INFO:gurobipy: 3441751    1.7100701e+09   0.000000e+00   3.647843e-02  20568s\n"
     ]
    },
    {
     "name": "stdout",
     "output_type": "stream",
     "text": [
      " 3442021    1.7100701e+09   0.000000e+00   8.483312e-01  20601s\n"
     ]
    },
    {
     "name": "stderr",
     "output_type": "stream",
     "text": [
      "INFO:gurobipy: 3442021    1.7100701e+09   0.000000e+00   8.483312e-01  20601s\n"
     ]
    },
    {
     "name": "stdout",
     "output_type": "stream",
     "text": [
      " 3442191    1.7100701e+09   0.000000e+00   5.315859e-02  20634s\n"
     ]
    },
    {
     "name": "stderr",
     "output_type": "stream",
     "text": [
      "INFO:gurobipy: 3442191    1.7100701e+09   0.000000e+00   5.315859e-02  20634s\n"
     ]
    },
    {
     "name": "stdout",
     "output_type": "stream",
     "text": [
      " 3442431    1.7100701e+09   0.000000e+00   1.311662e+00  20666s\n"
     ]
    },
    {
     "name": "stderr",
     "output_type": "stream",
     "text": [
      "INFO:gurobipy: 3442431    1.7100701e+09   0.000000e+00   1.311662e+00  20666s\n"
     ]
    },
    {
     "name": "stdout",
     "output_type": "stream",
     "text": [
      " 3442682    1.7100701e+09   0.000000e+00   1.557549e-02  20698s\n"
     ]
    },
    {
     "name": "stderr",
     "output_type": "stream",
     "text": [
      "INFO:gurobipy: 3442682    1.7100701e+09   0.000000e+00   1.557549e-02  20698s\n"
     ]
    },
    {
     "name": "stdout",
     "output_type": "stream",
     "text": [
      " 3442952    1.7100701e+09   0.000000e+00   6.699799e-02  20733s\n"
     ]
    },
    {
     "name": "stderr",
     "output_type": "stream",
     "text": [
      "INFO:gurobipy: 3442952    1.7100701e+09   0.000000e+00   6.699799e-02  20733s\n"
     ]
    },
    {
     "name": "stdout",
     "output_type": "stream",
     "text": [
      " 3443172    1.7100701e+09   0.000000e+00   2.308581e-02  20767s\n"
     ]
    },
    {
     "name": "stderr",
     "output_type": "stream",
     "text": [
      "INFO:gurobipy: 3443172    1.7100701e+09   0.000000e+00   2.308581e-02  20767s\n"
     ]
    },
    {
     "name": "stdout",
     "output_type": "stream",
     "text": [
      " 3443462    1.7100701e+09   0.000000e+00   1.574001e-02  20802s\n"
     ]
    },
    {
     "name": "stderr",
     "output_type": "stream",
     "text": [
      "INFO:gurobipy: 3443462    1.7100701e+09   0.000000e+00   1.574001e-02  20802s\n"
     ]
    },
    {
     "name": "stdout",
     "output_type": "stream",
     "text": [
      " 3443653    1.7100701e+09   0.000000e+00   6.007415e+00  20833s\n"
     ]
    },
    {
     "name": "stderr",
     "output_type": "stream",
     "text": [
      "INFO:gurobipy: 3443653    1.7100701e+09   0.000000e+00   6.007415e+00  20833s\n"
     ]
    },
    {
     "name": "stdout",
     "output_type": "stream",
     "text": [
      " 3443986    1.7100701e+09   0.000000e+00   6.233742e-02  20867s\n"
     ]
    },
    {
     "name": "stderr",
     "output_type": "stream",
     "text": [
      "INFO:gurobipy: 3443986    1.7100701e+09   0.000000e+00   6.233742e-02  20867s\n"
     ]
    },
    {
     "name": "stdout",
     "output_type": "stream",
     "text": [
      " 3444207    1.7100701e+09   0.000000e+00   1.883585e-01  20901s\n"
     ]
    },
    {
     "name": "stderr",
     "output_type": "stream",
     "text": [
      "INFO:gurobipy: 3444207    1.7100701e+09   0.000000e+00   1.883585e-01  20901s\n"
     ]
    },
    {
     "name": "stdout",
     "output_type": "stream",
     "text": [
      "\n"
     ]
    },
    {
     "name": "stderr",
     "output_type": "stream",
     "text": [
      "INFO:gurobipy:\n"
     ]
    },
    {
     "name": "stdout",
     "output_type": "stream",
     "text": [
      "Solved with barrier\n"
     ]
    },
    {
     "name": "stderr",
     "output_type": "stream",
     "text": [
      "INFO:gurobipy:Solved with barrier\n"
     ]
    },
    {
     "name": "stdout",
     "output_type": "stream",
     "text": [
      " 3444256    1.7100701e+09   0.000000e+00   1.998972e-05  20934s\n"
     ]
    },
    {
     "name": "stderr",
     "output_type": "stream",
     "text": [
      "INFO:gurobipy: 3444256    1.7100701e+09   0.000000e+00   1.998972e-05  20934s\n"
     ]
    },
    {
     "name": "stdout",
     "output_type": "stream",
     "text": [
      " 3444673    1.7100701e+09   0.000000e+00   0.000000e+00  20953s\n"
     ]
    },
    {
     "name": "stderr",
     "output_type": "stream",
     "text": [
      "INFO:gurobipy: 3444673    1.7100701e+09   0.000000e+00   0.000000e+00  20953s\n"
     ]
    },
    {
     "name": "stdout",
     "output_type": "stream",
     "text": [
      "Extra simplex iterations after uncrush: 14\n"
     ]
    },
    {
     "name": "stderr",
     "output_type": "stream",
     "text": [
      "INFO:gurobipy:Extra simplex iterations after uncrush: 14\n"
     ]
    },
    {
     "name": "stdout",
     "output_type": "stream",
     "text": [
      " 3444687    1.7100701e+09   0.000000e+00   0.000000e+00  20964s\n"
     ]
    },
    {
     "name": "stderr",
     "output_type": "stream",
     "text": [
      "INFO:gurobipy: 3444687    1.7100701e+09   0.000000e+00   0.000000e+00  20964s\n"
     ]
    },
    {
     "name": "stdout",
     "output_type": "stream",
     "text": [
      "\n"
     ]
    },
    {
     "name": "stderr",
     "output_type": "stream",
     "text": [
      "INFO:gurobipy:\n"
     ]
    },
    {
     "name": "stdout",
     "output_type": "stream",
     "text": [
      "Solved in 3444687 iterations and 20964.24 seconds (10453.07 work units)\n"
     ]
    },
    {
     "name": "stderr",
     "output_type": "stream",
     "text": [
      "INFO:gurobipy:Solved in 3444687 iterations and 20964.24 seconds (10453.07 work units)\n"
     ]
    },
    {
     "name": "stdout",
     "output_type": "stream",
     "text": [
      "Optimal objective  1.710070056e+09\n"
     ]
    },
    {
     "name": "stderr",
     "output_type": "stream",
     "text": [
      "INFO:gurobipy:Optimal objective  1.710070056e+09\n",
      "INFO:linopy.constants: Optimization successful: \n",
      "Status: ok\n",
      "Termination condition: optimal\n",
      "Solution: 5212383 primals, 10906507 duals\n",
      "Objective: 1.71e+09\n",
      "Solver model: available\n",
      "Solver message: 2\n",
      "\n",
      "/opt/anaconda3/lib/python3.11/site-packages/pypsa/optimization/optimize.py:357: FutureWarning:\n",
      "\n",
      "A value is trying to be set on a copy of a DataFrame or Series through chained assignment using an inplace method.\n",
      "The behavior will change in pandas 3.0. This inplace method will never work because the intermediate object on which we are setting values always behaves as a copy.\n",
      "\n",
      "For example, when doing 'df[col].method(value, inplace=True)', try using 'df.method({col: value}, inplace=True)' or df[col] = df[col].method(value) instead, to perform the operation inplace on the original object.\n",
      "\n",
      "\n",
      "\n",
      "INFO:pypsa.optimization.optimize:The shadow-prices of the constraints Generator-fix-p-lower, Generator-fix-p-upper, Generator-ext-p-lower, Generator-ext-p-upper, Line-fix-s-lower, Line-fix-s-upper, Link-fix-p-lower, Link-fix-p-upper, StorageUnit-fix-p_dispatch-lower, StorageUnit-fix-p_dispatch-upper, StorageUnit-fix-p_store-lower, StorageUnit-fix-p_store-upper, StorageUnit-fix-state_of_charge-lower, StorageUnit-fix-state_of_charge-upper, Kirchhoff-Voltage-Law, StorageUnit-energy_balance were not assigned to the network.\n"
     ]
    },
    {
     "data": {
      "text/plain": [
       "('ok', 'optimal')"
      ]
     },
     "execution_count": 4,
     "metadata": {},
     "output_type": "execute_result"
    }
   ],
   "source": [
    "n.add(\"Carrier\", \"SBSP\", description=\"Space-Based Solar Power\")\n",
    "\n",
    "# Iterate over all buses in the network and add an SBSP generator to each bus\n",
    "for bus in n.buses.index:\n",
    "    n.add(\"Generator\", f\"SBSP Generator at {bus}\", \n",
    "          bus=bus,  \n",
    "          carrier=\"SBSP\",  \n",
    "          p_nom=0,  # MW\n",
    "          marginal_cost=0.0,  # EUR/MWh\n",
    "          capital_cost=6000.152,  # EUR/MW\n",
    "          p_max_pu=0.997, \n",
    "          p_min_pu=0,  \n",
    "          p_nom_extendable=True  \n",
    "         )\n",
    "\n",
    "n.optimize(solver_name='gurobi')"
   ]
  },
  {
   "cell_type": "code",
   "execution_count": 5,
   "id": "3a0b905a-3ace-4bf5-a5e3-ecb48f4443a5",
   "metadata": {},
   "outputs": [
    {
     "name": "stdout",
     "output_type": "stream",
     "text": [
      "                     p_nom_max       weight      p_nom   capital_cost  \\\n",
      "Generator                                                               \n",
      "AL1 0 offwind-ac  2.711460e+03   298.830845   0.000000  184939.017135   \n",
      "AL1 0 oil                  inf     0.000000  89.854543   37870.807407   \n",
      "AL1 0 onwind      6.748682e+04  1762.450888   0.000000   96085.888020   \n",
      "AL1 0 ror                  inf    48.200000  48.200000  299140.224929   \n",
      "AL1 0 solar       1.793499e+04  2747.732990  16.850000   35602.071244   \n",
      "\n",
      "                  efficiency  p_nom_min  marginal_cost  p_nom_extendable  \\\n",
      "Generator                                                                  \n",
      "AL1 0 offwind-ac        1.00   0.000000       0.015000              True   \n",
      "AL1 0 oil               0.35  89.854543     148.857143             False   \n",
      "AL1 0 onwind            1.00   0.000000       0.015000              True   \n",
      "AL1 0 ror               0.90   0.000000       0.000000             False   \n",
      "AL1 0 solar             1.00  16.850000       0.010000              True   \n",
      "\n",
      "                  p_max_pu    bus  ... shut_down_cost stand_by_cost  \\\n",
      "Generator                          ...                                \n",
      "AL1 0 offwind-ac       1.0  AL1 0  ...            0.0           0.0   \n",
      "AL1 0 oil              1.0  AL1 0  ...            0.0           0.0   \n",
      "AL1 0 onwind           1.0  AL1 0  ...            0.0           0.0   \n",
      "AL1 0 ror              1.0  AL1 0  ...            0.0           0.0   \n",
      "AL1 0 solar            1.0  AL1 0  ...            0.0           0.0   \n",
      "\n",
      "                  min_up_time min_down_time  up_time_before  down_time_before  \\\n",
      "Generator                                                                       \n",
      "AL1 0 offwind-ac            0             0               1                 0   \n",
      "AL1 0 oil                   0             0               1                 0   \n",
      "AL1 0 onwind                0             0               1                 0   \n",
      "AL1 0 ror                   0             0               1                 0   \n",
      "AL1 0 solar                 0             0               1                 0   \n",
      "\n",
      "                  ramp_limit_up  ramp_limit_down  ramp_limit_start_up  \\\n",
      "Generator                                                               \n",
      "AL1 0 offwind-ac            NaN              NaN                  1.0   \n",
      "AL1 0 oil                   NaN              NaN                  1.0   \n",
      "AL1 0 onwind                NaN              NaN                  1.0   \n",
      "AL1 0 ror                   NaN              NaN                  1.0   \n",
      "AL1 0 solar                 NaN              NaN                  1.0   \n",
      "\n",
      "                  ramp_limit_shut_down  \n",
      "Generator                               \n",
      "AL1 0 offwind-ac                   1.0  \n",
      "AL1 0 oil                          1.0  \n",
      "AL1 0 onwind                       1.0  \n",
      "AL1 0 ror                          1.0  \n",
      "AL1 0 solar                        1.0  \n",
      "\n",
      "[5 rows x 34 columns]\n"
     ]
    }
   ],
   "source": [
    "print(n.generators.head())"
   ]
  },
  {
   "cell_type": "code",
   "execution_count": 6,
   "id": "0ad045b8-6353-4d92-9f3e-d30e448aa93e",
   "metadata": {},
   "outputs": [
    {
     "name": "stdout",
     "output_type": "stream",
     "text": [
      "offwind-ac    1.262193e+07\n",
      "oil           0.000000e+00\n",
      "onwind        2.289799e+08\n",
      "ror           1.668409e+08\n",
      "solar         1.295821e+08\n",
      "CCGT          0.000000e+00\n",
      "OCGT          0.000000e+00\n",
      "coal          2.851744e+03\n",
      "biomass       1.596990e+05\n",
      "nuclear       2.654921e+06\n",
      "offwind-dc    2.952376e+07\n",
      "lignite       5.521139e+06\n",
      "SBSP          2.318913e+09\n",
      "dtype: float64\n"
     ]
    },
    {
     "name": "stderr",
     "output_type": "stream",
     "text": [
      "/var/folders/gy/z7x44kpn24d18spbg3w6_5fr0000gn/T/ipykernel_2299/1948439273.py:11: FutureWarning:\n",
      "\n",
      "Setting an item of incompatible dtype is deprecated and will raise an error in a future version of pandas. Value '176328.29889506387' has dtype incompatible with int64, please explicitly cast to a compatible dtype first.\n",
      "\n"
     ]
    }
   ],
   "source": [
    "import pandas as pd\n",
    "import matplotlib.pyplot as plt\n",
    "\n",
    "generation_data = n.generators_t.p\n",
    "\n",
    "carrier_generation = pd.Series(0, index=n.generators.carrier.unique())\n",
    "\n",
    "for gen_id, generator in n.generators.iterrows():\n",
    "    carrier = generator['carrier']\n",
    "    \n",
    "    carrier_generation[carrier] += generation_data[gen_id].sum()\n",
    "\n",
    "print(carrier_generation)"
   ]
  },
  {
   "cell_type": "code",
   "execution_count": 7,
   "id": "303eee3c-dfe0-4746-9b2d-09bbf42ace5e",
   "metadata": {},
   "outputs": [
    {
     "name": "stdout",
     "output_type": "stream",
     "text": [
      "PyPSA Network\n",
      "Components:\n",
      " - Bus: 37\n",
      " - Carrier: 16\n",
      " - Generator: 321\n",
      " - Line: 52\n",
      " - Link: 42\n",
      " - Load: 37\n",
      " - StorageUnit: 51\n",
      " - SubNetwork: 4\n",
      "Snapshots: 8760\n"
     ]
    }
   ],
   "source": [
    "print(n)"
   ]
  },
  {
   "cell_type": "code",
   "execution_count": 8,
   "id": "42fbf6bb-4794-41d0-a51e-7c1d58647d62",
   "metadata": {},
   "outputs": [
    {
     "name": "stdout",
     "output_type": "stream",
     "text": [
      "       v_nom          x          y country control         generator type  \\\n",
      "Bus                                                                         \n",
      "AL1 0  380.0  19.897914  41.587568      AL   Slack  AL1 0 offwind-ac        \n",
      "AT1 0  380.0  13.604274  47.549498      AT      PQ                          \n",
      "BA1 0  380.0  18.122704  43.811367      BA      PQ                          \n",
      "BE1 0  380.0   4.617461  50.818887      BE      PQ                          \n",
      "BG1 0  380.0  24.673671  42.765271      BG      PQ                          \n",
      "CH1 0  380.0   8.213076  46.832432      CH      PQ                          \n",
      "CZ1 0  380.0  15.255766  49.835025      CZ      PQ                          \n",
      "DE1 0  380.0   9.482007  50.978098      DE      PQ                          \n",
      "DK1 0  380.0   9.780572  55.954011      DK      PQ                          \n",
      "DK2 0  380.0  12.283974  55.509903      DK   Slack        DK2 0 CCGT        \n",
      "EE6 0  380.0  25.879152  58.979906      EE   Slack        EE6 0 CCGT        \n",
      "ES1 0  380.0  -3.427610  40.601332      ES      PQ                          \n",
      "ES4 0  380.0   2.738892  39.672902      ES   Slack        ES4 0 CCGT        \n",
      "FI2 0  380.0  25.053686  62.857680      FI      PQ                          \n",
      "FR1 0  380.0   3.141638  46.801579      FR      PQ                          \n",
      "GB0 0  380.0  -1.983315  53.331721      GB   Slack        GB0 0 CCGT        \n",
      "GB5 0  380.0  -6.097541  54.668779      GB   Slack        GB5 0 CCGT        \n",
      "GR1 0  380.0  22.730044  38.948594      GR      PQ                          \n",
      "HR1 0  380.0  16.157554  45.206872      HR      PQ                          \n",
      "HU1 0  380.0  18.879135  47.216547      HU      PQ                          \n",
      "IE5 0  380.0  -7.631338  52.799814      IE      PQ                          \n",
      "IT1 0  380.0  11.706807  43.584110      IT      PQ                          \n",
      "IT3 0  380.0   8.745976  39.968196      IT   Slack        IT3 0 CCGT        \n",
      "LT6 0  380.0  23.007282  55.161559      LT      PQ                          \n",
      "LU1 0  380.0   6.130511  49.677340      LU      PQ                          \n",
      "LV6 0  380.0  23.724680  56.838802      LV      PQ                          \n",
      "ME1 0  380.0  19.144501  42.806664      ME      PQ                          \n",
      "MK1 0  380.0  21.587448  41.581362      MK      PQ                          \n",
      "NL1 0  380.0   5.551448  52.374286      NL      PQ                          \n",
      "NO2 0  380.0   8.623107  60.999101      NO      PQ                          \n",
      "PL1 0  380.0  19.081274  51.588620      PL      PQ                          \n",
      "PT1 0  380.0  -8.282125  40.313466      PT      PQ                          \n",
      "RO1 0  380.0  25.091770  45.551309      RO      PQ                          \n",
      "RS1 0  380.0  20.662692  44.113710      RS      PQ                          \n",
      "SE2 0  380.0  16.233414  61.274981      SE      PQ                          \n",
      "SI1 0  380.0  14.805218  46.121279      SI      PQ                          \n",
      "SK1 0  380.0  19.027888  48.653333      SK      PQ                          \n",
      "\n",
      "      carrier unit  v_mag_pu_set  v_mag_pu_min  v_mag_pu_max sub_network  \n",
      "Bus                                                                       \n",
      "AL1 0      AC                1.0           0.0           inf           0  \n",
      "AT1 0      AC                1.0           0.0           inf           0  \n",
      "BA1 0      AC                1.0           0.0           inf           0  \n",
      "BE1 0      AC                1.0           0.0           inf           0  \n",
      "BG1 0      AC                1.0           0.0           inf           0  \n",
      "CH1 0      AC                1.0           0.0           inf           0  \n",
      "CZ1 0      AC                1.0           0.0           inf           0  \n",
      "DE1 0      AC                1.0           0.0           inf           0  \n",
      "DK1 0      AC                1.0           0.0           inf           0  \n",
      "DK2 0      AC                1.0           0.0           inf           1  \n",
      "EE6 0      AC                1.0           0.0           inf           2  \n",
      "ES1 0      AC                1.0           0.0           inf           0  \n",
      "ES4 0      AC                1.0           0.0           inf           3  \n",
      "FI2 0      AC                1.0           0.0           inf           1  \n",
      "FR1 0      AC                1.0           0.0           inf           0  \n",
      "GB0 0      AC                1.0           0.0           inf           4  \n",
      "GB5 0      AC                1.0           0.0           inf           5  \n",
      "GR1 0      AC                1.0           0.0           inf           0  \n",
      "HR1 0      AC                1.0           0.0           inf           0  \n",
      "HU1 0      AC                1.0           0.0           inf           0  \n",
      "IE5 0      AC                1.0           0.0           inf           5  \n",
      "IT1 0      AC                1.0           0.0           inf           0  \n",
      "IT3 0      AC                1.0           0.0           inf           6  \n",
      "LT6 0      AC                1.0           0.0           inf           2  \n",
      "LU1 0      AC                1.0           0.0           inf           0  \n",
      "LV6 0      AC                1.0           0.0           inf           2  \n",
      "ME1 0      AC                1.0           0.0           inf           0  \n",
      "MK1 0      AC                1.0           0.0           inf           0  \n",
      "NL1 0      AC                1.0           0.0           inf           0  \n",
      "NO2 0      AC                1.0           0.0           inf           1  \n",
      "PL1 0      AC                1.0           0.0           inf           0  \n",
      "PT1 0      AC                1.0           0.0           inf           0  \n",
      "RO1 0      AC                1.0           0.0           inf           0  \n",
      "RS1 0      AC                1.0           0.0           inf           0  \n",
      "SE2 0      AC                1.0           0.0           inf           1  \n",
      "SI1 0      AC                1.0           0.0           inf           0  \n",
      "SK1 0      AC                1.0           0.0           inf           0  \n"
     ]
    }
   ],
   "source": [
    "print(n.buses)"
   ]
  },
  {
   "cell_type": "code",
   "execution_count": 9,
   "id": "35bdd597-6a81-4316-bec8-13fd21ab5100",
   "metadata": {},
   "outputs": [
    {
     "name": "stderr",
     "output_type": "stream",
     "text": [
      "/opt/anaconda3/lib/python3.11/site-packages/cartopy/mpl/feature_artist.py:144: UserWarning:\n",
      "\n",
      "facecolor will have no effect as it has been defined as \"never\".\n",
      "\n"
     ]
    },
    {
     "data": {
      "text/plain": [
       "(<matplotlib.collections.PatchCollection at 0x540f428d0>,\n",
       " <matplotlib.collections.LineCollection at 0x8eb801290>,\n",
       " <matplotlib.collections.LineCollection at 0x59a1ef250>)"
      ]
     },
     "execution_count": 9,
     "metadata": {},
     "output_type": "execute_result"
    },
    {
     "data": {
      "image/png": "[encoded data removed]",
      "text/plain": [
       "<Figure size 640x480 with 1 Axes>"
      ]
     },
     "metadata": {},
     "output_type": "display_data"
    }
   ],
   "source": [
    "n.plot()"
   ]
  },
  {
   "cell_type": "code",
   "execution_count": 10,
   "id": "161b192d-b8ba-476b-8c6f-36e768fd55db",
   "metadata": {},
   "outputs": [],
   "source": [
    "import pandas as pd\n",
    "import matplotlib.pyplot as plt"
   ]
  },
  {
   "cell_type": "code",
   "execution_count": 11,
   "id": "ee1d1599-43e2-4f6c-9422-6eb9aa86ad80",
   "metadata": {},
   "outputs": [],
   "source": [
    "generation_data = n.generators_t.p"
   ]
  },
  {
   "cell_type": "code",
   "execution_count": 12,
   "id": "9d6f92aa-8112-44f8-b44f-0b5c285f563a",
   "metadata": {},
   "outputs": [],
   "source": [
    "carrier_generation = pd.Series(0, index=n.generators.carrier.unique())"
   ]
  },
  {
   "cell_type": "code",
   "execution_count": 13,
   "id": "62370e58-afe3-4b76-b06e-5152aef79540",
   "metadata": {},
   "outputs": [
    {
     "name": "stderr",
     "output_type": "stream",
     "text": [
      "/var/folders/gy/z7x44kpn24d18spbg3w6_5fr0000gn/T/ipykernel_2299/1231536472.py:4: FutureWarning:\n",
      "\n",
      "Setting an item of incompatible dtype is deprecated and will raise an error in a future version of pandas. Value '176328.29889506387' has dtype incompatible with int64, please explicitly cast to a compatible dtype first.\n",
      "\n"
     ]
    }
   ],
   "source": [
    "for gen_id, generator in n.generators.iterrows():\n",
    "    carrier = generator['carrier']\n",
    "   \n",
    "    carrier_generation[carrier] += generation_data[gen_id].sum()"
   ]
  },
  {
   "cell_type": "code",
   "execution_count": 14,
   "id": "ff331c26-6fbd-4e85-aa3e-bfbafc6ed697",
   "metadata": {},
   "outputs": [
    {
     "name": "stdout",
     "output_type": "stream",
     "text": [
      "offwind-ac    1.262193e+07\n",
      "oil           0.000000e+00\n",
      "onwind        2.289799e+08\n",
      "ror           1.668409e+08\n",
      "solar         1.295821e+08\n",
      "CCGT          0.000000e+00\n",
      "OCGT          0.000000e+00\n",
      "coal          2.851744e+03\n",
      "biomass       1.596990e+05\n",
      "nuclear       2.654921e+06\n",
      "offwind-dc    2.952376e+07\n",
      "lignite       5.521139e+06\n",
      "SBSP          2.318913e+09\n",
      "dtype: float64\n"
     ]
    }
   ],
   "source": [
    "print(carrier_generation)"
   ]
  },
  {
   "cell_type": "code",
   "execution_count": 15,
   "id": "b9ad4122-2c4e-4097-82a3-24631ab92008",
   "metadata": {},
   "outputs": [
    {
     "data": {
      "image/png": "[encoded data removed]",
      "text/plain": [
       "<Figure size 1000x600 with 1 Axes>"
      ]
     },
     "metadata": {},
     "output_type": "display_data"
    }
   ],
   "source": [
    "carrier_generation.plot(kind='bar', color='skyblue', figsize=(10, 6))\n",
    "plt.title('Total Generation by Carrier')\n",
    "plt.xlabel('Carrier')\n",
    "plt.ylabel('Total Generation (MWh)')\n",
    "plt.xticks(rotation=45)  \n",
    "plt.tight_layout()\n",
    "plt.show()"
   ]
  },
  {
   "cell_type": "code",
   "execution_count": 16,
   "id": "7434e793-31e8-44cd-a44f-f143bbadd855",
   "metadata": {},
   "outputs": [
    {
     "name": "stdout",
     "output_type": "stream",
     "text": [
      "                     p_nom_max       weight      p_nom   capital_cost  \\\n",
      "Generator                                                               \n",
      "AL1 0 offwind-ac  2.711460e+03   298.830845   0.000000  184939.017135   \n",
      "AL1 0 oil                  inf     0.000000  89.854543   37870.807407   \n",
      "AL1 0 onwind      6.748682e+04  1762.450888   0.000000   96085.888020   \n",
      "AL1 0 ror                  inf    48.200000  48.200000  299140.224929   \n",
      "AL1 0 solar       1.793499e+04  2747.732990  16.850000   35602.071244   \n",
      "\n",
      "                  efficiency  p_nom_min  marginal_cost  p_nom_extendable  \\\n",
      "Generator                                                                  \n",
      "AL1 0 offwind-ac        1.00   0.000000       0.015000              True   \n",
      "AL1 0 oil               0.35  89.854543     148.857143             False   \n",
      "AL1 0 onwind            1.00   0.000000       0.015000              True   \n",
      "AL1 0 ror               0.90   0.000000       0.000000             False   \n",
      "AL1 0 solar             1.00  16.850000       0.010000              True   \n",
      "\n",
      "                  p_max_pu    bus  ... shut_down_cost stand_by_cost  \\\n",
      "Generator                          ...                                \n",
      "AL1 0 offwind-ac       1.0  AL1 0  ...            0.0           0.0   \n",
      "AL1 0 oil              1.0  AL1 0  ...            0.0           0.0   \n",
      "AL1 0 onwind           1.0  AL1 0  ...            0.0           0.0   \n",
      "AL1 0 ror              1.0  AL1 0  ...            0.0           0.0   \n",
      "AL1 0 solar            1.0  AL1 0  ...            0.0           0.0   \n",
      "\n",
      "                  min_up_time min_down_time  up_time_before  down_time_before  \\\n",
      "Generator                                                                       \n",
      "AL1 0 offwind-ac            0             0               1                 0   \n",
      "AL1 0 oil                   0             0               1                 0   \n",
      "AL1 0 onwind                0             0               1                 0   \n",
      "AL1 0 ror                   0             0               1                 0   \n",
      "AL1 0 solar                 0             0               1                 0   \n",
      "\n",
      "                  ramp_limit_up  ramp_limit_down  ramp_limit_start_up  \\\n",
      "Generator                                                               \n",
      "AL1 0 offwind-ac            NaN              NaN                  1.0   \n",
      "AL1 0 oil                   NaN              NaN                  1.0   \n",
      "AL1 0 onwind                NaN              NaN                  1.0   \n",
      "AL1 0 ror                   NaN              NaN                  1.0   \n",
      "AL1 0 solar                 NaN              NaN                  1.0   \n",
      "\n",
      "                  ramp_limit_shut_down  \n",
      "Generator                               \n",
      "AL1 0 offwind-ac                   1.0  \n",
      "AL1 0 oil                          1.0  \n",
      "AL1 0 onwind                       1.0  \n",
      "AL1 0 ror                          1.0  \n",
      "AL1 0 solar                        1.0  \n",
      "\n",
      "[5 rows x 34 columns]\n"
     ]
    }
   ],
   "source": [
    "print(n.generators.head())"
   ]
  },
  {
   "cell_type": "code",
   "execution_count": null,
   "id": "ff769e53-459a-48d9-a2e3-0624f0044b18",
   "metadata": {},
   "outputs": [],
   "source": []
  }
 ],
 "metadata": {
  "kernelspec": {
   "display_name": "Python 3 (ipykernel)",
   "language": "python",
   "name": "python3"
  },
  "language_info": {
   "codemirror_mode": {
    "name": "ipython",
    "version": 3
   },
   "file_extension": ".py",
   "mimetype": "text/x-python",
   "name": "python",
   "nbconvert_exporter": "python",
   "pygments_lexer": "ipython3",
   "version": "3.11.8"
  }
 },
 "nbformat": 4,
 "nbformat_minor": 5
}

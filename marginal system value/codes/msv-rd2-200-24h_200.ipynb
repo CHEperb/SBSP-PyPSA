{
 "cells": [
  {
   "cell_type": "code",
   "execution_count": null,
   "id": "3fee2fb7-f227-47d1-abaf-df15a2313790",
   "metadata": {},
   "outputs": [],
   "source": [
    "import pypsa\n",
    "import pandas as pd\n",
    "import xarray as xr\n",
    "\n",
    "n = pypsa.Network(\"marginal_system_value/results/2050-rd2-200000-24h/optimized_2050_rd2_200000_network.nc\")\n",
    "\n",
    "print(n)"
   ]
  },
  {
   "cell_type": "code",
   "execution_count": null,
   "id": "c27c8e51-b8e8-4e58-99a5-ba36382c863b",
   "metadata": {},
   "outputs": [],
   "source": [
    "carriers_to_modify_SBSP = [\"SBSP\"]\n",
    "\n",
    "sbsp_mask = n.generators['carrier'].isin(carriers_to_modify_SBSP)\n",
    "\n",
    "n.generators.loc[sbsp_mask, 'p_nom_extendable'] = False\n",
    "\n",
    "scale_factor = 200 / 291.01\n",
    "n.generators.loc[sbsp_mask, 'p_nom'] = n.generators.loc[sbsp_mask, 'p_nom_opt'] * scale_factor"
   ]
  },
  {
   "cell_type": "code",
   "execution_count": null,
   "id": "fbc718d5-f82e-4248-9466-e8a04c5359aa",
   "metadata": {},
   "outputs": [],
   "source": [
    "snapshots_to_optimize = n.snapshots[:366]\n",
    "n.optimize(snapshots=snapshots_to_optimize, solver_name='gurobi')"
   ]
  },
  {
   "cell_type": "code",
   "execution_count": null,
   "id": "3b0c708c-2274-4b70-b811-655a17ccf994",
   "metadata": {},
   "outputs": [],
   "source": [
    "import matplotlib.pyplot as plt\n",
    "import pandas as pd\n",
    "\n",
    "supply_data = n.statistics.supply(comps=[\"Generator\", \"StorageUnit\", \"Store\"], aggregate_time=False)\n",
    "\n",
    "supply_data = supply_data.droplevel(0).T\n",
    "\n",
    "print(\"Available columns (energy types):\")\n",
    "print(supply_data.columns)\n",
    "\n",
    "supply_data.to_csv('marginal_system_value/results/2050-rd2-200000-24h_200/2050_middle_rd2_200000_hourly_energy_supply.csv', index=True)"
   ]
  },
  {
   "cell_type": "code",
   "execution_count": null,
   "id": "f7c4c4c3-5e9a-44c3-911b-53251ad561f7",
   "metadata": {},
   "outputs": [],
   "source": [
    "# CapEx\n",
    "total_capex = n.statistics.capex()\n",
    "\n",
    "# OpEx\n",
    "total_opex = n.statistics.opex(aggregate_time=\"sum\")\n",
    "\n",
    "# total_cost\n",
    "total_cost = total_capex + total_opex\n",
    "\n",
    "with open(\"marginal_system_value/results/2050-rd2-200000-24h_200/total_cost_summary_rd2_200000.txt\", \"w\") as f:\n",
    "    f.write(f\"Total CapEx: {total_capex}\\n\")\n",
    "    f.write(f\"Total OpEx: {total_opex}\\n\")\n",
    "    f.write(f\"Total Cost (CapEx + OpEx): {total_cost}\\n\")\n",
    "\n",
    "print(\"Results saved to total_cost_summary.txt\")"
   ]
  }
 ],
 "metadata": {
  "kernelspec": {
   "display_name": "Python 3 (ipykernel)",
   "language": "python",
   "name": "python3"
  },
  "language_info": {
   "codemirror_mode": {
    "name": "ipython",
    "version": 3
   },
   "file_extension": ".py",
   "mimetype": "text/x-python",
   "name": "python",
   "nbconvert_exporter": "python",
   "pygments_lexer": "ipython3",
   "version": "3.11.8"
  }
 },
 "nbformat": 4,
 "nbformat_minor": 5
}

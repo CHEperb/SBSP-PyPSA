{
 "cells": [
  {
   "cell_type": "code",
   "execution_count": null,
   "id": "509e6dec-cd2b-47bd-9484-495d83c71116",
   "metadata": {},
   "outputs": [],
   "source": [
    "import pypsa\n",
    "import pandas as pd\n",
    "import xarray as xr\n",
    "\n",
    "n = pypsa.Network(\"marginal_system_value/input/elec_s_37_ec_lcopt_Co2L0.0-24H.nc\")\n",
    "\n",
    "print(n)"
   ]
  },
  {
   "cell_type": "code",
   "execution_count": null,
   "id": "336f86c2-92b1-4a22-9477-e228ba5ba78e",
   "metadata": {},
   "outputs": [],
   "source": [
    "n.generators['p_nom_extendable'] = True\n",
    "\n",
    "carriers_to_modify_1 = [\"ror\"]\n",
    "\n",
    "n.generators.loc[n.generators['carrier'].isin(carriers_to_modify_1), 'p_nom_max'] = n.generators['p_nom']\n",
    "\n",
    "target_generators = n.generators[\n",
    "    n.generators['carrier'].isin(['biomass', 'nuclear'])\n",
    "]\n",
    "\n",
    "n.generators.loc[target_generators.index, 'p_nom_min'] = target_generators['p_nom']\n",
    "\n",
    "n.storage_units['p_nom_extendable'] = True\n",
    "\n",
    "n.storage_units['p_nom_max'] = n.storage_units['p_nom']\n",
    "\n",
    "carriers_to_modify = [\"oil\", \"lignite\", \"coal\", \"CCGT\", \"OCGT\"]\n",
    "\n",
    "n.generators.loc[n.generators['carrier'].isin(carriers_to_modify), 'p_nom_min'] = 0"
   ]
  },
  {
   "cell_type": "code",
   "execution_count": null,
   "id": "7aab9a3f-e457-42f8-a622-c61c40c7c2ba",
   "metadata": {},
   "outputs": [],
   "source": [
    "n.add(\"Carrier\", \"SBSP\", co2_emissions=0.0)\n",
    "\n",
    "ac_buses = n.buses[n.buses['carrier'] == 'AC']\n",
    "\n",
    "for bus in ac_buses.index:\n",
    "    n.add(\"Generator\", f\"SBSP Generator at {bus}\", \n",
    "          bus=bus,  \n",
    "          carrier=\"SBSP\",  \n",
    "          p_nom_min=0.0,  # MW\n",
    "          marginal_cost=0.0,  # EUR/MWh\n",
    "          capital_cost=200000,  # EUR/MW\n",
    "          p_nom_extendable=True  \n",
    "         )\n",
    "\n",
    "sbsp_limits = xr.open_dataset(\"marginal_system_value/input/sbsp_rd2_profile_2050.nc\")\n",
    "effective_power = sbsp_limits[\"Effective Power (MW)\"].to_dataframe()\n",
    "\n",
    "effective_power.index = pd.to_datetime(effective_power.index)\n",
    "\n",
    "daily_effective_power = effective_power.resample('24H').mean()\n",
    "\n",
    "for gen_id in n.generators.index:\n",
    "    if n.generators.loc[gen_id, 'carrier'] == 'SBSP':\n",
    "\n",
    "        for timestamp in daily_effective_power.index:\n",
    "            n.generators_t.p_max_pu.loc[timestamp, gen_id] = daily_effective_power.loc[\n",
    "                timestamp, 'Effective Power (MW)']"
   ]
  },
  {
   "cell_type": "code",
   "execution_count": null,
   "id": "13641926-88a5-41cf-847d-ef958208ed1b",
   "metadata": {},
   "outputs": [],
   "source": [
    "snapshots_to_optimize = n.snapshots[:366]\n",
    "n.optimize(snapshots=snapshots_to_optimize, solver_name='gurobi')"
   ]
  },
  {
   "cell_type": "code",
   "execution_count": null,
   "id": "fc056395-a784-4051-866c-c8270d46e903",
   "metadata": {},
   "outputs": [],
   "source": [
    "import matplotlib.pyplot as plt\n",
    "import pandas as pd\n",
    "\n",
    "n.export_to_netcdf('marginal_system_value/results/2050-rd2-200000-24h/optimized_2050_rd2_200000_network.nc')\n",
    "\n",
    "supply_data = n.statistics.supply(comps=[\"Generator\", \"StorageUnit\", \"Store\"], aggregate_time=False)\n",
    "\n",
    "supply_data = supply_data.droplevel(0).T\n",
    "\n",
    "print(\"Available columns (energy types):\")\n",
    "print(supply_data.columns)\n",
    "\n",
    "supply_data.to_csv('marginal_system_value/results/2050-rd2-200000-24h/2050_middle_rd2_200000_hourly_energy_supply.csv', index=True)"
   ]
  },
  {
   "cell_type": "code",
   "execution_count": null,
   "id": "7b5a4521-6bac-4f32-87f6-16fb09c983a0",
   "metadata": {},
   "outputs": [],
   "source": [
    "# CapEx\n",
    "total_capex = n.statistics.capex()\n",
    "\n",
    "# OpEx\n",
    "total_opex = n.statistics.opex(aggregate_time=\"sum\")\n",
    "\n",
    "# total_cost\n",
    "total_cost = total_capex + total_opex\n",
    "\n",
    "with open(\"marginal_system_value/results/2050-rd2-200000-24h/total_cost_summary_rd2_200000.txt\", \"w\") as f:\n",
    "    f.write(f\"Total CapEx: {total_capex}\\n\")\n",
    "    f.write(f\"Total OpEx: {total_opex}\\n\")\n",
    "    f.write(f\"Total Cost (CapEx + OpEx): {total_cost}\\n\")\n",
    "\n",
    "print(\"Results saved to total_cost_summary.txt\")"
   ]
  }
 ],
 "metadata": {
  "kernelspec": {
   "display_name": "Python 3 (ipykernel)",
   "language": "python",
   "name": "python3"
  },
  "language_info": {
   "codemirror_mode": {
    "name": "ipython",
    "version": 3
   },
   "file_extension": ".py",
   "mimetype": "text/x-python",
   "name": "python",
   "nbconvert_exporter": "python",
   "pygments_lexer": "ipython3",
   "version": "3.11.8"
  }
 },
 "nbformat": 4,
 "nbformat_minor": 5
}

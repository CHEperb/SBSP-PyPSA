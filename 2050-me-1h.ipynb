{
 "cells": [
  {
   "cell_type": "code",
   "execution_count": 1,
   "id": "d9e1c0d0-d7bd-457d-9b33-ff7488d7f2c2",
   "metadata": {},
   "outputs": [
    {
     "name": "stderr",
     "output_type": "stream",
     "text": [
      "INFO:pypsa.io:Imported network elec_s_37_ec_lcopt_Co2L0.0-24H.nc has buses, carriers, generators, global_constraints, lines, links, loads, shapes, storage_units, stores\n"
     ]
    },
    {
     "name": "stdout",
     "output_type": "stream",
     "text": [
      "PyPSA Network\n",
      "Components:\n",
      " - Bus: 111\n",
      " - Carrier: 25\n",
      " - Generator: 265\n",
      " - GlobalConstraint: 1\n",
      " - Line: 52\n",
      " - Link: 198\n",
      " - Load: 37\n",
      " - Shape: 123\n",
      " - StorageUnit: 50\n",
      " - Store: 74\n",
      "Snapshots: 366\n"
     ]
    }
   ],
   "source": [
    "import pypsa\n",
    "import pandas as pd\n",
    "import xarray as xr\n",
    "n = pypsa.Network(\"elec_s_37_ec_lcopt_Co2L0.0-1H.nc\")\n",
    "\n",
    "print(n)"
   ]
  },
  {
   "cell_type": "code",
   "execution_count": 2,
   "id": "035ca5a7-3c1a-4ab9-9a01-0364be74e1c9",
   "metadata": {},
   "outputs": [
    {
     "name": "stdout",
     "output_type": "stream",
     "text": [
      "offwind-ac       2.767332e+06\n",
      "offwind-float    7.366310e+05\n",
      "oil              0.000000e+00\n",
      "onwind           2.797454e+07\n",
      "ror              6.967353e+06\n",
      "solar            4.666162e+07\n",
      "solar-hsat       5.253987e+06\n",
      "CCGT             0.000000e+00\n",
      "lignite          0.000000e+00\n",
      "offwind-dc       5.021878e+06\n",
      "coal             0.000000e+00\n",
      "nuclear          4.786971e+06\n",
      "biomass          9.780354e+05\n",
      "OCGT             0.000000e+00\n",
      "dtype: float64\n"
     ]
    },
    {
     "name": "stderr",
     "output_type": "stream",
     "text": [
      "/var/folders/gy/z7x44kpn24d18spbg3w6_5fr0000gn/T/ipykernel_70341/967269348.py:5: FutureWarning:\n",
      "\n",
      "The behavior of 'isin' with dtype=datetime64[ns] and castable values (e.g. strings) is deprecated. In a future version, these will not be considered matching by isin. Explicitly cast to the appropriate dtype before calling isin instead.\n",
      "\n"
     ]
    }
   ],
   "source": [
    "import pandas as pd\n",
    "\n",
    "generation_data = n.generators_t.p\n",
    "filtered_generation_data = generation_data.loc[~generation_data.index.isin(['2020-02-29'])]\n",
    "\n",
    "carrier_generation = pd.Series(0.0, index=n.generators.carrier.unique())\n",
    "\n",
    "for gen_id, generator in n.generators.iterrows():\n",
    "    carrier = generator['carrier']\n",
    "    carrier_generation[carrier] += filtered_generation_data[gen_id].sum()\n",
    "\n",
    "print(carrier_generation)"
   ]
  },
  {
   "cell_type": "code",
   "execution_count": 3,
   "id": "7726030f-6ab4-4330-a1ae-73b707fd2950",
   "metadata": {},
   "outputs": [
    {
     "name": "stdout",
     "output_type": "stream",
     "text": [
      "hydro    1.548989e+07\n",
      "PHS      1.214294e+04\n",
      "dtype: float64\n"
     ]
    },
    {
     "name": "stderr",
     "output_type": "stream",
     "text": [
      "/var/folders/gy/z7x44kpn24d18spbg3w6_5fr0000gn/T/ipykernel_70341/3887856627.py:6: FutureWarning:\n",
      "\n",
      "The behavior of 'isin' with dtype=datetime64[ns] and castable values (e.g. strings) is deprecated. In a future version, these will not be considered matching by isin. Explicitly cast to the appropriate dtype before calling isin instead.\n",
      "\n"
     ]
    }
   ],
   "source": [
    "import pandas as pd\n",
    "\n",
    "storage_data = n.storage_units_t.p\n",
    "\n",
    "filtered_storage_data = storage_data.loc[~storage_data.index.isin(['2020-02-29'])]\n",
    "\n",
    "carrier_storage = pd.Series(0.0, index=n.storage_units.carrier.unique())\n",
    "\n",
    "for unit_id, storage_unit in n.storage_units.iterrows():\n",
    "    carrier = storage_unit['carrier']\n",
    "    carrier_storage[carrier] += filtered_storage_data[unit_id].sum()\n",
    "\n",
    "print(carrier_storage)"
   ]
  },
  {
   "cell_type": "code",
   "execution_count": 4,
   "id": "3e52b6cd-0338-4460-acd2-468ebd1ac85d",
   "metadata": {},
   "outputs": [],
   "source": [
    "n.add(\"Carrier\", \"SBSP\", co2_emissions=0.0)\n",
    "\n",
    "ac_buses = n.buses[n.buses['carrier'] == 'AC']\n",
    "\n",
    "for bus in ac_buses.index:\n",
    "    n.add(\"Generator\", f\"SBSP Generator at {bus}\", \n",
    "          bus=bus,  \n",
    "          carrier=\"SBSP\",  \n",
    "          p_nom_min=0.0,  # MW\n",
    "          marginal_cost=0.0,  # EUR/MWh\n",
    "          capital_cost=267869.9558,  # EUR/MW\n",
    "          p_nom_extendable=True  \n",
    "         )"
   ]
  },
  {
   "cell_type": "code",
   "execution_count": 5,
   "id": "ba5e55d7-a9d2-4ce0-8aeb-035d39ad5c87",
   "metadata": {},
   "outputs": [],
   "source": [
    "n.generators['p_nom_extendable'] = True\n",
    "\n",
    "target_generators = n.generators[\n",
    "    n.generators['type'].isin(['geothermal', 'biomass', 'ror', 'nuclear'])\n",
    "]\n",
    "\n",
    "n.generators.loc[target_generators.index, 'p_nom_min'] = target_generators['p_nom']\n",
    "\n",
    "carriers_to_modify = [\"oil\", \"lignite\", \"coal\", \"CCGT\", \"OCGT\"]\n",
    "\n",
    "n.generators.loc[n.generators['carrier'].isin(carriers_to_modify), 'p_nom_min'] = 0\n",
    "\n",
    "n.storage_units['p_nom_extendable'] = True\n",
    "\n",
    "n.storage_units['p_nom_max'] = n.storage_units['p_nom']"
   ]
  },
  {
   "cell_type": "code",
   "execution_count": 6,
   "id": "187de8d8-fcdc-4d7d-b7dd-079a3a531549",
   "metadata": {},
   "outputs": [
    {
     "name": "stderr",
     "output_type": "stream",
     "text": [
      "INFO:linopy.model: Solve problem using Gurobi solver\n",
      "INFO:linopy.io:Writing objective.\n",
      "Writing constraints.: 100%|\u001b[38;2;128;191;255m█████████████████████\u001b[0m| 30/30 [00:02<00:00, 11.44it/s]\u001b[0m\n",
      "Writing continuous variables.: 100%|\u001b[38;2;128;191;255m████████████\u001b[0m| 15/15 [00:00<00:00, 32.55it/s]\u001b[0m\n",
      "INFO:linopy.io: Writing time: 3.38s\n"
     ]
    },
    {
     "name": "stdout",
     "output_type": "stream",
     "text": [
      "Read LP format model from file /private/var/folders/gy/z7x44kpn24d18spbg3w6_5fr0000gn/T/linopy-problem-n_i2i55s.lp\n"
     ]
    },
    {
     "name": "stderr",
     "output_type": "stream",
     "text": [
      "INFO:gurobipy:Read LP format model from file /private/var/folders/gy/z7x44kpn24d18spbg3w6_5fr0000gn/T/linopy-problem-n_i2i55s.lp\n"
     ]
    },
    {
     "name": "stdout",
     "output_type": "stream",
     "text": [
      "Reading time = 1.27 seconds\n"
     ]
    },
    {
     "name": "stderr",
     "output_type": "stream",
     "text": [
      "INFO:gurobipy:Reading time = 1.27 seconds\n"
     ]
    },
    {
     "name": "stdout",
     "output_type": "stream",
     "text": [
      "obj: 663113 rows, 321293 columns, 1428379 nonzeros\n"
     ]
    },
    {
     "name": "stderr",
     "output_type": "stream",
     "text": [
      "INFO:gurobipy:obj: 663113 rows, 321293 columns, 1428379 nonzeros\n"
     ]
    },
    {
     "name": "stdout",
     "output_type": "stream",
     "text": [
      "Gurobi Optimizer version 11.0.2 build v11.0.2rc0 (mac64[arm] - Darwin 23.5.0 23F79)\n"
     ]
    },
    {
     "name": "stderr",
     "output_type": "stream",
     "text": [
      "INFO:gurobipy:Gurobi Optimizer version 11.0.2 build v11.0.2rc0 (mac64[arm] - Darwin 23.5.0 23F79)\n"
     ]
    },
    {
     "name": "stdout",
     "output_type": "stream",
     "text": [
      "\n"
     ]
    },
    {
     "name": "stderr",
     "output_type": "stream",
     "text": [
      "INFO:gurobipy:\n"
     ]
    },
    {
     "name": "stdout",
     "output_type": "stream",
     "text": [
      "CPU model: Apple M1\n"
     ]
    },
    {
     "name": "stderr",
     "output_type": "stream",
     "text": [
      "INFO:gurobipy:CPU model: Apple M1\n"
     ]
    },
    {
     "name": "stdout",
     "output_type": "stream",
     "text": [
      "Thread count: 8 physical cores, 8 logical processors, using up to 8 threads\n"
     ]
    },
    {
     "name": "stderr",
     "output_type": "stream",
     "text": [
      "INFO:gurobipy:Thread count: 8 physical cores, 8 logical processors, using up to 8 threads\n"
     ]
    },
    {
     "name": "stdout",
     "output_type": "stream",
     "text": [
      "\n"
     ]
    },
    {
     "name": "stderr",
     "output_type": "stream",
     "text": [
      "INFO:gurobipy:\n"
     ]
    },
    {
     "name": "stdout",
     "output_type": "stream",
     "text": [
      "Optimize a model with 663113 rows, 321293 columns and 1428379 nonzeros\n"
     ]
    },
    {
     "name": "stderr",
     "output_type": "stream",
     "text": [
      "INFO:gurobipy:Optimize a model with 663113 rows, 321293 columns and 1428379 nonzeros\n"
     ]
    },
    {
     "name": "stdout",
     "output_type": "stream",
     "text": [
      "Model fingerprint: 0xf030e96e\n"
     ]
    },
    {
     "name": "stderr",
     "output_type": "stream",
     "text": [
      "INFO:gurobipy:Model fingerprint: 0xf030e96e\n"
     ]
    },
    {
     "name": "stdout",
     "output_type": "stream",
     "text": [
      "Coefficient statistics:\n"
     ]
    },
    {
     "name": "stderr",
     "output_type": "stream",
     "text": [
      "INFO:gurobipy:Coefficient statistics:\n"
     ]
    },
    {
     "name": "stdout",
     "output_type": "stream",
     "text": [
      "  Matrix range     [8e-03, 2e+05]\n"
     ]
    },
    {
     "name": "stderr",
     "output_type": "stream",
     "text": [
      "INFO:gurobipy:  Matrix range     [8e-03, 2e+05]\n"
     ]
    },
    {
     "name": "stdout",
     "output_type": "stream",
     "text": [
      "  Objective range  [2e-01, 4e+05]\n"
     ]
    },
    {
     "name": "stderr",
     "output_type": "stream",
     "text": [
      "INFO:gurobipy:  Objective range  [2e-01, 4e+05]\n"
     ]
    },
    {
     "name": "stdout",
     "output_type": "stream",
     "text": [
      "  Bounds range     [6e-02, 9e+10]\n"
     ]
    },
    {
     "name": "stderr",
     "output_type": "stream",
     "text": [
      "INFO:gurobipy:  Bounds range     [6e-02, 9e+10]\n"
     ]
    },
    {
     "name": "stdout",
     "output_type": "stream",
     "text": [
      "  RHS range        [1e-01, 2e+06]\n"
     ]
    },
    {
     "name": "stderr",
     "output_type": "stream",
     "text": [
      "INFO:gurobipy:  RHS range        [1e-01, 2e+06]\n"
     ]
    },
    {
     "name": "stdout",
     "output_type": "stream",
     "text": [
      "Warning: Model contains large bounds\n"
     ]
    },
    {
     "name": "stderr",
     "output_type": "stream",
     "text": [
      "INFO:gurobipy:Warning: Model contains large bounds\n"
     ]
    },
    {
     "name": "stdout",
     "output_type": "stream",
     "text": [
      "         Consider reformulating model or setting NumericFocus parameter\n"
     ]
    },
    {
     "name": "stderr",
     "output_type": "stream",
     "text": [
      "INFO:gurobipy:         Consider reformulating model or setting NumericFocus parameter\n"
     ]
    },
    {
     "name": "stdout",
     "output_type": "stream",
     "text": [
      "         to avoid numerical issues.\n"
     ]
    },
    {
     "name": "stderr",
     "output_type": "stream",
     "text": [
      "INFO:gurobipy:         to avoid numerical issues.\n"
     ]
    },
    {
     "name": "stdout",
     "output_type": "stream",
     "text": [
      "Presolve removed 319481 rows and 58304 columns\n"
     ]
    },
    {
     "name": "stderr",
     "output_type": "stream",
     "text": [
      "INFO:gurobipy:Presolve removed 319481 rows and 58304 columns\n"
     ]
    },
    {
     "name": "stdout",
     "output_type": "stream",
     "text": [
      "Presolve time: 1.01s\n"
     ]
    },
    {
     "name": "stderr",
     "output_type": "stream",
     "text": [
      "INFO:gurobipy:Presolve time: 1.01s\n"
     ]
    },
    {
     "name": "stdout",
     "output_type": "stream",
     "text": [
      "Presolved: 343632 rows, 262989 columns, 1033863 nonzeros\n"
     ]
    },
    {
     "name": "stderr",
     "output_type": "stream",
     "text": [
      "INFO:gurobipy:Presolved: 343632 rows, 262989 columns, 1033863 nonzeros\n"
     ]
    },
    {
     "name": "stdout",
     "output_type": "stream",
     "text": [
      "\n"
     ]
    },
    {
     "name": "stderr",
     "output_type": "stream",
     "text": [
      "INFO:gurobipy:\n"
     ]
    },
    {
     "name": "stdout",
     "output_type": "stream",
     "text": [
      "Concurrent LP optimizer: primal simplex, dual simplex, and barrier\n"
     ]
    },
    {
     "name": "stderr",
     "output_type": "stream",
     "text": [
      "INFO:gurobipy:Concurrent LP optimizer: primal simplex, dual simplex, and barrier\n"
     ]
    },
    {
     "name": "stdout",
     "output_type": "stream",
     "text": [
      "Showing barrier log only...\n"
     ]
    },
    {
     "name": "stderr",
     "output_type": "stream",
     "text": [
      "INFO:gurobipy:Showing barrier log only...\n"
     ]
    },
    {
     "name": "stdout",
     "output_type": "stream",
     "text": [
      "\n"
     ]
    },
    {
     "name": "stderr",
     "output_type": "stream",
     "text": [
      "INFO:gurobipy:\n"
     ]
    },
    {
     "name": "stdout",
     "output_type": "stream",
     "text": [
      "Ordering time: 4.02s\n"
     ]
    },
    {
     "name": "stderr",
     "output_type": "stream",
     "text": [
      "INFO:gurobipy:Ordering time: 4.02s\n"
     ]
    },
    {
     "name": "stdout",
     "output_type": "stream",
     "text": [
      "\n"
     ]
    },
    {
     "name": "stderr",
     "output_type": "stream",
     "text": [
      "INFO:gurobipy:\n"
     ]
    },
    {
     "name": "stdout",
     "output_type": "stream",
     "text": [
      "Barrier statistics:\n"
     ]
    },
    {
     "name": "stderr",
     "output_type": "stream",
     "text": [
      "INFO:gurobipy:Barrier statistics:\n"
     ]
    },
    {
     "name": "stdout",
     "output_type": "stream",
     "text": [
      " Dense cols : 608\n"
     ]
    },
    {
     "name": "stderr",
     "output_type": "stream",
     "text": [
      "INFO:gurobipy: Dense cols : 608\n"
     ]
    },
    {
     "name": "stdout",
     "output_type": "stream",
     "text": [
      " AA' NZ     : 1.216e+06\n"
     ]
    },
    {
     "name": "stderr",
     "output_type": "stream",
     "text": [
      "INFO:gurobipy: AA' NZ     : 1.216e+06\n"
     ]
    },
    {
     "name": "stdout",
     "output_type": "stream",
     "text": [
      " Factor NZ  : 1.332e+07 (roughly 350 MB of memory)\n"
     ]
    },
    {
     "name": "stderr",
     "output_type": "stream",
     "text": [
      "INFO:gurobipy: Factor NZ  : 1.332e+07 (roughly 350 MB of memory)\n"
     ]
    },
    {
     "name": "stdout",
     "output_type": "stream",
     "text": [
      " Factor Ops : 1.272e+10 (less than 1 second per iteration)\n"
     ]
    },
    {
     "name": "stderr",
     "output_type": "stream",
     "text": [
      "INFO:gurobipy: Factor Ops : 1.272e+10 (less than 1 second per iteration)\n"
     ]
    },
    {
     "name": "stdout",
     "output_type": "stream",
     "text": [
      " Threads    : 6\n"
     ]
    },
    {
     "name": "stderr",
     "output_type": "stream",
     "text": [
      "INFO:gurobipy: Threads    : 6\n"
     ]
    },
    {
     "name": "stdout",
     "output_type": "stream",
     "text": [
      "\n"
     ]
    },
    {
     "name": "stderr",
     "output_type": "stream",
     "text": [
      "INFO:gurobipy:\n"
     ]
    },
    {
     "name": "stdout",
     "output_type": "stream",
     "text": [
      "                  Objective                Residual\n"
     ]
    },
    {
     "name": "stderr",
     "output_type": "stream",
     "text": [
      "INFO:gurobipy:                  Objective                Residual\n"
     ]
    },
    {
     "name": "stdout",
     "output_type": "stream",
     "text": [
      "Iter       Primal          Dual         Primal    Dual     Compl     Time\n"
     ]
    },
    {
     "name": "stderr",
     "output_type": "stream",
     "text": [
      "INFO:gurobipy:Iter       Primal          Dual         Primal    Dual     Compl     Time\n"
     ]
    },
    {
     "name": "stdout",
     "output_type": "stream",
     "text": [
      "   0   1.07784568e+13 -6.03536258e+14  8.17e+05 2.36e+05  2.66e+10     6s\n"
     ]
    },
    {
     "name": "stderr",
     "output_type": "stream",
     "text": [
      "INFO:gurobipy:   0   1.07784568e+13 -6.03536258e+14  8.17e+05 2.36e+05  2.66e+10     6s\n"
     ]
    },
    {
     "name": "stdout",
     "output_type": "stream",
     "text": [
      "   1   1.33019501e+13 -2.81633371e+14  6.69e+05 7.11e+04  1.10e+10     7s\n"
     ]
    },
    {
     "name": "stderr",
     "output_type": "stream",
     "text": [
      "INFO:gurobipy:   1   1.33019501e+13 -2.81633371e+14  6.69e+05 7.11e+04  1.10e+10     7s\n"
     ]
    },
    {
     "name": "stdout",
     "output_type": "stream",
     "text": [
      "   2   1.40661270e+13 -2.21460135e+14  4.18e+05 4.06e+04  6.74e+09     7s\n"
     ]
    },
    {
     "name": "stderr",
     "output_type": "stream",
     "text": [
      "INFO:gurobipy:   2   1.40661270e+13 -2.21460135e+14  4.18e+05 4.06e+04  6.74e+09     7s\n"
     ]
    },
    {
     "name": "stdout",
     "output_type": "stream",
     "text": [
      "   3   1.44745986e+13 -1.81189048e+14  2.11e+05 1.11e+04  2.77e+09     8s\n"
     ]
    },
    {
     "name": "stderr",
     "output_type": "stream",
     "text": [
      "INFO:gurobipy:   3   1.44745986e+13 -1.81189048e+14  2.11e+05 1.11e+04  2.77e+09     8s\n"
     ]
    },
    {
     "name": "stdout",
     "output_type": "stream",
     "text": [
      "   4   1.22281784e+13 -9.98700965e+13  2.77e+04 1.34e+03  4.52e+08     8s\n"
     ]
    },
    {
     "name": "stderr",
     "output_type": "stream",
     "text": [
      "INFO:gurobipy:   4   1.22281784e+13 -9.98700965e+13  2.77e+04 1.34e+03  4.52e+08     8s\n"
     ]
    },
    {
     "name": "stdout",
     "output_type": "stream",
     "text": [
      "   5   7.09409114e+12 -2.12669662e+13  1.51e+03 3.24e+03  5.68e+07     9s\n"
     ]
    },
    {
     "name": "stderr",
     "output_type": "stream",
     "text": [
      "INFO:gurobipy:   5   7.09409114e+12 -2.12669662e+13  1.51e+03 3.24e+03  5.68e+07     9s\n"
     ]
    },
    {
     "name": "stdout",
     "output_type": "stream",
     "text": [
      "   6   2.33063611e+12 -4.53102555e+12  9.45e+01 5.14e+02  1.16e+07    10s\n"
     ]
    },
    {
     "name": "stderr",
     "output_type": "stream",
     "text": [
      "INFO:gurobipy:   6   2.33063611e+12 -4.53102555e+12  9.45e+01 5.14e+02  1.16e+07    10s\n"
     ]
    },
    {
     "name": "stdout",
     "output_type": "stream",
     "text": [
      "   7   1.30237889e+12 -1.85817931e+12  4.34e+01 1.92e+02  5.21e+06    10s\n"
     ]
    },
    {
     "name": "stderr",
     "output_type": "stream",
     "text": [
      "INFO:gurobipy:   7   1.30237889e+12 -1.85817931e+12  4.34e+01 1.92e+02  5.21e+06    10s\n"
     ]
    },
    {
     "name": "stdout",
     "output_type": "stream",
     "text": [
      "   8   1.02171570e+12 -7.10727702e+11  3.19e+01 6.84e+01  2.80e+06    11s\n"
     ]
    },
    {
     "name": "stderr",
     "output_type": "stream",
     "text": [
      "INFO:gurobipy:   8   1.02171570e+12 -7.10727702e+11  3.19e+01 6.84e+01  2.80e+06    11s\n"
     ]
    },
    {
     "name": "stdout",
     "output_type": "stream",
     "text": [
      "   9   7.27073559e+11 -4.86271884e+11  2.20e+01 4.28e+01  1.95e+06    11s\n"
     ]
    },
    {
     "name": "stderr",
     "output_type": "stream",
     "text": [
      "INFO:gurobipy:   9   7.27073559e+11 -4.86271884e+11  2.20e+01 4.28e+01  1.95e+06    11s\n"
     ]
    },
    {
     "name": "stdout",
     "output_type": "stream",
     "text": [
      "  10   5.15406811e+11 -2.48004020e+11  1.57e+01 2.16e+01  1.22e+06    11s\n"
     ]
    },
    {
     "name": "stderr",
     "output_type": "stream",
     "text": [
      "INFO:gurobipy:  10   5.15406811e+11 -2.48004020e+11  1.57e+01 2.16e+01  1.22e+06    11s\n"
     ]
    },
    {
     "name": "stdout",
     "output_type": "stream",
     "text": [
      "  11   3.40677917e+11 -1.50212624e+11  9.91e+00 1.28e+01  7.81e+05    12s\n"
     ]
    },
    {
     "name": "stderr",
     "output_type": "stream",
     "text": [
      "INFO:gurobipy:  11   3.40677917e+11 -1.50212624e+11  9.91e+00 1.28e+01  7.81e+05    12s\n"
     ]
    },
    {
     "name": "stdout",
     "output_type": "stream",
     "text": [
      "  12   2.27689327e+11 -9.25552057e+10  6.18e+00 6.72e+00  5.08e+05    12s\n"
     ]
    },
    {
     "name": "stderr",
     "output_type": "stream",
     "text": [
      "INFO:gurobipy:  12   2.27689327e+11 -9.25552057e+10  6.18e+00 6.72e+00  5.08e+05    12s\n"
     ]
    },
    {
     "name": "stdout",
     "output_type": "stream",
     "text": [
      "  13   1.68204993e+11 -3.11194780e+10  4.32e+00 2.57e+00  3.15e+05    13s\n"
     ]
    },
    {
     "name": "stderr",
     "output_type": "stream",
     "text": [
      "INFO:gurobipy:  13   1.68204993e+11 -3.11194780e+10  4.32e+00 2.57e+00  3.15e+05    13s\n"
     ]
    },
    {
     "name": "stdout",
     "output_type": "stream",
     "text": [
      "  14   1.23862552e+11 -7.07585133e+09  3.02e+00 1.29e+00  2.06e+05    14s\n"
     ]
    },
    {
     "name": "stderr",
     "output_type": "stream",
     "text": [
      "INFO:gurobipy:  14   1.23862552e+11 -7.07585133e+09  3.02e+00 1.29e+00  2.06e+05    14s\n"
     ]
    },
    {
     "name": "stdout",
     "output_type": "stream",
     "text": [
      "  15   1.00322890e+11  1.54135914e+09  2.34e+00 9.19e-01  1.56e+05    15s\n"
     ]
    },
    {
     "name": "stderr",
     "output_type": "stream",
     "text": [
      "INFO:gurobipy:  15   1.00322890e+11  1.54135914e+09  2.34e+00 9.19e-01  1.56e+05    15s\n"
     ]
    },
    {
     "name": "stdout",
     "output_type": "stream",
     "text": [
      "  16   8.34205441e+10  6.58727251e+09  1.83e+00 7.05e-01  1.21e+05    15s\n"
     ]
    },
    {
     "name": "stderr",
     "output_type": "stream",
     "text": [
      "INFO:gurobipy:  16   8.34205441e+10  6.58727251e+09  1.83e+00 7.05e-01  1.21e+05    15s\n"
     ]
    },
    {
     "name": "stdout",
     "output_type": "stream",
     "text": [
      "  17   7.64663769e+10  8.55669750e+09  1.61e+00 6.26e-01  1.07e+05    16s\n"
     ]
    },
    {
     "name": "stderr",
     "output_type": "stream",
     "text": [
      "INFO:gurobipy:  17   7.64663769e+10  8.55669750e+09  1.61e+00 6.26e-01  1.07e+05    16s\n"
     ]
    },
    {
     "name": "stdout",
     "output_type": "stream",
     "text": [
      "  18   6.63495379e+10  1.29985899e+10  1.31e+00 4.54e-01  8.39e+04    16s\n"
     ]
    },
    {
     "name": "stderr",
     "output_type": "stream",
     "text": [
      "INFO:gurobipy:  18   6.63495379e+10  1.29985899e+10  1.31e+00 4.54e-01  8.39e+04    16s\n"
     ]
    },
    {
     "name": "stdout",
     "output_type": "stream",
     "text": [
      "  19   5.44043505e+10  1.54005128e+10  9.58e-01 3.70e-01  6.14e+04    17s\n"
     ]
    },
    {
     "name": "stderr",
     "output_type": "stream",
     "text": [
      "INFO:gurobipy:  19   5.44043505e+10  1.54005128e+10  9.58e-01 3.70e-01  6.14e+04    17s\n"
     ]
    },
    {
     "name": "stdout",
     "output_type": "stream",
     "text": [
      "  20   4.93450180e+10  1.81155500e+10  7.89e-01 2.80e-01  4.91e+04    18s\n"
     ]
    },
    {
     "name": "stderr",
     "output_type": "stream",
     "text": [
      "INFO:gurobipy:  20   4.93450180e+10  1.81155500e+10  7.89e-01 2.80e-01  4.91e+04    18s\n"
     ]
    },
    {
     "name": "stdout",
     "output_type": "stream",
     "text": [
      "  21   4.66192686e+10  2.01174291e+10  6.95e-01 2.18e-01  4.17e+04    18s\n"
     ]
    },
    {
     "name": "stderr",
     "output_type": "stream",
     "text": [
      "INFO:gurobipy:  21   4.66192686e+10  2.01174291e+10  6.95e-01 2.18e-01  4.17e+04    18s\n"
     ]
    },
    {
     "name": "stdout",
     "output_type": "stream",
     "text": [
      "  22   4.18542578e+10  2.21554103e+10  5.35e-01 1.56e-01  3.10e+04    19s\n"
     ]
    },
    {
     "name": "stderr",
     "output_type": "stream",
     "text": [
      "INFO:gurobipy:  22   4.18542578e+10  2.21554103e+10  5.35e-01 1.56e-01  3.10e+04    19s\n"
     ]
    },
    {
     "name": "stdout",
     "output_type": "stream",
     "text": [
      "  23   4.05092286e+10  2.32563531e+10  4.89e-01 1.24e-01  2.71e+04    20s\n"
     ]
    },
    {
     "name": "stderr",
     "output_type": "stream",
     "text": [
      "INFO:gurobipy:  23   4.05092286e+10  2.32563531e+10  4.89e-01 1.24e-01  2.71e+04    20s\n"
     ]
    },
    {
     "name": "stdout",
     "output_type": "stream",
     "text": [
      "  24   3.85851352e+10  2.37223669e+10  4.17e-01 1.11e-01  2.34e+04    20s\n"
     ]
    },
    {
     "name": "stderr",
     "output_type": "stream",
     "text": [
      "INFO:gurobipy:  24   3.85851352e+10  2.37223669e+10  4.17e-01 1.11e-01  2.34e+04    20s\n"
     ]
    },
    {
     "name": "stdout",
     "output_type": "stream",
     "text": [
      "  25   3.72024695e+10  2.45090710e+10  3.66e-01 8.99e-02  1.99e+04    21s\n"
     ]
    },
    {
     "name": "stderr",
     "output_type": "stream",
     "text": [
      "INFO:gurobipy:  25   3.72024695e+10  2.45090710e+10  3.66e-01 8.99e-02  1.99e+04    21s\n"
     ]
    },
    {
     "name": "stdout",
     "output_type": "stream",
     "text": [
      "  26   3.61736206e+10  2.51453404e+10  3.26e-01 7.40e-02  1.73e+04    21s\n"
     ]
    },
    {
     "name": "stderr",
     "output_type": "stream",
     "text": [
      "INFO:gurobipy:  26   3.61736206e+10  2.51453404e+10  3.26e-01 7.40e-02  1.73e+04    21s\n"
     ]
    },
    {
     "name": "stdout",
     "output_type": "stream",
     "text": [
      "  27   3.45920150e+10  2.59183850e+10  2.63e-01 5.55e-02  1.36e+04    22s\n"
     ]
    },
    {
     "name": "stderr",
     "output_type": "stream",
     "text": [
      "INFO:gurobipy:  27   3.45920150e+10  2.59183850e+10  2.63e-01 5.55e-02  1.36e+04    22s\n"
     ]
    },
    {
     "name": "stdout",
     "output_type": "stream",
     "text": [
      "  28   3.32909578e+10  2.64932708e+10  2.11e-01 4.11e-02  1.07e+04    23s\n"
     ]
    },
    {
     "name": "stderr",
     "output_type": "stream",
     "text": [
      "INFO:gurobipy:  28   3.32909578e+10  2.64932708e+10  2.11e-01 4.11e-02  1.07e+04    23s\n"
     ]
    },
    {
     "name": "stdout",
     "output_type": "stream",
     "text": [
      "  29   3.21501762e+10  2.68766404e+10  1.66e-01 3.15e-02  8.28e+03    23s\n"
     ]
    },
    {
     "name": "stderr",
     "output_type": "stream",
     "text": [
      "INFO:gurobipy:  29   3.21501762e+10  2.68766404e+10  1.66e-01 3.15e-02  8.28e+03    23s\n"
     ]
    },
    {
     "name": "stdout",
     "output_type": "stream",
     "text": [
      "  30   3.13116364e+10  2.71892967e+10  1.32e-01 2.34e-02  6.47e+03    24s\n"
     ]
    },
    {
     "name": "stderr",
     "output_type": "stream",
     "text": [
      "INFO:gurobipy:  30   3.13116364e+10  2.71892967e+10  1.32e-01 2.34e-02  6.47e+03    24s\n"
     ]
    },
    {
     "name": "stdout",
     "output_type": "stream",
     "text": [
      "  31   3.06158446e+10  2.74436097e+10  1.03e-01 1.72e-02  4.98e+03    24s\n"
     ]
    },
    {
     "name": "stderr",
     "output_type": "stream",
     "text": [
      "INFO:gurobipy:  31   3.06158446e+10  2.74436097e+10  1.03e-01 1.72e-02  4.98e+03    24s\n"
     ]
    },
    {
     "name": "stdout",
     "output_type": "stream",
     "text": [
      "  32   3.02361440e+10  2.76141081e+10  8.92e-02 1.33e-02  4.12e+03    25s\n"
     ]
    },
    {
     "name": "stderr",
     "output_type": "stream",
     "text": [
      "INFO:gurobipy:  32   3.02361440e+10  2.76141081e+10  8.92e-02 1.33e-02  4.12e+03    25s\n"
     ]
    },
    {
     "name": "stdout",
     "output_type": "stream",
     "text": [
      "  33   2.98123663e+10  2.76741538e+10  7.09e-02 1.19e-02  3.36e+03    26s\n"
     ]
    },
    {
     "name": "stderr",
     "output_type": "stream",
     "text": [
      "INFO:gurobipy:  33   2.98123663e+10  2.76741538e+10  7.09e-02 1.19e-02  3.36e+03    26s\n"
     ]
    },
    {
     "name": "stdout",
     "output_type": "stream",
     "text": [
      "  34   2.94452283e+10  2.78504742e+10  5.43e-02 7.92e-03  2.50e+03    26s\n"
     ]
    },
    {
     "name": "stderr",
     "output_type": "stream",
     "text": [
      "INFO:gurobipy:  34   2.94452283e+10  2.78504742e+10  5.43e-02 7.92e-03  2.50e+03    26s\n"
     ]
    },
    {
     "name": "stdout",
     "output_type": "stream",
     "text": [
      "  35   2.91666436e+10  2.79454447e+10  4.18e-02 5.86e-03  1.92e+03    27s\n"
     ]
    },
    {
     "name": "stderr",
     "output_type": "stream",
     "text": [
      "INFO:gurobipy:  35   2.91666436e+10  2.79454447e+10  4.18e-02 5.86e-03  1.92e+03    27s\n"
     ]
    },
    {
     "name": "stdout",
     "output_type": "stream",
     "text": [
      "  36   2.89991425e+10  2.80226961e+10  3.44e-02 4.25e-03  1.53e+03    28s\n"
     ]
    },
    {
     "name": "stderr",
     "output_type": "stream",
     "text": [
      "INFO:gurobipy:  36   2.89991425e+10  2.80226961e+10  3.44e-02 4.25e-03  1.53e+03    28s\n"
     ]
    },
    {
     "name": "stdout",
     "output_type": "stream",
     "text": [
      "  37   2.87912106e+10  2.80677153e+10  2.50e-02 3.40e-03  1.14e+03    28s\n"
     ]
    },
    {
     "name": "stderr",
     "output_type": "stream",
     "text": [
      "INFO:gurobipy:  37   2.87912106e+10  2.80677153e+10  2.50e-02 3.40e-03  1.14e+03    28s\n"
     ]
    },
    {
     "name": "stdout",
     "output_type": "stream",
     "text": [
      "  38   2.86695445e+10  2.80860008e+10  1.97e-02 3.04e-03  9.16e+02    29s\n"
     ]
    },
    {
     "name": "stderr",
     "output_type": "stream",
     "text": [
      "INFO:gurobipy:  38   2.86695445e+10  2.80860008e+10  1.97e-02 3.04e-03  9.16e+02    29s\n"
     ]
    },
    {
     "name": "stdout",
     "output_type": "stream",
     "text": [
      "  39   2.86155220e+10  2.81306799e+10  1.72e-02 2.24e-03  7.61e+02    29s\n"
     ]
    },
    {
     "name": "stderr",
     "output_type": "stream",
     "text": [
      "INFO:gurobipy:  39   2.86155220e+10  2.81306799e+10  1.72e-02 2.24e-03  7.61e+02    29s\n"
     ]
    },
    {
     "name": "stdout",
     "output_type": "stream",
     "text": [
      "  40   2.85270907e+10  2.81498298e+10  1.30e-02 1.88e-03  5.92e+02    30s\n"
     ]
    },
    {
     "name": "stderr",
     "output_type": "stream",
     "text": [
      "INFO:gurobipy:  40   2.85270907e+10  2.81498298e+10  1.30e-02 1.88e-03  5.92e+02    30s\n"
     ]
    },
    {
     "name": "stdout",
     "output_type": "stream",
     "text": [
      "  41   2.85005328e+10  2.81786939e+10  1.17e-02 1.40e-03  5.05e+02    31s\n"
     ]
    },
    {
     "name": "stderr",
     "output_type": "stream",
     "text": [
      "INFO:gurobipy:  41   2.85005328e+10  2.81786939e+10  1.17e-02 1.40e-03  5.05e+02    31s\n"
     ]
    },
    {
     "name": "stdout",
     "output_type": "stream",
     "text": [
      "  42   2.84504619e+10  2.81904650e+10  9.32e-03 1.20e-03  4.08e+02    31s\n"
     ]
    },
    {
     "name": "stderr",
     "output_type": "stream",
     "text": [
      "INFO:gurobipy:  42   2.84504619e+10  2.81904650e+10  9.32e-03 1.20e-03  4.08e+02    31s\n"
     ]
    },
    {
     "name": "stdout",
     "output_type": "stream",
     "text": [
      "  43   2.84229947e+10  2.82068516e+10  8.00e-03 9.40e-04  3.39e+02    32s\n"
     ]
    },
    {
     "name": "stderr",
     "output_type": "stream",
     "text": [
      "INFO:gurobipy:  43   2.84229947e+10  2.82068516e+10  8.00e-03 9.40e-04  3.39e+02    32s\n"
     ]
    },
    {
     "name": "stdout",
     "output_type": "stream",
     "text": [
      "  44   2.84181944e+10  2.82131881e+10  7.76e-03 8.32e-04  3.22e+02    32s\n"
     ]
    },
    {
     "name": "stderr",
     "output_type": "stream",
     "text": [
      "INFO:gurobipy:  44   2.84181944e+10  2.82131881e+10  7.76e-03 8.32e-04  3.22e+02    32s\n"
     ]
    },
    {
     "name": "stdout",
     "output_type": "stream",
     "text": [
      "  45   2.83778538e+10  2.82210506e+10  5.74e-03 7.16e-04  2.46e+02    33s\n"
     ]
    },
    {
     "name": "stderr",
     "output_type": "stream",
     "text": [
      "INFO:gurobipy:  45   2.83778538e+10  2.82210506e+10  5.74e-03 7.16e-04  2.46e+02    33s\n"
     ]
    },
    {
     "name": "stdout",
     "output_type": "stream",
     "text": [
      "  46   2.83639150e+10  2.82283693e+10  5.05e-03 6.03e-04  2.13e+02    34s\n"
     ]
    },
    {
     "name": "stderr",
     "output_type": "stream",
     "text": [
      "INFO:gurobipy:  46   2.83639150e+10  2.82283693e+10  5.05e-03 6.03e-04  2.13e+02    34s\n"
     ]
    },
    {
     "name": "stdout",
     "output_type": "stream",
     "text": [
      "  47   2.83520776e+10  2.82332423e+10  4.52e-03 5.25e-04  1.87e+02    34s\n"
     ]
    },
    {
     "name": "stderr",
     "output_type": "stream",
     "text": [
      "INFO:gurobipy:  47   2.83520776e+10  2.82332423e+10  4.52e-03 5.25e-04  1.87e+02    34s\n"
     ]
    },
    {
     "name": "stdout",
     "output_type": "stream",
     "text": [
      "  48   2.83479728e+10  2.82342259e+10  4.32e-03 5.07e-04  1.79e+02    35s\n"
     ]
    },
    {
     "name": "stderr",
     "output_type": "stream",
     "text": [
      "INFO:gurobipy:  48   2.83479728e+10  2.82342259e+10  4.32e-03 5.07e-04  1.79e+02    35s\n"
     ]
    },
    {
     "name": "stdout",
     "output_type": "stream",
     "text": [
      "  49   2.83363542e+10  2.82362284e+10  3.76e-03 4.71e-04  1.57e+02    36s\n"
     ]
    },
    {
     "name": "stderr",
     "output_type": "stream",
     "text": [
      "INFO:gurobipy:  49   2.83363542e+10  2.82362284e+10  3.76e-03 4.71e-04  1.57e+02    36s\n"
     ]
    },
    {
     "name": "stdout",
     "output_type": "stream",
     "text": [
      "  50   2.83331295e+10  2.82382289e+10  3.60e-03 4.38e-04  1.49e+02    36s\n"
     ]
    },
    {
     "name": "stderr",
     "output_type": "stream",
     "text": [
      "INFO:gurobipy:  50   2.83331295e+10  2.82382289e+10  3.60e-03 4.38e-04  1.49e+02    36s\n"
     ]
    },
    {
     "name": "stdout",
     "output_type": "stream",
     "text": [
      "  51   2.83243835e+10  2.82403438e+10  3.18e-03 3.94e-04  1.32e+02    37s\n"
     ]
    },
    {
     "name": "stderr",
     "output_type": "stream",
     "text": [
      "INFO:gurobipy:  51   2.83243835e+10  2.82403438e+10  3.18e-03 3.94e-04  1.32e+02    37s\n"
     ]
    },
    {
     "name": "stdout",
     "output_type": "stream",
     "text": [
      "  52   2.83182331e+10  2.82452906e+10  2.88e-03 3.01e-04  1.15e+02    38s\n"
     ]
    },
    {
     "name": "stderr",
     "output_type": "stream",
     "text": [
      "INFO:gurobipy:  52   2.83182331e+10  2.82452906e+10  2.88e-03 3.01e-04  1.15e+02    38s\n"
     ]
    },
    {
     "name": "stdout",
     "output_type": "stream",
     "text": [
      "  53   2.83161716e+10  2.82464506e+10  2.78e-03 2.80e-04  1.09e+02    39s\n"
     ]
    },
    {
     "name": "stderr",
     "output_type": "stream",
     "text": [
      "INFO:gurobipy:  53   2.83161716e+10  2.82464506e+10  2.78e-03 2.80e-04  1.09e+02    39s\n"
     ]
    },
    {
     "name": "stdout",
     "output_type": "stream",
     "text": [
      "  54   2.83064501e+10  2.82486246e+10  2.30e-03 2.41e-04  9.08e+01    39s\n"
     ]
    },
    {
     "name": "stderr",
     "output_type": "stream",
     "text": [
      "INFO:gurobipy:  54   2.83064501e+10  2.82486246e+10  2.30e-03 2.41e-04  9.08e+01    39s\n"
     ]
    },
    {
     "name": "stdout",
     "output_type": "stream",
     "text": [
      "  55   2.83037745e+10  2.82498472e+10  2.16e-03 2.17e-04  8.47e+01    40s\n"
     ]
    },
    {
     "name": "stderr",
     "output_type": "stream",
     "text": [
      "INFO:gurobipy:  55   2.83037745e+10  2.82498472e+10  2.16e-03 2.17e-04  8.47e+01    40s\n"
     ]
    },
    {
     "name": "stdout",
     "output_type": "stream",
     "text": [
      "  56   2.83006636e+10  2.82512040e+10  1.99e-03 1.94e-04  7.76e+01    41s\n"
     ]
    },
    {
     "name": "stderr",
     "output_type": "stream",
     "text": [
      "INFO:gurobipy:  56   2.83006636e+10  2.82512040e+10  1.99e-03 1.94e-04  7.76e+01    41s\n"
     ]
    },
    {
     "name": "stdout",
     "output_type": "stream",
     "text": [
      "  57   2.82943142e+10  2.82534996e+10  1.66e-03 1.56e-04  6.41e+01    41s\n"
     ]
    },
    {
     "name": "stderr",
     "output_type": "stream",
     "text": [
      "INFO:gurobipy:  57   2.82943142e+10  2.82534996e+10  1.66e-03 1.56e-04  6.41e+01    41s\n"
     ]
    },
    {
     "name": "stdout",
     "output_type": "stream",
     "text": [
      "  58   2.82932083e+10  2.82540336e+10  1.61e-03 1.47e-04  6.15e+01    42s\n"
     ]
    },
    {
     "name": "stderr",
     "output_type": "stream",
     "text": [
      "INFO:gurobipy:  58   2.82932083e+10  2.82540336e+10  1.61e-03 1.47e-04  6.15e+01    42s\n"
     ]
    },
    {
     "name": "stdout",
     "output_type": "stream",
     "text": [
      "  59   2.82894525e+10  2.82554485e+10  1.41e-03 1.23e-04  5.34e+01    43s\n"
     ]
    },
    {
     "name": "stderr",
     "output_type": "stream",
     "text": [
      "INFO:gurobipy:  59   2.82894525e+10  2.82554485e+10  1.41e-03 1.23e-04  5.34e+01    43s\n"
     ]
    },
    {
     "name": "stdout",
     "output_type": "stream",
     "text": [
      "  60   2.82870279e+10  2.82559065e+10  1.37e-03 1.15e-04  4.89e+01    43s\n"
     ]
    },
    {
     "name": "stderr",
     "output_type": "stream",
     "text": [
      "INFO:gurobipy:  60   2.82870279e+10  2.82559065e+10  1.37e-03 1.15e-04  4.89e+01    43s\n"
     ]
    },
    {
     "name": "stdout",
     "output_type": "stream",
     "text": [
      "  61   2.82824196e+10  2.82567377e+10  1.10e-03 9.92e-05  4.03e+01    44s\n"
     ]
    },
    {
     "name": "stderr",
     "output_type": "stream",
     "text": [
      "INFO:gurobipy:  61   2.82824196e+10  2.82567377e+10  1.10e-03 9.92e-05  4.03e+01    44s\n"
     ]
    },
    {
     "name": "stdout",
     "output_type": "stream",
     "text": [
      "  62   2.82777215e+10  2.82578129e+10  1.10e-03 7.93e-05  3.13e+01    45s\n"
     ]
    },
    {
     "name": "stderr",
     "output_type": "stream",
     "text": [
      "INFO:gurobipy:  62   2.82777215e+10  2.82578129e+10  1.10e-03 7.93e-05  3.13e+01    45s\n"
     ]
    },
    {
     "name": "stdout",
     "output_type": "stream",
     "text": [
      "  63   2.82743249e+10  2.82584816e+10  1.07e-03 6.69e-05  2.49e+01    46s\n"
     ]
    },
    {
     "name": "stderr",
     "output_type": "stream",
     "text": [
      "INFO:gurobipy:  63   2.82743249e+10  2.82584816e+10  1.07e-03 6.69e-05  2.49e+01    46s\n"
     ]
    },
    {
     "name": "stdout",
     "output_type": "stream",
     "text": [
      "  64   2.82722783e+10  2.82594056e+10  7.86e-04 4.84e-05  2.02e+01    46s\n"
     ]
    },
    {
     "name": "stderr",
     "output_type": "stream",
     "text": [
      "INFO:gurobipy:  64   2.82722783e+10  2.82594056e+10  7.86e-04 4.84e-05  2.02e+01    46s\n"
     ]
    },
    {
     "name": "stdout",
     "output_type": "stream",
     "text": [
      "  65   2.82691742e+10  2.82597481e+10  8.58e-04 4.08e-05  1.48e+01    47s\n"
     ]
    },
    {
     "name": "stderr",
     "output_type": "stream",
     "text": [
      "INFO:gurobipy:  65   2.82691742e+10  2.82597481e+10  8.58e-04 4.08e-05  1.48e+01    47s\n"
     ]
    },
    {
     "name": "stdout",
     "output_type": "stream",
     "text": [
      "  66   2.82681482e+10  2.82600962e+10  8.07e-04 3.38e-05  1.26e+01    48s\n"
     ]
    },
    {
     "name": "stderr",
     "output_type": "stream",
     "text": [
      "INFO:gurobipy:  66   2.82681482e+10  2.82600962e+10  8.07e-04 3.38e-05  1.26e+01    48s\n"
     ]
    },
    {
     "name": "stdout",
     "output_type": "stream",
     "text": [
      "  67   2.82675298e+10  2.82601478e+10  8.27e-04 3.27e-05  1.16e+01    49s\n"
     ]
    },
    {
     "name": "stderr",
     "output_type": "stream",
     "text": [
      "INFO:gurobipy:  67   2.82675298e+10  2.82601478e+10  8.27e-04 3.27e-05  1.16e+01    49s\n"
     ]
    },
    {
     "name": "stdout",
     "output_type": "stream",
     "text": [
      "  68   2.82671595e+10  2.82603705e+10  7.65e-04 2.80e-05  1.07e+01    49s\n"
     ]
    },
    {
     "name": "stderr",
     "output_type": "stream",
     "text": [
      "INFO:gurobipy:  68   2.82671595e+10  2.82603705e+10  7.65e-04 2.80e-05  1.07e+01    49s\n"
     ]
    },
    {
     "name": "stdout",
     "output_type": "stream",
     "text": [
      "  69   2.82670188e+10  2.82604740e+10  7.58e-04 2.60e-05  1.03e+01    50s\n"
     ]
    },
    {
     "name": "stderr",
     "output_type": "stream",
     "text": [
      "INFO:gurobipy:  69   2.82670188e+10  2.82604740e+10  7.58e-04 2.60e-05  1.03e+01    50s\n"
     ]
    },
    {
     "name": "stdout",
     "output_type": "stream",
     "text": [
      "  70   2.82668591e+10  2.82605193e+10  7.32e-04 2.51e-05  9.95e+00    51s\n"
     ]
    },
    {
     "name": "stderr",
     "output_type": "stream",
     "text": [
      "INFO:gurobipy:  70   2.82668591e+10  2.82605193e+10  7.32e-04 2.51e-05  9.95e+00    51s\n"
     ]
    },
    {
     "name": "stdout",
     "output_type": "stream",
     "text": [
      "  71   2.82667789e+10  2.82605505e+10  7.30e-04 2.45e-05  9.78e+00    51s\n"
     ]
    },
    {
     "name": "stderr",
     "output_type": "stream",
     "text": [
      "INFO:gurobipy:  71   2.82667789e+10  2.82605505e+10  7.30e-04 2.45e-05  9.78e+00    51s\n"
     ]
    },
    {
     "name": "stdout",
     "output_type": "stream",
     "text": [
      "  72   2.82662832e+10  2.82606037e+10  6.88e-04 2.35e-05  8.92e+00    52s\n"
     ]
    },
    {
     "name": "stderr",
     "output_type": "stream",
     "text": [
      "INFO:gurobipy:  72   2.82662832e+10  2.82606037e+10  6.88e-04 2.35e-05  8.92e+00    52s\n"
     ]
    },
    {
     "name": "stdout",
     "output_type": "stream",
     "text": [
      "  73   2.82661657e+10  2.82607180e+10  6.83e-04 2.13e-05  8.55e+00    53s\n"
     ]
    },
    {
     "name": "stderr",
     "output_type": "stream",
     "text": [
      "INFO:gurobipy:  73   2.82661657e+10  2.82607180e+10  6.83e-04 2.13e-05  8.55e+00    53s\n"
     ]
    },
    {
     "name": "stdout",
     "output_type": "stream",
     "text": [
      "  74   2.82654942e+10  2.82608960e+10  6.17e-04 1.83e-05  7.22e+00    53s\n"
     ]
    },
    {
     "name": "stderr",
     "output_type": "stream",
     "text": [
      "INFO:gurobipy:  74   2.82654942e+10  2.82608960e+10  6.17e-04 1.83e-05  7.22e+00    53s\n"
     ]
    },
    {
     "name": "stdout",
     "output_type": "stream",
     "text": [
      "  75   2.82651398e+10  2.82610197e+10  5.59e-04 1.61e-05  6.47e+00    54s\n"
     ]
    },
    {
     "name": "stderr",
     "output_type": "stream",
     "text": [
      "INFO:gurobipy:  75   2.82651398e+10  2.82610197e+10  5.59e-04 1.61e-05  6.47e+00    54s\n"
     ]
    },
    {
     "name": "stdout",
     "output_type": "stream",
     "text": [
      "  76   2.82650598e+10  2.82610573e+10  5.45e-04 1.55e-05  6.28e+00    55s\n"
     ]
    },
    {
     "name": "stderr",
     "output_type": "stream",
     "text": [
      "INFO:gurobipy:  76   2.82650598e+10  2.82610573e+10  5.45e-04 1.55e-05  6.28e+00    55s\n"
     ]
    },
    {
     "name": "stdout",
     "output_type": "stream",
     "text": [
      "  77   2.82648443e+10  2.82610946e+10  5.08e-04 1.47e-05  5.89e+00    56s\n"
     ]
    },
    {
     "name": "stderr",
     "output_type": "stream",
     "text": [
      "INFO:gurobipy:  77   2.82648443e+10  2.82610946e+10  5.08e-04 1.47e-05  5.89e+00    56s\n"
     ]
    },
    {
     "name": "stdout",
     "output_type": "stream",
     "text": [
      "  78   2.82646794e+10  2.82611683e+10  4.74e-04 1.32e-05  5.51e+00    57s\n"
     ]
    },
    {
     "name": "stderr",
     "output_type": "stream",
     "text": [
      "INFO:gurobipy:  78   2.82646794e+10  2.82611683e+10  4.74e-04 1.32e-05  5.51e+00    57s\n"
     ]
    },
    {
     "name": "stdout",
     "output_type": "stream",
     "text": [
      "  79   2.82645650e+10  2.82612106e+10  4.55e-04 1.24e-05  5.27e+00    57s\n"
     ]
    },
    {
     "name": "stderr",
     "output_type": "stream",
     "text": [
      "INFO:gurobipy:  79   2.82645650e+10  2.82612106e+10  4.55e-04 1.24e-05  5.27e+00    57s\n"
     ]
    },
    {
     "name": "stdout",
     "output_type": "stream",
     "text": [
      "  80   2.82639200e+10  2.82612836e+10  2.76e-04 1.10e-05  4.14e+00    58s\n"
     ]
    },
    {
     "name": "stderr",
     "output_type": "stream",
     "text": [
      "INFO:gurobipy:  80   2.82639200e+10  2.82612836e+10  2.76e-04 1.10e-05  4.14e+00    58s\n"
     ]
    },
    {
     "name": "stdout",
     "output_type": "stream",
     "text": [
      "  81   2.82637990e+10  2.82614248e+10  2.59e-04 8.31e-06  3.73e+00    59s\n"
     ]
    },
    {
     "name": "stderr",
     "output_type": "stream",
     "text": [
      "INFO:gurobipy:  81   2.82637990e+10  2.82614248e+10  2.59e-04 8.31e-06  3.73e+00    59s\n"
     ]
    },
    {
     "name": "stdout",
     "output_type": "stream",
     "text": [
      "  82   2.82636102e+10  2.82614688e+10  2.34e-04 7.46e-06  3.36e+00    60s\n"
     ]
    },
    {
     "name": "stderr",
     "output_type": "stream",
     "text": [
      "INFO:gurobipy:  82   2.82636102e+10  2.82614688e+10  2.34e-04 7.46e-06  3.36e+00    60s\n"
     ]
    },
    {
     "name": "stdout",
     "output_type": "stream",
     "text": [
      "  83   2.82635467e+10  2.82614858e+10  2.25e-04 7.14e-06  3.24e+00    61s\n"
     ]
    },
    {
     "name": "stderr",
     "output_type": "stream",
     "text": [
      "INFO:gurobipy:  83   2.82635467e+10  2.82614858e+10  2.25e-04 7.14e-06  3.24e+00    61s\n"
     ]
    },
    {
     "name": "stdout",
     "output_type": "stream",
     "text": [
      "  84   2.82633316e+10  2.82615535e+10  1.97e-04 5.91e-06  2.79e+00    62s\n"
     ]
    },
    {
     "name": "stderr",
     "output_type": "stream",
     "text": [
      "INFO:gurobipy:  84   2.82633316e+10  2.82615535e+10  1.97e-04 5.91e-06  2.79e+00    62s\n"
     ]
    },
    {
     "name": "stdout",
     "output_type": "stream",
     "text": [
      "  85   2.82631374e+10  2.82615877e+10  1.71e-04 5.26e-06  2.43e+00    63s\n"
     ]
    },
    {
     "name": "stderr",
     "output_type": "stream",
     "text": [
      "INFO:gurobipy:  85   2.82631374e+10  2.82615877e+10  1.71e-04 5.26e-06  2.43e+00    63s\n"
     ]
    },
    {
     "name": "stdout",
     "output_type": "stream",
     "text": [
      "  86   2.82629932e+10  2.82616040e+10  1.52e-04 4.95e-06  2.18e+00    64s\n"
     ]
    },
    {
     "name": "stderr",
     "output_type": "stream",
     "text": [
      "INFO:gurobipy:  86   2.82629932e+10  2.82616040e+10  1.52e-04 4.95e-06  2.18e+00    64s\n"
     ]
    },
    {
     "name": "stdout",
     "output_type": "stream",
     "text": [
      "  87   2.82628715e+10  2.82616457e+10  1.36e-04 4.16e-06  1.92e+00    65s\n"
     ]
    },
    {
     "name": "stderr",
     "output_type": "stream",
     "text": [
      "INFO:gurobipy:  87   2.82628715e+10  2.82616457e+10  1.36e-04 4.16e-06  1.92e+00    65s\n"
     ]
    },
    {
     "name": "stdout",
     "output_type": "stream",
     "text": [
      "  88   2.82627177e+10  2.82616591e+10  1.16e-04 3.93e-06  1.66e+00    65s\n"
     ]
    },
    {
     "name": "stderr",
     "output_type": "stream",
     "text": [
      "INFO:gurobipy:  88   2.82627177e+10  2.82616591e+10  1.16e-04 3.93e-06  1.66e+00    65s\n"
     ]
    },
    {
     "name": "stdout",
     "output_type": "stream",
     "text": [
      "  89   2.82626698e+10  2.82616681e+10  1.09e-04 3.77e-06  1.57e+00    66s\n"
     ]
    },
    {
     "name": "stderr",
     "output_type": "stream",
     "text": [
      "INFO:gurobipy:  89   2.82626698e+10  2.82616681e+10  1.09e-04 3.77e-06  1.57e+00    66s\n"
     ]
    },
    {
     "name": "stdout",
     "output_type": "stream",
     "text": [
      "  90   2.82626277e+10  2.82616743e+10  1.04e-04 3.63e-06  1.50e+00    67s\n"
     ]
    },
    {
     "name": "stderr",
     "output_type": "stream",
     "text": [
      "INFO:gurobipy:  90   2.82626277e+10  2.82616743e+10  1.04e-04 3.63e-06  1.50e+00    67s\n"
     ]
    },
    {
     "name": "stdout",
     "output_type": "stream",
     "text": [
      "  91   2.82625258e+10  2.82617011e+10  9.00e-05 3.08e-06  1.29e+00    68s\n"
     ]
    },
    {
     "name": "stderr",
     "output_type": "stream",
     "text": [
      "INFO:gurobipy:  91   2.82625258e+10  2.82617011e+10  9.00e-05 3.08e-06  1.29e+00    68s\n"
     ]
    },
    {
     "name": "stdout",
     "output_type": "stream",
     "text": [
      "  92   2.82625088e+10  2.82617108e+10  8.81e-05 2.88e-06  1.25e+00    69s\n"
     ]
    },
    {
     "name": "stderr",
     "output_type": "stream",
     "text": [
      "INFO:gurobipy:  92   2.82625088e+10  2.82617108e+10  8.81e-05 2.88e-06  1.25e+00    69s\n"
     ]
    },
    {
     "name": "stdout",
     "output_type": "stream",
     "text": [
      "  93   2.82624525e+10  2.82617320e+10  8.05e-05 2.47e-06  1.13e+00    69s\n"
     ]
    },
    {
     "name": "stderr",
     "output_type": "stream",
     "text": [
      "INFO:gurobipy:  93   2.82624525e+10  2.82617320e+10  8.05e-05 2.47e-06  1.13e+00    69s\n"
     ]
    },
    {
     "name": "stdout",
     "output_type": "stream",
     "text": [
      "  94   2.82624005e+10  2.82617405e+10  7.39e-05 2.28e-06  1.04e+00    70s\n"
     ]
    },
    {
     "name": "stderr",
     "output_type": "stream",
     "text": [
      "INFO:gurobipy:  94   2.82624005e+10  2.82617405e+10  7.39e-05 2.28e-06  1.04e+00    70s\n"
     ]
    },
    {
     "name": "stdout",
     "output_type": "stream",
     "text": [
      "  95   2.82623524e+10  2.82617536e+10  6.76e-05 2.00e-06  9.40e-01    71s\n"
     ]
    },
    {
     "name": "stderr",
     "output_type": "stream",
     "text": [
      "INFO:gurobipy:  95   2.82623524e+10  2.82617536e+10  6.76e-05 2.00e-06  9.40e-01    71s\n"
     ]
    },
    {
     "name": "stdout",
     "output_type": "stream",
     "text": [
      "  96   2.82622145e+10  2.82617854e+10  4.88e-05 1.26e-06  6.74e-01    72s\n"
     ]
    },
    {
     "name": "stderr",
     "output_type": "stream",
     "text": [
      "INFO:gurobipy:  96   2.82622145e+10  2.82617854e+10  4.88e-05 1.26e-06  6.74e-01    72s\n"
     ]
    },
    {
     "name": "stdout",
     "output_type": "stream",
     "text": [
      "  97   2.82621233e+10  2.82617946e+10  3.64e-05 1.01e-06  5.16e-01    73s\n"
     ]
    },
    {
     "name": "stderr",
     "output_type": "stream",
     "text": [
      "INFO:gurobipy:  97   2.82621233e+10  2.82617946e+10  3.64e-05 1.01e-06  5.16e-01    73s\n"
     ]
    },
    {
     "name": "stdout",
     "output_type": "stream",
     "text": [
      "  98   2.82620398e+10  2.82618152e+10  2.53e-05 5.72e-07  3.53e-01    74s\n"
     ]
    },
    {
     "name": "stderr",
     "output_type": "stream",
     "text": [
      "INFO:gurobipy:  98   2.82620398e+10  2.82618152e+10  2.53e-05 5.72e-07  3.53e-01    74s\n"
     ]
    },
    {
     "name": "stdout",
     "output_type": "stream",
     "text": [
      "  99   2.82619817e+10  2.82618217e+10  1.79e-05 4.50e-07  2.51e-01    74s\n"
     ]
    },
    {
     "name": "stderr",
     "output_type": "stream",
     "text": [
      "INFO:gurobipy:  99   2.82619817e+10  2.82618217e+10  1.79e-05 4.50e-07  2.51e-01    74s\n"
     ]
    },
    {
     "name": "stdout",
     "output_type": "stream",
     "text": [
      " 100   2.82619480e+10  2.82618279e+10  1.34e-05 3.28e-07  1.89e-01    75s\n"
     ]
    },
    {
     "name": "stderr",
     "output_type": "stream",
     "text": [
      "INFO:gurobipy: 100   2.82619480e+10  2.82618279e+10  1.34e-05 3.28e-07  1.89e-01    75s\n"
     ]
    },
    {
     "name": "stdout",
     "output_type": "stream",
     "text": [
      " 101   2.82618931e+10  2.82618372e+10  6.11e-06 1.35e-07  8.78e-02    76s\n"
     ]
    },
    {
     "name": "stderr",
     "output_type": "stream",
     "text": [
      "INFO:gurobipy: 101   2.82618931e+10  2.82618372e+10  6.11e-06 1.35e-07  8.78e-02    76s\n"
     ]
    },
    {
     "name": "stdout",
     "output_type": "stream",
     "text": [
      " 102   2.82618838e+10  2.82618398e+10  9.02e-05 2.64e-07  6.90e-02    77s\n"
     ]
    },
    {
     "name": "stderr",
     "output_type": "stream",
     "text": [
      "INFO:gurobipy: 102   2.82618838e+10  2.82618398e+10  9.02e-05 2.64e-07  6.90e-02    77s\n"
     ]
    },
    {
     "name": "stdout",
     "output_type": "stream",
     "text": [
      " 103   2.82618657e+10  2.82618419e+10  4.17e-05 1.26e-07  3.75e-02    78s\n"
     ]
    },
    {
     "name": "stderr",
     "output_type": "stream",
     "text": [
      "INFO:gurobipy: 103   2.82618657e+10  2.82618419e+10  4.17e-05 1.26e-07  3.75e-02    78s\n"
     ]
    },
    {
     "name": "stdout",
     "output_type": "stream",
     "text": [
      " 104   2.82618592e+10  2.82618428e+10  2.83e-05 7.21e-08  2.57e-02    78s\n"
     ]
    },
    {
     "name": "stderr",
     "output_type": "stream",
     "text": [
      "INFO:gurobipy: 104   2.82618592e+10  2.82618428e+10  2.83e-05 7.21e-08  2.57e-02    78s\n"
     ]
    },
    {
     "name": "stdout",
     "output_type": "stream",
     "text": [
      " 105   2.82618510e+10  2.82618435e+10  1.74e-05 3.27e-08  1.18e-02    79s\n"
     ]
    },
    {
     "name": "stderr",
     "output_type": "stream",
     "text": [
      "INFO:gurobipy: 105   2.82618510e+10  2.82618435e+10  1.74e-05 3.27e-08  1.18e-02    79s\n"
     ]
    },
    {
     "name": "stdout",
     "output_type": "stream",
     "text": [
      " 106   2.82618487e+10  2.82618436e+10  1.46e-05 2.67e-08  7.93e-03    79s\n"
     ]
    },
    {
     "name": "stderr",
     "output_type": "stream",
     "text": [
      "INFO:gurobipy: 106   2.82618487e+10  2.82618436e+10  1.46e-05 2.67e-08  7.93e-03    79s\n"
     ]
    },
    {
     "name": "stdout",
     "output_type": "stream",
     "text": [
      " 107   2.82618481e+10  2.82618439e+10  9.53e-06 1.21e-08  6.64e-03    80s\n"
     ]
    },
    {
     "name": "stderr",
     "output_type": "stream",
     "text": [
      "INFO:gurobipy: 107   2.82618481e+10  2.82618439e+10  9.53e-06 1.21e-08  6.64e-03    80s\n"
     ]
    },
    {
     "name": "stdout",
     "output_type": "stream",
     "text": [
      " 108   2.82618468e+10  2.82618441e+10  6.04e-06 6.40e-09  4.20e-03    81s\n"
     ]
    },
    {
     "name": "stderr",
     "output_type": "stream",
     "text": [
      "INFO:gurobipy: 108   2.82618468e+10  2.82618441e+10  6.04e-06 6.40e-09  4.20e-03    81s\n"
     ]
    },
    {
     "name": "stdout",
     "output_type": "stream",
     "text": [
      " 109   2.82618459e+10  2.82618442e+10  2.37e-04 1.13e-08  2.69e-03    82s\n"
     ]
    },
    {
     "name": "stderr",
     "output_type": "stream",
     "text": [
      "INFO:gurobipy: 109   2.82618459e+10  2.82618442e+10  2.37e-04 1.13e-08  2.69e-03    82s\n"
     ]
    },
    {
     "name": "stdout",
     "output_type": "stream",
     "text": [
      " 110   2.82618449e+10  2.82618442e+10  9.09e-05 3.95e-08  1.05e-03    82s\n"
     ]
    },
    {
     "name": "stderr",
     "output_type": "stream",
     "text": [
      "INFO:gurobipy: 110   2.82618449e+10  2.82618442e+10  9.09e-05 3.95e-08  1.05e-03    82s\n"
     ]
    },
    {
     "name": "stdout",
     "output_type": "stream",
     "text": [
      " 111   2.82618447e+10  2.82618443e+10  5.47e-05 2.85e-08  6.48e-04    83s\n"
     ]
    },
    {
     "name": "stderr",
     "output_type": "stream",
     "text": [
      "INFO:gurobipy: 111   2.82618447e+10  2.82618443e+10  5.47e-05 2.85e-08  6.48e-04    83s\n"
     ]
    },
    {
     "name": "stdout",
     "output_type": "stream",
     "text": [
      "\n"
     ]
    },
    {
     "name": "stderr",
     "output_type": "stream",
     "text": [
      "INFO:gurobipy:\n"
     ]
    },
    {
     "name": "stdout",
     "output_type": "stream",
     "text": [
      "Barrier solved model in 111 iterations and 82.82 seconds (52.91 work units)\n"
     ]
    },
    {
     "name": "stderr",
     "output_type": "stream",
     "text": [
      "INFO:gurobipy:Barrier solved model in 111 iterations and 82.82 seconds (52.91 work units)\n"
     ]
    },
    {
     "name": "stdout",
     "output_type": "stream",
     "text": [
      "Optimal objective 2.82618447e+10\n"
     ]
    },
    {
     "name": "stderr",
     "output_type": "stream",
     "text": [
      "INFO:gurobipy:Optimal objective 2.82618447e+10\n"
     ]
    },
    {
     "name": "stdout",
     "output_type": "stream",
     "text": [
      "\n"
     ]
    },
    {
     "name": "stderr",
     "output_type": "stream",
     "text": [
      "INFO:gurobipy:\n"
     ]
    },
    {
     "name": "stdout",
     "output_type": "stream",
     "text": [
      "Crossover log...\n"
     ]
    },
    {
     "name": "stderr",
     "output_type": "stream",
     "text": [
      "INFO:gurobipy:Crossover log...\n"
     ]
    },
    {
     "name": "stdout",
     "output_type": "stream",
     "text": [
      "\n"
     ]
    },
    {
     "name": "stderr",
     "output_type": "stream",
     "text": [
      "INFO:gurobipy:\n"
     ]
    },
    {
     "name": "stdout",
     "output_type": "stream",
     "text": [
      "  157998 variables added to crossover basis                       85s\n"
     ]
    },
    {
     "name": "stderr",
     "output_type": "stream",
     "text": [
      "INFO:gurobipy:  157998 variables added to crossover basis                       85s\n"
     ]
    },
    {
     "name": "stdout",
     "output_type": "stream",
     "text": [
      "\n"
     ]
    },
    {
     "name": "stderr",
     "output_type": "stream",
     "text": [
      "INFO:gurobipy:\n"
     ]
    },
    {
     "name": "stdout",
     "output_type": "stream",
     "text": [
      "  182450 DPushes remaining with DInf 0.0000000e+00                88s\n"
     ]
    },
    {
     "name": "stderr",
     "output_type": "stream",
     "text": [
      "INFO:gurobipy:  182450 DPushes remaining with DInf 0.0000000e+00                88s\n"
     ]
    },
    {
     "name": "stdout",
     "output_type": "stream",
     "text": [
      "   44690 DPushes remaining with DInf 0.0000000e+00               144s\n"
     ]
    },
    {
     "name": "stderr",
     "output_type": "stream",
     "text": [
      "INFO:gurobipy:   44690 DPushes remaining with DInf 0.0000000e+00               144s\n"
     ]
    },
    {
     "name": "stdout",
     "output_type": "stream",
     "text": [
      "   21496 DPushes remaining with DInf 0.0000000e+00               154s\n"
     ]
    },
    {
     "name": "stderr",
     "output_type": "stream",
     "text": [
      "INFO:gurobipy:   21496 DPushes remaining with DInf 0.0000000e+00               154s\n"
     ]
    },
    {
     "name": "stdout",
     "output_type": "stream",
     "text": [
      "   10856 DPushes remaining with DInf 0.0000000e+00               160s\n"
     ]
    },
    {
     "name": "stderr",
     "output_type": "stream",
     "text": [
      "INFO:gurobipy:   10856 DPushes remaining with DInf 0.0000000e+00               160s\n"
     ]
    },
    {
     "name": "stdout",
     "output_type": "stream",
     "text": [
      "    5366 DPushes remaining with DInf 0.0000000e+00               166s\n"
     ]
    },
    {
     "name": "stderr",
     "output_type": "stream",
     "text": [
      "INFO:gurobipy:    5366 DPushes remaining with DInf 0.0000000e+00               166s\n"
     ]
    },
    {
     "name": "stdout",
     "output_type": "stream",
     "text": [
      "    2555 DPushes remaining with DInf 0.0000000e+00               170s\n"
     ]
    },
    {
     "name": "stderr",
     "output_type": "stream",
     "text": [
      "INFO:gurobipy:    2555 DPushes remaining with DInf 0.0000000e+00               170s\n"
     ]
    },
    {
     "name": "stdout",
     "output_type": "stream",
     "text": [
      "       0 DPushes remaining with DInf 0.0000000e+00               175s\n"
     ]
    },
    {
     "name": "stderr",
     "output_type": "stream",
     "text": [
      "INFO:gurobipy:       0 DPushes remaining with DInf 0.0000000e+00               175s\n"
     ]
    },
    {
     "name": "stdout",
     "output_type": "stream",
     "text": [
      "Warning: Markowitz tolerance tightened to 0.25\n"
     ]
    },
    {
     "name": "stderr",
     "output_type": "stream",
     "text": [
      "INFO:gurobipy:Warning: Markowitz tolerance tightened to 0.25\n"
     ]
    },
    {
     "name": "stdout",
     "output_type": "stream",
     "text": [
      "\n"
     ]
    },
    {
     "name": "stderr",
     "output_type": "stream",
     "text": [
      "INFO:gurobipy:\n"
     ]
    },
    {
     "name": "stdout",
     "output_type": "stream",
     "text": [
      "  172577 PPushes remaining with PInf 2.0090452e-01               175s\n"
     ]
    },
    {
     "name": "stderr",
     "output_type": "stream",
     "text": [
      "INFO:gurobipy:  172577 PPushes remaining with PInf 2.0090452e-01               175s\n"
     ]
    },
    {
     "name": "stdout",
     "output_type": "stream",
     "text": [
      "   57672 PPushes remaining with PInf 1.7205212e+00               277s\n"
     ]
    },
    {
     "name": "stderr",
     "output_type": "stream",
     "text": [
      "INFO:gurobipy:   57672 PPushes remaining with PInf 1.7205212e+00               277s\n"
     ]
    },
    {
     "name": "stdout",
     "output_type": "stream",
     "text": [
      "   54057 PPushes remaining with PInf 1.5513410e+00               280s\n"
     ]
    },
    {
     "name": "stderr",
     "output_type": "stream",
     "text": [
      "INFO:gurobipy:   54057 PPushes remaining with PInf 1.5513410e+00               280s\n"
     ]
    },
    {
     "name": "stdout",
     "output_type": "stream",
     "text": [
      "   51510 PPushes remaining with PInf 1.5347583e+00               286s\n"
     ]
    },
    {
     "name": "stderr",
     "output_type": "stream",
     "text": [
      "INFO:gurobipy:   51510 PPushes remaining with PInf 1.5347583e+00               286s\n"
     ]
    },
    {
     "name": "stdout",
     "output_type": "stream",
     "text": [
      "   44339 PPushes remaining with PInf 1.5266586e+00               305s\n"
     ]
    },
    {
     "name": "stderr",
     "output_type": "stream",
     "text": [
      "INFO:gurobipy:   44339 PPushes remaining with PInf 1.5266586e+00               305s\n"
     ]
    },
    {
     "name": "stdout",
     "output_type": "stream",
     "text": [
      "   42232 PPushes remaining with PInf 1.4773547e+00               310s\n"
     ]
    },
    {
     "name": "stderr",
     "output_type": "stream",
     "text": [
      "INFO:gurobipy:   42232 PPushes remaining with PInf 1.4773547e+00               310s\n"
     ]
    },
    {
     "name": "stdout",
     "output_type": "stream",
     "text": [
      "   40015 PPushes remaining with PInf 1.4753012e+00               315s\n"
     ]
    },
    {
     "name": "stderr",
     "output_type": "stream",
     "text": [
      "INFO:gurobipy:   40015 PPushes remaining with PInf 1.4753012e+00               315s\n"
     ]
    },
    {
     "name": "stdout",
     "output_type": "stream",
     "text": [
      "   13359 PPushes remaining with PInf 1.8987259e+00               383s\n"
     ]
    },
    {
     "name": "stderr",
     "output_type": "stream",
     "text": [
      "INFO:gurobipy:   13359 PPushes remaining with PInf 1.8987259e+00               383s\n"
     ]
    },
    {
     "name": "stdout",
     "output_type": "stream",
     "text": [
      "   11759 PPushes remaining with PInf 1.8950712e+00               386s\n"
     ]
    },
    {
     "name": "stderr",
     "output_type": "stream",
     "text": [
      "INFO:gurobipy:   11759 PPushes remaining with PInf 1.8950712e+00               386s\n"
     ]
    },
    {
     "name": "stdout",
     "output_type": "stream",
     "text": [
      "    9645 PPushes remaining with PInf 1.8936522e+00               391s\n"
     ]
    },
    {
     "name": "stderr",
     "output_type": "stream",
     "text": [
      "INFO:gurobipy:    9645 PPushes remaining with PInf 1.8936522e+00               391s\n"
     ]
    },
    {
     "name": "stdout",
     "output_type": "stream",
     "text": [
      "    8141 PPushes remaining with PInf 1.8912479e+00               395s\n"
     ]
    },
    {
     "name": "stderr",
     "output_type": "stream",
     "text": [
      "INFO:gurobipy:    8141 PPushes remaining with PInf 1.8912479e+00               395s\n"
     ]
    },
    {
     "name": "stdout",
     "output_type": "stream",
     "text": [
      "    5108 PPushes remaining with PInf 1.8902131e+00               404s\n"
     ]
    },
    {
     "name": "stderr",
     "output_type": "stream",
     "text": [
      "INFO:gurobipy:    5108 PPushes remaining with PInf 1.8902131e+00               404s\n"
     ]
    },
    {
     "name": "stdout",
     "output_type": "stream",
     "text": [
      "    3107 PPushes remaining with PInf 1.6783053e+00               408s\n"
     ]
    },
    {
     "name": "stderr",
     "output_type": "stream",
     "text": [
      "INFO:gurobipy:    3107 PPushes remaining with PInf 1.6783053e+00               408s\n"
     ]
    },
    {
     "name": "stdout",
     "output_type": "stream",
     "text": [
      "       0 PPushes remaining with PInf 0.0000000e+00               411s\n"
     ]
    },
    {
     "name": "stderr",
     "output_type": "stream",
     "text": [
      "INFO:gurobipy:       0 PPushes remaining with PInf 0.0000000e+00               411s\n"
     ]
    },
    {
     "name": "stdout",
     "output_type": "stream",
     "text": [
      "\n"
     ]
    },
    {
     "name": "stderr",
     "output_type": "stream",
     "text": [
      "INFO:gurobipy:\n"
     ]
    },
    {
     "name": "stdout",
     "output_type": "stream",
     "text": [
      "  Push phase complete: Pinf 0.0000000e+00, Dinf 8.3466286e+04    411s\n"
     ]
    },
    {
     "name": "stderr",
     "output_type": "stream",
     "text": [
      "INFO:gurobipy:  Push phase complete: Pinf 0.0000000e+00, Dinf 8.3466286e+04    411s\n"
     ]
    },
    {
     "name": "stdout",
     "output_type": "stream",
     "text": [
      "\n"
     ]
    },
    {
     "name": "stderr",
     "output_type": "stream",
     "text": [
      "INFO:gurobipy:\n"
     ]
    },
    {
     "name": "stdout",
     "output_type": "stream",
     "text": [
      "Iteration    Objective       Primal Inf.    Dual Inf.      Time\n"
     ]
    },
    {
     "name": "stderr",
     "output_type": "stream",
     "text": [
      "INFO:gurobipy:Iteration    Objective       Primal Inf.    Dual Inf.      Time\n"
     ]
    },
    {
     "name": "stdout",
     "output_type": "stream",
     "text": [
      "  309094    2.8261844e+10   0.000000e+00   8.346629e+04    411s\n"
     ]
    },
    {
     "name": "stderr",
     "output_type": "stream",
     "text": [
      "INFO:gurobipy:  309094    2.8261844e+10   0.000000e+00   8.346629e+04    411s\n"
     ]
    },
    {
     "name": "stdout",
     "output_type": "stream",
     "text": [
      "  310544    2.8261844e+10   0.000000e+00   9.273333e+02    416s\n"
     ]
    },
    {
     "name": "stderr",
     "output_type": "stream",
     "text": [
      "INFO:gurobipy:  310544    2.8261844e+10   0.000000e+00   9.273333e+02    416s\n"
     ]
    },
    {
     "name": "stdout",
     "output_type": "stream",
     "text": [
      "\n"
     ]
    },
    {
     "name": "stderr",
     "output_type": "stream",
     "text": [
      "INFO:gurobipy:\n"
     ]
    },
    {
     "name": "stdout",
     "output_type": "stream",
     "text": [
      "Solved with barrier\n"
     ]
    },
    {
     "name": "stderr",
     "output_type": "stream",
     "text": [
      "INFO:gurobipy:Solved with barrier\n"
     ]
    },
    {
     "name": "stdout",
     "output_type": "stream",
     "text": [
      "Extra simplex iterations after uncrush: 8\n"
     ]
    },
    {
     "name": "stderr",
     "output_type": "stream",
     "text": [
      "INFO:gurobipy:Extra simplex iterations after uncrush: 8\n"
     ]
    },
    {
     "name": "stdout",
     "output_type": "stream",
     "text": [
      "  313014    2.8261844e+10   0.000000e+00   0.000000e+00    420s\n"
     ]
    },
    {
     "name": "stderr",
     "output_type": "stream",
     "text": [
      "INFO:gurobipy:  313014    2.8261844e+10   0.000000e+00   0.000000e+00    420s\n"
     ]
    },
    {
     "name": "stdout",
     "output_type": "stream",
     "text": [
      "\n"
     ]
    },
    {
     "name": "stderr",
     "output_type": "stream",
     "text": [
      "INFO:gurobipy:\n"
     ]
    },
    {
     "name": "stdout",
     "output_type": "stream",
     "text": [
      "Solved in 313014 iterations and 420.23 seconds (297.01 work units)\n"
     ]
    },
    {
     "name": "stderr",
     "output_type": "stream",
     "text": [
      "INFO:gurobipy:Solved in 313014 iterations and 420.23 seconds (297.01 work units)\n"
     ]
    },
    {
     "name": "stdout",
     "output_type": "stream",
     "text": [
      "Optimal objective  2.826184432e+10\n"
     ]
    },
    {
     "name": "stderr",
     "output_type": "stream",
     "text": [
      "INFO:gurobipy:Optimal objective  2.826184432e+10\n",
      "INFO:linopy.constants: Optimization successful: \n",
      "Status: ok\n",
      "Termination condition: optimal\n",
      "Solution: 321293 primals, 663113 duals\n",
      "Objective: 2.83e+10\n",
      "Solver model: available\n",
      "Solver message: 2\n",
      "\n",
      "/opt/anaconda3/lib/python3.11/site-packages/pypsa/optimization/optimize.py:357: FutureWarning:\n",
      "\n",
      "A value is trying to be set on a copy of a DataFrame or Series through chained assignment using an inplace method.\n",
      "The behavior will change in pandas 3.0. This inplace method will never work because the intermediate object on which we are setting values always behaves as a copy.\n",
      "\n",
      "For example, when doing 'df[col].method(value, inplace=True)', try using 'df.method({col: value}, inplace=True)' or df[col] = df[col].method(value) instead, to perform the operation inplace on the original object.\n",
      "\n",
      "\n",
      "\n",
      "INFO:pypsa.optimization.optimize:The shadow-prices of the constraints Generator-ext-p-lower, Generator-ext-p-upper, Line-ext-s-lower, Line-ext-s-upper, Link-ext-p-lower, Link-ext-p-upper, Store-ext-e-lower, Store-ext-e-upper, StorageUnit-ext-p_dispatch-lower, StorageUnit-ext-p_dispatch-upper, StorageUnit-ext-p_store-lower, StorageUnit-ext-p_store-upper, StorageUnit-ext-state_of_charge-lower, StorageUnit-ext-state_of_charge-upper, Kirchhoff-Voltage-Law, StorageUnit-energy_balance, Store-energy_balance were not assigned to the network.\n"
     ]
    },
    {
     "data": {
      "text/plain": [
       "('ok', 'optimal')"
      ]
     },
     "execution_count": 6,
     "metadata": {},
     "output_type": "execute_result"
    }
   ],
   "source": [
    "snapshots_to_optimize = n.snapshots[:8784]\n",
    "n.optimize(snapshots=snapshots_to_optimize, solver_name='gurobi')"
   ]
  },
  {
   "cell_type": "code",
   "execution_count": 13,
   "id": "bcb28cb9-5924-4c72-b6c3-fd167bc18979",
   "metadata": {},
   "outputs": [
    {
     "name": "stdout",
     "output_type": "stream",
     "text": [
      "            carrier    bus         p_nom   capital_cost      max_hours  \\\n",
      "StorageUnit                                                              \n",
      "AL1 0 hydro   hydro  AL1 0   1690.700000  216671.771451      42.573609   \n",
      "AT1 0 PHS       PHS  AT1 0   5057.300000  216671.771451     309.164904   \n",
      "AT1 0 hydro   hydro  AT1 0   3457.620000  216671.771451     925.492102   \n",
      "BA1 0 PHS       PHS  BA1 0    440.000000  216671.771451       0.007907   \n",
      "BA1 0 hydro   hydro  BA1 0   1614.500000  216671.771451    1548.467018   \n",
      "BE1 0 PHS       PHS  BE1 0   1308.000000  216671.771451       4.365443   \n",
      "BE1 0 hydro   hydro  BE1 0      1.900000  216671.771451  105263.157895   \n",
      "BG1 0 PHS       PHS  BG1 0    864.000000  216671.771451      31.643519   \n",
      "BG1 0 hydro   hydro  BG1 0   1925.140000  216671.771451    2077.770967   \n",
      "CH1 0 PHS       PHS  CH1 0   5081.350000  216671.771451      68.632264   \n",
      "CH1 0 hydro   hydro  CH1 0   9786.310000  216671.771451     894.597281   \n",
      "DE1 0 PHS       PHS  DE1 0   7134.220000  216671.771451       5.585931   \n",
      "DE1 0 hydro   hydro  DE1 0    289.500000  216671.771451    1036.269430   \n",
      "ES1 0 PHS       PHS  ES1 0   8870.750000  216671.771451     428.175631   \n",
      "ES1 0 hydro   hydro  ES1 0  14145.897000  216671.771451    1300.730523   \n",
      "FI2 0 hydro   hydro  FI2 0   1146.900000  216671.771451    5324.959699   \n",
      "FR1 0 PHS       PHS  FR1 0   4234.000000  216671.771451      18.828039   \n",
      "FR1 0 hydro   hydro  FR1 0   6552.657962  216671.771451    1499.885596   \n",
      "GB0 0 PHS       PHS  GB0 0    440.000000  216671.771451      15.909091   \n",
      "GB0 0 hydro   hydro  GB0 0    228.300000  216671.771451     876.040298   \n",
      "GR1 0 PHS       PHS  GR1 0    699.000000  216671.771451       7.353362   \n",
      "GR1 0 hydro   hydro  GR1 0   2566.000000  216671.771451     896.336711   \n",
      "HR1 0 PHS       PHS  HR1 0    245.700000  216671.771451      52.518377   \n",
      "HR1 0 hydro   hydro  HR1 0   1864.404459  216671.771451    1501.820051   \n",
      "HU1 0 hydro   hydro  HU1 0     28.000000  216671.771451    7142.857143   \n",
      "IE5 0 PHS       PHS  IE5 0    392.000000  216671.771451       6.164384   \n",
      "IE5 0 hydro   hydro  IE5 0      1.000000  216671.771451  200000.000000   \n",
      "IT1 0 PHS       PHS  IT1 0   7331.900000  216671.771451      52.718602   \n",
      "IT1 0 hydro   hydro  IT1 0   3687.900000  216671.771451    1996.058416   \n",
      "IT3 0 PHS       PHS  IT3 0    240.000000  216671.771451      39.707286   \n",
      "IT3 0 hydro   hydro  IT3 0     78.000000  216671.771451    1996.058416   \n",
      "LT6 0 PHS       PHS  LT6 0    900.000000  216671.771451      12.000000   \n",
      "LU1 0 PHS       PHS  LU1 0   2585.000000  216671.771451       6.000000   \n",
      "ME1 0 PHS       PHS  ME1 0    307.000000  216671.771451       6.000000   \n",
      "ME1 0 hydro   hydro  ME1 0    344.961000  216671.771451      14.337853   \n",
      "NO2 0 PHS       PHS  NO2 0    282.300000  216671.771451    2147.930338   \n",
      "NO2 0 hydro   hydro  NO2 0  27508.464200  216671.771451    3046.073496   \n",
      "PL1 0 PHS       PHS  PL1 0   1798.000000  216671.771451       9.256414   \n",
      "PL1 0 hydro   hydro  PL1 0    125.095541  216671.771451   12790.224033   \n",
      "PT1 0 PHS       PHS  PT1 0   3703.000000  216671.771451     459.584385   \n",
      "PT1 0 hydro   hydro  PT1 0    817.300000  216671.771451    3181.206411   \n",
      "RO1 0 hydro   hydro  RO1 0   4449.940000  216671.771451    2719.137786   \n",
      "RS1 0 PHS       PHS  RS1 0    614.000000  216671.771451       6.000000   \n",
      "RS1 0 hydro   hydro  RS1 0    790.100000  216671.771451     383.495760   \n",
      "SE2 0 PHS       PHS  SE2 0     92.000000  216671.771451     787.565217   \n",
      "SE2 0 hydro   hydro  SE2 0   9188.486625  216671.771451    3678.516537   \n",
      "SI1 0 PHS       PHS  SI1 0    180.000000  216671.771451       6.000000   \n",
      "SI1 0 hydro   hydro  SI1 0    118.000000  216671.771451   18644.067797   \n",
      "SK1 0 PHS       PHS  SK1 0    822.453000  216671.771451       6.000000   \n",
      "SK1 0 hydro   hydro  SK1 0    241.900000  216671.771451    9094.667218   \n",
      "\n",
      "             efficiency_store  cyclic_state_of_charge  p_min_pu control  \\\n",
      "StorageUnit                                                               \n",
      "AL1 0 hydro               0.0                    True       0.0           \n",
      "AT1 0 PHS                 1.0                    True      -1.0           \n",
      "AT1 0 hydro               0.0                    True       0.0           \n",
      "BA1 0 PHS                 1.0                    True      -1.0           \n",
      "BA1 0 hydro               0.0                    True       0.0           \n",
      "BE1 0 PHS                 1.0                    True      -1.0           \n",
      "BE1 0 hydro               0.0                    True       0.0           \n",
      "BG1 0 PHS                 1.0                    True      -1.0           \n",
      "BG1 0 hydro               0.0                    True       0.0           \n",
      "CH1 0 PHS                 1.0                    True      -1.0           \n",
      "CH1 0 hydro               0.0                    True       0.0           \n",
      "DE1 0 PHS                 1.0                    True      -1.0           \n",
      "DE1 0 hydro               0.0                    True       0.0           \n",
      "ES1 0 PHS                 1.0                    True      -1.0           \n",
      "ES1 0 hydro               0.0                    True       0.0           \n",
      "FI2 0 hydro               0.0                    True       0.0           \n",
      "FR1 0 PHS                 1.0                    True      -1.0           \n",
      "FR1 0 hydro               0.0                    True       0.0           \n",
      "GB0 0 PHS                 1.0                    True      -1.0           \n",
      "GB0 0 hydro               0.0                    True       0.0           \n",
      "GR1 0 PHS                 1.0                    True      -1.0           \n",
      "GR1 0 hydro               0.0                    True       0.0           \n",
      "HR1 0 PHS                 1.0                    True      -1.0           \n",
      "HR1 0 hydro               0.0                    True       0.0           \n",
      "HU1 0 hydro               0.0                    True       0.0           \n",
      "IE5 0 PHS                 1.0                    True      -1.0           \n",
      "IE5 0 hydro               0.0                    True       0.0           \n",
      "IT1 0 PHS                 1.0                    True      -1.0           \n",
      "IT1 0 hydro               0.0                    True       0.0           \n",
      "IT3 0 PHS                 1.0                    True      -1.0           \n",
      "IT3 0 hydro               0.0                    True       0.0           \n",
      "LT6 0 PHS                 1.0                    True      -1.0           \n",
      "LU1 0 PHS                 1.0                    True      -1.0           \n",
      "ME1 0 PHS                 1.0                    True      -1.0           \n",
      "ME1 0 hydro               0.0                    True       0.0           \n",
      "NO2 0 PHS                 1.0                    True      -1.0           \n",
      "NO2 0 hydro               0.0                    True       0.0           \n",
      "PL1 0 PHS                 1.0                    True      -1.0           \n",
      "PL1 0 hydro               0.0                    True       0.0           \n",
      "PT1 0 PHS                 1.0                    True      -1.0           \n",
      "PT1 0 hydro               0.0                    True       0.0           \n",
      "RO1 0 hydro               0.0                    True       0.0           \n",
      "RS1 0 PHS                 1.0                    True      -1.0           \n",
      "RS1 0 hydro               0.0                    True       0.0           \n",
      "SE2 0 PHS                 1.0                    True      -1.0           \n",
      "SE2 0 hydro               0.0                    True       0.0           \n",
      "SI1 0 PHS                 1.0                    True      -1.0           \n",
      "SI1 0 hydro               0.0                    True       0.0           \n",
      "SK1 0 PHS                 1.0                    True      -1.0           \n",
      "SK1 0 hydro               0.0                    True       0.0           \n",
      "\n",
      "             p_max_pu  marginal_cost     p_nom_opt type  p_nom_mod  \\\n",
      "StorageUnit                                                          \n",
      "AL1 0 hydro       1.0       0.009428    637.255502             0.0   \n",
      "AT1 0 PHS         1.0       0.009211  17183.876133             0.0   \n",
      "AT1 0 hydro       1.0       0.009465   2616.204696             0.0   \n",
      "BA1 0 PHS         1.0       0.009601      0.000000             0.0   \n",
      "BA1 0 hydro       1.0       0.010269   1134.098166             0.0   \n",
      "BE1 0 PHS         1.0       0.009562      0.000000             0.0   \n",
      "BE1 0 hydro       1.0       0.009725      2.408067             0.0   \n",
      "BG1 0 PHS         1.0       0.009012      0.000000             0.0   \n",
      "BG1 0 hydro       1.0       0.009731    701.529846             0.0   \n",
      "CH1 0 PHS         1.0       0.010068      0.000000             0.0   \n",
      "CH1 0 hydro       1.0       0.009324   4785.079064             0.0   \n",
      "DE1 0 PHS         1.0       0.010195      0.000000             0.0   \n",
      "DE1 0 hydro       1.0       0.009586    656.912346             0.0   \n",
      "ES1 0 PHS         1.0       0.010264      0.000000             0.0   \n",
      "ES1 0 hydro       1.0       0.009052   7489.324650             0.0   \n",
      "FI2 0 hydro       1.0       0.010775   1221.762556             0.0   \n",
      "FR1 0 PHS         1.0       0.009032      0.000000             0.0   \n",
      "FR1 0 hydro       1.0       0.009254  10137.675726             0.0   \n",
      "GB0 0 PHS         1.0       0.010554      0.000000             0.0   \n",
      "GB0 0 hydro       1.0       0.009092     83.115687             0.0   \n",
      "GR1 0 PHS         1.0       0.010422      0.000000             0.0   \n",
      "GR1 0 hydro       1.0       0.010942    724.291387             0.0   \n",
      "HR1 0 PHS         1.0       0.010743      0.000000             0.0   \n",
      "HR1 0 hydro       1.0       0.010420   1308.411574             0.0   \n",
      "HU1 0 hydro       1.0       0.010917     40.162122             0.0   \n",
      "IE5 0 PHS         1.0       0.009860      0.000000             0.0   \n",
      "IE5 0 hydro       1.0       0.010746      3.259850             0.0   \n",
      "IT1 0 PHS         1.0       0.009712      0.000000             0.0   \n",
      "IT1 0 hydro       1.0       0.010860   5087.853389             0.0   \n",
      "IT3 0 PHS         1.0       0.009298      0.000000             0.0   \n",
      "IT3 0 hydro       1.0       0.010880    109.798341             0.0   \n",
      "LT6 0 PHS         1.0       0.010665      0.000000             0.0   \n",
      "LU1 0 PHS         1.0       0.010692      0.000000             0.0   \n",
      "ME1 0 PHS         1.0       0.009248      0.000000             0.0   \n",
      "ME1 0 hydro       1.0       0.010193     63.467841             0.0   \n",
      "NO2 0 PHS         1.0       0.009033      0.000000             0.0   \n",
      "NO2 0 hydro       1.0       0.010442  17508.027918             0.0   \n",
      "PL1 0 PHS         1.0       0.009015      0.000000             0.0   \n",
      "PL1 0 hydro       1.0       0.009170    309.282513             0.0   \n",
      "PT1 0 PHS         1.0       0.009451   7898.207803             0.0   \n",
      "PT1 0 hydro       1.0       0.010750    920.720783             0.0   \n",
      "RO1 0 hydro       1.0       0.009727   2458.731345             0.0   \n",
      "RS1 0 PHS         1.0       0.010080      0.000000             0.0   \n",
      "RS1 0 hydro       1.0       0.010136    506.369202             0.0   \n",
      "SE2 0 PHS         1.0       0.009451      0.000000             0.0   \n",
      "SE2 0 hydro       1.0       0.010144   8314.331351             0.0   \n",
      "SI1 0 PHS         1.0       0.010322      0.000000             0.0   \n",
      "SI1 0 hydro       1.0       0.009596    142.865440             0.0   \n",
      "SK1 0 PHS         1.0       0.009837      0.000000             0.0   \n",
      "SK1 0 hydro       1.0       0.009906    270.744448             0.0   \n",
      "\n",
      "             p_nom_extendable  p_nom_min     p_nom_max  p_set  q_set  sign  \\\n",
      "StorageUnit                                                                  \n",
      "AL1 0 hydro              True        0.0   1690.700000    0.0    0.0   1.0   \n",
      "AT1 0 PHS                True        0.0   5057.300000    0.0    0.0   1.0   \n",
      "AT1 0 hydro              True        0.0   3457.620000    0.0    0.0   1.0   \n",
      "BA1 0 PHS                True        0.0    440.000000    0.0    0.0   1.0   \n",
      "BA1 0 hydro              True        0.0   1614.500000    0.0    0.0   1.0   \n",
      "BE1 0 PHS                True        0.0   1308.000000    0.0    0.0   1.0   \n",
      "BE1 0 hydro              True        0.0      1.900000    0.0    0.0   1.0   \n",
      "BG1 0 PHS                True        0.0    864.000000    0.0    0.0   1.0   \n",
      "BG1 0 hydro              True        0.0   1925.140000    0.0    0.0   1.0   \n",
      "CH1 0 PHS                True        0.0   5081.350000    0.0    0.0   1.0   \n",
      "CH1 0 hydro              True        0.0   9786.310000    0.0    0.0   1.0   \n",
      "DE1 0 PHS                True        0.0   7134.220000    0.0    0.0   1.0   \n",
      "DE1 0 hydro              True        0.0    289.500000    0.0    0.0   1.0   \n",
      "ES1 0 PHS                True        0.0   8870.750000    0.0    0.0   1.0   \n",
      "ES1 0 hydro              True        0.0  14145.897000    0.0    0.0   1.0   \n",
      "FI2 0 hydro              True        0.0   1146.900000    0.0    0.0   1.0   \n",
      "FR1 0 PHS                True        0.0   4234.000000    0.0    0.0   1.0   \n",
      "FR1 0 hydro              True        0.0   6552.657962    0.0    0.0   1.0   \n",
      "GB0 0 PHS                True        0.0    440.000000    0.0    0.0   1.0   \n",
      "GB0 0 hydro              True        0.0    228.300000    0.0    0.0   1.0   \n",
      "GR1 0 PHS                True        0.0    699.000000    0.0    0.0   1.0   \n",
      "GR1 0 hydro              True        0.0   2566.000000    0.0    0.0   1.0   \n",
      "HR1 0 PHS                True        0.0    245.700000    0.0    0.0   1.0   \n",
      "HR1 0 hydro              True        0.0   1864.404459    0.0    0.0   1.0   \n",
      "HU1 0 hydro              True        0.0     28.000000    0.0    0.0   1.0   \n",
      "IE5 0 PHS                True        0.0    392.000000    0.0    0.0   1.0   \n",
      "IE5 0 hydro              True        0.0      1.000000    0.0    0.0   1.0   \n",
      "IT1 0 PHS                True        0.0   7331.900000    0.0    0.0   1.0   \n",
      "IT1 0 hydro              True        0.0   3687.900000    0.0    0.0   1.0   \n",
      "IT3 0 PHS                True        0.0    240.000000    0.0    0.0   1.0   \n",
      "IT3 0 hydro              True        0.0     78.000000    0.0    0.0   1.0   \n",
      "LT6 0 PHS                True        0.0    900.000000    0.0    0.0   1.0   \n",
      "LU1 0 PHS                True        0.0   2585.000000    0.0    0.0   1.0   \n",
      "ME1 0 PHS                True        0.0    307.000000    0.0    0.0   1.0   \n",
      "ME1 0 hydro              True        0.0    344.961000    0.0    0.0   1.0   \n",
      "NO2 0 PHS                True        0.0    282.300000    0.0    0.0   1.0   \n",
      "NO2 0 hydro              True        0.0  27508.464200    0.0    0.0   1.0   \n",
      "PL1 0 PHS                True        0.0   1798.000000    0.0    0.0   1.0   \n",
      "PL1 0 hydro              True        0.0    125.095541    0.0    0.0   1.0   \n",
      "PT1 0 PHS                True        0.0   3703.000000    0.0    0.0   1.0   \n",
      "PT1 0 hydro              True        0.0    817.300000    0.0    0.0   1.0   \n",
      "RO1 0 hydro              True        0.0   4449.940000    0.0    0.0   1.0   \n",
      "RS1 0 PHS                True        0.0    614.000000    0.0    0.0   1.0   \n",
      "RS1 0 hydro              True        0.0    790.100000    0.0    0.0   1.0   \n",
      "SE2 0 PHS                True        0.0     92.000000    0.0    0.0   1.0   \n",
      "SE2 0 hydro              True        0.0   9188.486625    0.0    0.0   1.0   \n",
      "SI1 0 PHS                True        0.0    180.000000    0.0    0.0   1.0   \n",
      "SI1 0 hydro              True        0.0    118.000000    0.0    0.0   1.0   \n",
      "SK1 0 PHS                True        0.0    822.453000    0.0    0.0   1.0   \n",
      "SK1 0 hydro              True        0.0    241.900000    0.0    0.0   1.0   \n",
      "\n",
      "             marginal_cost_quadratic  build_year  lifetime  \\\n",
      "StorageUnit                                                  \n",
      "AL1 0 hydro                      0.0           0       inf   \n",
      "AT1 0 PHS                        0.0           0       inf   \n",
      "AT1 0 hydro                      0.0           0       inf   \n",
      "BA1 0 PHS                        0.0           0       inf   \n",
      "BA1 0 hydro                      0.0           0       inf   \n",
      "BE1 0 PHS                        0.0           0       inf   \n",
      "BE1 0 hydro                      0.0           0       inf   \n",
      "BG1 0 PHS                        0.0           0       inf   \n",
      "BG1 0 hydro                      0.0           0       inf   \n",
      "CH1 0 PHS                        0.0           0       inf   \n",
      "CH1 0 hydro                      0.0           0       inf   \n",
      "DE1 0 PHS                        0.0           0       inf   \n",
      "DE1 0 hydro                      0.0           0       inf   \n",
      "ES1 0 PHS                        0.0           0       inf   \n",
      "ES1 0 hydro                      0.0           0       inf   \n",
      "FI2 0 hydro                      0.0           0       inf   \n",
      "FR1 0 PHS                        0.0           0       inf   \n",
      "FR1 0 hydro                      0.0           0       inf   \n",
      "GB0 0 PHS                        0.0           0       inf   \n",
      "GB0 0 hydro                      0.0           0       inf   \n",
      "GR1 0 PHS                        0.0           0       inf   \n",
      "GR1 0 hydro                      0.0           0       inf   \n",
      "HR1 0 PHS                        0.0           0       inf   \n",
      "HR1 0 hydro                      0.0           0       inf   \n",
      "HU1 0 hydro                      0.0           0       inf   \n",
      "IE5 0 PHS                        0.0           0       inf   \n",
      "IE5 0 hydro                      0.0           0       inf   \n",
      "IT1 0 PHS                        0.0           0       inf   \n",
      "IT1 0 hydro                      0.0           0       inf   \n",
      "IT3 0 PHS                        0.0           0       inf   \n",
      "IT3 0 hydro                      0.0           0       inf   \n",
      "LT6 0 PHS                        0.0           0       inf   \n",
      "LU1 0 PHS                        0.0           0       inf   \n",
      "ME1 0 PHS                        0.0           0       inf   \n",
      "ME1 0 hydro                      0.0           0       inf   \n",
      "NO2 0 PHS                        0.0           0       inf   \n",
      "NO2 0 hydro                      0.0           0       inf   \n",
      "PL1 0 PHS                        0.0           0       inf   \n",
      "PL1 0 hydro                      0.0           0       inf   \n",
      "PT1 0 PHS                        0.0           0       inf   \n",
      "PT1 0 hydro                      0.0           0       inf   \n",
      "RO1 0 hydro                      0.0           0       inf   \n",
      "RS1 0 PHS                        0.0           0       inf   \n",
      "RS1 0 hydro                      0.0           0       inf   \n",
      "SE2 0 PHS                        0.0           0       inf   \n",
      "SE2 0 hydro                      0.0           0       inf   \n",
      "SI1 0 PHS                        0.0           0       inf   \n",
      "SI1 0 hydro                      0.0           0       inf   \n",
      "SK1 0 PHS                        0.0           0       inf   \n",
      "SK1 0 hydro                      0.0           0       inf   \n",
      "\n",
      "             state_of_charge_initial  state_of_charge_initial_per_period  \\\n",
      "StorageUnit                                                                \n",
      "AL1 0 hydro                      0.0                               False   \n",
      "AT1 0 PHS                        0.0                               False   \n",
      "AT1 0 hydro                      0.0                               False   \n",
      "BA1 0 PHS                        0.0                               False   \n",
      "BA1 0 hydro                      0.0                               False   \n",
      "BE1 0 PHS                        0.0                               False   \n",
      "BE1 0 hydro                      0.0                               False   \n",
      "BG1 0 PHS                        0.0                               False   \n",
      "BG1 0 hydro                      0.0                               False   \n",
      "CH1 0 PHS                        0.0                               False   \n",
      "CH1 0 hydro                      0.0                               False   \n",
      "DE1 0 PHS                        0.0                               False   \n",
      "DE1 0 hydro                      0.0                               False   \n",
      "ES1 0 PHS                        0.0                               False   \n",
      "ES1 0 hydro                      0.0                               False   \n",
      "FI2 0 hydro                      0.0                               False   \n",
      "FR1 0 PHS                        0.0                               False   \n",
      "FR1 0 hydro                      0.0                               False   \n",
      "GB0 0 PHS                        0.0                               False   \n",
      "GB0 0 hydro                      0.0                               False   \n",
      "GR1 0 PHS                        0.0                               False   \n",
      "GR1 0 hydro                      0.0                               False   \n",
      "HR1 0 PHS                        0.0                               False   \n",
      "HR1 0 hydro                      0.0                               False   \n",
      "HU1 0 hydro                      0.0                               False   \n",
      "IE5 0 PHS                        0.0                               False   \n",
      "IE5 0 hydro                      0.0                               False   \n",
      "IT1 0 PHS                        0.0                               False   \n",
      "IT1 0 hydro                      0.0                               False   \n",
      "IT3 0 PHS                        0.0                               False   \n",
      "IT3 0 hydro                      0.0                               False   \n",
      "LT6 0 PHS                        0.0                               False   \n",
      "LU1 0 PHS                        0.0                               False   \n",
      "ME1 0 PHS                        0.0                               False   \n",
      "ME1 0 hydro                      0.0                               False   \n",
      "NO2 0 PHS                        0.0                               False   \n",
      "NO2 0 hydro                      0.0                               False   \n",
      "PL1 0 PHS                        0.0                               False   \n",
      "PL1 0 hydro                      0.0                               False   \n",
      "PT1 0 PHS                        0.0                               False   \n",
      "PT1 0 hydro                      0.0                               False   \n",
      "RO1 0 hydro                      0.0                               False   \n",
      "RS1 0 PHS                        0.0                               False   \n",
      "RS1 0 hydro                      0.0                               False   \n",
      "SE2 0 PHS                        0.0                               False   \n",
      "SE2 0 hydro                      0.0                               False   \n",
      "SI1 0 PHS                        0.0                               False   \n",
      "SI1 0 hydro                      0.0                               False   \n",
      "SK1 0 PHS                        0.0                               False   \n",
      "SK1 0 hydro                      0.0                               False   \n",
      "\n",
      "             state_of_charge_set  cyclic_state_of_charge_per_period  \\\n",
      "StorageUnit                                                           \n",
      "AL1 0 hydro                  NaN                               True   \n",
      "AT1 0 PHS                    NaN                               True   \n",
      "AT1 0 hydro                  NaN                               True   \n",
      "BA1 0 PHS                    NaN                               True   \n",
      "BA1 0 hydro                  NaN                               True   \n",
      "BE1 0 PHS                    NaN                               True   \n",
      "BE1 0 hydro                  NaN                               True   \n",
      "BG1 0 PHS                    NaN                               True   \n",
      "BG1 0 hydro                  NaN                               True   \n",
      "CH1 0 PHS                    NaN                               True   \n",
      "CH1 0 hydro                  NaN                               True   \n",
      "DE1 0 PHS                    NaN                               True   \n",
      "DE1 0 hydro                  NaN                               True   \n",
      "ES1 0 PHS                    NaN                               True   \n",
      "ES1 0 hydro                  NaN                               True   \n",
      "FI2 0 hydro                  NaN                               True   \n",
      "FR1 0 PHS                    NaN                               True   \n",
      "FR1 0 hydro                  NaN                               True   \n",
      "GB0 0 PHS                    NaN                               True   \n",
      "GB0 0 hydro                  NaN                               True   \n",
      "GR1 0 PHS                    NaN                               True   \n",
      "GR1 0 hydro                  NaN                               True   \n",
      "HR1 0 PHS                    NaN                               True   \n",
      "HR1 0 hydro                  NaN                               True   \n",
      "HU1 0 hydro                  NaN                               True   \n",
      "IE5 0 PHS                    NaN                               True   \n",
      "IE5 0 hydro                  NaN                               True   \n",
      "IT1 0 PHS                    NaN                               True   \n",
      "IT1 0 hydro                  NaN                               True   \n",
      "IT3 0 PHS                    NaN                               True   \n",
      "IT3 0 hydro                  NaN                               True   \n",
      "LT6 0 PHS                    NaN                               True   \n",
      "LU1 0 PHS                    NaN                               True   \n",
      "ME1 0 PHS                    NaN                               True   \n",
      "ME1 0 hydro                  NaN                               True   \n",
      "NO2 0 PHS                    NaN                               True   \n",
      "NO2 0 hydro                  NaN                               True   \n",
      "PL1 0 PHS                    NaN                               True   \n",
      "PL1 0 hydro                  NaN                               True   \n",
      "PT1 0 PHS                    NaN                               True   \n",
      "PT1 0 hydro                  NaN                               True   \n",
      "RO1 0 hydro                  NaN                               True   \n",
      "RS1 0 PHS                    NaN                               True   \n",
      "RS1 0 hydro                  NaN                               True   \n",
      "SE2 0 PHS                    NaN                               True   \n",
      "SE2 0 hydro                  NaN                               True   \n",
      "SI1 0 PHS                    NaN                               True   \n",
      "SI1 0 hydro                  NaN                               True   \n",
      "SK1 0 PHS                    NaN                               True   \n",
      "SK1 0 hydro                  NaN                               True   \n",
      "\n",
      "             efficiency_dispatch  standing_loss  inflow  \n",
      "StorageUnit                                              \n",
      "AL1 0 hydro                  1.0            0.0     0.0  \n",
      "AT1 0 PHS                    1.0            0.0     0.0  \n",
      "AT1 0 hydro                  1.0            0.0     0.0  \n",
      "BA1 0 PHS                    1.0            0.0     0.0  \n",
      "BA1 0 hydro                  1.0            0.0     0.0  \n",
      "BE1 0 PHS                    1.0            0.0     0.0  \n",
      "BE1 0 hydro                  1.0            0.0     0.0  \n",
      "BG1 0 PHS                    1.0            0.0     0.0  \n",
      "BG1 0 hydro                  1.0            0.0     0.0  \n",
      "CH1 0 PHS                    1.0            0.0     0.0  \n",
      "CH1 0 hydro                  1.0            0.0     0.0  \n",
      "DE1 0 PHS                    1.0            0.0     0.0  \n",
      "DE1 0 hydro                  1.0            0.0     0.0  \n",
      "ES1 0 PHS                    1.0            0.0     0.0  \n",
      "ES1 0 hydro                  1.0            0.0     0.0  \n",
      "FI2 0 hydro                  1.0            0.0     0.0  \n",
      "FR1 0 PHS                    1.0            0.0     0.0  \n",
      "FR1 0 hydro                  1.0            0.0     0.0  \n",
      "GB0 0 PHS                    1.0            0.0     0.0  \n",
      "GB0 0 hydro                  1.0            0.0     0.0  \n",
      "GR1 0 PHS                    1.0            0.0     0.0  \n",
      "GR1 0 hydro                  1.0            0.0     0.0  \n",
      "HR1 0 PHS                    1.0            0.0     0.0  \n",
      "HR1 0 hydro                  1.0            0.0     0.0  \n",
      "HU1 0 hydro                  1.0            0.0     0.0  \n",
      "IE5 0 PHS                    1.0            0.0     0.0  \n",
      "IE5 0 hydro                  1.0            0.0     0.0  \n",
      "IT1 0 PHS                    1.0            0.0     0.0  \n",
      "IT1 0 hydro                  1.0            0.0     0.0  \n",
      "IT3 0 PHS                    1.0            0.0     0.0  \n",
      "IT3 0 hydro                  1.0            0.0     0.0  \n",
      "LT6 0 PHS                    1.0            0.0     0.0  \n",
      "LU1 0 PHS                    1.0            0.0     0.0  \n",
      "ME1 0 PHS                    1.0            0.0     0.0  \n",
      "ME1 0 hydro                  1.0            0.0     0.0  \n",
      "NO2 0 PHS                    1.0            0.0     0.0  \n",
      "NO2 0 hydro                  1.0            0.0     0.0  \n",
      "PL1 0 PHS                    1.0            0.0     0.0  \n",
      "PL1 0 hydro                  1.0            0.0     0.0  \n",
      "PT1 0 PHS                    1.0            0.0     0.0  \n",
      "PT1 0 hydro                  1.0            0.0     0.0  \n",
      "RO1 0 hydro                  1.0            0.0     0.0  \n",
      "RS1 0 PHS                    1.0            0.0     0.0  \n",
      "RS1 0 hydro                  1.0            0.0     0.0  \n",
      "SE2 0 PHS                    1.0            0.0     0.0  \n",
      "SE2 0 hydro                  1.0            0.0     0.0  \n",
      "SI1 0 PHS                    1.0            0.0     0.0  \n",
      "SI1 0 hydro                  1.0            0.0     0.0  \n",
      "SK1 0 PHS                    1.0            0.0     0.0  \n",
      "SK1 0 hydro                  1.0            0.0     0.0  \n"
     ]
    }
   ],
   "source": [
    "pd.set_option('display.max_columns', None)\n",
    "\n",
    "print(n.storage_units)"
   ]
  },
  {
   "cell_type": "code",
   "execution_count": 5,
   "id": "0fddc183-7f5b-4b83-bd73-68d1a27ddc45",
   "metadata": {},
   "outputs": [
    {
     "data": {
      "text/html": [
       "<div>\n",
       "<style scoped>\n",
       "    .dataframe tbody tr th:only-of-type {\n",
       "        vertical-align: middle;\n",
       "    }\n",
       "\n",
       "    .dataframe tbody tr th {\n",
       "        vertical-align: top;\n",
       "    }\n",
       "\n",
       "    .dataframe thead th {\n",
       "        text-align: right;\n",
       "    }\n",
       "</style>\n",
       "<table border=\"1\" class=\"dataframe\">\n",
       "  <thead>\n",
       "    <tr style=\"text-align: right;\">\n",
       "      <th></th>\n",
       "      <th></th>\n",
       "      <th>Optimal Capacity</th>\n",
       "      <th>Installed Capacity</th>\n",
       "      <th>Capacity Factor</th>\n",
       "      <th>Dispatch</th>\n",
       "      <th>Transmission</th>\n",
       "      <th>Withdrawal</th>\n",
       "      <th>Supply</th>\n",
       "      <th>Curtailment</th>\n",
       "      <th>Capital Expenditure</th>\n",
       "      <th>Operational Expenditure</th>\n",
       "      <th>Revenue</th>\n",
       "      <th>Market Value</th>\n",
       "    </tr>\n",
       "  </thead>\n",
       "  <tbody>\n",
       "    <tr>\n",
       "      <th rowspan=\"16\" valign=\"top\">Generator</th>\n",
       "      <th>Combined-Cycle Gas</th>\n",
       "      <td>169023.489186</td>\n",
       "      <td>169023.489186</td>\n",
       "      <td>0.000000</td>\n",
       "      <td>0.000000e+00</td>\n",
       "      <td>0.000000e+00</td>\n",
       "      <td>0.000000e+00</td>\n",
       "      <td>0.000000e+00</td>\n",
       "      <td>0.000000e+00</td>\n",
       "      <td>1.692922e+10</td>\n",
       "      <td>0.000000e+00</td>\n",
       "      <td>0.000000e+00</td>\n",
       "      <td>0.000000</td>\n",
       "    </tr>\n",
       "    <tr>\n",
       "      <th>Offshore Wind (AC)</th>\n",
       "      <td>4751.233333</td>\n",
       "      <td>4751.233333</td>\n",
       "      <td>0.533052</td>\n",
       "      <td>2.218606e+07</td>\n",
       "      <td>0.000000e+00</td>\n",
       "      <td>0.000000e+00</td>\n",
       "      <td>2.218606e+07</td>\n",
       "      <td>3.885012e+05</td>\n",
       "      <td>8.967001e+08</td>\n",
       "      <td>5.473301e+05</td>\n",
       "      <td>5.933230e+08</td>\n",
       "      <td>26.743055</td>\n",
       "    </tr>\n",
       "    <tr>\n",
       "      <th>Offshore Wind (DC)</th>\n",
       "      <td>3627.533333</td>\n",
       "      <td>3627.533333</td>\n",
       "      <td>0.562494</td>\n",
       "      <td>1.787449e+07</td>\n",
       "      <td>0.000000e+00</td>\n",
       "      <td>0.000000e+00</td>\n",
       "      <td>1.787449e+07</td>\n",
       "      <td>6.154600e+05</td>\n",
       "      <td>7.682826e+08</td>\n",
       "      <td>4.421298e+05</td>\n",
       "      <td>4.867228e+08</td>\n",
       "      <td>27.230028</td>\n",
       "    </tr>\n",
       "    <tr>\n",
       "      <th>Offshore Wind (Floating)</th>\n",
       "      <td>4751.233333</td>\n",
       "      <td>4751.233333</td>\n",
       "      <td>0.427401</td>\n",
       "      <td>1.778877e+07</td>\n",
       "      <td>0.000000e+00</td>\n",
       "      <td>0.000000e+00</td>\n",
       "      <td>1.778877e+07</td>\n",
       "      <td>1.182040e+06</td>\n",
       "      <td>1.003674e+09</td>\n",
       "      <td>4.523524e+05</td>\n",
       "      <td>4.999306e+08</td>\n",
       "      <td>28.103719</td>\n",
       "    </tr>\n",
       "    <tr>\n",
       "      <th>Onshore Wind</th>\n",
       "      <td>115853.150278</td>\n",
       "      <td>89455.181147</td>\n",
       "      <td>0.324255</td>\n",
       "      <td>3.290777e+08</td>\n",
       "      <td>0.000000e+00</td>\n",
       "      <td>0.000000e+00</td>\n",
       "      <td>3.290777e+08</td>\n",
       "      <td>1.627988e+05</td>\n",
       "      <td>1.090514e+10</td>\n",
       "      <td>8.208654e+06</td>\n",
       "      <td>8.501120e+09</td>\n",
       "      <td>25.833171</td>\n",
       "    </tr>\n",
       "    <tr>\n",
       "      <th>Open-Cycle Gas</th>\n",
       "      <td>47.150000</td>\n",
       "      <td>47.150000</td>\n",
       "      <td>0.000000</td>\n",
       "      <td>0.000000e+00</td>\n",
       "      <td>0.000000e+00</td>\n",
       "      <td>0.000000e+00</td>\n",
       "      <td>0.000000e+00</td>\n",
       "      <td>0.000000e+00</td>\n",
       "      <td>2.133656e+06</td>\n",
       "      <td>0.000000e+00</td>\n",
       "      <td>0.000000e+00</td>\n",
       "      <td>0.000000</td>\n",
       "    </tr>\n",
       "    <tr>\n",
       "      <th>Run of River</th>\n",
       "      <td>51522.370043</td>\n",
       "      <td>51522.370043</td>\n",
       "      <td>0.372358</td>\n",
       "      <td>1.680584e+08</td>\n",
       "      <td>0.000000e+00</td>\n",
       "      <td>0.000000e+00</td>\n",
       "      <td>1.680584e+08</td>\n",
       "      <td>4.987680e+03</td>\n",
       "      <td>1.587767e+10</td>\n",
       "      <td>1.672696e+06</td>\n",
       "      <td>4.915198e+09</td>\n",
       "      <td>29.246967</td>\n",
       "    </tr>\n",
       "    <tr>\n",
       "      <th>SBSP</th>\n",
       "      <td>62682.132350</td>\n",
       "      <td>0.000000</td>\n",
       "      <td>0.999989</td>\n",
       "      <td>5.490893e+08</td>\n",
       "      <td>0.000000e+00</td>\n",
       "      <td>0.000000e+00</td>\n",
       "      <td>5.490893e+08</td>\n",
       "      <td>0.000000e+00</td>\n",
       "      <td>1.679066e+10</td>\n",
       "      <td>0.000000e+00</td>\n",
       "      <td>1.679066e+10</td>\n",
       "      <td>30.579105</td>\n",
       "    </tr>\n",
       "    <tr>\n",
       "      <th>Solar</th>\n",
       "      <td>214237.851514</td>\n",
       "      <td>67523.708588</td>\n",
       "      <td>0.153561</td>\n",
       "      <td>2.881917e+08</td>\n",
       "      <td>0.000000e+00</td>\n",
       "      <td>0.000000e+00</td>\n",
       "      <td>2.881917e+08</td>\n",
       "      <td>1.194433e+06</td>\n",
       "      <td>6.286980e+09</td>\n",
       "      <td>5.762534e+06</td>\n",
       "      <td>5.883651e+09</td>\n",
       "      <td>20.415756</td>\n",
       "    </tr>\n",
       "    <tr>\n",
       "      <th>biomass</th>\n",
       "      <td>17029.158976</td>\n",
       "      <td>17029.158976</td>\n",
       "      <td>0.343319</td>\n",
       "      <td>5.121477e+07</td>\n",
       "      <td>0.000000e+00</td>\n",
       "      <td>0.000000e+00</td>\n",
       "      <td>5.121477e+07</td>\n",
       "      <td>0.000000e+00</td>\n",
       "      <td>5.009996e+09</td>\n",
       "      <td>8.111689e+08</td>\n",
       "      <td>3.164518e+09</td>\n",
       "      <td>61.789167</td>\n",
       "    </tr>\n",
       "    <tr>\n",
       "      <th>coal</th>\n",
       "      <td>73416.104700</td>\n",
       "      <td>73416.104700</td>\n",
       "      <td>0.000000</td>\n",
       "      <td>0.000000e+00</td>\n",
       "      <td>0.000000e+00</td>\n",
       "      <td>0.000000e+00</td>\n",
       "      <td>0.000000e+00</td>\n",
       "      <td>0.000000e+00</td>\n",
       "      <td>2.475650e+10</td>\n",
       "      <td>0.000000e+00</td>\n",
       "      <td>0.000000e+00</td>\n",
       "      <td>0.000000</td>\n",
       "    </tr>\n",
       "    <tr>\n",
       "      <th>geothermal</th>\n",
       "      <td>98.000000</td>\n",
       "      <td>98.000000</td>\n",
       "      <td>0.000000</td>\n",
       "      <td>0.000000e+00</td>\n",
       "      <td>0.000000e+00</td>\n",
       "      <td>0.000000e+00</td>\n",
       "      <td>0.000000e+00</td>\n",
       "      <td>0.000000e+00</td>\n",
       "      <td>0.000000e+00</td>\n",
       "      <td>0.000000e+00</td>\n",
       "      <td>0.000000e+00</td>\n",
       "      <td>0.000000</td>\n",
       "    </tr>\n",
       "    <tr>\n",
       "      <th>lignite</th>\n",
       "      <td>39939.732918</td>\n",
       "      <td>39939.732918</td>\n",
       "      <td>0.000000</td>\n",
       "      <td>0.000000e+00</td>\n",
       "      <td>0.000000e+00</td>\n",
       "      <td>0.000000e+00</td>\n",
       "      <td>0.000000e+00</td>\n",
       "      <td>0.000000e+00</td>\n",
       "      <td>1.346800e+10</td>\n",
       "      <td>0.000000e+00</td>\n",
       "      <td>0.000000e+00</td>\n",
       "      <td>0.000000</td>\n",
       "    </tr>\n",
       "    <tr>\n",
       "      <th>nuclear</th>\n",
       "      <td>119412.100000</td>\n",
       "      <td>119412.100000</td>\n",
       "      <td>0.673691</td>\n",
       "      <td>7.047148e+08</td>\n",
       "      <td>0.000000e+00</td>\n",
       "      <td>0.000000e+00</td>\n",
       "      <td>7.047148e+08</td>\n",
       "      <td>0.000000e+00</td>\n",
       "      <td>9.001096e+10</td>\n",
       "      <td>9.875290e+09</td>\n",
       "      <td>2.153359e+10</td>\n",
       "      <td>30.556465</td>\n",
       "    </tr>\n",
       "    <tr>\n",
       "      <th>oil</th>\n",
       "      <td>4686.760390</td>\n",
       "      <td>4686.760390</td>\n",
       "      <td>0.000000</td>\n",
       "      <td>0.000000e+00</td>\n",
       "      <td>0.000000e+00</td>\n",
       "      <td>0.000000e+00</td>\n",
       "      <td>0.000000e+00</td>\n",
       "      <td>0.000000e+00</td>\n",
       "      <td>1.831505e+08</td>\n",
       "      <td>0.000000e+00</td>\n",
       "      <td>0.000000e+00</td>\n",
       "      <td>0.000000</td>\n",
       "    </tr>\n",
       "    <tr>\n",
       "      <th>solar-hsat</th>\n",
       "      <td>141869.098098</td>\n",
       "      <td>0.000000</td>\n",
       "      <td>0.208492</td>\n",
       "      <td>2.591078e+08</td>\n",
       "      <td>0.000000e+00</td>\n",
       "      <td>0.000000e+00</td>\n",
       "      <td>2.591078e+08</td>\n",
       "      <td>2.828324e+04</td>\n",
       "      <td>5.028079e+09</td>\n",
       "      <td>5.178469e+06</td>\n",
       "      <td>5.033257e+09</td>\n",
       "      <td>19.425336</td>\n",
       "    </tr>\n",
       "    <tr>\n",
       "      <th>Line</th>\n",
       "      <th>AC</th>\n",
       "      <td>276119.666826</td>\n",
       "      <td>273550.924678</td>\n",
       "      <td>0.327337</td>\n",
       "      <td>0.000000e+00</td>\n",
       "      <td>7.955217e+07</td>\n",
       "      <td>7.917650e+08</td>\n",
       "      <td>7.917650e+08</td>\n",
       "      <td>0.000000e+00</td>\n",
       "      <td>5.776271e+09</td>\n",
       "      <td>0.000000e+00</td>\n",
       "      <td>1.566362e+09</td>\n",
       "      <td>1.978317</td>\n",
       "    </tr>\n",
       "    <tr>\n",
       "      <th>Link</th>\n",
       "      <th>DC</th>\n",
       "      <td>30306.984334</td>\n",
       "      <td>20491.000000</td>\n",
       "      <td>0.841329</td>\n",
       "      <td>0.000000e+00</td>\n",
       "      <td>-9.999652e+06</td>\n",
       "      <td>2.233637e+08</td>\n",
       "      <td>2.233637e+08</td>\n",
       "      <td>0.000000e+00</td>\n",
       "      <td>1.654752e+09</td>\n",
       "      <td>-8.782293e+04</td>\n",
       "      <td>1.129996e+09</td>\n",
       "      <td>5.058995</td>\n",
       "    </tr>\n",
       "    <tr>\n",
       "      <th rowspan=\"2\" valign=\"top\">StorageUnit</th>\n",
       "      <th>Pumped Hydro Storage</th>\n",
       "      <td>54837.473000</td>\n",
       "      <td>54837.473000</td>\n",
       "      <td>0.098764</td>\n",
       "      <td>-6.777697e+06</td>\n",
       "      <td>0.000000e+00</td>\n",
       "      <td>2.711079e+07</td>\n",
       "      <td>2.033309e+07</td>\n",
       "      <td>0.000000e+00</td>\n",
       "      <td>1.001874e+10</td>\n",
       "      <td>1.977836e+05</td>\n",
       "      <td>2.690010e+09</td>\n",
       "      <td>132.297156</td>\n",
       "    </tr>\n",
       "    <tr>\n",
       "      <th>Reservoir &amp; Dam</th>\n",
       "      <td>99387.650991</td>\n",
       "      <td>99387.650991</td>\n",
       "      <td>0.388268</td>\n",
       "      <td>3.380402e+08</td>\n",
       "      <td>0.000000e+00</td>\n",
       "      <td>0.000000e+00</td>\n",
       "      <td>3.380402e+08</td>\n",
       "      <td>0.000000e+00</td>\n",
       "      <td>1.815800e+10</td>\n",
       "      <td>3.427485e+06</td>\n",
       "      <td>1.599542e+10</td>\n",
       "      <td>47.318112</td>\n",
       "    </tr>\n",
       "  </tbody>\n",
       "</table>\n",
       "</div>"
      ],
      "text/plain": [
       "                                      Optimal Capacity  Installed Capacity  \\\n",
       "Generator   Combined-Cycle Gas           169023.489186       169023.489186   \n",
       "            Offshore Wind (AC)             4751.233333         4751.233333   \n",
       "            Offshore Wind (DC)             3627.533333         3627.533333   \n",
       "            Offshore Wind (Floating)       4751.233333         4751.233333   \n",
       "            Onshore Wind                 115853.150278        89455.181147   \n",
       "            Open-Cycle Gas                   47.150000           47.150000   \n",
       "            Run of River                  51522.370043        51522.370043   \n",
       "            SBSP                          62682.132350            0.000000   \n",
       "            Solar                        214237.851514        67523.708588   \n",
       "            biomass                       17029.158976        17029.158976   \n",
       "            coal                          73416.104700        73416.104700   \n",
       "            geothermal                       98.000000           98.000000   \n",
       "            lignite                       39939.732918        39939.732918   \n",
       "            nuclear                      119412.100000       119412.100000   \n",
       "            oil                            4686.760390         4686.760390   \n",
       "            solar-hsat                   141869.098098            0.000000   \n",
       "Line        AC                           276119.666826       273550.924678   \n",
       "Link        DC                            30306.984334        20491.000000   \n",
       "StorageUnit Pumped Hydro Storage          54837.473000        54837.473000   \n",
       "            Reservoir & Dam               99387.650991        99387.650991   \n",
       "\n",
       "                                      Capacity Factor      Dispatch  \\\n",
       "Generator   Combined-Cycle Gas               0.000000  0.000000e+00   \n",
       "            Offshore Wind (AC)               0.533052  2.218606e+07   \n",
       "            Offshore Wind (DC)               0.562494  1.787449e+07   \n",
       "            Offshore Wind (Floating)         0.427401  1.778877e+07   \n",
       "            Onshore Wind                     0.324255  3.290777e+08   \n",
       "            Open-Cycle Gas                   0.000000  0.000000e+00   \n",
       "            Run of River                     0.372358  1.680584e+08   \n",
       "            SBSP                             0.999989  5.490893e+08   \n",
       "            Solar                            0.153561  2.881917e+08   \n",
       "            biomass                          0.343319  5.121477e+07   \n",
       "            coal                             0.000000  0.000000e+00   \n",
       "            geothermal                       0.000000  0.000000e+00   \n",
       "            lignite                          0.000000  0.000000e+00   \n",
       "            nuclear                          0.673691  7.047148e+08   \n",
       "            oil                              0.000000  0.000000e+00   \n",
       "            solar-hsat                       0.208492  2.591078e+08   \n",
       "Line        AC                               0.327337  0.000000e+00   \n",
       "Link        DC                               0.841329  0.000000e+00   \n",
       "StorageUnit Pumped Hydro Storage             0.098764 -6.777697e+06   \n",
       "            Reservoir & Dam                  0.388268  3.380402e+08   \n",
       "\n",
       "                                      Transmission    Withdrawal  \\\n",
       "Generator   Combined-Cycle Gas        0.000000e+00  0.000000e+00   \n",
       "            Offshore Wind (AC)        0.000000e+00  0.000000e+00   \n",
       "            Offshore Wind (DC)        0.000000e+00  0.000000e+00   \n",
       "            Offshore Wind (Floating)  0.000000e+00  0.000000e+00   \n",
       "            Onshore Wind              0.000000e+00  0.000000e+00   \n",
       "            Open-Cycle Gas            0.000000e+00  0.000000e+00   \n",
       "            Run of River              0.000000e+00  0.000000e+00   \n",
       "            SBSP                      0.000000e+00  0.000000e+00   \n",
       "            Solar                     0.000000e+00  0.000000e+00   \n",
       "            biomass                   0.000000e+00  0.000000e+00   \n",
       "            coal                      0.000000e+00  0.000000e+00   \n",
       "            geothermal                0.000000e+00  0.000000e+00   \n",
       "            lignite                   0.000000e+00  0.000000e+00   \n",
       "            nuclear                   0.000000e+00  0.000000e+00   \n",
       "            oil                       0.000000e+00  0.000000e+00   \n",
       "            solar-hsat                0.000000e+00  0.000000e+00   \n",
       "Line        AC                        7.955217e+07  7.917650e+08   \n",
       "Link        DC                       -9.999652e+06  2.233637e+08   \n",
       "StorageUnit Pumped Hydro Storage      0.000000e+00  2.711079e+07   \n",
       "            Reservoir & Dam           0.000000e+00  0.000000e+00   \n",
       "\n",
       "                                            Supply   Curtailment  \\\n",
       "Generator   Combined-Cycle Gas        0.000000e+00  0.000000e+00   \n",
       "            Offshore Wind (AC)        2.218606e+07  3.885012e+05   \n",
       "            Offshore Wind (DC)        1.787449e+07  6.154600e+05   \n",
       "            Offshore Wind (Floating)  1.778877e+07  1.182040e+06   \n",
       "            Onshore Wind              3.290777e+08  1.627988e+05   \n",
       "            Open-Cycle Gas            0.000000e+00  0.000000e+00   \n",
       "            Run of River              1.680584e+08  4.987680e+03   \n",
       "            SBSP                      5.490893e+08  0.000000e+00   \n",
       "            Solar                     2.881917e+08  1.194433e+06   \n",
       "            biomass                   5.121477e+07  0.000000e+00   \n",
       "            coal                      0.000000e+00  0.000000e+00   \n",
       "            geothermal                0.000000e+00  0.000000e+00   \n",
       "            lignite                   0.000000e+00  0.000000e+00   \n",
       "            nuclear                   7.047148e+08  0.000000e+00   \n",
       "            oil                       0.000000e+00  0.000000e+00   \n",
       "            solar-hsat                2.591078e+08  2.828324e+04   \n",
       "Line        AC                        7.917650e+08  0.000000e+00   \n",
       "Link        DC                        2.233637e+08  0.000000e+00   \n",
       "StorageUnit Pumped Hydro Storage      2.033309e+07  0.000000e+00   \n",
       "            Reservoir & Dam           3.380402e+08  0.000000e+00   \n",
       "\n",
       "                                      Capital Expenditure  \\\n",
       "Generator   Combined-Cycle Gas               1.692922e+10   \n",
       "            Offshore Wind (AC)               8.967001e+08   \n",
       "            Offshore Wind (DC)               7.682826e+08   \n",
       "            Offshore Wind (Floating)         1.003674e+09   \n",
       "            Onshore Wind                     1.090514e+10   \n",
       "            Open-Cycle Gas                   2.133656e+06   \n",
       "            Run of River                     1.587767e+10   \n",
       "            SBSP                             1.679066e+10   \n",
       "            Solar                            6.286980e+09   \n",
       "            biomass                          5.009996e+09   \n",
       "            coal                             2.475650e+10   \n",
       "            geothermal                       0.000000e+00   \n",
       "            lignite                          1.346800e+10   \n",
       "            nuclear                          9.001096e+10   \n",
       "            oil                              1.831505e+08   \n",
       "            solar-hsat                       5.028079e+09   \n",
       "Line        AC                               5.776271e+09   \n",
       "Link        DC                               1.654752e+09   \n",
       "StorageUnit Pumped Hydro Storage             1.001874e+10   \n",
       "            Reservoir & Dam                  1.815800e+10   \n",
       "\n",
       "                                      Operational Expenditure       Revenue  \\\n",
       "Generator   Combined-Cycle Gas                   0.000000e+00  0.000000e+00   \n",
       "            Offshore Wind (AC)                   5.473301e+05  5.933230e+08   \n",
       "            Offshore Wind (DC)                   4.421298e+05  4.867228e+08   \n",
       "            Offshore Wind (Floating)             4.523524e+05  4.999306e+08   \n",
       "            Onshore Wind                         8.208654e+06  8.501120e+09   \n",
       "            Open-Cycle Gas                       0.000000e+00  0.000000e+00   \n",
       "            Run of River                         1.672696e+06  4.915198e+09   \n",
       "            SBSP                                 0.000000e+00  1.679066e+10   \n",
       "            Solar                                5.762534e+06  5.883651e+09   \n",
       "            biomass                              8.111689e+08  3.164518e+09   \n",
       "            coal                                 0.000000e+00  0.000000e+00   \n",
       "            geothermal                           0.000000e+00  0.000000e+00   \n",
       "            lignite                              0.000000e+00  0.000000e+00   \n",
       "            nuclear                              9.875290e+09  2.153359e+10   \n",
       "            oil                                  0.000000e+00  0.000000e+00   \n",
       "            solar-hsat                           5.178469e+06  5.033257e+09   \n",
       "Line        AC                                   0.000000e+00  1.566362e+09   \n",
       "Link        DC                                  -8.782293e+04  1.129996e+09   \n",
       "StorageUnit Pumped Hydro Storage                 1.977836e+05  2.690010e+09   \n",
       "            Reservoir & Dam                      3.427485e+06  1.599542e+10   \n",
       "\n",
       "                                      Market Value  \n",
       "Generator   Combined-Cycle Gas            0.000000  \n",
       "            Offshore Wind (AC)           26.743055  \n",
       "            Offshore Wind (DC)           27.230028  \n",
       "            Offshore Wind (Floating)     28.103719  \n",
       "            Onshore Wind                 25.833171  \n",
       "            Open-Cycle Gas                0.000000  \n",
       "            Run of River                 29.246967  \n",
       "            SBSP                         30.579105  \n",
       "            Solar                        20.415756  \n",
       "            biomass                      61.789167  \n",
       "            coal                          0.000000  \n",
       "            geothermal                    0.000000  \n",
       "            lignite                       0.000000  \n",
       "            nuclear                      30.556465  \n",
       "            oil                           0.000000  \n",
       "            solar-hsat                   19.425336  \n",
       "Line        AC                            1.978317  \n",
       "Link        DC                            5.058995  \n",
       "StorageUnit Pumped Hydro Storage        132.297156  \n",
       "            Reservoir & Dam              47.318112  "
      ]
     },
     "execution_count": 5,
     "metadata": {},
     "output_type": "execute_result"
    }
   ],
   "source": [
    "n.statistics().dropna()"
   ]
  },
  {
   "cell_type": "code",
   "execution_count": 7,
   "id": "e7304f1b-a97b-4cdd-af6c-3da851463f65",
   "metadata": {},
   "outputs": [
    {
     "name": "stdout",
     "output_type": "stream",
     "text": [
      "offwind-ac       8.409366e+05\n",
      "offwind-float    6.813108e+05\n",
      "oil              0.000000e+00\n",
      "onwind           1.168251e+07\n",
      "ror              0.000000e+00\n",
      "solar            9.225396e+06\n",
      "solar-hsat       0.000000e+00\n",
      "CCGT             0.000000e+00\n",
      "lignite          0.000000e+00\n",
      "offwind-dc       5.958419e+05\n",
      "coal             0.000000e+00\n",
      "nuclear          1.366385e+06\n",
      "biomass          3.361873e+05\n",
      "OCGT             0.000000e+00\n",
      "SBSP             7.434222e+07\n",
      "dtype: float64\n"
     ]
    }
   ],
   "source": [
    "import pandas as pd\n",
    "generation_data = n.generators_t.p\n",
    "\n",
    "carrier_generation = pd.Series(0.0, index=n.generators.carrier.unique())\n",
    "\n",
    "for gen_id, generator in n.generators.iterrows():\n",
    "    carrier = generator['carrier']\n",
    "    carrier_generation[carrier] += generation_data[gen_id].sum()\n",
    "\n",
    "print(carrier_generation)"
   ]
  },
  {
   "cell_type": "code",
   "execution_count": 8,
   "id": "46e6e954-cea1-46eb-b585-73f9bbf571d3",
   "metadata": {},
   "outputs": [
    {
     "name": "stdout",
     "output_type": "stream",
     "text": [
      "Buses with active SBSP generators:\n",
      "['AL1 0' 'AT1 0' 'BA1 0' 'BE1 0' 'BG1 0' 'CH1 0' 'CZ1 0' 'DE1 0' 'ES1 0'\n",
      " 'FI2 0' 'FR1 0' 'GB0 0' 'GR1 0' 'HU1 0' 'IE5 0' 'IT1 0' 'LT6 0' 'LU1 0'\n",
      " 'NL1 0' 'NO2 0' 'PL1 0' 'PT1 0' 'RO1 0' 'RS1 0' 'SE2 0' 'SI1 0' 'SK1 0']\n"
     ]
    }
   ],
   "source": [
    "SBSP_generators = n.generators[n.generators['carrier'] == 'SBSP']\n",
    "\n",
    "SBSP_generation = n.generators_t.p[SBSP_generators.index]\n",
    "\n",
    "active_SBSP_generators = SBSP_generation.loc[:, (SBSP_generation != 0).any(axis=0)]\n",
    "\n",
    "active_SBSP_buses = SBSP_generators.loc[active_SBSP_generators.columns, 'bus'].unique()\n",
    "\n",
    "print(\"Buses with active SBSP generators:\")\n",
    "print(active_SBSP_buses)"
   ]
  },
  {
   "cell_type": "code",
   "execution_count": 9,
   "id": "4a6fcae2-d7e3-416c-84b3-bfd2ce3a3239",
   "metadata": {},
   "outputs": [
    {
     "name": "stdout",
     "output_type": "stream",
     "text": [
      "Total p_nom_opt for all SBSP generators: 203140.05641142995\n"
     ]
    }
   ],
   "source": [
    "sbsp_generators = n.generators[n.generators['carrier'] == 'SBSP']\n",
    "\n",
    "total_p_nom_opt_sbsp = sbsp_generators['p_nom_opt'].sum()\n",
    "\n",
    "print(\"Total p_nom_opt for all SBSP generators:\", total_p_nom_opt_sbsp)"
   ]
  },
  {
   "cell_type": "code",
   "execution_count": 10,
   "id": "da2cbb6c-9f42-4596-bc9f-673499b0e4cf",
   "metadata": {},
   "outputs": [
    {
     "name": "stdout",
     "output_type": "stream",
     "text": [
      "Generator\n",
      "SBSP Generator at AL1 0      429.439835\n",
      "SBSP Generator at AT1 0     6393.715541\n",
      "SBSP Generator at BA1 0     2470.738360\n",
      "SBSP Generator at BE1 0    10855.296878\n",
      "SBSP Generator at BG1 0     1529.089408\n",
      "SBSP Generator at CH1 0     2013.680498\n",
      "SBSP Generator at CZ1 0     5101.435540\n",
      "SBSP Generator at DE1 0    22850.849457\n",
      "SBSP Generator at DK1 0        0.000000\n",
      "SBSP Generator at DK2 0        0.000000\n",
      "SBSP Generator at EE6 0        0.000000\n",
      "SBSP Generator at ES1 0    14502.860431\n",
      "SBSP Generator at ES4 0        0.000000\n",
      "SBSP Generator at FI2 0     9024.097340\n",
      "SBSP Generator at FR1 0    36335.082944\n",
      "SBSP Generator at GB0 0    15396.336771\n",
      "SBSP Generator at GB5 0        0.000000\n",
      "SBSP Generator at GR1 0      142.429618\n",
      "SBSP Generator at HR1 0        0.000000\n",
      "SBSP Generator at HU1 0     3711.237531\n",
      "SBSP Generator at IE5 0     3392.939685\n",
      "SBSP Generator at IT1 0    19032.354555\n",
      "SBSP Generator at IT3 0        0.000000\n",
      "SBSP Generator at LT6 0     1812.238350\n",
      "SBSP Generator at LU1 0     1154.247185\n",
      "SBSP Generator at LV6 0        0.000000\n",
      "SBSP Generator at ME1 0        0.000000\n",
      "SBSP Generator at MK1 0        0.000000\n",
      "SBSP Generator at NL1 0    14042.267949\n",
      "SBSP Generator at NO2 0     2992.534227\n",
      "SBSP Generator at PL1 0    15064.144753\n",
      "SBSP Generator at PT1 0     3273.008353\n",
      "SBSP Generator at RO1 0     5377.065410\n",
      "SBSP Generator at RS1 0      859.750478\n",
      "SBSP Generator at SE2 0     2483.161832\n",
      "SBSP Generator at SI1 0      703.457668\n",
      "SBSP Generator at SK1 0     2196.595813\n",
      "Name: p_nom_opt, dtype: float64\n"
     ]
    }
   ],
   "source": [
    "import pandas as pd\n",
    "\n",
    "sbsp_generators = n.generators[n.generators['carrier'] == 'SBSP']\n",
    "\n",
    "sbsp_p_nom_opt = sbsp_generators['p_nom_opt']\n",
    "\n",
    "print(sbsp_p_nom_opt)"
   ]
  },
  {
   "cell_type": "code",
   "execution_count": 11,
   "id": "f4ffb8f8-6082-48ec-a276-aad67759390c",
   "metadata": {},
   "outputs": [],
   "source": [
    "sbsp_generators = n.generators[n.generators['carrier'] == 'SBSP']\n",
    "\n",
    "n.generators.loc[sbsp_generators.index, 'capital_cost'] = 100000  \n",
    "\n",
    "snapshots_to_optimize = n.snapshots[:8784]\n",
    "n.optimize(snapshots=snapshots_to_optimize, solver_name='gurobi')"
   ]
  },
  {
   "cell_type": "code",
   "execution_count": 14,
   "id": "822797ca-acec-4483-a189-87963fb878a6",
   "metadata": {},
   "outputs": [
    {
     "name": "stdout",
     "output_type": "stream",
     "text": [
      "offwind-ac       3.245344e+05\n",
      "offwind-float    2.266948e+05\n",
      "oil              0.000000e+00\n",
      "onwind           3.156805e+06\n",
      "ror              0.000000e+00\n",
      "solar            7.896561e+05\n",
      "solar-hsat       0.000000e+00\n",
      "CCGT             0.000000e+00\n",
      "lignite          0.000000e+00\n",
      "offwind-dc       1.285147e+05\n",
      "coal             0.000000e+00\n",
      "nuclear          9.186225e+05\n",
      "biomass          1.547583e+05\n",
      "OCGT             0.000000e+00\n",
      "SBSP             1.087807e+08\n",
      "dtype: float64\n",
      "Buses with active SBSP generators:\n",
      "['AL1 0' 'AT1 0' 'BA1 0' 'BE1 0' 'BG1 0' 'CH1 0' 'CZ1 0' 'DE1 0' 'DK2 0'\n",
      " 'ES1 0' 'ES4 0' 'FI2 0' 'FR1 0' 'GB0 0' 'GB5 0' 'GR1 0' 'HR1 0' 'HU1 0'\n",
      " 'IE5 0' 'IT1 0' 'IT3 0' 'LT6 0' 'LU1 0' 'ME1 0' 'MK1 0' 'NL1 0' 'NO2 0'\n",
      " 'PL1 0' 'PT1 0' 'RO1 0' 'RS1 0' 'SE2 0' 'SI1 0' 'SK1 0']\n",
      "Total p_nom_opt for all SBSP generators: 321297.55838895007\n",
      "Generator\n",
      "SBSP Generator at AL1 0     2249.516644\n",
      "SBSP Generator at AT1 0    10554.429712\n",
      "SBSP Generator at BA1 0     2110.307345\n",
      "SBSP Generator at BE1 0    17155.812699\n",
      "SBSP Generator at BG1 0     2722.417064\n",
      "SBSP Generator at CH1 0    13224.750563\n",
      "SBSP Generator at CZ1 0     6694.399358\n",
      "SBSP Generator at DE1 0    29362.462902\n",
      "SBSP Generator at DK1 0        0.000000\n",
      "SBSP Generator at DK2 0      317.235223\n",
      "SBSP Generator at EE6 0        0.000000\n",
      "SBSP Generator at ES1 0    22294.412833\n",
      "SBSP Generator at ES4 0      634.591417\n",
      "SBSP Generator at FI2 0    12207.283819\n",
      "SBSP Generator at FR1 0    38921.493337\n",
      "SBSP Generator at GB0 0    15583.314027\n",
      "SBSP Generator at GB5 0     2684.114188\n",
      "SBSP Generator at GR1 0     4688.020834\n",
      "SBSP Generator at HR1 0     1546.123517\n",
      "SBSP Generator at HU1 0     4755.970217\n",
      "SBSP Generator at IE5 0     4509.064373\n",
      "SBSP Generator at IT1 0    22444.273842\n",
      "SBSP Generator at IT3 0     2229.684763\n",
      "SBSP Generator at LT6 0     1920.774913\n",
      "SBSP Generator at LU1 0     2556.371605\n",
      "SBSP Generator at LV6 0        0.000000\n",
      "SBSP Generator at ME1 0     2356.014770\n",
      "SBSP Generator at MK1 0     2978.345719\n",
      "SBSP Generator at NL1 0    20407.953498\n",
      "SBSP Generator at NO2 0    22052.476363\n",
      "SBSP Generator at PL1 0    16416.477029\n",
      "SBSP Generator at PT1 0    15142.731848\n",
      "SBSP Generator at RO1 0     1836.955978\n",
      "SBSP Generator at RS1 0     3120.232982\n",
      "SBSP Generator at SE2 0    10327.316761\n",
      "SBSP Generator at SI1 0     2140.193563\n",
      "SBSP Generator at SK1 0     3152.034682\n",
      "Name: p_nom_opt, dtype: float64\n"
     ]
    }
   ],
   "source": [
    "generation_data = n.generators_t.p\n",
    "\n",
    "carrier_generation = pd.Series(0.0, index=n.generators.carrier.unique())\n",
    "\n",
    "for gen_id, generator in n.generators.iterrows():\n",
    "    carrier = generator['carrier']\n",
    "    carrier_generation[carrier] += generation_data[gen_id].sum()\n",
    "\n",
    "print(carrier_generation)\n",
    "\n",
    "\n",
    "\n",
    "SBSP_generators = n.generators[n.generators['carrier'] == 'SBSP']\n",
    "\n",
    "SBSP_generation = n.generators_t.p[SBSP_generators.index]\n",
    "\n",
    "active_SBSP_generators = SBSP_generation.loc[:, (SBSP_generation != 0).any(axis=0)]\n",
    "\n",
    "active_SBSP_buses = SBSP_generators.loc[active_SBSP_generators.columns, 'bus'].unique()\n",
    "\n",
    "print(\"Buses with active SBSP generators:\")\n",
    "print(active_SBSP_buses)\n",
    "\n",
    "\n",
    "\n",
    "sbsp_generators = n.generators[n.generators['carrier'] == 'SBSP']\n",
    "\n",
    "total_p_nom_opt_sbsp = sbsp_generators['p_nom_opt'].sum()\n",
    "\n",
    "print(\"Total p_nom_opt for all SBSP generators:\", total_p_nom_opt_sbsp)\n",
    "\n",
    "\n",
    "\n",
    "sbsp_generators = n.generators[n.generators['carrier'] == 'SBSP']\n",
    "\n",
    "sbsp_p_nom_opt = sbsp_generators['p_nom_opt']\n",
    "\n",
    "print(sbsp_p_nom_opt)"
   ]
  },
  {
   "cell_type": "code",
   "execution_count": null,
   "id": "d5cf9dca-ee55-43b8-899e-6f05e3c1740b",
   "metadata": {},
   "outputs": [],
   "source": [
    "sbsp_generators = n.generators[n.generators['carrier'] == 'SBSP']\n",
    "\n",
    "n.generators.loc[sbsp_generators.index, 'capital_cost'] = 150000 \n",
    "snapshots_to_optimize = n.snapshots[:8784]\n",
    "n.optimize(snapshots=snapshots_to_optimize, solver_name='gurobi')"
   ]
  },
  {
   "cell_type": "code",
   "execution_count": 14,
   "id": "142b52d7-f652-41a0-bc91-efce8aa981cf",
   "metadata": {},
   "outputs": [
    {
     "name": "stdout",
     "output_type": "stream",
     "text": [
      "offwind-ac       3.245344e+05\n",
      "offwind-float    2.266948e+05\n",
      "oil              0.000000e+00\n",
      "onwind           3.156805e+06\n",
      "ror              0.000000e+00\n",
      "solar            7.896561e+05\n",
      "solar-hsat       0.000000e+00\n",
      "CCGT             0.000000e+00\n",
      "lignite          0.000000e+00\n",
      "offwind-dc       1.285147e+05\n",
      "coal             0.000000e+00\n",
      "nuclear          9.186225e+05\n",
      "biomass          1.547583e+05\n",
      "OCGT             0.000000e+00\n",
      "SBSP             1.087807e+08\n",
      "dtype: float64\n",
      "Buses with active SBSP generators:\n",
      "['AL1 0' 'AT1 0' 'BA1 0' 'BE1 0' 'BG1 0' 'CH1 0' 'CZ1 0' 'DE1 0' 'DK2 0'\n",
      " 'ES1 0' 'ES4 0' 'FI2 0' 'FR1 0' 'GB0 0' 'GB5 0' 'GR1 0' 'HR1 0' 'HU1 0'\n",
      " 'IE5 0' 'IT1 0' 'IT3 0' 'LT6 0' 'LU1 0' 'ME1 0' 'MK1 0' 'NL1 0' 'NO2 0'\n",
      " 'PL1 0' 'PT1 0' 'RO1 0' 'RS1 0' 'SE2 0' 'SI1 0' 'SK1 0']\n",
      "Total p_nom_opt for all SBSP generators: 321297.55838895007\n",
      "Generator\n",
      "SBSP Generator at AL1 0     2249.516644\n",
      "SBSP Generator at AT1 0    10554.429712\n",
      "SBSP Generator at BA1 0     2110.307345\n",
      "SBSP Generator at BE1 0    17155.812699\n",
      "SBSP Generator at BG1 0     2722.417064\n",
      "SBSP Generator at CH1 0    13224.750563\n",
      "SBSP Generator at CZ1 0     6694.399358\n",
      "SBSP Generator at DE1 0    29362.462902\n",
      "SBSP Generator at DK1 0        0.000000\n",
      "SBSP Generator at DK2 0      317.235223\n",
      "SBSP Generator at EE6 0        0.000000\n",
      "SBSP Generator at ES1 0    22294.412833\n",
      "SBSP Generator at ES4 0      634.591417\n",
      "SBSP Generator at FI2 0    12207.283819\n",
      "SBSP Generator at FR1 0    38921.493337\n",
      "SBSP Generator at GB0 0    15583.314027\n",
      "SBSP Generator at GB5 0     2684.114188\n",
      "SBSP Generator at GR1 0     4688.020834\n",
      "SBSP Generator at HR1 0     1546.123517\n",
      "SBSP Generator at HU1 0     4755.970217\n",
      "SBSP Generator at IE5 0     4509.064373\n",
      "SBSP Generator at IT1 0    22444.273842\n",
      "SBSP Generator at IT3 0     2229.684763\n",
      "SBSP Generator at LT6 0     1920.774913\n",
      "SBSP Generator at LU1 0     2556.371605\n",
      "SBSP Generator at LV6 0        0.000000\n",
      "SBSP Generator at ME1 0     2356.014770\n",
      "SBSP Generator at MK1 0     2978.345719\n",
      "SBSP Generator at NL1 0    20407.953498\n",
      "SBSP Generator at NO2 0    22052.476363\n",
      "SBSP Generator at PL1 0    16416.477029\n",
      "SBSP Generator at PT1 0    15142.731848\n",
      "SBSP Generator at RO1 0     1836.955978\n",
      "SBSP Generator at RS1 0     3120.232982\n",
      "SBSP Generator at SE2 0    10327.316761\n",
      "SBSP Generator at SI1 0     2140.193563\n",
      "SBSP Generator at SK1 0     3152.034682\n",
      "Name: p_nom_opt, dtype: float64\n"
     ]
    }
   ],
   "source": [
    "generation_data = n.generators_t.p\n",
    "\n",
    "carrier_generation = pd.Series(0.0, index=n.generators.carrier.unique())\n",
    "\n",
    "for gen_id, generator in n.generators.iterrows():\n",
    "    carrier = generator['carrier']\n",
    "    carrier_generation[carrier] += generation_data[gen_id].sum()\n",
    "\n",
    "print(carrier_generation)\n",
    "\n",
    "\n",
    "\n",
    "SBSP_generators = n.generators[n.generators['carrier'] == 'SBSP']\n",
    "\n",
    "SBSP_generation = n.generators_t.p[SBSP_generators.index]\n",
    "\n",
    "active_SBSP_generators = SBSP_generation.loc[:, (SBSP_generation != 0).any(axis=0)]\n",
    "\n",
    "active_SBSP_buses = SBSP_generators.loc[active_SBSP_generators.columns, 'bus'].unique()\n",
    "\n",
    "print(\"Buses with active SBSP generators:\")\n",
    "print(active_SBSP_buses)\n",
    "\n",
    "\n",
    "\n",
    "sbsp_generators = n.generators[n.generators['carrier'] == 'SBSP']\n",
    "\n",
    "total_p_nom_opt_sbsp = sbsp_generators['p_nom_opt'].sum()\n",
    "\n",
    "print(\"Total p_nom_opt for all SBSP generators:\", total_p_nom_opt_sbsp)\n",
    "\n",
    "\n",
    "import pandas as pd\n",
    "\n",
    "sbsp_generators = n.generators[n.generators['carrier'] == 'SBSP']\n",
    "\n",
    "sbsp_p_nom_opt = sbsp_generators['p_nom_opt']\n",
    "print(sbsp_p_nom_opt)"
   ]
  },
  {
   "cell_type": "code",
   "execution_count": null,
   "id": "dd12b4ad-713e-4635-9eef-2b3a05e6946c",
   "metadata": {},
   "outputs": [],
   "source": [
    "sbsp_generators = n.generators[n.generators['carrier'] == 'SBSP']\n",
    "\n",
    "n.generators.loc[sbsp_generators.index, 'capital_cost'] = 200000 \n",
    "\n",
    "snapshots_to_optimize = n.snapshots[:8784]\n",
    "n.optimize(snapshots=snapshots_to_optimize, solver_name='gurobi')"
   ]
  },
  {
   "cell_type": "code",
   "execution_count": null,
   "id": "516b35b4-58d4-4da8-bc9a-015944cb11fa",
   "metadata": {},
   "outputs": [],
   "source": [
    "generation_data = n.generators_t.p\n",
    "\n",
    "carrier_generation = pd.Series(0.0, index=n.generators.carrier.unique())\n",
    "\n",
    "for gen_id, generator in n.generators.iterrows():\n",
    "    carrier = generator['carrier']\n",
    "    carrier_generation[carrier] += generation_data[gen_id].sum()\n",
    "\n",
    "print(carrier_generation)\n",
    "\n",
    "\n",
    "\n",
    "SBSP_generators = n.generators[n.generators['carrier'] == 'SBSP']\n",
    "\n",
    "SBSP_generation = n.generators_t.p[SBSP_generators.index]\n",
    "\n",
    "active_SBSP_generators = SBSP_generation.loc[:, (SBSP_generation != 0).any(axis=0)]\n",
    "\n",
    "active_SBSP_buses = SBSP_generators.loc[active_SBSP_generators.columns, 'bus'].unique()\n",
    "\n",
    "print(\"Buses with active SBSP generators:\")\n",
    "print(active_SBSP_buses)\n",
    "\n",
    "\n",
    "\n",
    "sbsp_generators = n.generators[n.generators['carrier'] == 'SBSP']\n",
    "\n",
    "total_p_nom_opt_sbsp = sbsp_generators['p_nom_opt'].sum()\n",
    "\n",
    "print(\"Total p_nom_opt for all SBSP generators:\", total_p_nom_opt_sbsp)\n",
    "\n",
    "\n",
    "\n",
    "sbsp_generators = n.generators[n.generators['carrier'] == 'SBSP']\n",
    "\n",
    "sbsp_p_nom_opt = sbsp_generators['p_nom_opt']\n",
    "\n",
    "print(sbsp_p_nom_opt)"
   ]
  },
  {
   "cell_type": "code",
   "execution_count": null,
   "id": "2229f9be-8e1e-41b0-844b-7bec7bb12c56",
   "metadata": {},
   "outputs": [],
   "source": [
    "sbsp_generators = n.generators[n.generators['carrier'] == 'SBSP']\n",
    "\n",
    "n.generators.loc[sbsp_generators.index, 'capital_cost'] = 250000 \n",
    "\n",
    "snapshots_to_optimize = n.snapshots[:8784]\n",
    "n.optimize(snapshots=snapshots_to_optimize, solver_name='gurobi')"
   ]
  },
  {
   "cell_type": "code",
   "execution_count": null,
   "id": "08628ea1-dc22-4265-9175-8a62f68b7b81",
   "metadata": {},
   "outputs": [],
   "source": [
    "generation_data = n.generators_t.p\n",
    "\n",
    "carrier_generation = pd.Series(0.0, index=n.generators.carrier.unique())\n",
    "\n",
    "for gen_id, generator in n.generators.iterrows():\n",
    "    carrier = generator['carrier']\n",
    "    carrier_generation[carrier] += generation_data[gen_id].sum()\n",
    "\n",
    "print(carrier_generation)\n",
    "\n",
    "\n",
    "\n",
    "SBSP_generators = n.generators[n.generators['carrier'] == 'SBSP']\n",
    "\n",
    "SBSP_generation = n.generators_t.p[SBSP_generators.index]\n",
    "\n",
    "active_SBSP_generators = SBSP_generation.loc[:, (SBSP_generation != 0).any(axis=0)]\n",
    "\n",
    "active_SBSP_buses = SBSP_generators.loc[active_SBSP_generators.columns, 'bus'].unique()\n",
    "\n",
    "print(\"Buses with active SBSP generators:\")\n",
    "print(active_SBSP_buses)\n",
    "\n",
    "\n",
    "\n",
    "sbsp_generators = n.generators[n.generators['carrier'] == 'SBSP']\n",
    "\n",
    "total_p_nom_opt_sbsp = sbsp_generators['p_nom_opt'].sum()\n",
    "\n",
    "print(\"Total p_nom_opt for all SBSP generators:\", total_p_nom_opt_sbsp)\n",
    "\n",
    "sbsp_generators = n.generators[n.generators['carrier'] == 'SBSP']\n",
    "\n",
    "\n",
    "sbsp_p_nom_opt = sbsp_generators['p_nom_opt']\n",
    "\n",
    "\n",
    "print(sbsp_p_nom_opt)"
   ]
  },
  {
   "cell_type": "code",
   "execution_count": null,
   "id": "e3f57e68-2acb-4d37-b4f8-22d2ea10a64f",
   "metadata": {},
   "outputs": [],
   "source": [
    "sbsp_generators = n.generators[n.generators['carrier'] == 'SBSP']\n",
    "\n",
    "n.generators.loc[sbsp_generators.index, 'capital_cost'] = 300000  \n",
    "\n",
    "snapshots_to_optimize = n.snapshots[:8784]\n",
    "n.optimize(snapshots=snapshots_to_optimize, solver_name='gurobi')"
   ]
  },
  {
   "cell_type": "code",
   "execution_count": null,
   "id": "b954b701-7520-4589-afed-e60d6a9b12d5",
   "metadata": {},
   "outputs": [],
   "source": [
    "generation_data = n.generators_t.p\n",
    "\n",
    "carrier_generation = pd.Series(0.0, index=n.generators.carrier.unique())\n",
    "\n",
    "for gen_id, generator in n.generators.iterrows():\n",
    "    carrier = generator['carrier']\n",
    "    carrier_generation[carrier] += generation_data[gen_id].sum()\n",
    "\n",
    "print(carrier_generation)\n",
    "\n",
    "\n",
    "\n",
    "SBSP_generators = n.generators[n.generators['carrier'] == 'SBSP']\n",
    "\n",
    "SBSP_generation = n.generators_t.p[SBSP_generators.index]\n",
    "\n",
    "active_SBSP_generators = SBSP_generation.loc[:, (SBSP_generation != 0).any(axis=0)]\n",
    "\n",
    "active_SBSP_buses = SBSP_generators.loc[active_SBSP_generators.columns, 'bus'].unique()\n",
    "\n",
    "print(\"Buses with active SBSP generators:\")\n",
    "print(active_SBSP_buses)\n",
    "\n",
    "sbsp_generators = n.generators[n.generators['carrier'] == 'SBSP']\n",
    "\n",
    "\n",
    "total_p_nom_opt_sbsp = sbsp_generators['p_nom_opt'].sum()\n",
    "\n",
    "print(\"Total p_nom_opt for all SBSP generators:\", total_p_nom_opt_sbsp)\n",
    "\n",
    "\n",
    "sbsp_generators = n.generators[n.generators['carrier'] == 'SBSP']\n",
    "\n",
    "sbsp_p_nom_opt = sbsp_generators['p_nom_opt']\n",
    "\n",
    "print(sbsp_p_nom_opt)"
   ]
  },
  {
   "cell_type": "code",
   "execution_count": null,
   "id": "5b41aa16-f720-471d-ae9a-78118c02b77b",
   "metadata": {},
   "outputs": [],
   "source": [
    "sbsp_generators = n.generators[n.generators['carrier'] == 'SBSP']\n",
    "\n",
    "\n",
    "n.generators.loc[sbsp_generators.index, 'capital_cost'] = 350000  # \n",
    "snapshots_to_optimize = n.snapshots[:8784]\n",
    "n.optimize(snapshots=snapshots_to_optimize, solver_name='gurobi')"
   ]
  },
  {
   "cell_type": "code",
   "execution_count": null,
   "id": "d190b033-d7ee-4d33-b948-800ad0e4e522",
   "metadata": {},
   "outputs": [],
   "source": [
    "generation_data = n.generators_t.p\n",
    "\n",
    "carrier_generation = pd.Series(0.0, index=n.generators.carrier.unique())\n",
    "\n",
    "for gen_id, generator in n.generators.iterrows():\n",
    "    carrier = generator['carrier']\n",
    "    carrier_generation[carrier] += generation_data[gen_id].sum()\n",
    "\n",
    "print(carrier_generation)\n",
    "\n",
    "\n",
    "\n",
    "SBSP_generators = n.generators[n.generators['carrier'] == 'SBSP']\n",
    "\n",
    "SBSP_generation = n.generators_t.p[SBSP_generators.index]\n",
    "\n",
    "active_SBSP_generators = SBSP_generation.loc[:, (SBSP_generation != 0).any(axis=0)]\n",
    "\n",
    "active_SBSP_buses = SBSP_generators.loc[active_SBSP_generators.columns, 'bus'].unique()\n",
    "\n",
    "print(\"Buses with active SBSP generators:\")\n",
    "print(active_SBSP_buses)\n",
    "\n",
    "sbsp_generators = n.generators[n.generators['carrier'] == 'SBSP']\n",
    "\n",
    "total_p_nom_opt_sbsp = sbsp_generators['p_nom_opt'].sum()\n",
    "\n",
    "print(\"Total p_nom_opt for all SBSP generators:\", total_p_nom_opt_sbsp)\n",
    "\n",
    "import pandas as pd\n",
    "\n",
    "sbsp_generators = n.generators[n.generators['carrier'] == 'SBSP']\n",
    "\n",
    "sbsp_p_nom_opt = sbsp_generators['p_nom_opt']\n",
    "\n",
    "print(sbsp_p_nom_opt)"
   ]
  },
  {
   "cell_type": "code",
   "execution_count": null,
   "id": "0813691f-e03e-41ab-bbaf-e9ea908a461f",
   "metadata": {},
   "outputs": [],
   "source": []
  },
  {
   "cell_type": "code",
   "execution_count": null,
   "id": "6e55e38a-b322-46c6-81cb-3e89826634f8",
   "metadata": {},
   "outputs": [],
   "source": [
    "sbsp_generators = n.generators[n.generators['carrier'] == 'SBSP']\n",
    "\n",
    "n.generators.loc[sbsp_generators.index, 'capital_cost'] = 400000  \n",
    "\n",
    "snapshots_to_optimize = n.snapshots[:8784]\n",
    "n.optimize(snapshots=snapshots_to_optimize, solver_name='gurobi')"
   ]
  },
  {
   "cell_type": "code",
   "execution_count": null,
   "id": "58f51458-c647-43b5-ad56-45ce6e276b24",
   "metadata": {},
   "outputs": [],
   "source": [
    "generation_data = n.generators_t.p\n",
    "\n",
    "carrier_generation = pd.Series(0.0, index=n.generators.carrier.unique())\n",
    "\n",
    "for gen_id, generator in n.generators.iterrows():\n",
    "    carrier = generator['carrier']\n",
    "    carrier_generation[carrier] += generation_data[gen_id].sum()\n",
    "\n",
    "print(carrier_generation)\n",
    "\n",
    "\n",
    "\n",
    "SBSP_generators = n.generators[n.generators['carrier'] == 'SBSP']\n",
    "\n",
    "SBSP_generation = n.generators_t.p[SBSP_generators.index]\n",
    "\n",
    "active_SBSP_generators = SBSP_generation.loc[:, (SBSP_generation != 0).any(axis=0)]\n",
    "\n",
    "active_SBSP_buses = SBSP_generators.loc[active_SBSP_generators.columns, 'bus'].unique()\n",
    "\n",
    "print(\"Buses with active SBSP generators:\")\n",
    "print(active_SBSP_buses)\n",
    "\n",
    "sbsp_generators = n.generators[n.generators['carrier'] == 'SBSP']\n",
    "\n",
    "total_p_nom_opt_sbsp = sbsp_generators['p_nom_opt'].sum()\n",
    "\n",
    "print(\"Total p_nom_opt for all SBSP generators:\", total_p_nom_opt_sbsp)\n",
    "\n",
    "import pandas as pd\n",
    "\n",
    "sbsp_generators = n.generators[n.generators['carrier'] == 'SBSP']\n",
    "\n",
    "sbsp_p_nom_opt = sbsp_generators['p_nom_opt']\n",
    "\n",
    "print(sbsp_p_nom_opt)"
   ]
  }
 ],
 "metadata": {
  "kernelspec": {
   "display_name": "Python 3 (ipykernel)",
   "language": "python",
   "name": "python3"
  },
  "language_info": {
   "codemirror_mode": {
    "name": "ipython",
    "version": 3
   },
   "file_extension": ".py",
   "mimetype": "text/x-python",
   "name": "python",
   "nbconvert_exporter": "python",
   "pygments_lexer": "ipython3",
   "version": "3.11.8"
  }
 },
 "nbformat": 4,
 "nbformat_minor": 5
}

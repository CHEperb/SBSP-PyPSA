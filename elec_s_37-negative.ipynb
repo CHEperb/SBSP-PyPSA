{
 "cells": [
  {
   "cell_type": "code",
   "execution_count": 1,
   "id": "b13642df-7d81-4e26-8126-e1c13b524241",
   "metadata": {},
   "outputs": [
    {
     "name": "stderr",
     "output_type": "stream",
     "text": [
      "WARNING:pypsa.io:Importing network from PyPSA version v0.22.1 while current version is v0.27.1. Read the release notes at https://pypsa.readthedocs.io/en/latest/release_notes.html to prepare your network for import.\n",
      "INFO:pypsa.io:Imported network elec_s_37.nc has buses, carriers, generators, lines, links, loads, storage_units\n"
     ]
    }
   ],
   "source": [
    "import pypsa\n",
    "\n",
    "n = pypsa.Network(\"pypsa-eur/networks/networks/elec_s_37.nc\")"
   ]
  },
  {
   "cell_type": "code",
   "execution_count": 2,
   "id": "9cf52196-3c80-475e-9a60-57cc2aa7d99b",
   "metadata": {},
   "outputs": [
    {
     "name": "stderr",
     "output_type": "stream",
     "text": [
      "INFO:linopy.model: Solve problem using Gurobi solver\n",
      "INFO:linopy.io:Writing objective.\n",
      "Writing constraints.: 100%|\u001b[38;2;128;191;255m█████████████████████\u001b[0m| 20/20 [00:00<00:00, 47.35it/s]\u001b[0m\n",
      "Writing continuous variables.: 100%|\u001b[38;2;128;191;255m█████████████\u001b[0m| 9/9 [00:00<00:00, 111.72it/s]\u001b[0m\n",
      "INFO:linopy.io: Writing time: 0.55s\n"
     ]
    },
    {
     "name": "stdout",
     "output_type": "stream",
     "text": [
      "Read LP format model from file /private/var/folders/gy/z7x44kpn24d18spbg3w6_5fr0000gn/T/linopy-problem-88hjz1a8.lp\n"
     ]
    },
    {
     "name": "stderr",
     "output_type": "stream",
     "text": [
      "INFO:gurobipy:Read LP format model from file /private/var/folders/gy/z7x44kpn24d18spbg3w6_5fr0000gn/T/linopy-problem-88hjz1a8.lp\n"
     ]
    },
    {
     "name": "stdout",
     "output_type": "stream",
     "text": [
      "Reading time = 0.20 seconds\n"
     ]
    },
    {
     "name": "stderr",
     "output_type": "stream",
     "text": [
      "INFO:gurobipy:Reading time = 0.20 seconds\n"
     ]
    },
    {
     "name": "stdout",
     "output_type": "stream",
     "text": [
      "obj: 117370 rows, 55946 columns, 203709 nonzeros\n"
     ]
    },
    {
     "name": "stderr",
     "output_type": "stream",
     "text": [
      "INFO:gurobipy:obj: 117370 rows, 55946 columns, 203709 nonzeros\n"
     ]
    },
    {
     "name": "stdout",
     "output_type": "stream",
     "text": [
      "Gurobi Optimizer version 11.0.2 build v11.0.2rc0 (mac64[arm] - Darwin 22.6.0 22G74)\n"
     ]
    },
    {
     "name": "stderr",
     "output_type": "stream",
     "text": [
      "INFO:gurobipy:Gurobi Optimizer version 11.0.2 build v11.0.2rc0 (mac64[arm] - Darwin 22.6.0 22G74)\n"
     ]
    },
    {
     "name": "stdout",
     "output_type": "stream",
     "text": [
      "\n"
     ]
    },
    {
     "name": "stderr",
     "output_type": "stream",
     "text": [
      "INFO:gurobipy:\n"
     ]
    },
    {
     "name": "stdout",
     "output_type": "stream",
     "text": [
      "CPU model: Apple M1\n"
     ]
    },
    {
     "name": "stderr",
     "output_type": "stream",
     "text": [
      "INFO:gurobipy:CPU model: Apple M1\n"
     ]
    },
    {
     "name": "stdout",
     "output_type": "stream",
     "text": [
      "Thread count: 8 physical cores, 8 logical processors, using up to 8 threads\n"
     ]
    },
    {
     "name": "stderr",
     "output_type": "stream",
     "text": [
      "INFO:gurobipy:Thread count: 8 physical cores, 8 logical processors, using up to 8 threads\n"
     ]
    },
    {
     "name": "stdout",
     "output_type": "stream",
     "text": [
      "\n"
     ]
    },
    {
     "name": "stderr",
     "output_type": "stream",
     "text": [
      "INFO:gurobipy:\n"
     ]
    },
    {
     "name": "stdout",
     "output_type": "stream",
     "text": [
      "Optimize a model with 117370 rows, 55946 columns and 203709 nonzeros\n"
     ]
    },
    {
     "name": "stderr",
     "output_type": "stream",
     "text": [
      "INFO:gurobipy:Optimize a model with 117370 rows, 55946 columns and 203709 nonzeros\n"
     ]
    },
    {
     "name": "stdout",
     "output_type": "stream",
     "text": [
      "Model fingerprint: 0x577c04e7\n"
     ]
    },
    {
     "name": "stderr",
     "output_type": "stream",
     "text": [
      "INFO:gurobipy:Model fingerprint: 0x577c04e7\n"
     ]
    },
    {
     "name": "stdout",
     "output_type": "stream",
     "text": [
      "Coefficient statistics:\n"
     ]
    },
    {
     "name": "stderr",
     "output_type": "stream",
     "text": [
      "INFO:gurobipy:Coefficient statistics:\n"
     ]
    },
    {
     "name": "stdout",
     "output_type": "stream",
     "text": [
      "  Matrix range     [4e-06, 3e+02]\n"
     ]
    },
    {
     "name": "stderr",
     "output_type": "stream",
     "text": [
      "INFO:gurobipy:  Matrix range     [4e-06, 3e+02]\n"
     ]
    },
    {
     "name": "stdout",
     "output_type": "stream",
     "text": [
      "  Objective range  [1e-02, 2e+05]\n"
     ]
    },
    {
     "name": "stderr",
     "output_type": "stream",
     "text": [
      "INFO:gurobipy:  Objective range  [1e-02, 2e+05]\n"
     ]
    },
    {
     "name": "stdout",
     "output_type": "stream",
     "text": [
      "  Bounds range     [5e-01, 3e+10]\n"
     ]
    },
    {
     "name": "stderr",
     "output_type": "stream",
     "text": [
      "INFO:gurobipy:  Bounds range     [5e-01, 3e+10]\n"
     ]
    },
    {
     "name": "stdout",
     "output_type": "stream",
     "text": [
      "  RHS range        [1e-01, 8e+07]\n"
     ]
    },
    {
     "name": "stderr",
     "output_type": "stream",
     "text": [
      "INFO:gurobipy:  RHS range        [1e-01, 8e+07]\n"
     ]
    },
    {
     "name": "stdout",
     "output_type": "stream",
     "text": [
      "Warning: Model contains large bounds\n"
     ]
    },
    {
     "name": "stderr",
     "output_type": "stream",
     "text": [
      "INFO:gurobipy:Warning: Model contains large bounds\n"
     ]
    },
    {
     "name": "stdout",
     "output_type": "stream",
     "text": [
      "         Consider reformulating model or setting NumericFocus parameter\n"
     ]
    },
    {
     "name": "stderr",
     "output_type": "stream",
     "text": [
      "INFO:gurobipy:         Consider reformulating model or setting NumericFocus parameter\n"
     ]
    },
    {
     "name": "stdout",
     "output_type": "stream",
     "text": [
      "         to avoid numerical issues.\n"
     ]
    },
    {
     "name": "stderr",
     "output_type": "stream",
     "text": [
      "INFO:gurobipy:         to avoid numerical issues.\n"
     ]
    },
    {
     "name": "stdout",
     "output_type": "stream",
     "text": [
      "Presolve removed 95352 rows and 9739 columns\n"
     ]
    },
    {
     "name": "stderr",
     "output_type": "stream",
     "text": [
      "INFO:gurobipy:Presolve removed 95352 rows and 9739 columns\n"
     ]
    },
    {
     "name": "stdout",
     "output_type": "stream",
     "text": [
      "Presolve time: 0.09s\n"
     ]
    },
    {
     "name": "stderr",
     "output_type": "stream",
     "text": [
      "INFO:gurobipy:Presolve time: 0.09s\n"
     ]
    },
    {
     "name": "stdout",
     "output_type": "stream",
     "text": [
      "Presolved: 22018 rows, 46207 columns, 95198 nonzeros\n"
     ]
    },
    {
     "name": "stderr",
     "output_type": "stream",
     "text": [
      "INFO:gurobipy:Presolved: 22018 rows, 46207 columns, 95198 nonzeros\n"
     ]
    },
    {
     "name": "stdout",
     "output_type": "stream",
     "text": [
      "\n"
     ]
    },
    {
     "name": "stderr",
     "output_type": "stream",
     "text": [
      "INFO:gurobipy:\n"
     ]
    },
    {
     "name": "stdout",
     "output_type": "stream",
     "text": [
      "Concurrent LP optimizer: primal simplex, dual simplex, and barrier\n"
     ]
    },
    {
     "name": "stderr",
     "output_type": "stream",
     "text": [
      "INFO:gurobipy:Concurrent LP optimizer: primal simplex, dual simplex, and barrier\n"
     ]
    },
    {
     "name": "stdout",
     "output_type": "stream",
     "text": [
      "Showing barrier log only...\n"
     ]
    },
    {
     "name": "stderr",
     "output_type": "stream",
     "text": [
      "INFO:gurobipy:Showing barrier log only...\n"
     ]
    },
    {
     "name": "stdout",
     "output_type": "stream",
     "text": [
      "\n"
     ]
    },
    {
     "name": "stderr",
     "output_type": "stream",
     "text": [
      "INFO:gurobipy:\n"
     ]
    },
    {
     "name": "stdout",
     "output_type": "stream",
     "text": [
      "Ordering time: 0.24s\n"
     ]
    },
    {
     "name": "stderr",
     "output_type": "stream",
     "text": [
      "INFO:gurobipy:Ordering time: 0.24s\n"
     ]
    },
    {
     "name": "stdout",
     "output_type": "stream",
     "text": [
      "\n"
     ]
    },
    {
     "name": "stderr",
     "output_type": "stream",
     "text": [
      "INFO:gurobipy:\n"
     ]
    },
    {
     "name": "stdout",
     "output_type": "stream",
     "text": [
      "Barrier statistics:\n"
     ]
    },
    {
     "name": "stderr",
     "output_type": "stream",
     "text": [
      "INFO:gurobipy:Barrier statistics:\n"
     ]
    },
    {
     "name": "stdout",
     "output_type": "stream",
     "text": [
      " Dense cols : 102\n"
     ]
    },
    {
     "name": "stderr",
     "output_type": "stream",
     "text": [
      "INFO:gurobipy: Dense cols : 102\n"
     ]
    },
    {
     "name": "stdout",
     "output_type": "stream",
     "text": [
      " AA' NZ     : 7.613e+04\n"
     ]
    },
    {
     "name": "stderr",
     "output_type": "stream",
     "text": [
      "INFO:gurobipy: AA' NZ     : 7.613e+04\n"
     ]
    },
    {
     "name": "stdout",
     "output_type": "stream",
     "text": [
      " Factor NZ  : 1.176e+06 (roughly 40 MB of memory)\n"
     ]
    },
    {
     "name": "stderr",
     "output_type": "stream",
     "text": [
      "INFO:gurobipy: Factor NZ  : 1.176e+06 (roughly 40 MB of memory)\n"
     ]
    },
    {
     "name": "stdout",
     "output_type": "stream",
     "text": [
      " Factor Ops : 4.270e+08 (less than 1 second per iteration)\n"
     ]
    },
    {
     "name": "stderr",
     "output_type": "stream",
     "text": [
      "INFO:gurobipy: Factor Ops : 4.270e+08 (less than 1 second per iteration)\n"
     ]
    },
    {
     "name": "stdout",
     "output_type": "stream",
     "text": [
      " Threads    : 6\n"
     ]
    },
    {
     "name": "stderr",
     "output_type": "stream",
     "text": [
      "INFO:gurobipy: Threads    : 6\n"
     ]
    },
    {
     "name": "stdout",
     "output_type": "stream",
     "text": [
      "\n"
     ]
    },
    {
     "name": "stderr",
     "output_type": "stream",
     "text": [
      "INFO:gurobipy:\n"
     ]
    },
    {
     "name": "stdout",
     "output_type": "stream",
     "text": [
      "                  Objective                Residual\n"
     ]
    },
    {
     "name": "stderr",
     "output_type": "stream",
     "text": [
      "INFO:gurobipy:                  Objective                Residual\n"
     ]
    },
    {
     "name": "stdout",
     "output_type": "stream",
     "text": [
      "Iter       Primal          Dual         Primal    Dual     Compl     Time\n"
     ]
    },
    {
     "name": "stderr",
     "output_type": "stream",
     "text": [
      "INFO:gurobipy:Iter       Primal          Dual         Primal    Dual     Compl     Time\n"
     ]
    },
    {
     "name": "stdout",
     "output_type": "stream",
     "text": [
      "   0   2.98584355e+13 -7.16349197e+16  4.05e+06 1.57e+04  1.54e+12     0s\n"
     ]
    },
    {
     "name": "stderr",
     "output_type": "stream",
     "text": [
      "INFO:gurobipy:   0   2.98584355e+13 -7.16349197e+16  4.05e+06 1.57e+04  1.54e+12     0s\n"
     ]
    },
    {
     "name": "stdout",
     "output_type": "stream",
     "text": [
      "   1   3.53895211e+13 -2.69072105e+16  3.00e+06 6.58e+05  8.57e+11     1s\n"
     ]
    },
    {
     "name": "stderr",
     "output_type": "stream",
     "text": [
      "INFO:gurobipy:   1   3.53895211e+13 -2.69072105e+16  3.00e+06 6.58e+05  8.57e+11     1s\n"
     ]
    },
    {
     "name": "stdout",
     "output_type": "stream",
     "text": [
      "   2   6.03242627e+12 -3.70274442e+15  6.33e+05 6.12e+04  1.61e+11     1s\n"
     ]
    },
    {
     "name": "stderr",
     "output_type": "stream",
     "text": [
      "INFO:gurobipy:   2   6.03242627e+12 -3.70274442e+15  6.33e+05 6.12e+04  1.61e+11     1s\n"
     ]
    },
    {
     "name": "stdout",
     "output_type": "stream",
     "text": [
      "   3   1.46855918e+12 -5.58133068e+14  2.57e+04 5.03e+02  9.99e+09     1s\n"
     ]
    },
    {
     "name": "stderr",
     "output_type": "stream",
     "text": [
      "INFO:gurobipy:   3   1.46855918e+12 -5.58133068e+14  2.57e+04 5.03e+02  9.99e+09     1s\n"
     ]
    },
    {
     "name": "stdout",
     "output_type": "stream",
     "text": [
      "   4   1.26034226e+12 -1.13403699e+14  2.55e+03 3.99e-07  1.38e+09     1s\n"
     ]
    },
    {
     "name": "stderr",
     "output_type": "stream",
     "text": [
      "INFO:gurobipy:   4   1.26034226e+12 -1.13403699e+14  2.55e+03 3.99e-07  1.38e+09     1s\n"
     ]
    },
    {
     "name": "stdout",
     "output_type": "stream",
     "text": [
      "   5   8.01846486e+11 -3.63986981e+13  3.26e+02 3.66e-07  3.79e+08     1s\n"
     ]
    },
    {
     "name": "stderr",
     "output_type": "stream",
     "text": [
      "INFO:gurobipy:   5   8.01846486e+11 -3.63986981e+13  3.26e+02 3.66e-07  3.79e+08     1s\n"
     ]
    },
    {
     "name": "stdout",
     "output_type": "stream",
     "text": [
      "   6   4.95752589e+11 -8.23613273e+12  3.97e+01 1.47e-07  8.52e+07     1s\n"
     ]
    },
    {
     "name": "stderr",
     "output_type": "stream",
     "text": [
      "INFO:gurobipy:   6   4.95752589e+11 -8.23613273e+12  3.97e+01 1.47e-07  8.52e+07     1s\n"
     ]
    },
    {
     "name": "stdout",
     "output_type": "stream",
     "text": [
      "   7   2.87935145e+11 -4.10836429e+12  1.30e+01 4.97e-08  4.26e+07     1s\n"
     ]
    },
    {
     "name": "stderr",
     "output_type": "stream",
     "text": [
      "INFO:gurobipy:   7   2.87935145e+11 -4.10836429e+12  1.30e+01 4.97e-08  4.26e+07     1s\n"
     ]
    },
    {
     "name": "stdout",
     "output_type": "stream",
     "text": [
      "   8   1.83859935e+11 -2.35358016e+12  6.58e+00 4.98e-08  2.45e+07     1s\n"
     ]
    },
    {
     "name": "stderr",
     "output_type": "stream",
     "text": [
      "INFO:gurobipy:   8   1.83859935e+11 -2.35358016e+12  6.58e+00 4.98e-08  2.45e+07     1s\n"
     ]
    },
    {
     "name": "stdout",
     "output_type": "stream",
     "text": [
      "   9   1.31762226e+11 -9.83507062e+11  4.01e+00 2.00e-08  1.08e+07     1s\n"
     ]
    },
    {
     "name": "stderr",
     "output_type": "stream",
     "text": [
      "INFO:gurobipy:   9   1.31762226e+11 -9.83507062e+11  4.01e+00 2.00e-08  1.08e+07     1s\n"
     ]
    },
    {
     "name": "stdout",
     "output_type": "stream",
     "text": [
      "  10   7.37655404e+10 -4.48565525e+11  2.06e+00 2.16e-06  5.04e+06     1s\n"
     ]
    },
    {
     "name": "stderr",
     "output_type": "stream",
     "text": [
      "INFO:gurobipy:  10   7.37655404e+10 -4.48565525e+11  2.06e+00 2.16e-06  5.04e+06     1s\n"
     ]
    },
    {
     "name": "stdout",
     "output_type": "stream",
     "text": [
      "  11   4.32148189e+10 -2.27838329e+11  1.13e+00 8.38e-09  2.61e+06     1s\n"
     ]
    },
    {
     "name": "stderr",
     "output_type": "stream",
     "text": [
      "INFO:gurobipy:  11   4.32148189e+10 -2.27838329e+11  1.13e+00 8.38e-09  2.61e+06     1s\n"
     ]
    },
    {
     "name": "stdout",
     "output_type": "stream",
     "text": [
      "  12   2.32918026e+10 -1.06716087e+11  5.86e-01 4.75e-06  1.25e+06     1s\n"
     ]
    },
    {
     "name": "stderr",
     "output_type": "stream",
     "text": [
      "INFO:gurobipy:  12   2.32918026e+10 -1.06716087e+11  5.86e-01 4.75e-06  1.25e+06     1s\n"
     ]
    },
    {
     "name": "stdout",
     "output_type": "stream",
     "text": [
      "  13   1.42300591e+10 -2.52269584e+10  3.42e-01 4.92e-07  3.80e+05     1s\n"
     ]
    },
    {
     "name": "stderr",
     "output_type": "stream",
     "text": [
      "INFO:gurobipy:  13   1.42300591e+10 -2.52269584e+10  3.42e-01 4.92e-07  3.80e+05     1s\n"
     ]
    },
    {
     "name": "stdout",
     "output_type": "stream",
     "text": [
      "  14   6.41848877e+09 -1.01934232e+10  1.49e-01 3.49e-09  1.60e+05     1s\n"
     ]
    },
    {
     "name": "stderr",
     "output_type": "stream",
     "text": [
      "INFO:gurobipy:  14   6.41848877e+09 -1.01934232e+10  1.49e-01 3.49e-09  1.60e+05     1s\n"
     ]
    },
    {
     "name": "stdout",
     "output_type": "stream",
     "text": [
      "  15   4.10525295e+09 -6.13113247e+09  9.40e-02 3.26e-09  9.86e+04     1s\n"
     ]
    },
    {
     "name": "stderr",
     "output_type": "stream",
     "text": [
      "INFO:gurobipy:  15   4.10525295e+09 -6.13113247e+09  9.40e-02 3.26e-09  9.86e+04     1s\n"
     ]
    },
    {
     "name": "stdout",
     "output_type": "stream",
     "text": [
      "  16   2.89009348e+09 -1.16872930e+09  6.55e-02 3.50e-06  3.91e+04     1s\n"
     ]
    },
    {
     "name": "stderr",
     "output_type": "stream",
     "text": [
      "INFO:gurobipy:  16   2.89009348e+09 -1.16872930e+09  6.55e-02 3.50e-06  3.91e+04     1s\n"
     ]
    },
    {
     "name": "stdout",
     "output_type": "stream",
     "text": [
      "  17   1.61585976e+09 -2.61791940e+08  3.05e-02 2.79e-09  1.81e+04     1s\n"
     ]
    },
    {
     "name": "stderr",
     "output_type": "stream",
     "text": [
      "INFO:gurobipy:  17   1.61585976e+09 -2.61791940e+08  3.05e-02 2.79e-09  1.81e+04     1s\n"
     ]
    },
    {
     "name": "stdout",
     "output_type": "stream",
     "text": [
      "  18   1.23787704e+09  1.05207303e+07  2.14e-02 2.33e-09  1.18e+04     1s\n"
     ]
    },
    {
     "name": "stderr",
     "output_type": "stream",
     "text": [
      "INFO:gurobipy:  18   1.23787704e+09  1.05207303e+07  2.14e-02 2.33e-09  1.18e+04     1s\n"
     ]
    },
    {
     "name": "stdout",
     "output_type": "stream",
     "text": [
      "  19   1.06275081e+09  1.02350654e+08  1.69e-02 1.16e-09  9.25e+03     1s\n"
     ]
    },
    {
     "name": "stderr",
     "output_type": "stream",
     "text": [
      "INFO:gurobipy:  19   1.06275081e+09  1.02350654e+08  1.69e-02 1.16e-09  9.25e+03     1s\n"
     ]
    },
    {
     "name": "stdout",
     "output_type": "stream",
     "text": [
      "  20   9.11598219e+08  1.89448777e+08  1.30e-02 2.10e-09  6.95e+03     1s\n"
     ]
    },
    {
     "name": "stderr",
     "output_type": "stream",
     "text": [
      "INFO:gurobipy:  20   9.11598219e+08  1.89448777e+08  1.30e-02 2.10e-09  6.95e+03     1s\n"
     ]
    },
    {
     "name": "stdout",
     "output_type": "stream",
     "text": [
      "  21   8.39672022e+08  3.29911528e+08  1.11e-02 9.31e-10  4.91e+03     1s\n"
     ]
    },
    {
     "name": "stderr",
     "output_type": "stream",
     "text": [
      "INFO:gurobipy:  21   8.39672022e+08  3.29911528e+08  1.11e-02 9.31e-10  4.91e+03     1s\n"
     ]
    },
    {
     "name": "stdout",
     "output_type": "stream",
     "text": [
      "  22   6.99442921e+08  4.07997282e+08  6.99e-03 4.77e-09  2.81e+03     1s\n"
     ]
    },
    {
     "name": "stderr",
     "output_type": "stream",
     "text": [
      "INFO:gurobipy:  22   6.99442921e+08  4.07997282e+08  6.99e-03 4.77e-09  2.81e+03     1s\n"
     ]
    },
    {
     "name": "stdout",
     "output_type": "stream",
     "text": [
      "  23   5.91957130e+08  4.29341557e+08  3.72e-03 3.26e-09  1.57e+03     1s\n"
     ]
    },
    {
     "name": "stderr",
     "output_type": "stream",
     "text": [
      "INFO:gurobipy:  23   5.91957130e+08  4.29341557e+08  3.72e-03 3.26e-09  1.57e+03     1s\n"
     ]
    },
    {
     "name": "stdout",
     "output_type": "stream",
     "text": [
      "  24   5.71714334e+08  4.43081631e+08  3.07e-03 2.84e-09  1.24e+03     1s\n"
     ]
    },
    {
     "name": "stderr",
     "output_type": "stream",
     "text": [
      "INFO:gurobipy:  24   5.71714334e+08  4.43081631e+08  3.07e-03 2.84e-09  1.24e+03     1s\n"
     ]
    },
    {
     "name": "stdout",
     "output_type": "stream",
     "text": [
      "  25   5.41231133e+08  4.56863793e+08  2.14e-03 2.21e-09  8.12e+02     1s\n"
     ]
    },
    {
     "name": "stderr",
     "output_type": "stream",
     "text": [
      "INFO:gurobipy:  25   5.41231133e+08  4.56863793e+08  2.14e-03 2.21e-09  8.12e+02     1s\n"
     ]
    },
    {
     "name": "stdout",
     "output_type": "stream",
     "text": [
      "  26   5.04117012e+08  4.65134000e+08  1.07e-03 3.38e-09  3.75e+02     2s\n"
     ]
    },
    {
     "name": "stderr",
     "output_type": "stream",
     "text": [
      "INFO:gurobipy:  26   5.04117012e+08  4.65134000e+08  1.07e-03 3.38e-09  3.75e+02     2s\n"
     ]
    },
    {
     "name": "stdout",
     "output_type": "stream",
     "text": [
      "  27   4.94075995e+08  4.68667680e+08  7.73e-04 2.78e-09  2.45e+02     2s\n"
     ]
    },
    {
     "name": "stderr",
     "output_type": "stream",
     "text": [
      "INFO:gurobipy:  27   4.94075995e+08  4.68667680e+08  7.73e-04 2.78e-09  2.45e+02     2s\n"
     ]
    },
    {
     "name": "stdout",
     "output_type": "stream",
     "text": [
      "  28   4.89878626e+08  4.70023478e+08  6.26e-04 4.04e-09  1.91e+02     2s\n"
     ]
    },
    {
     "name": "stderr",
     "output_type": "stream",
     "text": [
      "INFO:gurobipy:  28   4.89878626e+08  4.70023478e+08  6.26e-04 4.04e-09  1.91e+02     2s\n"
     ]
    },
    {
     "name": "stdout",
     "output_type": "stream",
     "text": [
      "  29   4.87055468e+08  4.70619054e+08  5.19e-04 4.10e-09  1.58e+02     2s\n"
     ]
    },
    {
     "name": "stderr",
     "output_type": "stream",
     "text": [
      "INFO:gurobipy:  29   4.87055468e+08  4.70619054e+08  5.19e-04 4.10e-09  1.58e+02     2s\n"
     ]
    },
    {
     "name": "stdout",
     "output_type": "stream",
     "text": [
      "  30   4.79589245e+08  4.71493134e+08  2.45e-04 3.37e-09  7.79e+01     2s\n"
     ]
    },
    {
     "name": "stderr",
     "output_type": "stream",
     "text": [
      "INFO:gurobipy:  30   4.79589245e+08  4.71493134e+08  2.45e-04 3.37e-09  7.79e+01     2s\n"
     ]
    },
    {
     "name": "stdout",
     "output_type": "stream",
     "text": [
      "  31   4.76601842e+08  4.72253898e+08  1.33e-04 2.64e-09  4.19e+01     2s\n"
     ]
    },
    {
     "name": "stderr",
     "output_type": "stream",
     "text": [
      "INFO:gurobipy:  31   4.76601842e+08  4.72253898e+08  1.33e-04 2.64e-09  4.19e+01     2s\n"
     ]
    },
    {
     "name": "stdout",
     "output_type": "stream",
     "text": [
      "  32   4.74830031e+08  4.72642713e+08  6.50e-05 2.35e-09  2.11e+01     2s\n"
     ]
    },
    {
     "name": "stderr",
     "output_type": "stream",
     "text": [
      "INFO:gurobipy:  32   4.74830031e+08  4.72642713e+08  6.50e-05 2.35e-09  2.11e+01     2s\n"
     ]
    },
    {
     "name": "stdout",
     "output_type": "stream",
     "text": [
      "  33   4.74131347e+08  4.72780919e+08  4.06e-05 3.03e-09  1.30e+01     2s\n"
     ]
    },
    {
     "name": "stderr",
     "output_type": "stream",
     "text": [
      "INFO:gurobipy:  33   4.74131347e+08  4.72780919e+08  4.06e-05 3.03e-09  1.30e+01     2s\n"
     ]
    },
    {
     "name": "stdout",
     "output_type": "stream",
     "text": [
      "  34   4.73859915e+08  4.72907310e+08  3.05e-05 1.40e-09  9.17e+00     2s\n"
     ]
    },
    {
     "name": "stderr",
     "output_type": "stream",
     "text": [
      "INFO:gurobipy:  34   4.73859915e+08  4.72907310e+08  3.05e-05 1.40e-09  9.17e+00     2s\n"
     ]
    },
    {
     "name": "stdout",
     "output_type": "stream",
     "text": [
      "  35   4.73311417e+08  4.72993906e+08  9.75e-06 1.69e-09  3.06e+00     2s\n"
     ]
    },
    {
     "name": "stderr",
     "output_type": "stream",
     "text": [
      "INFO:gurobipy:  35   4.73311417e+08  4.72993906e+08  9.75e-06 1.69e-09  3.06e+00     2s\n"
     ]
    },
    {
     "name": "stdout",
     "output_type": "stream",
     "text": [
      "  36   4.73119119e+08  4.73016034e+08  2.79e-06 1.40e-09  9.92e-01     2s\n"
     ]
    },
    {
     "name": "stderr",
     "output_type": "stream",
     "text": [
      "INFO:gurobipy:  36   4.73119119e+08  4.73016034e+08  2.79e-06 1.40e-09  9.92e-01     2s\n"
     ]
    },
    {
     "name": "stdout",
     "output_type": "stream",
     "text": [
      "  37   4.73065164e+08  4.73032558e+08  9.15e-07 9.31e-10  3.14e-01     2s\n"
     ]
    },
    {
     "name": "stderr",
     "output_type": "stream",
     "text": [
      "INFO:gurobipy:  37   4.73065164e+08  4.73032558e+08  9.15e-07 9.31e-10  3.14e-01     2s\n"
     ]
    },
    {
     "name": "stdout",
     "output_type": "stream",
     "text": [
      "  38   4.73043057e+08  4.73036646e+08  1.72e-07 2.33e-09  6.17e-02     2s\n"
     ]
    },
    {
     "name": "stderr",
     "output_type": "stream",
     "text": [
      "INFO:gurobipy:  38   4.73043057e+08  4.73036646e+08  1.72e-07 2.33e-09  6.17e-02     2s\n"
     ]
    },
    {
     "name": "stdout",
     "output_type": "stream",
     "text": [
      "  39   4.73038402e+08  4.73037277e+08  2.34e-08 6.98e-10  1.08e-02     2s\n"
     ]
    },
    {
     "name": "stderr",
     "output_type": "stream",
     "text": [
      "INFO:gurobipy:  39   4.73038402e+08  4.73037277e+08  2.34e-08 6.98e-10  1.08e-02     2s\n"
     ]
    },
    {
     "name": "stdout",
     "output_type": "stream",
     "text": [
      "  40   4.73037758e+08  4.73037697e+08  1.05e-08 9.31e-10  5.93e-04     2s\n"
     ]
    },
    {
     "name": "stderr",
     "output_type": "stream",
     "text": [
      "INFO:gurobipy:  40   4.73037758e+08  4.73037697e+08  1.05e-08 9.31e-10  5.93e-04     2s\n"
     ]
    },
    {
     "name": "stdout",
     "output_type": "stream",
     "text": [
      "  41   4.73037723e+08  4.73037723e+08  1.30e-08 1.16e-09  1.68e-06     2s\n"
     ]
    },
    {
     "name": "stderr",
     "output_type": "stream",
     "text": [
      "INFO:gurobipy:  41   4.73037723e+08  4.73037723e+08  1.30e-08 1.16e-09  1.68e-06     2s\n"
     ]
    },
    {
     "name": "stdout",
     "output_type": "stream",
     "text": [
      "  42   4.73037723e+08  4.73037723e+08  1.06e-08 9.31e-10  1.68e-09     2s\n"
     ]
    },
    {
     "name": "stderr",
     "output_type": "stream",
     "text": [
      "INFO:gurobipy:  42   4.73037723e+08  4.73037723e+08  1.06e-08 9.31e-10  1.68e-09     2s\n"
     ]
    },
    {
     "name": "stdout",
     "output_type": "stream",
     "text": [
      "\n"
     ]
    },
    {
     "name": "stderr",
     "output_type": "stream",
     "text": [
      "INFO:gurobipy:\n"
     ]
    },
    {
     "name": "stdout",
     "output_type": "stream",
     "text": [
      "Barrier solved model in 42 iterations and 2.18 seconds (1.31 work units)\n"
     ]
    },
    {
     "name": "stderr",
     "output_type": "stream",
     "text": [
      "INFO:gurobipy:Barrier solved model in 42 iterations and 2.18 seconds (1.31 work units)\n"
     ]
    },
    {
     "name": "stdout",
     "output_type": "stream",
     "text": [
      "Optimal objective 4.73037723e+08\n"
     ]
    },
    {
     "name": "stderr",
     "output_type": "stream",
     "text": [
      "INFO:gurobipy:Optimal objective 4.73037723e+08\n"
     ]
    },
    {
     "name": "stdout",
     "output_type": "stream",
     "text": [
      "\n"
     ]
    },
    {
     "name": "stderr",
     "output_type": "stream",
     "text": [
      "INFO:gurobipy:\n"
     ]
    },
    {
     "name": "stdout",
     "output_type": "stream",
     "text": [
      "Crossover log...\n"
     ]
    },
    {
     "name": "stderr",
     "output_type": "stream",
     "text": [
      "INFO:gurobipy:Crossover log...\n"
     ]
    },
    {
     "name": "stdout",
     "output_type": "stream",
     "text": [
      "\n"
     ]
    },
    {
     "name": "stderr",
     "output_type": "stream",
     "text": [
      "INFO:gurobipy:\n"
     ]
    },
    {
     "name": "stdout",
     "output_type": "stream",
     "text": [
      "    2612 DPushes remaining with DInf 0.0000000e+00                 2s\n"
     ]
    },
    {
     "name": "stderr",
     "output_type": "stream",
     "text": [
      "INFO:gurobipy:    2612 DPushes remaining with DInf 0.0000000e+00                 2s\n"
     ]
    },
    {
     "name": "stdout",
     "output_type": "stream",
     "text": [
      "       0 DPushes remaining with DInf 0.0000000e+00                 2s\n"
     ]
    },
    {
     "name": "stderr",
     "output_type": "stream",
     "text": [
      "INFO:gurobipy:       0 DPushes remaining with DInf 0.0000000e+00                 2s\n"
     ]
    },
    {
     "name": "stdout",
     "output_type": "stream",
     "text": [
      "\n"
     ]
    },
    {
     "name": "stderr",
     "output_type": "stream",
     "text": [
      "INFO:gurobipy:\n"
     ]
    },
    {
     "name": "stdout",
     "output_type": "stream",
     "text": [
      "    2230 PPushes remaining with PInf 0.0000000e+00                 2s\n"
     ]
    },
    {
     "name": "stderr",
     "output_type": "stream",
     "text": [
      "INFO:gurobipy:    2230 PPushes remaining with PInf 0.0000000e+00                 2s\n"
     ]
    },
    {
     "name": "stdout",
     "output_type": "stream",
     "text": [
      "       0 PPushes remaining with PInf 0.0000000e+00                 2s\n"
     ]
    },
    {
     "name": "stderr",
     "output_type": "stream",
     "text": [
      "INFO:gurobipy:       0 PPushes remaining with PInf 0.0000000e+00                 2s\n"
     ]
    },
    {
     "name": "stdout",
     "output_type": "stream",
     "text": [
      "\n"
     ]
    },
    {
     "name": "stderr",
     "output_type": "stream",
     "text": [
      "INFO:gurobipy:\n"
     ]
    },
    {
     "name": "stdout",
     "output_type": "stream",
     "text": [
      "  Push phase complete: Pinf 0.0000000e+00, Dinf 1.0863205e-11      2s\n"
     ]
    },
    {
     "name": "stderr",
     "output_type": "stream",
     "text": [
      "INFO:gurobipy:  Push phase complete: Pinf 0.0000000e+00, Dinf 1.0863205e-11      2s\n"
     ]
    },
    {
     "name": "stdout",
     "output_type": "stream",
     "text": [
      "\n"
     ]
    },
    {
     "name": "stderr",
     "output_type": "stream",
     "text": [
      "INFO:gurobipy:\n"
     ]
    },
    {
     "name": "stdout",
     "output_type": "stream",
     "text": [
      "\n"
     ]
    },
    {
     "name": "stderr",
     "output_type": "stream",
     "text": [
      "INFO:gurobipy:\n"
     ]
    },
    {
     "name": "stdout",
     "output_type": "stream",
     "text": [
      "Solved with barrier\n"
     ]
    },
    {
     "name": "stderr",
     "output_type": "stream",
     "text": [
      "INFO:gurobipy:Solved with barrier\n"
     ]
    },
    {
     "name": "stdout",
     "output_type": "stream",
     "text": [
      "Iteration    Objective       Primal Inf.    Dual Inf.      Time\n"
     ]
    },
    {
     "name": "stderr",
     "output_type": "stream",
     "text": [
      "INFO:gurobipy:Iteration    Objective       Primal Inf.    Dual Inf.      Time\n"
     ]
    },
    {
     "name": "stdout",
     "output_type": "stream",
     "text": [
      "    4845    4.7303772e+08   0.000000e+00   0.000000e+00      2s\n"
     ]
    },
    {
     "name": "stderr",
     "output_type": "stream",
     "text": [
      "INFO:gurobipy:    4845    4.7303772e+08   0.000000e+00   0.000000e+00      2s\n"
     ]
    },
    {
     "name": "stdout",
     "output_type": "stream",
     "text": [
      "\n"
     ]
    },
    {
     "name": "stderr",
     "output_type": "stream",
     "text": [
      "INFO:gurobipy:\n"
     ]
    },
    {
     "name": "stdout",
     "output_type": "stream",
     "text": [
      "Solved in 4845 iterations and 2.45 seconds (1.39 work units)\n"
     ]
    },
    {
     "name": "stderr",
     "output_type": "stream",
     "text": [
      "INFO:gurobipy:Solved in 4845 iterations and 2.45 seconds (1.39 work units)\n"
     ]
    },
    {
     "name": "stdout",
     "output_type": "stream",
     "text": [
      "Optimal objective  4.730377231e+08\n"
     ]
    },
    {
     "name": "stderr",
     "output_type": "stream",
     "text": [
      "INFO:gurobipy:Optimal objective  4.730377231e+08\n",
      "INFO:linopy.constants: Optimization successful: \n",
      "Status: ok\n",
      "Termination condition: optimal\n",
      "Solution: 55946 primals, 117370 duals\n",
      "Objective: 4.73e+08\n",
      "Solver model: available\n",
      "Solver message: 2\n",
      "\n",
      "/opt/anaconda3/lib/python3.11/site-packages/pypsa/optimization/optimize.py:357: FutureWarning:\n",
      "\n",
      "A value is trying to be set on a copy of a DataFrame or Series through chained assignment using an inplace method.\n",
      "The behavior will change in pandas 3.0. This inplace method will never work because the intermediate object on which we are setting values always behaves as a copy.\n",
      "\n",
      "For example, when doing 'df[col].method(value, inplace=True)', try using 'df.method({col: value}, inplace=True)' or df[col] = df[col].method(value) instead, to perform the operation inplace on the original object.\n",
      "\n",
      "\n",
      "\n",
      "INFO:pypsa.optimization.optimize:The shadow-prices of the constraints Generator-fix-p-lower, Generator-fix-p-upper, Generator-ext-p-lower, Generator-ext-p-upper, Line-fix-s-lower, Line-fix-s-upper, Link-fix-p-lower, Link-fix-p-upper, StorageUnit-fix-p_dispatch-lower, StorageUnit-fix-p_dispatch-upper, StorageUnit-fix-p_store-lower, StorageUnit-fix-p_store-upper, StorageUnit-fix-state_of_charge-lower, StorageUnit-fix-state_of_charge-upper, Kirchhoff-Voltage-Law, StorageUnit-energy_balance were not assigned to the network.\n"
     ]
    },
    {
     "data": {
      "text/plain": [
       "('ok', 'optimal')"
      ]
     },
     "execution_count": 2,
     "metadata": {},
     "output_type": "execute_result"
    }
   ],
   "source": [
    "snapshots_to_optimize = n.snapshots[:100]\n",
    "\n",
    "n.optimize(snapshots=snapshots_to_optimize, solver_name='gurobi')"
   ]
  },
  {
   "cell_type": "code",
   "execution_count": 3,
   "id": "59620934-160f-4ab7-bc3d-b7d2a879c84a",
   "metadata": {},
   "outputs": [
    {
     "name": "stderr",
     "output_type": "stream",
     "text": [
      "WARNING:pypsa.components:Carrier has no attribute description, ignoring this passed value.\n",
      "INFO:linopy.model: Solve problem using Gurobi solver\n",
      "INFO:linopy.io:Writing objective.\n",
      "Writing constraints.: 100%|\u001b[38;2;128;191;255m█████████████████████\u001b[0m| 20/20 [00:00<00:00, 45.86it/s]\u001b[0m\n",
      "Writing continuous variables.: 100%|\u001b[38;2;128;191;255m█████████████\u001b[0m| 9/9 [00:00<00:00, 109.82it/s]\u001b[0m\n",
      "INFO:linopy.io: Writing time: 0.55s\n"
     ]
    },
    {
     "name": "stdout",
     "output_type": "stream",
     "text": [
      "Read LP format model from file /private/var/folders/gy/z7x44kpn24d18spbg3w6_5fr0000gn/T/linopy-problem-lbos3ddu.lp\n"
     ]
    },
    {
     "name": "stderr",
     "output_type": "stream",
     "text": [
      "INFO:gurobipy:Read LP format model from file /private/var/folders/gy/z7x44kpn24d18spbg3w6_5fr0000gn/T/linopy-problem-lbos3ddu.lp\n"
     ]
    },
    {
     "name": "stdout",
     "output_type": "stream",
     "text": [
      "Reading time = 0.20 seconds\n"
     ]
    },
    {
     "name": "stderr",
     "output_type": "stream",
     "text": [
      "INFO:gurobipy:Reading time = 0.20 seconds\n"
     ]
    },
    {
     "name": "stdout",
     "output_type": "stream",
     "text": [
      "obj: 117571 rows, 56047 columns, 204110 nonzeros\n"
     ]
    },
    {
     "name": "stderr",
     "output_type": "stream",
     "text": [
      "INFO:gurobipy:obj: 117571 rows, 56047 columns, 204110 nonzeros\n"
     ]
    },
    {
     "name": "stdout",
     "output_type": "stream",
     "text": [
      "Gurobi Optimizer version 11.0.2 build v11.0.2rc0 (mac64[arm] - Darwin 22.6.0 22G74)\n"
     ]
    },
    {
     "name": "stderr",
     "output_type": "stream",
     "text": [
      "INFO:gurobipy:Gurobi Optimizer version 11.0.2 build v11.0.2rc0 (mac64[arm] - Darwin 22.6.0 22G74)\n"
     ]
    },
    {
     "name": "stdout",
     "output_type": "stream",
     "text": [
      "\n"
     ]
    },
    {
     "name": "stderr",
     "output_type": "stream",
     "text": [
      "INFO:gurobipy:\n"
     ]
    },
    {
     "name": "stdout",
     "output_type": "stream",
     "text": [
      "CPU model: Apple M1\n"
     ]
    },
    {
     "name": "stderr",
     "output_type": "stream",
     "text": [
      "INFO:gurobipy:CPU model: Apple M1\n"
     ]
    },
    {
     "name": "stdout",
     "output_type": "stream",
     "text": [
      "Thread count: 8 physical cores, 8 logical processors, using up to 8 threads\n"
     ]
    },
    {
     "name": "stderr",
     "output_type": "stream",
     "text": [
      "INFO:gurobipy:Thread count: 8 physical cores, 8 logical processors, using up to 8 threads\n"
     ]
    },
    {
     "name": "stdout",
     "output_type": "stream",
     "text": [
      "\n"
     ]
    },
    {
     "name": "stderr",
     "output_type": "stream",
     "text": [
      "INFO:gurobipy:\n"
     ]
    },
    {
     "name": "stdout",
     "output_type": "stream",
     "text": [
      "Optimize a model with 117571 rows, 56047 columns and 204110 nonzeros\n"
     ]
    },
    {
     "name": "stderr",
     "output_type": "stream",
     "text": [
      "INFO:gurobipy:Optimize a model with 117571 rows, 56047 columns and 204110 nonzeros\n"
     ]
    },
    {
     "name": "stdout",
     "output_type": "stream",
     "text": [
      "Model fingerprint: 0x81985d2b\n"
     ]
    },
    {
     "name": "stderr",
     "output_type": "stream",
     "text": [
      "INFO:gurobipy:Model fingerprint: 0x81985d2b\n"
     ]
    },
    {
     "name": "stdout",
     "output_type": "stream",
     "text": [
      "Coefficient statistics:\n"
     ]
    },
    {
     "name": "stderr",
     "output_type": "stream",
     "text": [
      "INFO:gurobipy:Coefficient statistics:\n"
     ]
    },
    {
     "name": "stdout",
     "output_type": "stream",
     "text": [
      "  Matrix range     [4e-06, 3e+02]\n"
     ]
    },
    {
     "name": "stderr",
     "output_type": "stream",
     "text": [
      "INFO:gurobipy:  Matrix range     [4e-06, 3e+02]\n"
     ]
    },
    {
     "name": "stdout",
     "output_type": "stream",
     "text": [
      "  Objective range  [1e-02, 6e+05]\n"
     ]
    },
    {
     "name": "stderr",
     "output_type": "stream",
     "text": [
      "INFO:gurobipy:  Objective range  [1e-02, 6e+05]\n"
     ]
    },
    {
     "name": "stdout",
     "output_type": "stream",
     "text": [
      "  Bounds range     [5e-01, 3e+10]\n"
     ]
    },
    {
     "name": "stderr",
     "output_type": "stream",
     "text": [
      "INFO:gurobipy:  Bounds range     [5e-01, 3e+10]\n"
     ]
    },
    {
     "name": "stdout",
     "output_type": "stream",
     "text": [
      "  RHS range        [1e-01, 8e+07]\n"
     ]
    },
    {
     "name": "stderr",
     "output_type": "stream",
     "text": [
      "INFO:gurobipy:  RHS range        [1e-01, 8e+07]\n"
     ]
    },
    {
     "name": "stdout",
     "output_type": "stream",
     "text": [
      "Warning: Model contains large bounds\n"
     ]
    },
    {
     "name": "stderr",
     "output_type": "stream",
     "text": [
      "INFO:gurobipy:Warning: Model contains large bounds\n"
     ]
    },
    {
     "name": "stdout",
     "output_type": "stream",
     "text": [
      "         Consider reformulating model or setting NumericFocus parameter\n"
     ]
    },
    {
     "name": "stderr",
     "output_type": "stream",
     "text": [
      "INFO:gurobipy:         Consider reformulating model or setting NumericFocus parameter\n"
     ]
    },
    {
     "name": "stdout",
     "output_type": "stream",
     "text": [
      "         to avoid numerical issues.\n"
     ]
    },
    {
     "name": "stderr",
     "output_type": "stream",
     "text": [
      "INFO:gurobipy:         to avoid numerical issues.\n"
     ]
    },
    {
     "name": "stdout",
     "output_type": "stream",
     "text": [
      "Presolve removed 95453 rows and 9739 columns\n"
     ]
    },
    {
     "name": "stderr",
     "output_type": "stream",
     "text": [
      "INFO:gurobipy:Presolve removed 95453 rows and 9739 columns\n"
     ]
    },
    {
     "name": "stdout",
     "output_type": "stream",
     "text": [
      "Presolve time: 0.09s\n"
     ]
    },
    {
     "name": "stderr",
     "output_type": "stream",
     "text": [
      "INFO:gurobipy:Presolve time: 0.09s\n"
     ]
    },
    {
     "name": "stdout",
     "output_type": "stream",
     "text": [
      "Presolved: 22118 rows, 46308 columns, 95498 nonzeros\n"
     ]
    },
    {
     "name": "stderr",
     "output_type": "stream",
     "text": [
      "INFO:gurobipy:Presolved: 22118 rows, 46308 columns, 95498 nonzeros\n"
     ]
    },
    {
     "name": "stdout",
     "output_type": "stream",
     "text": [
      "\n"
     ]
    },
    {
     "name": "stderr",
     "output_type": "stream",
     "text": [
      "INFO:gurobipy:\n"
     ]
    },
    {
     "name": "stdout",
     "output_type": "stream",
     "text": [
      "Concurrent LP optimizer: primal simplex, dual simplex, and barrier\n"
     ]
    },
    {
     "name": "stderr",
     "output_type": "stream",
     "text": [
      "INFO:gurobipy:Concurrent LP optimizer: primal simplex, dual simplex, and barrier\n"
     ]
    },
    {
     "name": "stdout",
     "output_type": "stream",
     "text": [
      "Showing barrier log only...\n"
     ]
    },
    {
     "name": "stderr",
     "output_type": "stream",
     "text": [
      "INFO:gurobipy:Showing barrier log only...\n"
     ]
    },
    {
     "name": "stdout",
     "output_type": "stream",
     "text": [
      "\n"
     ]
    },
    {
     "name": "stderr",
     "output_type": "stream",
     "text": [
      "INFO:gurobipy:\n"
     ]
    },
    {
     "name": "stdout",
     "output_type": "stream",
     "text": [
      "Ordering time: 0.35s\n"
     ]
    },
    {
     "name": "stderr",
     "output_type": "stream",
     "text": [
      "INFO:gurobipy:Ordering time: 0.35s\n"
     ]
    },
    {
     "name": "stdout",
     "output_type": "stream",
     "text": [
      "\n"
     ]
    },
    {
     "name": "stderr",
     "output_type": "stream",
     "text": [
      "INFO:gurobipy:\n"
     ]
    },
    {
     "name": "stdout",
     "output_type": "stream",
     "text": [
      "Barrier statistics:\n"
     ]
    },
    {
     "name": "stderr",
     "output_type": "stream",
     "text": [
      "INFO:gurobipy:Barrier statistics:\n"
     ]
    },
    {
     "name": "stdout",
     "output_type": "stream",
     "text": [
      " Dense cols : 103\n"
     ]
    },
    {
     "name": "stderr",
     "output_type": "stream",
     "text": [
      "INFO:gurobipy: Dense cols : 103\n"
     ]
    },
    {
     "name": "stdout",
     "output_type": "stream",
     "text": [
      " AA' NZ     : 7.633e+04\n"
     ]
    },
    {
     "name": "stderr",
     "output_type": "stream",
     "text": [
      "INFO:gurobipy: AA' NZ     : 7.633e+04\n"
     ]
    },
    {
     "name": "stdout",
     "output_type": "stream",
     "text": [
      " Factor NZ  : 1.148e+06 (roughly 40 MB of memory)\n"
     ]
    },
    {
     "name": "stderr",
     "output_type": "stream",
     "text": [
      "INFO:gurobipy: Factor NZ  : 1.148e+06 (roughly 40 MB of memory)\n"
     ]
    },
    {
     "name": "stdout",
     "output_type": "stream",
     "text": [
      " Factor Ops : 4.079e+08 (less than 1 second per iteration)\n"
     ]
    },
    {
     "name": "stderr",
     "output_type": "stream",
     "text": [
      "INFO:gurobipy: Factor Ops : 4.079e+08 (less than 1 second per iteration)\n"
     ]
    },
    {
     "name": "stdout",
     "output_type": "stream",
     "text": [
      " Threads    : 6\n"
     ]
    },
    {
     "name": "stderr",
     "output_type": "stream",
     "text": [
      "INFO:gurobipy: Threads    : 6\n"
     ]
    },
    {
     "name": "stdout",
     "output_type": "stream",
     "text": [
      "\n"
     ]
    },
    {
     "name": "stderr",
     "output_type": "stream",
     "text": [
      "INFO:gurobipy:\n"
     ]
    },
    {
     "name": "stdout",
     "output_type": "stream",
     "text": [
      "                  Objective                Residual\n"
     ]
    },
    {
     "name": "stderr",
     "output_type": "stream",
     "text": [
      "INFO:gurobipy:                  Objective                Residual\n"
     ]
    },
    {
     "name": "stdout",
     "output_type": "stream",
     "text": [
      "Iter       Primal          Dual         Primal    Dual     Compl     Time\n"
     ]
    },
    {
     "name": "stderr",
     "output_type": "stream",
     "text": [
      "INFO:gurobipy:Iter       Primal          Dual         Primal    Dual     Compl     Time\n"
     ]
    },
    {
     "name": "stdout",
     "output_type": "stream",
     "text": [
      "   0   2.99130098e+13 -7.16706399e+16  4.04e+06 1.88e+04  1.53e+12     1s\n"
     ]
    },
    {
     "name": "stderr",
     "output_type": "stream",
     "text": [
      "INFO:gurobipy:   0   2.99130098e+13 -7.16706399e+16  4.04e+06 1.88e+04  1.53e+12     1s\n"
     ]
    },
    {
     "name": "stdout",
     "output_type": "stream",
     "text": [
      "   1   3.54563404e+13 -2.70036330e+16  3.00e+06 6.60e+05  8.56e+11     1s\n"
     ]
    },
    {
     "name": "stderr",
     "output_type": "stream",
     "text": [
      "INFO:gurobipy:   1   3.54563404e+13 -2.70036330e+16  3.00e+06 6.60e+05  8.56e+11     1s\n"
     ]
    },
    {
     "name": "stdout",
     "output_type": "stream",
     "text": [
      "   2   6.24379375e+12 -3.70143825e+15  6.33e+05 6.12e+04  1.61e+11     1s\n"
     ]
    },
    {
     "name": "stderr",
     "output_type": "stream",
     "text": [
      "INFO:gurobipy:   2   6.24379375e+12 -3.70143825e+15  6.33e+05 6.12e+04  1.61e+11     1s\n"
     ]
    },
    {
     "name": "stdout",
     "output_type": "stream",
     "text": [
      "   3   1.68826925e+12 -5.58366055e+14  2.56e+04 5.05e+02  9.96e+09     1s\n"
     ]
    },
    {
     "name": "stderr",
     "output_type": "stream",
     "text": [
      "INFO:gurobipy:   3   1.68826925e+12 -5.58366055e+14  2.56e+04 5.05e+02  9.96e+09     1s\n"
     ]
    },
    {
     "name": "stdout",
     "output_type": "stream",
     "text": [
      "   4   1.36382690e+12 -1.53883460e+14  4.34e+03 6.97e-07  2.01e+09     1s\n"
     ]
    },
    {
     "name": "stderr",
     "output_type": "stream",
     "text": [
      "INFO:gurobipy:   4   1.36382690e+12 -1.53883460e+14  4.34e+03 6.97e-07  2.01e+09     1s\n"
     ]
    },
    {
     "name": "stdout",
     "output_type": "stream",
     "text": [
      "   5   9.99789049e+11 -6.16961106e+13  1.49e+03 1.82e-07  7.15e+08     1s\n"
     ]
    },
    {
     "name": "stderr",
     "output_type": "stream",
     "text": [
      "INFO:gurobipy:   5   9.99789049e+11 -6.16961106e+13  1.49e+03 1.82e-07  7.15e+08     1s\n"
     ]
    },
    {
     "name": "stdout",
     "output_type": "stream",
     "text": [
      "   6   5.80730074e+11 -3.48567891e+13  1.67e+02 1.91e-07  3.49e+08     1s\n"
     ]
    },
    {
     "name": "stderr",
     "output_type": "stream",
     "text": [
      "INFO:gurobipy:   6   5.80730074e+11 -3.48567891e+13  1.67e+02 1.91e-07  3.49e+08     1s\n"
     ]
    },
    {
     "name": "stdout",
     "output_type": "stream",
     "text": [
      "   7   3.76400422e+11 -5.94992567e+12  9.78e+00 1.79e-07  6.09e+07     1s\n"
     ]
    },
    {
     "name": "stderr",
     "output_type": "stream",
     "text": [
      "INFO:gurobipy:   7   3.76400422e+11 -5.94992567e+12  9.78e+00 1.79e-07  6.09e+07     1s\n"
     ]
    },
    {
     "name": "stdout",
     "output_type": "stream",
     "text": [
      "   8   2.17721227e+11 -2.12264063e+12  3.99e+00 1.62e-08  2.25e+07     1s\n"
     ]
    },
    {
     "name": "stderr",
     "output_type": "stream",
     "text": [
      "INFO:gurobipy:   8   2.17721227e+11 -2.12264063e+12  3.99e+00 1.62e-08  2.25e+07     1s\n"
     ]
    },
    {
     "name": "stdout",
     "output_type": "stream",
     "text": [
      "   9   1.69435664e+11 -1.05147451e+12  2.71e+00 5.94e-09  1.17e+07     1s\n"
     ]
    },
    {
     "name": "stderr",
     "output_type": "stream",
     "text": [
      "INFO:gurobipy:   9   1.69435664e+11 -1.05147451e+12  2.71e+00 5.94e-09  1.17e+07     1s\n"
     ]
    },
    {
     "name": "stdout",
     "output_type": "stream",
     "text": [
      "  10   8.53451539e+10 -3.47664560e+11  1.21e+00 9.08e-09  4.16e+06     1s\n"
     ]
    },
    {
     "name": "stderr",
     "output_type": "stream",
     "text": [
      "INFO:gurobipy:  10   8.53451539e+10 -3.47664560e+11  1.21e+00 9.08e-09  4.16e+06     1s\n"
     ]
    },
    {
     "name": "stdout",
     "output_type": "stream",
     "text": [
      "  11   4.02801992e+10 -1.36165617e+11  4.94e-01 3.14e-09  1.70e+06     1s\n"
     ]
    },
    {
     "name": "stderr",
     "output_type": "stream",
     "text": [
      "INFO:gurobipy:  11   4.02801992e+10 -1.36165617e+11  4.94e-01 3.14e-09  1.70e+06     1s\n"
     ]
    },
    {
     "name": "stdout",
     "output_type": "stream",
     "text": [
      "  12   2.20042010e+10 -5.84570512e+10  2.76e-01 4.19e-09  7.73e+05     1s\n"
     ]
    },
    {
     "name": "stderr",
     "output_type": "stream",
     "text": [
      "INFO:gurobipy:  12   2.20042010e+10 -5.84570512e+10  2.76e-01 4.19e-09  7.73e+05     1s\n"
     ]
    },
    {
     "name": "stdout",
     "output_type": "stream",
     "text": [
      "  13   1.49977193e+10 -2.88000325e+10  1.95e-01 1.00e-08  4.21e+05     1s\n"
     ]
    },
    {
     "name": "stderr",
     "output_type": "stream",
     "text": [
      "INFO:gurobipy:  13   1.49977193e+10 -2.88000325e+10  1.95e-01 1.00e-08  4.21e+05     1s\n"
     ]
    },
    {
     "name": "stdout",
     "output_type": "stream",
     "text": [
      "  14   7.25391753e+09 -1.21682644e+10  1.03e-01 7.68e-09  1.87e+05     1s\n"
     ]
    },
    {
     "name": "stderr",
     "output_type": "stream",
     "text": [
      "INFO:gurobipy:  14   7.25391753e+09 -1.21682644e+10  1.03e-01 7.68e-09  1.87e+05     1s\n"
     ]
    },
    {
     "name": "stdout",
     "output_type": "stream",
     "text": [
      "  15   2.62424093e+09 -5.62436873e+09  4.43e-02 1.04e-05  7.92e+04     1s\n"
     ]
    },
    {
     "name": "stderr",
     "output_type": "stream",
     "text": [
      "INFO:gurobipy:  15   2.62424093e+09 -5.62436873e+09  4.43e-02 1.04e-05  7.92e+04     1s\n"
     ]
    },
    {
     "name": "stdout",
     "output_type": "stream",
     "text": [
      "  16   1.67595589e+09 -3.65185056e+09  3.24e-02 5.66e-06  5.11e+04     1s\n"
     ]
    },
    {
     "name": "stderr",
     "output_type": "stream",
     "text": [
      "INFO:gurobipy:  16   1.67595589e+09 -3.65185056e+09  3.24e-02 5.66e-06  5.11e+04     1s\n"
     ]
    },
    {
     "name": "stdout",
     "output_type": "stream",
     "text": [
      "  17   3.73406715e+08 -1.80653362e+09  1.46e-02 2.43e-06  2.09e+04     1s\n"
     ]
    },
    {
     "name": "stderr",
     "output_type": "stream",
     "text": [
      "INFO:gurobipy:  17   3.73406715e+08 -1.80653362e+09  1.46e-02 2.43e-06  2.09e+04     1s\n"
     ]
    },
    {
     "name": "stdout",
     "output_type": "stream",
     "text": [
      "  18   1.11987371e+08 -1.54853140e+09  1.11e-02 1.68e-06  1.59e+04     1s\n"
     ]
    },
    {
     "name": "stderr",
     "output_type": "stream",
     "text": [
      "INFO:gurobipy:  18   1.11987371e+08 -1.54853140e+09  1.11e-02 1.68e-06  1.59e+04     1s\n"
     ]
    },
    {
     "name": "stdout",
     "output_type": "stream",
     "text": [
      "  19  -1.59334870e+08 -1.21107835e+09  7.94e-03 6.80e-07  1.01e+04     1s\n"
     ]
    },
    {
     "name": "stderr",
     "output_type": "stream",
     "text": [
      "INFO:gurobipy:  19  -1.59334870e+08 -1.21107835e+09  7.94e-03 6.80e-07  1.01e+04     1s\n"
     ]
    },
    {
     "name": "stdout",
     "output_type": "stream",
     "text": [
      "  20  -3.61479357e+08 -1.08107420e+09  5.51e-03 4.33e-07  6.91e+03     1s\n"
     ]
    },
    {
     "name": "stderr",
     "output_type": "stream",
     "text": [
      "INFO:gurobipy:  20  -3.61479357e+08 -1.08107420e+09  5.51e-03 4.33e-07  6.91e+03     1s\n"
     ]
    },
    {
     "name": "stdout",
     "output_type": "stream",
     "text": [
      "  21  -3.80485622e+08 -1.03865388e+09  5.25e-03 3.74e-07  6.32e+03     2s\n"
     ]
    },
    {
     "name": "stderr",
     "output_type": "stream",
     "text": [
      "INFO:gurobipy:  21  -3.80485622e+08 -1.03865388e+09  5.25e-03 3.74e-07  6.32e+03     2s\n"
     ]
    },
    {
     "name": "stdout",
     "output_type": "stream",
     "text": [
      "  22  -4.79567212e+08 -9.37030262e+08  3.79e-03 2.43e-07  4.39e+03     2s\n"
     ]
    },
    {
     "name": "stderr",
     "output_type": "stream",
     "text": [
      "INFO:gurobipy:  22  -4.79567212e+08 -9.37030262e+08  3.79e-03 2.43e-07  4.39e+03     2s\n"
     ]
    },
    {
     "name": "stdout",
     "output_type": "stream",
     "text": [
      "  23  -5.82723509e+08 -8.37969595e+08  2.27e-03 1.08e-07  2.45e+03     2s\n"
     ]
    },
    {
     "name": "stderr",
     "output_type": "stream",
     "text": [
      "INFO:gurobipy:  23  -5.82723509e+08 -8.37969595e+08  2.27e-03 1.08e-07  2.45e+03     2s\n"
     ]
    },
    {
     "name": "stdout",
     "output_type": "stream",
     "text": [
      "  24  -6.38967884e+08 -7.95157037e+08  1.49e-03 5.37e-08  1.50e+03     2s\n"
     ]
    },
    {
     "name": "stderr",
     "output_type": "stream",
     "text": [
      "INFO:gurobipy:  24  -6.38967884e+08 -7.95157037e+08  1.49e-03 5.37e-08  1.50e+03     2s\n"
     ]
    },
    {
     "name": "stdout",
     "output_type": "stream",
     "text": [
      "  25  -6.76408845e+08 -7.73402679e+08  9.61e-04 2.84e-08  9.31e+02     2s\n"
     ]
    },
    {
     "name": "stderr",
     "output_type": "stream",
     "text": [
      "INFO:gurobipy:  25  -6.76408845e+08 -7.73402679e+08  9.61e-04 2.84e-08  9.31e+02     2s\n"
     ]
    },
    {
     "name": "stdout",
     "output_type": "stream",
     "text": [
      "  26  -6.98940522e+08 -7.66740921e+08  6.24e-04 2.21e-08  6.51e+02     2s\n"
     ]
    },
    {
     "name": "stderr",
     "output_type": "stream",
     "text": [
      "INFO:gurobipy:  26  -6.98940522e+08 -7.66740921e+08  6.24e-04 2.21e-08  6.51e+02     2s\n"
     ]
    },
    {
     "name": "stdout",
     "output_type": "stream",
     "text": [
      "  27  -7.18432050e+08 -7.52804273e+08  3.48e-04 4.54e-09  3.30e+02     2s\n"
     ]
    },
    {
     "name": "stderr",
     "output_type": "stream",
     "text": [
      "INFO:gurobipy:  27  -7.18432050e+08 -7.52804273e+08  3.48e-04 4.54e-09  3.30e+02     2s\n"
     ]
    },
    {
     "name": "stdout",
     "output_type": "stream",
     "text": [
      "  28  -7.24558727e+08 -7.48543254e+08  2.60e-04 2.10e-09  2.30e+02     2s\n"
     ]
    },
    {
     "name": "stderr",
     "output_type": "stream",
     "text": [
      "INFO:gurobipy:  28  -7.24558727e+08 -7.48543254e+08  2.60e-04 2.10e-09  2.30e+02     2s\n"
     ]
    },
    {
     "name": "stdout",
     "output_type": "stream",
     "text": [
      "  29  -7.36803883e+08 -7.45902104e+08  9.98e-05 2.51e-09  8.73e+01     2s\n"
     ]
    },
    {
     "name": "stderr",
     "output_type": "stream",
     "text": [
      "INFO:gurobipy:  29  -7.36803883e+08 -7.45902104e+08  9.98e-05 2.51e-09  8.73e+01     2s\n"
     ]
    },
    {
     "name": "stdout",
     "output_type": "stream",
     "text": [
      "  30  -7.40154568e+08 -7.44929799e+08  5.11e-05 1.40e-09  4.58e+01     2s\n"
     ]
    },
    {
     "name": "stderr",
     "output_type": "stream",
     "text": [
      "INFO:gurobipy:  30  -7.40154568e+08 -7.44929799e+08  5.11e-05 1.40e-09  4.58e+01     2s\n"
     ]
    },
    {
     "name": "stdout",
     "output_type": "stream",
     "text": [
      "  31  -7.41378225e+08 -7.44217055e+08  3.37e-05 1.86e-09  2.72e+01     2s\n"
     ]
    },
    {
     "name": "stderr",
     "output_type": "stream",
     "text": [
      "INFO:gurobipy:  31  -7.41378225e+08 -7.44217055e+08  3.37e-05 1.86e-09  2.72e+01     2s\n"
     ]
    },
    {
     "name": "stdout",
     "output_type": "stream",
     "text": [
      "  32  -7.42395113e+08 -7.44082096e+08  1.92e-05 1.16e-09  1.62e+01     2s\n"
     ]
    },
    {
     "name": "stderr",
     "output_type": "stream",
     "text": [
      "INFO:gurobipy:  32  -7.42395113e+08 -7.44082096e+08  1.92e-05 1.16e-09  1.62e+01     2s\n"
     ]
    },
    {
     "name": "stdout",
     "output_type": "stream",
     "text": [
      "  33  -7.42757156e+08 -7.43968381e+08  1.41e-05 9.31e-10  1.16e+01     2s\n"
     ]
    },
    {
     "name": "stderr",
     "output_type": "stream",
     "text": [
      "INFO:gurobipy:  33  -7.42757156e+08 -7.43968381e+08  1.41e-05 9.31e-10  1.16e+01     2s\n"
     ]
    },
    {
     "name": "stdout",
     "output_type": "stream",
     "text": [
      "  34  -7.43048310e+08 -7.43871824e+08  9.95e-06 1.05e-09  7.90e+00     2s\n"
     ]
    },
    {
     "name": "stderr",
     "output_type": "stream",
     "text": [
      "INFO:gurobipy:  34  -7.43048310e+08 -7.43871824e+08  9.95e-06 1.05e-09  7.90e+00     2s\n"
     ]
    },
    {
     "name": "stdout",
     "output_type": "stream",
     "text": [
      "  35  -7.43477719e+08 -7.43806271e+08  3.88e-06 1.16e-09  3.15e+00     2s\n"
     ]
    },
    {
     "name": "stderr",
     "output_type": "stream",
     "text": [
      "INFO:gurobipy:  35  -7.43477719e+08 -7.43806271e+08  3.88e-06 1.16e-09  3.15e+00     2s\n"
     ]
    },
    {
     "name": "stdout",
     "output_type": "stream",
     "text": [
      "  36  -7.43677405e+08 -7.43775681e+08  1.08e-06 2.33e-10  9.43e-01     2s\n"
     ]
    },
    {
     "name": "stderr",
     "output_type": "stream",
     "text": [
      "INFO:gurobipy:  36  -7.43677405e+08 -7.43775681e+08  1.08e-06 2.33e-10  9.43e-01     2s\n"
     ]
    },
    {
     "name": "stdout",
     "output_type": "stream",
     "text": [
      "  37  -7.43751633e+08 -7.43768261e+08  1.11e-07 1.40e-09  1.60e-01     2s\n"
     ]
    },
    {
     "name": "stderr",
     "output_type": "stream",
     "text": [
      "INFO:gurobipy:  37  -7.43751633e+08 -7.43768261e+08  1.11e-07 1.40e-09  1.60e-01     2s\n"
     ]
    },
    {
     "name": "stdout",
     "output_type": "stream",
     "text": [
      "  38  -7.43760088e+08 -7.43764324e+08  2.22e-08 9.31e-10  4.07e-02     2s\n"
     ]
    },
    {
     "name": "stderr",
     "output_type": "stream",
     "text": [
      "INFO:gurobipy:  38  -7.43760088e+08 -7.43764324e+08  2.22e-08 9.31e-10  4.07e-02     2s\n"
     ]
    },
    {
     "name": "stdout",
     "output_type": "stream",
     "text": [
      "  39  -7.43761968e+08 -7.43763185e+08  1.09e-08 5.82e-10  1.17e-02     2s\n"
     ]
    },
    {
     "name": "stderr",
     "output_type": "stream",
     "text": [
      "INFO:gurobipy:  39  -7.43761968e+08 -7.43763185e+08  1.09e-08 5.82e-10  1.17e-02     2s\n"
     ]
    },
    {
     "name": "stdout",
     "output_type": "stream",
     "text": [
      "  40  -7.43762263e+08 -7.43762383e+08  1.13e-08 1.40e-09  1.16e-03     3s\n"
     ]
    },
    {
     "name": "stderr",
     "output_type": "stream",
     "text": [
      "INFO:gurobipy:  40  -7.43762263e+08 -7.43762383e+08  1.13e-08 1.40e-09  1.16e-03     3s\n"
     ]
    },
    {
     "name": "stdout",
     "output_type": "stream",
     "text": [
      "  41  -7.43762277e+08 -7.43762288e+08  2.40e-08 1.40e-09  1.08e-04     3s\n"
     ]
    },
    {
     "name": "stderr",
     "output_type": "stream",
     "text": [
      "INFO:gurobipy:  41  -7.43762277e+08 -7.43762288e+08  2.40e-08 1.40e-09  1.08e-04     3s\n"
     ]
    },
    {
     "name": "stdout",
     "output_type": "stream",
     "text": [
      "  42  -7.43762277e+08 -7.43762277e+08  6.37e-08 9.31e-10  1.57e-07     3s\n"
     ]
    },
    {
     "name": "stderr",
     "output_type": "stream",
     "text": [
      "INFO:gurobipy:  42  -7.43762277e+08 -7.43762277e+08  6.37e-08 9.31e-10  1.57e-07     3s\n"
     ]
    },
    {
     "name": "stdout",
     "output_type": "stream",
     "text": [
      "  43  -7.43762277e+08 -7.43762277e+08  1.07e-08 3.84e-09  1.57e-10     3s\n"
     ]
    },
    {
     "name": "stderr",
     "output_type": "stream",
     "text": [
      "INFO:gurobipy:  43  -7.43762277e+08 -7.43762277e+08  1.07e-08 3.84e-09  1.57e-10     3s\n"
     ]
    },
    {
     "name": "stdout",
     "output_type": "stream",
     "text": [
      "\n"
     ]
    },
    {
     "name": "stderr",
     "output_type": "stream",
     "text": [
      "INFO:gurobipy:\n"
     ]
    },
    {
     "name": "stdout",
     "output_type": "stream",
     "text": [
      "Barrier solved model in 43 iterations and 2.68 seconds (1.38 work units)\n"
     ]
    },
    {
     "name": "stderr",
     "output_type": "stream",
     "text": [
      "INFO:gurobipy:Barrier solved model in 43 iterations and 2.68 seconds (1.38 work units)\n"
     ]
    },
    {
     "name": "stdout",
     "output_type": "stream",
     "text": [
      "Optimal objective -7.43762277e+08\n"
     ]
    },
    {
     "name": "stderr",
     "output_type": "stream",
     "text": [
      "INFO:gurobipy:Optimal objective -7.43762277e+08\n"
     ]
    },
    {
     "name": "stdout",
     "output_type": "stream",
     "text": [
      "\n"
     ]
    },
    {
     "name": "stderr",
     "output_type": "stream",
     "text": [
      "INFO:gurobipy:\n"
     ]
    },
    {
     "name": "stdout",
     "output_type": "stream",
     "text": [
      "Crossover log...\n"
     ]
    },
    {
     "name": "stderr",
     "output_type": "stream",
     "text": [
      "INFO:gurobipy:Crossover log...\n"
     ]
    },
    {
     "name": "stdout",
     "output_type": "stream",
     "text": [
      "\n"
     ]
    },
    {
     "name": "stderr",
     "output_type": "stream",
     "text": [
      "INFO:gurobipy:\n"
     ]
    },
    {
     "name": "stdout",
     "output_type": "stream",
     "text": [
      "    2711 DPushes remaining with DInf 0.0000000e+00                 3s\n"
     ]
    },
    {
     "name": "stderr",
     "output_type": "stream",
     "text": [
      "INFO:gurobipy:    2711 DPushes remaining with DInf 0.0000000e+00                 3s\n"
     ]
    },
    {
     "name": "stdout",
     "output_type": "stream",
     "text": [
      "       0 DPushes remaining with DInf 0.0000000e+00                 3s\n"
     ]
    },
    {
     "name": "stderr",
     "output_type": "stream",
     "text": [
      "INFO:gurobipy:       0 DPushes remaining with DInf 0.0000000e+00                 3s\n"
     ]
    },
    {
     "name": "stdout",
     "output_type": "stream",
     "text": [
      "\n"
     ]
    },
    {
     "name": "stderr",
     "output_type": "stream",
     "text": [
      "INFO:gurobipy:\n"
     ]
    },
    {
     "name": "stdout",
     "output_type": "stream",
     "text": [
      "    2222 PPushes remaining with PInf 0.0000000e+00                 3s\n"
     ]
    },
    {
     "name": "stderr",
     "output_type": "stream",
     "text": [
      "INFO:gurobipy:    2222 PPushes remaining with PInf 0.0000000e+00                 3s\n"
     ]
    },
    {
     "name": "stdout",
     "output_type": "stream",
     "text": [
      "       0 PPushes remaining with PInf 0.0000000e+00                 3s\n"
     ]
    },
    {
     "name": "stderr",
     "output_type": "stream",
     "text": [
      "INFO:gurobipy:       0 PPushes remaining with PInf 0.0000000e+00                 3s\n"
     ]
    },
    {
     "name": "stdout",
     "output_type": "stream",
     "text": [
      "\n"
     ]
    },
    {
     "name": "stderr",
     "output_type": "stream",
     "text": [
      "INFO:gurobipy:\n"
     ]
    },
    {
     "name": "stdout",
     "output_type": "stream",
     "text": [
      "  Push phase complete: Pinf 0.0000000e+00, Dinf 1.1006531e-11      3s\n"
     ]
    },
    {
     "name": "stderr",
     "output_type": "stream",
     "text": [
      "INFO:gurobipy:  Push phase complete: Pinf 0.0000000e+00, Dinf 1.1006531e-11      3s\n"
     ]
    },
    {
     "name": "stdout",
     "output_type": "stream",
     "text": [
      "\n"
     ]
    },
    {
     "name": "stderr",
     "output_type": "stream",
     "text": [
      "INFO:gurobipy:\n"
     ]
    },
    {
     "name": "stdout",
     "output_type": "stream",
     "text": [
      "\n"
     ]
    },
    {
     "name": "stderr",
     "output_type": "stream",
     "text": [
      "INFO:gurobipy:\n"
     ]
    },
    {
     "name": "stdout",
     "output_type": "stream",
     "text": [
      "Solved with barrier\n"
     ]
    },
    {
     "name": "stderr",
     "output_type": "stream",
     "text": [
      "INFO:gurobipy:Solved with barrier\n"
     ]
    },
    {
     "name": "stdout",
     "output_type": "stream",
     "text": [
      "Iteration    Objective       Primal Inf.    Dual Inf.      Time\n"
     ]
    },
    {
     "name": "stderr",
     "output_type": "stream",
     "text": [
      "INFO:gurobipy:Iteration    Objective       Primal Inf.    Dual Inf.      Time\n"
     ]
    },
    {
     "name": "stdout",
     "output_type": "stream",
     "text": [
      "    4936   -7.4376228e+08   0.000000e+00   0.000000e+00      3s\n"
     ]
    },
    {
     "name": "stderr",
     "output_type": "stream",
     "text": [
      "INFO:gurobipy:    4936   -7.4376228e+08   0.000000e+00   0.000000e+00      3s\n"
     ]
    },
    {
     "name": "stdout",
     "output_type": "stream",
     "text": [
      "\n"
     ]
    },
    {
     "name": "stderr",
     "output_type": "stream",
     "text": [
      "INFO:gurobipy:\n"
     ]
    },
    {
     "name": "stdout",
     "output_type": "stream",
     "text": [
      "Solved in 4936 iterations and 2.98 seconds (1.46 work units)\n"
     ]
    },
    {
     "name": "stderr",
     "output_type": "stream",
     "text": [
      "INFO:gurobipy:Solved in 4936 iterations and 2.98 seconds (1.46 work units)\n"
     ]
    },
    {
     "name": "stdout",
     "output_type": "stream",
     "text": [
      "Optimal objective -7.437622769e+08\n"
     ]
    },
    {
     "name": "stderr",
     "output_type": "stream",
     "text": [
      "INFO:gurobipy:Optimal objective -7.437622769e+08\n",
      "INFO:linopy.constants: Optimization successful: \n",
      "Status: ok\n",
      "Termination condition: optimal\n",
      "Solution: 56047 primals, 117571 duals\n",
      "Objective: -7.44e+08\n",
      "Solver model: available\n",
      "Solver message: 2\n",
      "\n",
      "/opt/anaconda3/lib/python3.11/site-packages/pypsa/optimization/optimize.py:357: FutureWarning:\n",
      "\n",
      "A value is trying to be set on a copy of a DataFrame or Series through chained assignment using an inplace method.\n",
      "The behavior will change in pandas 3.0. This inplace method will never work because the intermediate object on which we are setting values always behaves as a copy.\n",
      "\n",
      "For example, when doing 'df[col].method(value, inplace=True)', try using 'df.method({col: value}, inplace=True)' or df[col] = df[col].method(value) instead, to perform the operation inplace on the original object.\n",
      "\n",
      "\n",
      "\n",
      "INFO:pypsa.optimization.optimize:The shadow-prices of the constraints Generator-fix-p-lower, Generator-fix-p-upper, Generator-ext-p-lower, Generator-ext-p-upper, Line-fix-s-lower, Line-fix-s-upper, Link-fix-p-lower, Link-fix-p-upper, StorageUnit-fix-p_dispatch-lower, StorageUnit-fix-p_dispatch-upper, StorageUnit-fix-p_store-lower, StorageUnit-fix-p_store-upper, StorageUnit-fix-state_of_charge-lower, StorageUnit-fix-state_of_charge-upper, Kirchhoff-Voltage-Law, StorageUnit-energy_balance were not assigned to the network.\n"
     ]
    },
    {
     "data": {
      "text/plain": [
       "('ok', 'optimal')"
      ]
     },
     "execution_count": 3,
     "metadata": {},
     "output_type": "execute_result"
    }
   ],
   "source": [
    "n.add(\"Carrier\", \"SBSP\", description=\"Space-Based Solar Power\")\n",
    "\n",
    "n.add(\"Generator\", \"SBSP Generator\", \n",
    "      bus=\"AL1 0\",  \n",
    "      carrier=\"SBSP\",  \n",
    "      p_nom=2028,  # MW\n",
    "      marginal_cost=0.0,  # EUR/MWh\n",
    "      capital_cost=600000,  # EUR/MW\n",
    "      p_max_pu=0.997, \n",
    "      p_min_pu=0,  \n",
    "      p_nom_extendable=True  \n",
    "     )\n",
    "\n",
    "snapshots_to_optimize = n.snapshots[:100]\n",
    "\n",
    "n.optimize(snapshots=snapshots_to_optimize, solver_name='gurobi')"
   ]
  },
  {
   "cell_type": "code",
   "execution_count": 4,
   "id": "55e4fb0f-b872-4591-9303-65ac9ba84af3",
   "metadata": {},
   "outputs": [
    {
     "name": "stdout",
     "output_type": "stream",
     "text": [
      "offwind-ac    6.078474e+05\n",
      "oil           0.000000e+00\n",
      "onwind        6.586092e+06\n",
      "ror           1.553392e+06\n",
      "solar         8.177850e+05\n",
      "CCGT          3.866968e+06\n",
      "OCGT          0.000000e+00\n",
      "coal          4.882245e+06\n",
      "biomass       2.121090e+06\n",
      "nuclear       8.305872e+06\n",
      "offwind-dc    1.163422e+06\n",
      "lignite       4.542864e+06\n",
      "SBSP          0.000000e+00\n",
      "dtype: float64\n"
     ]
    },
    {
     "name": "stderr",
     "output_type": "stream",
     "text": [
      "/var/folders/gy/z7x44kpn24d18spbg3w6_5fr0000gn/T/ipykernel_1356/3246062076.py:11: FutureWarning:\n",
      "\n",
      "Setting an item of incompatible dtype is deprecated and will raise an error in a future version of pandas. Value '1376.0143652115003' has dtype incompatible with int64, please explicitly cast to a compatible dtype first.\n",
      "\n"
     ]
    }
   ],
   "source": [
    "import pandas as pd\n",
    "import matplotlib.pyplot as plt\n",
    "\n",
    "generation_data = n.generators_t.p\n",
    "\n",
    "carrier_generation = pd.Series(0, index=n.generators.carrier.unique())\n",
    "\n",
    "for gen_id, generator in n.generators.iterrows():\n",
    "    carrier = generator['carrier']\n",
    "    \n",
    "    carrier_generation[carrier] += generation_data[gen_id].sum()\n",
    "\n",
    "print(carrier_generation)"
   ]
  },
  {
   "cell_type": "code",
   "execution_count": 5,
   "id": "d607688d-262d-449c-b7a8-2c11b0df77f8",
   "metadata": {},
   "outputs": [
    {
     "data": {
      "image/png": "[encoded data removed]",
      "text/plain": [
       "<Figure size 1000x600 with 1 Axes>"
      ]
     },
     "metadata": {},
     "output_type": "display_data"
    }
   ],
   "source": [
    "carrier_generation.plot(kind='bar', color='skyblue', figsize=(10, 6))\n",
    "plt.title('Total Generation by Carrier')\n",
    "plt.xlabel('Carrier')\n",
    "plt.ylabel('Total Generation (MWh)')\n",
    "plt.xticks(rotation=45)  \n",
    "plt.tight_layout()\n",
    "plt.show()"
   ]
  },
  {
   "cell_type": "code",
   "execution_count": 6,
   "id": "fda934db-98d0-47c6-8d42-d93c5bf7df52",
   "metadata": {},
   "outputs": [
    {
     "name": "stdout",
     "output_type": "stream",
     "text": [
      "                     p_nom_max       weight      p_nom   capital_cost  \\\n",
      "Generator                                                               \n",
      "AL1 0 offwind-ac  2.711460e+03   298.830845   0.000000  184939.017135   \n",
      "AL1 0 oil                  inf     0.000000  89.854543   37870.807407   \n",
      "AL1 0 onwind      6.748682e+04  1762.450888   0.000000   96085.888020   \n",
      "AL1 0 ror                  inf    48.200000  48.200000  299140.224929   \n",
      "AL1 0 solar       1.793499e+04  2747.732990  16.850000   35602.071244   \n",
      "\n",
      "                  efficiency  p_nom_min  marginal_cost  p_nom_extendable  \\\n",
      "Generator                                                                  \n",
      "AL1 0 offwind-ac        1.00   0.000000       0.015000              True   \n",
      "AL1 0 oil               0.35  89.854543     148.857143             False   \n",
      "AL1 0 onwind            1.00   0.000000       0.015000              True   \n",
      "AL1 0 ror               0.90   0.000000       0.000000             False   \n",
      "AL1 0 solar             1.00  16.850000       0.010000              True   \n",
      "\n",
      "                  p_max_pu    bus  ... shut_down_cost stand_by_cost  \\\n",
      "Generator                          ...                                \n",
      "AL1 0 offwind-ac       1.0  AL1 0  ...            0.0           0.0   \n",
      "AL1 0 oil              1.0  AL1 0  ...            0.0           0.0   \n",
      "AL1 0 onwind           1.0  AL1 0  ...            0.0           0.0   \n",
      "AL1 0 ror              1.0  AL1 0  ...            0.0           0.0   \n",
      "AL1 0 solar            1.0  AL1 0  ...            0.0           0.0   \n",
      "\n",
      "                  min_up_time min_down_time  up_time_before  down_time_before  \\\n",
      "Generator                                                                       \n",
      "AL1 0 offwind-ac            0             0               1                 0   \n",
      "AL1 0 oil                   0             0               1                 0   \n",
      "AL1 0 onwind                0             0               1                 0   \n",
      "AL1 0 ror                   0             0               1                 0   \n",
      "AL1 0 solar                 0             0               1                 0   \n",
      "\n",
      "                  ramp_limit_up  ramp_limit_down  ramp_limit_start_up  \\\n",
      "Generator                                                               \n",
      "AL1 0 offwind-ac            NaN              NaN                  1.0   \n",
      "AL1 0 oil                   NaN              NaN                  1.0   \n",
      "AL1 0 onwind                NaN              NaN                  1.0   \n",
      "AL1 0 ror                   NaN              NaN                  1.0   \n",
      "AL1 0 solar                 NaN              NaN                  1.0   \n",
      "\n",
      "                  ramp_limit_shut_down  \n",
      "Generator                               \n",
      "AL1 0 offwind-ac                   1.0  \n",
      "AL1 0 oil                          1.0  \n",
      "AL1 0 onwind                       1.0  \n",
      "AL1 0 ror                          1.0  \n",
      "AL1 0 solar                        1.0  \n",
      "\n",
      "[5 rows x 34 columns]\n"
     ]
    }
   ],
   "source": [
    "print(n.generators.head())"
   ]
  },
  {
   "cell_type": "code",
   "execution_count": 7,
   "id": "e6e488e9-8c6a-4c04-979c-c1511858e421",
   "metadata": {},
   "outputs": [
    {
     "name": "stdout",
     "output_type": "stream",
     "text": [
      "                   capital_cost  marginal_cost\n",
      "Generator                                     \n",
      "AL1 0 offwind-ac  184939.017135       0.015000\n",
      "AL1 0 oil          37870.807407     148.857143\n",
      "AL1 0 onwind       96085.888020       0.015000\n",
      "AL1 0 ror         299140.224929       0.000000\n",
      "AL1 0 solar        35602.071244       0.010000\n",
      "...                         ...            ...\n",
      "SK1 0 nuclear     706772.616769      11.378788\n",
      "SK1 0 onwind       96085.888020       0.015000\n",
      "SK1 0 ror         299140.224929       0.000000\n",
      "SK1 0 solar        35602.071244       0.010000\n",
      "SBSP Generator    600000.000000       0.000000\n",
      "\n",
      "[285 rows x 2 columns]\n"
     ]
    }
   ],
   "source": [
    "all_generators = n.generators\n",
    "\n",
    "costs = all_generators[['capital_cost', 'marginal_cost']]\n",
    "\n",
    "print(costs)"
   ]
  }
 ],
 "metadata": {
  "kernelspec": {
   "display_name": "Python 3 (ipykernel)",
   "language": "python",
   "name": "python3"
  },
  "language_info": {
   "codemirror_mode": {
    "name": "ipython",
    "version": 3
   },
   "file_extension": ".py",
   "mimetype": "text/x-python",
   "name": "python",
   "nbconvert_exporter": "python",
   "pygments_lexer": "ipython3",
   "version": "3.11.8"
  }
 },
 "nbformat": 4,
 "nbformat_minor": 5
}

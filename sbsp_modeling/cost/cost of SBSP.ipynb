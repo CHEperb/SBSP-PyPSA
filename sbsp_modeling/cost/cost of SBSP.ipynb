{
 "cells": [
  {
   "cell_type": "code",
   "execution_count": 1,
   "id": "7ff6c1f1-105a-4ad8-901f-68473bdf768d",
   "metadata": {},
   "outputs": [
    {
     "name": "stdout",
     "output_type": "stream",
     "text": [
      "RD1_2020_annuity_factor: 0.05101925932025255\n",
      "RD1_2020_capital Cost: 5327.875477464318\n",
      "RD1_2020_marginal Cost: 0\n"
     ]
    }
   ],
   "source": [
    "def calculate_annuity(n, r):\n",
    "    if r > 0:\n",
    "        return r / (1.0 - 1.0 / (1.0 + r) ** n)\n",
    "    else:\n",
    "        return 1 / n\n",
    "\n",
    "lifetime = 30 #years\n",
    "discount_rate = 0.03 \n",
    "FOM = 6.83265246 #(%)\n",
    "CapEx = 44642.34347 #($/kW)\n",
    "Nyears = 1  \n",
    "\n",
    "#Capital Recovery Factor = annuity factor\n",
    "annuity_factor = calculate_annuity(lifetime, discount_rate)\n",
    "\n",
    "capital_cost = (annuity_factor + FOM / 100.0) * CapEx * Nyears #($/kW)\n",
    "marginal_cost = 0 #($/kW)\n",
    "\n",
    "print(\"RD1_2020_annuity_factor:\", annuity_factor)\n",
    "print(\"RD1_2020_capital Cost:\", capital_cost)\n",
    "print(\"RD1_2020_marginal Cost:\", marginal_cost)"
   ]
  },
  {
   "cell_type": "code",
   "execution_count": 2,
   "id": "85627f29-ad97-4b75-9e71-ec05dd05d198",
   "metadata": {},
   "outputs": [
    {
     "name": "stdout",
     "output_type": "stream",
     "text": [
      "RD2_2020_annuity_factor: 0.05101925932025255\n",
      "RD2_2020_capital Cost: 8355.952423666125\n",
      "RD2_2020_marginal Cost: 0\n"
     ]
    }
   ],
   "source": [
    "def calculate_annuity(n, r):\n",
    "    if r > 0:\n",
    "        return r / (1.0 - 1.0 / (1.0 + r) ** n)\n",
    "    else:\n",
    "        return 1 / n\n",
    "\n",
    "lifetime = 30 #years\n",
    "discount_rate = 0.03 \n",
    "FOM = 7.230413625 #(%)\n",
    "CapEx = 67756.42517 #($/kW)\n",
    "Nyears = 1  \n",
    "\n",
    "#Capital Recovery Factor = annuity factor\n",
    "annuity_factor = calculate_annuity(lifetime, discount_rate)\n",
    "\n",
    "capital_cost = (annuity_factor + FOM / 100.0) * CapEx * Nyears #($/kW)\n",
    "marginal_cost = 0 #($/kW)\n",
    "\n",
    "print(\"RD2_2020_annuity_factor:\", annuity_factor)\n",
    "print(\"RD2_2020_capital Cost:\", capital_cost)\n",
    "print(\"RD2_2020_marginal Cost:\", marginal_cost)"
   ]
  },
  {
   "cell_type": "code",
   "execution_count": 3,
   "id": "a81034f6-20ad-47b7-9c14-e6bcafc3193f",
   "metadata": {},
   "outputs": [
    {
     "name": "stdout",
     "output_type": "stream",
     "text": [
      "RD1_2050_annuity_factor: 0.05101925932025255\n",
      "RD1_2050_capital Cost: 291.16299547168416\n",
      "RD1_2050_marginal Cost: 0\n"
     ]
    }
   ],
   "source": [
    "def calculate_annuity(n, r):\n",
    "    if r > 0:\n",
    "        return r / (1.0 - 1.0 / (1.0 + r) ** n)\n",
    "    else:\n",
    "        return 1 / n\n",
    "\n",
    "lifetime = 30 #years\n",
    "discount_rate = 0.03 \n",
    "FOM = 4.087721348 #(%)\n",
    "CapEx = 3168.380533 #($/kW)\n",
    "Nyears = 1  \n",
    "\n",
    "#Capital Recovery Factor = annuity factor\n",
    "annuity_factor = calculate_annuity(lifetime, discount_rate)\n",
    "\n",
    "capital_cost = (annuity_factor + FOM / 100.0) * CapEx * Nyears #($/kW)\n",
    "marginal_cost = 0 #($/kW)\n",
    "\n",
    "print(\"RD1_2050_annuity_factor:\", annuity_factor)\n",
    "print(\"RD1_2050_capital Cost:\", capital_cost)\n",
    "print(\"RD1_2050_marginal Cost:\", marginal_cost)"
   ]
  },
  {
   "cell_type": "code",
   "execution_count": 4,
   "id": "211f6aa6-cbc1-4178-89e0-ddffe43400e0",
   "metadata": {},
   "outputs": [
    {
     "name": "stdout",
     "output_type": "stream",
     "text": [
      "RD2_2050_annuity_factor: 0.05101925932025255\n",
      "RD2_2050_capital Cost: 431.07728731062093\n",
      "RD2_2050_marginal Cost: 0\n"
     ]
    }
   ],
   "source": [
    "def calculate_annuity(n, r):\n",
    "    if r > 0:\n",
    "        return r / (1.0 - 1.0 / (1.0 + r) ** n)\n",
    "    else:\n",
    "        return 1 / n\n",
    "\n",
    "lifetime = 30 #years\n",
    "discount_rate = 0.03 \n",
    "FOM = 5.610678478 #(%)\n",
    "CapEx = 4024.019471 #($/kW)\n",
    "Nyears = 1  \n",
    "\n",
    "#Capital Recovery Factor = annuity factor\n",
    "annuity_factor = calculate_annuity(lifetime, discount_rate)\n",
    "\n",
    "capital_cost = (annuity_factor + FOM / 100.0) * CapEx * Nyears #($/kW)\n",
    "marginal_cost = 0 #($/kW)\n",
    "\n",
    "print(\"RD2_2050_annuity_factor:\", annuity_factor)\n",
    "print(\"RD2_2050_capital Cost:\", capital_cost)\n",
    "print(\"RD2_2050_marginal Cost:\", marginal_cost)"
   ]
  }
 ],
 "metadata": {
  "kernelspec": {
   "display_name": "Python 3 (ipykernel)",
   "language": "python",
   "name": "python3"
  },
  "language_info": {
   "codemirror_mode": {
    "name": "ipython",
    "version": 3
   },
   "file_extension": ".py",
   "mimetype": "text/x-python",
   "name": "python",
   "nbconvert_exporter": "python",
   "pygments_lexer": "ipython3",
   "version": "3.11.8"
  }
 },
 "nbformat": 4,
 "nbformat_minor": 5
}
